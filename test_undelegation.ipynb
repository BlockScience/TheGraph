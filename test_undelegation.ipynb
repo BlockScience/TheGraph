{
 "cells": [
  {
   "cell_type": "markdown",
   "source": [
    "# Undelegation Unit Test\r\n",
    "Performing verification of the undelegation mechanism by comparing the event data to the results of cadCAD model."
   ],
   "metadata": {}
  },
  {
   "cell_type": "code",
   "execution_count": 1,
   "source": [
    "import pandas as pd\r\n",
    "import numpy as np\r\n",
    "from decimal import Decimal\r\n",
    "from decimal import *\r\n",
    "import model.parts.utils as utils\r\n",
    "from model.sys_params import *\r\n",
    "df = pd.read_pickle(r'experiment.p')"
   ],
   "outputs": [
    {
     "output_type": "stream",
     "name": "stdout",
     "text": [
      "loaded GraphQL_data/SIstakeDelegateds.csv.\n",
      "loaded GraphQL_data/SIstakeLockeds.csv.\n",
      "loaded GraphQL_data/SIstakeWithdrawns.csv.\n",
      "loaded GraphQL_data/SIallocationCollecteds.csv.\n",
      "loaded GraphQL_data/SIstakeDepositeds.csv.\n"
     ]
    }
   ],
   "metadata": {}
  },
  {
   "cell_type": "markdown",
   "source": [
    "Configure environment"
   ],
   "metadata": {}
  },
  {
   "cell_type": "code",
   "execution_count": 2,
   "source": [
    "df.reset_index(inplace = True)\r\n",
    "pd.set_option('display.max_rows', None)"
   ],
   "outputs": [],
   "metadata": {}
  },
  {
   "cell_type": "code",
   "execution_count": 3,
   "source": [
    "undelegation_events_dict = undelegation_events[0]\r\n",
    "\r\n",
    "print(\"EXPECTED TRUTH--Tokens locked from undelegation events:\")\r\n",
    "for timestep, undelegation_event in undelegation_events_dict.items():\r\n",
    "    print(f\"{timestep}, {undelegation_event[0]['delegator']}, {undelegation_event[0]['tokens']}\")\r\n",
    "\r\n"
   ],
   "outputs": [
    {
     "output_type": "stream",
     "name": "stdout",
     "text": [
      "EXPECTED TRUTH--Tokens locked from undelegation events:\n",
      "48, 0xcbb08e918e828bfd46a0e32e3365e80d7502c7d9, 2984.999999999999999999\n",
      "59, 0x40f657e85bbb5cc7beb402da315c3fe1974442bf, 1057.880681157946400522\n",
      "61, 0x63f8168f665f79101a0e0da2313cd1391e1c5e27, 1163.668749273741000575\n",
      "119, 0x8e0c59ba449ac228016dee5b1bb0990a8be7f8a6, 3990.676349999999999999\n",
      "159, 0x950d8f1e2e0ec438573a9540ca6f74913df0aeb1, 60961.231577108159627625\n"
     ]
    }
   ],
   "metadata": {}
  },
  {
   "cell_type": "code",
   "execution_count": 4,
   "source": [
    "print(\"MODELED RESULTS--Tokens locked in undelegation.\")\r\n",
    "undelegation_tokens = {}\r\n",
    "for timestep, undelegation_event in undelegation_events_dict.items():\r\n",
    "    undelegation_tokens[timestep] = df.iloc[timestep-1].delegators[undelegation_event[0]['delegator']].undelegated_tokens\r\n",
    "    print(f\"{timestep}, {undelegation_event[0]['delegator']}, {undelegation_tokens[timestep]}\")"
   ],
   "outputs": [
    {
     "output_type": "stream",
     "name": "stdout",
     "text": [
      "MODELED RESULTS--Tokens locked in undelegation.\n",
      "48, 0xcbb08e918e828bfd46a0e32e3365e80d7502c7d9, 2899.389638006308205127779112\n",
      "59, 0x40f657e85bbb5cc7beb402da315c3fe1974442bf, 1004.264692624472434722583079\n",
      "61, 0x63f8168f665f79101a0e0da2313cd1391e1c5e27, 1104.691161886919640222230789\n",
      "119, 0x8e0c59ba449ac228016dee5b1bb0990a8be7f8a6, 3787.745417074846793187960997\n",
      "159, 0x950d8f1e2e0ec438573a9540ca6f74913df0aeb1, 55887.12136222974143499817302\n"
     ]
    }
   ],
   "metadata": {}
  },
  {
   "cell_type": "code",
   "execution_count": 7,
   "source": [
    "print(\"UNITTEST RESULTS\")\r\n",
    "for timestep, undelegation_event in undelegation_events_dict.items():\r\n",
    "    print(f\"Event: Timestep={timestep}, Delegator ID={undelegation_event[0]['delegator']}, Tokens Undelegated={undelegation_event[0]['tokens']}\")\r\n",
    "    print(f\"Model: Timestep={timestep}, Delegator ID={undelegation_event[0]['delegator']}, Tokens Undelegated={undelegation_tokens[timestep]}\")\r\n",
    "    print(\"Tokens Equal?\", undelegation_event[0]['tokens'] == undelegation_tokens[timestep])\r\n",
    "    print(\"Tokens Within 1%?\", .99 <= abs(undelegation_event[0]['tokens'] / undelegation_tokens[timestep]) <= 1.01)\r\n",
    "    \r\n"
   ],
   "outputs": [
    {
     "output_type": "stream",
     "name": "stdout",
     "text": [
      "UNITTEST RESULTS\n",
      "Event: Timestep=48, Delegator ID=0xcbb08e918e828bfd46a0e32e3365e80d7502c7d9, Tokens Undelegated=2984.999999999999999999\n",
      "Model: Timestep=48, Delegator ID=0xcbb08e918e828bfd46a0e32e3365e80d7502c7d9, Tokens Undelegated=2899.389638006308205127779112\n",
      "Tokens Equal? False\n",
      "Tokens Within 1%? False\n",
      "Event: Timestep=59, Delegator ID=0x40f657e85bbb5cc7beb402da315c3fe1974442bf, Tokens Undelegated=1057.880681157946400522\n",
      "Model: Timestep=59, Delegator ID=0x40f657e85bbb5cc7beb402da315c3fe1974442bf, Tokens Undelegated=1004.264692624472434722583079\n",
      "Tokens Equal? False\n",
      "Tokens Within 1%? False\n",
      "Event: Timestep=61, Delegator ID=0x63f8168f665f79101a0e0da2313cd1391e1c5e27, Tokens Undelegated=1163.668749273741000575\n",
      "Model: Timestep=61, Delegator ID=0x63f8168f665f79101a0e0da2313cd1391e1c5e27, Tokens Undelegated=1104.691161886919640222230789\n",
      "Tokens Equal? False\n",
      "Tokens Within 1%? False\n",
      "Event: Timestep=119, Delegator ID=0x8e0c59ba449ac228016dee5b1bb0990a8be7f8a6, Tokens Undelegated=3990.676349999999999999\n",
      "Model: Timestep=119, Delegator ID=0x8e0c59ba449ac228016dee5b1bb0990a8be7f8a6, Tokens Undelegated=3787.745417074846793187960997\n",
      "Tokens Equal? False\n",
      "Tokens Within 1%? False\n",
      "Event: Timestep=159, Delegator ID=0x950d8f1e2e0ec438573a9540ca6f74913df0aeb1, Tokens Undelegated=60961.231577108159627625\n",
      "Model: Timestep=159, Delegator ID=0x950d8f1e2e0ec438573a9540ca6f74913df0aeb1, Tokens Undelegated=55887.12136222974143499817302\n",
      "Tokens Equal? False\n",
      "Tokens Within 1%? False\n"
     ]
    }
   ],
   "metadata": {}
  },
  {
   "cell_type": "markdown",
   "source": [
    "# Conclusion\r\n",
    "The number of tokens locked in undelegation are close, but diverging as a percentage gradually."
   ],
   "metadata": {}
  }
 ],
 "metadata": {
  "interpreter": {
   "hash": "0b0631ca040321b645c8721b9afbca57f18a1aa322598383be03b7ee0c528602"
  },
  "kernelspec": {
   "name": "python3",
   "display_name": "Python 3.9.6 64-bit ('py396': conda)"
  },
  "language_info": {
   "codemirror_mode": {
    "name": "ipython",
    "version": 3
   },
   "file_extension": ".py",
   "mimetype": "text/x-python",
   "name": "python",
   "nbconvert_exporter": "python",
   "pygments_lexer": "ipython3",
   "version": "3.9.6"
  }
 },
 "nbformat": 4,
 "nbformat_minor": 4
}