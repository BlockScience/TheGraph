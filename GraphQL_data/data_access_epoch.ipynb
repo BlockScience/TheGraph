{
 "cells": [
  {
   "cell_type": "markdown",
   "metadata": {},
   "source": [
    "# TheGraph data access\n",
    "We plan to visualize and monitor the flow of delegated stake, total delegation pool and indexer allocation process. \n",
    "\n",
    "The current data come from [event data subgraph](https://thegraph.com/explorer/subgraph/fordn/graph-network-events?selected=playground)\n",
    "\n",
    "More research plan see [hackmd](https://hackmd.io/@Jiajia20/BkOoEZODd)\n",
    "\n",
    "\n",
    "## visualization\n",
    "- request GraphQL data API -> JSON -> PANDAS\n",
    "- the current subgraph seemd only load the first 200 record (even if I specify first:1000)\n",
    "- I'm able to load 200 at a time and combine them with 'first, skip' \n",
    "\n",
    "## To do\n",
    "- [x] get specitialty subgraph\n",
    "- [x] double check pagination problem\n",
    "- [x] clean the notebook and upload\n"
   ]
  },
  {
   "cell_type": "markdown",
   "metadata": {},
   "source": [
    "## 0 -  Pagination"
   ]
  },
  {
   "cell_type": "code",
   "execution_count": 1,
   "metadata": {},
   "outputs": [],
   "source": [
    "import pandas as pd\n",
    "import json\n",
    "import requests\n",
    "import matplotlib.pyplot as plt"
   ]
  },
  {
   "cell_type": "code",
   "execution_count": 24,
   "metadata": {},
   "outputs": [],
   "source": [
    "def query_theGraph(raw_query, field_name, url, verbose=False):\n",
    "\n",
    "    query_parts =raw_query.split(')')\n",
    "    paginator = \", where: {}\"\n",
    "    #this expectes the raw query to gave a `first:1000` term\n",
    "    n = 0\n",
    "    records = []\n",
    "    while n < 1:\n",
    "        if (n == 0):\n",
    "            print(query_parts[0])\n",
    "            print(query_parts[1])\n",
    "            \n",
    "            query = 'query '+query_parts[0] + 'id:' + str(n) + ')' + query_parts[1]\n",
    "            'orderBy:blockNumber, where:{blockNumber_gt: 0})' \n",
    "            print(query)\n",
    "        else:\n",
    "            #print(f'request {n+1}')\n",
    "            query = 'query '+query_parts[0] + 'id:' + str(n) + ')' + query_parts[1]\n",
    "\n",
    "        if verbose:\n",
    "            print(query)\n",
    "\n",
    "        r = requests.post(url, json = {'query':query})\n",
    "        print(r)\n",
    "        try:\n",
    "            d = json.loads(r.content)['data'][field_name]\n",
    "        except:\n",
    "            print(r.content)\n",
    "            errors = json.loads(r.content)['errors']\n",
    "            print(errors)\n",
    "            for e in errors:\n",
    "                print(e['message'])\n",
    "\n",
    "        #print(f'results {len(d)}')\n",
    "        records.extend(d)\n",
    "        #print(f'total {len(records)}')\n",
    "        try:\n",
    "            indexer = d[-1]['blockNumber']\n",
    "        except:\n",
    "            print('noblock')\n",
    "        \n",
    "        n += 1\n",
    "        if len(d) < 99:\n",
    "            break\n",
    "        \n",
    "    return pd.DataFrame(records)"
   ]
  },
  {
   "cell_type": "markdown",
   "metadata": {},
   "source": [
    "## 1 - Allocation Data of Indexer\n"
   ]
  },
  {
   "cell_type": "code",
   "execution_count": 25,
   "metadata": {},
   "outputs": [
    {
     "name": "stdout",
     "output_type": "stream",
     "text": [
      "query{\n",
      "  epoch(\n",
      " {\n",
      "    id\n",
      "    startBlock\n",
      "    endBLock\n",
      "  }  \n",
      "}\n",
      "\n",
      "query query{\n",
      "  epoch(id:0) {\n",
      "    id\n",
      "    startBlock\n",
      "    endBLock\n",
      "  }  \n",
      "}\n",
      "\n",
      "query query{\n",
      "  epoch(id:0) {\n",
      "    id\n",
      "    startBlock\n",
      "    endBLock\n",
      "  }  \n",
      "}\n",
      "\n",
      "<Response [200]>\n",
      "b'{\"errors\":[{\"locations\":[{\"line\":2,\"column\":3}],\"message\":\"Type `Query` has no field `epoch`\"}]}'\n",
      "[{'locations': [{'line': 2, 'column': 3}], 'message': 'Type `Query` has no field `epoch`'}]\n",
      "Type `Query` has no field `epoch`\n"
     ]
    },
    {
     "ename": "UnboundLocalError",
     "evalue": "local variable 'd' referenced before assignment",
     "output_type": "error",
     "traceback": [
      "\u001b[1;31m---------------------------------------------------------------------------\u001b[0m",
      "\u001b[1;31mUnboundLocalError\u001b[0m                         Traceback (most recent call last)",
      "\u001b[1;32m<ipython-input-25-0e896e31f8ca>\u001b[0m in \u001b[0;36m<module>\u001b[1;34m\u001b[0m\n\u001b[0;32m     14\u001b[0m \u001b[0mfield_name\u001b[0m \u001b[1;33m=\u001b[0m \u001b[1;34m'epoch'\u001b[0m\u001b[1;33m\u001b[0m\u001b[1;33m\u001b[0m\u001b[0m\n\u001b[0;32m     15\u001b[0m \u001b[1;33m\u001b[0m\u001b[0m\n\u001b[1;32m---> 16\u001b[1;33m \u001b[0mdf_epoch\u001b[0m \u001b[1;33m=\u001b[0m \u001b[0mquery_theGraph\u001b[0m\u001b[1;33m(\u001b[0m\u001b[0mcreated_query\u001b[0m\u001b[1;33m,\u001b[0m \u001b[0mfield_name\u001b[0m\u001b[1;33m,\u001b[0m \u001b[0murl\u001b[0m\u001b[1;33m,\u001b[0m \u001b[1;32mTrue\u001b[0m\u001b[1;33m)\u001b[0m\u001b[1;33m\u001b[0m\u001b[1;33m\u001b[0m\u001b[0m\n\u001b[0m\u001b[0;32m     17\u001b[0m \u001b[0mdf_epoch\u001b[0m\u001b[1;33m\u001b[0m\u001b[1;33m\u001b[0m\u001b[0m\n",
      "\u001b[1;32m<ipython-input-24-d5ac515b0660>\u001b[0m in \u001b[0;36mquery_theGraph\u001b[1;34m(raw_query, field_name, url, verbose)\u001b[0m\n\u001b[0;32m     33\u001b[0m \u001b[1;33m\u001b[0m\u001b[0m\n\u001b[0;32m     34\u001b[0m         \u001b[1;31m#print(f'results {len(d)}')\u001b[0m\u001b[1;33m\u001b[0m\u001b[1;33m\u001b[0m\u001b[1;33m\u001b[0m\u001b[0m\n\u001b[1;32m---> 35\u001b[1;33m         \u001b[0mrecords\u001b[0m\u001b[1;33m.\u001b[0m\u001b[0mextend\u001b[0m\u001b[1;33m(\u001b[0m\u001b[0md\u001b[0m\u001b[1;33m)\u001b[0m\u001b[1;33m\u001b[0m\u001b[1;33m\u001b[0m\u001b[0m\n\u001b[0m\u001b[0;32m     36\u001b[0m         \u001b[1;31m#print(f'total {len(records)}')\u001b[0m\u001b[1;33m\u001b[0m\u001b[1;33m\u001b[0m\u001b[1;33m\u001b[0m\u001b[0m\n\u001b[0;32m     37\u001b[0m         \u001b[1;32mtry\u001b[0m\u001b[1;33m:\u001b[0m\u001b[1;33m\u001b[0m\u001b[1;33m\u001b[0m\u001b[0m\n",
      "\u001b[1;31mUnboundLocalError\u001b[0m: local variable 'd' referenced before assignment"
     ]
    }
   ],
   "source": [
    "url = 'https://api.thegraph.com/subgraphs/name/fordn/graph-network-events'\n",
    "\n",
    "created_query = '''query{\n",
    "  epoch() {\n",
    "    id\n",
    "    startBlock\n",
    "    endBLock\n",
    "  }  \n",
    "}\n",
    "'''\n",
    "#r = requests.post(url, json = {'query':raw_query})\n",
    "#d = json.loads(r.content)['data'][field_name]\n",
    "#pd.DataFrame(d)\n",
    "field_name = 'epoch'\n",
    "\n",
    "df_epoch = query_theGraph(created_query, field_name, url, True)\n",
    "df_epoch"
   ]
  },
  {
   "cell_type": "code",
   "execution_count": 17,
   "metadata": {},
   "outputs": [
    {
     "ename": "NameError",
     "evalue": "name 'df_epoch' is not defined",
     "output_type": "error",
     "traceback": [
      "\u001b[1;31m---------------------------------------------------------------------------\u001b[0m",
      "\u001b[1;31mNameError\u001b[0m                                 Traceback (most recent call last)",
      "\u001b[1;32m<ipython-input-17-2d7fb5b8c468>\u001b[0m in \u001b[0;36m<module>\u001b[1;34m\u001b[0m\n\u001b[1;32m----> 1\u001b[1;33m \u001b[0mdf_epoch\u001b[0m\u001b[1;33m[\u001b[0m\u001b[1;34m'type'\u001b[0m\u001b[1;33m]\u001b[0m \u001b[1;33m=\u001b[0m \u001b[1;34m'epoch'\u001b[0m\u001b[1;33m\u001b[0m\u001b[1;33m\u001b[0m\u001b[0m\n\u001b[0m\u001b[0;32m      2\u001b[0m \u001b[0mdf_epoch\u001b[0m\u001b[1;33m\u001b[0m\u001b[1;33m\u001b[0m\u001b[0m\n",
      "\u001b[1;31mNameError\u001b[0m: name 'df_epoch' is not defined"
     ]
    }
   ],
   "source": [
    "df_epoch['type'] = 'epoch'\n",
    "df_epoch"
   ]
  },
  {
   "cell_type": "code",
   "execution_count": 5,
   "metadata": {},
   "outputs": [],
   "source": [
    "df_epoch.to_csv('epoch.csv', index = False, header = True)"
   ]
  },
  {
   "cell_type": "code",
   "execution_count": null,
   "metadata": {},
   "outputs": [],
   "source": []
  }
 ],
 "metadata": {
  "interpreter": {
   "hash": "ede7a0c535aa6ff82d96d380683f57f0c9e09807d6f240ba7499e53b5854e832"
  },
  "kernelspec": {
   "display_name": "Python 3",
   "language": "python",
   "name": "python3"
  },
  "language_info": {
   "codemirror_mode": {
    "name": "ipython",
    "version": 3
   },
   "file_extension": ".py",
   "mimetype": "text/x-python",
   "name": "python",
   "nbconvert_exporter": "python",
   "pygments_lexer": "ipython3",
   "version": "3.8.8"
  }
 },
 "nbformat": 4,
 "nbformat_minor": 4
}
