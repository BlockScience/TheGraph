{
 "cells": [
  {
   "cell_type": "markdown",
   "metadata": {},
   "source": [
    "# TheGraph data access\n",
    "We plan to visualize and monitor the flow of delegated stake, total delegation pool and indexer allocation process. \n",
    "\n",
    "The current data come from [event data subgraph](https://thegraph.com/explorer/subgraph/fordn/graph-network-events?selected=playground)\n",
    "\n",
    "More research plan see [hackmd](https://hackmd.io/@Jiajia20/BkOoEZODd)\n",
    "\n",
    "\n",
    "## visualization\n",
    "- request GraphQL data API -> JSON -> PANDAS\n",
    "- the current subgraph seemd only load the first 200 record (even if I specify first:1000)\n",
    "- I'm able to load 200 at a time and combine them with 'first, skip' \n",
    "\n",
    "## To do\n",
    "- [x]get specitialty subgraph\n",
    "- [] double check pagination problem\n"
   ]
  },
  {
   "cell_type": "code",
   "execution_count": 1,
   "metadata": {},
   "outputs": [],
   "source": [
    "import json\n",
    "import requests\n",
    "import pandas as pd"
   ]
  },
  {
   "source": [
    "## 0 - Allocation Data of Indexer\n"
   ],
   "cell_type": "markdown",
   "metadata": {}
  },
  {
   "cell_type": "code",
   "execution_count": 6,
   "metadata": {},
   "outputs": [],
   "source": [
    "\n",
    "url = 'https://api.thegraph.com/subgraphs/name/fordn/graph-network-events'\n",
    "\n",
    "query = \"\"\"query{\n",
    "  allocationCreateds(first: 1000) {\n",
    "    id\n",
    "    blockTime\n",
    "    indexer\n",
    "    subgraphDeploymentID\n",
    "    epoch\n",
    "    tokens\n",
    "    allocationID\n",
    "  }  \n",
    "}\"\"\"\n",
    "r = requests.post(url, json = {'query':query})\n",
    "p = json.loads(r.content)\n",
    "\n",
    "#create pandas df\n",
    "json_data = json.loads(r.text)\n",
    "df_data = json_data['data']['allocationCreateds']\n",
    "df4 = pd.DataFrame(df_data)\n",
    "\n",
    "df4.insert(0, 'type', 'allocationCreateds')\n",
    "df4 = df4.sort_values(by=['blockTime'],ascending=True)\n",
    "#df4.to_csv('stakeDelegateds.csv', index = False, header=True)\n"
   ]
  },
  {
   "cell_type": "code",
   "execution_count": 7,
   "metadata": {},
   "outputs": [],
   "source": [
    "url = 'https://api.thegraph.com/subgraphs/name/fordn/graph-network-events'\n",
    "\n",
    "query = \"\"\"query{\n",
    "  allocationCollecteds(first: 1000) {\n",
    "    id\n",
    "    blockTime\n",
    "    indexer\n",
    "    subgraphDeploymentID\n",
    "    epoch\n",
    "    tokens\n",
    "    allocationID\n",
    "    from\n",
    "    curationFees\n",
    "    rebateFees\n",
    "  }\n",
    "  \n",
    "}\"\"\"\n",
    "r = requests.post(url, json = {'query':query})\n",
    "p = json.loads(r.content)\n",
    "\n",
    "#create pandas df\n",
    "json_data = json.loads(r.text)\n",
    "df_data = json_data['data']['allocationCollecteds']\n",
    "df5 = pd.DataFrame(df_data)\n",
    "\n",
    "df5.insert(0, 'type', 'allocationCollecteds')\n",
    "df5 = df5.sort_values(by=['blockTime'],ascending=True)\n",
    "#df4.to_csv('stakeDelegateds.csv', index = False, header=True)"
   ]
  },
  {
   "cell_type": "markdown",
   "metadata": {},
   "source": [
    "## 1 - delegated stake"
   ]
  },
  {
   "cell_type": "markdown",
   "metadata": {},
   "source": [
    "### Delegated Stakes in df"
   ]
  },
  {
   "cell_type": "code",
   "execution_count": 8,
   "metadata": {},
   "outputs": [],
   "source": [
    "#thanks to @Markus for the code and @Ford for the new subgraph\n",
    "\n",
    "\n",
    "url = 'https://api.thegraph.com/subgraphs/name/fordn/graph-network-events'\n",
    "\n",
    "query = \"\"\"query{\n",
    "  stakeDelegateds (first:1000) {\n",
    "    id\n",
    "    blockTime\n",
    "    indexer\n",
    "    delegator\n",
    "    tokens\n",
    "    shares\n",
    "  }\n",
    "}\"\"\"\n",
    "r = requests.post(url, json = {'query':query})\n",
    "p = json.loads(r.content)\n",
    "\n",
    "#create pandas df\n",
    "json_data = json.loads(r.text)\n",
    "df_data = json_data['data']['stakeDelegateds']\n",
    "df = pd.DataFrame(df_data)\n",
    "\n"
   ]
  },
  {
   "cell_type": "code",
   "execution_count": 9,
   "metadata": {},
   "outputs": [],
   "source": [
    "df.insert(0, 'type', 'stakeDelegates')\n"
   ]
  },
  {
   "cell_type": "code",
   "execution_count": 10,
   "metadata": {},
   "outputs": [],
   "source": [
    "df = df.sort_values(by=['blockTime'],ascending=True)\n",
    "df.to_csv('stakeDelegateds.csv', index = False, header=True)"
   ]
  },
  {
   "cell_type": "markdown",
   "metadata": {},
   "source": [
    "### Locked Stake in df2"
   ]
  },
  {
   "cell_type": "code",
   "execution_count": 11,
   "metadata": {},
   "outputs": [],
   "source": [
    "\n",
    "url = 'https://api.thegraph.com/subgraphs/name/fordn/graph-network-events'\n",
    "\n",
    "query = \"\"\"query{\n",
    "  stakeDelegatedLockeds(first:1000) {\n",
    "    id\n",
    "    blockTime\n",
    "    eventTime\n",
    "    indexer\n",
    "    delegator\n",
    "    tokens\n",
    "    shares\n",
    "    until\n",
    "  }\n",
    " }\"\"\"\n",
    "r = requests.post(url, json = {'query':query})\n",
    "p = json.loads(r.content)\n",
    "\n",
    "#create pandas df\n",
    "import pandas as pd\n",
    "json_data = json.loads(r.text)\n",
    "df_data = json_data['data']['stakeDelegatedLockeds']\n",
    "df2 = pd.DataFrame(df_data)"
   ]
  },
  {
   "cell_type": "code",
   "execution_count": 12,
   "metadata": {},
   "outputs": [],
   "source": [
    "df2.insert(0,'type','stakeDelegatedLockeds')\n"
   ]
  },
  {
   "cell_type": "code",
   "execution_count": 13,
   "metadata": {},
   "outputs": [],
   "source": [
    "df2 = df2.sort_values(by=['blockTime'],ascending=True)\n",
    "df2.to_csv('stakeDelegatedLockeds.csv', index = False, header=True)"
   ]
  },
  {
   "cell_type": "markdown",
   "metadata": {},
   "source": [
    "### WithDraw in df3"
   ]
  },
  {
   "cell_type": "code",
   "execution_count": 14,
   "metadata": {},
   "outputs": [],
   "source": [
    "url = 'https://api.thegraph.com/subgraphs/name/fordn/graph-network-events'\n",
    "\n",
    "query = \"\"\"query{stakeDelegatedWithdrawns (first:1000) {\n",
    "    id\n",
    "    blockTime\n",
    "    indexer\n",
    "    delegator\n",
    "    tokens\n",
    "}\n",
    "}\"\"\"\n",
    "r = requests.post(url, json = {'query':query})\n",
    "p = json.loads(r.content)\n",
    "\n",
    "#create pandas df\n",
    "import pandas as pd\n",
    "json_data = json.loads(r.text)\n",
    "df_data = json_data['data']['stakeDelegatedWithdrawns']\n",
    "df3 = pd.DataFrame(df_data)\n",
    " \n",
    " "
   ]
  },
  {
   "cell_type": "code",
   "execution_count": 15,
   "metadata": {},
   "outputs": [],
   "source": [
    "df3.insert(0,'type','stakeDelegatedWithdrawns')"
   ]
  },
  {
   "cell_type": "code",
   "execution_count": 16,
   "metadata": {},
   "outputs": [],
   "source": [
    "df3 = df3.sort_values(by=['blockTime'],ascending=True)\n",
    "df3.to_csv('stakeDelegatedWithdrawns.csv', index = False, header=True)"
   ]
  },
  {
   "cell_type": "markdown",
   "metadata": {},
   "source": []
  },
  {
   "cell_type": "markdown",
   "metadata": {},
   "source": [
    "### Merge and vis\n",
    "Adding column\n",
    "- [merging with concat](https://pandas.pydata.org/pandas-docs/stable/user_guide/merging.html)\n",
    "- [insert columns](https://stackoverflow.com/questions/29517072/add-column-to-dataframe-with-constant-value)\n",
    "\n",
    "deal with duplicate\n",
    "- [insert index](https://pandas.pydata.org/docs/reference/api/pandas.DataFrame.reset_index.html)\n",
    "- [result row index](https://stackoverflow.com/questions/19609631/python-changing-row-index-of-pandas-data-frame)\n",
    "- [drop duplicate](https://pandas.pydata.org/docs/reference/api/pandas.DataFrame.drop_duplicates.html)\n",
    "\n",
    "visualization\n",
    "- [plot with multiple line](https://stackoverflow.com/questions/29233283/plotting-multiple-lines-in-different-colors-with-pandas-dataframe)\n",
    "- [pandas native](https://pandas.pydata.org/pandas-docs/stable/user_guide/visualization.html)\n",
    "\n",
    "type cast\n",
    "- [casting string](https://datatofish.com/string-to-integer-dataframe/)\n",
    "- use `float` for bigger numbers\n"
   ]
  },
  {
   "cell_type": "code",
   "execution_count": 17,
   "metadata": {},
   "outputs": [
    {
     "output_type": "execute_result",
     "data": {
      "text/plain": [
       "                     type   blockTime  \\\n",
       "375        stakeDelegates  1608262679   \n",
       "763        stakeDelegates  1608263358   \n",
       "844        stakeDelegates  1608269302   \n",
       "964        stakeDelegates  1608291242   \n",
       "547        stakeDelegates  1608294293   \n",
       "..                    ...         ...   \n",
       "325  allocationCollecteds  1619931788   \n",
       "545  allocationCollecteds  1619931788   \n",
       "605  allocationCollecteds  1619931788   \n",
       "940  allocationCollecteds  1619931790   \n",
       "483  allocationCollecteds  1619931790   \n",
       "\n",
       "                                      delegator  \\\n",
       "375  0xb7797cb7b4a031c4c1e04ea14824fa5d8d30beed   \n",
       "763  0x6c615cb1e310d0909698ef4992958d849bf4a45c   \n",
       "844  0x7eb692f22af33d637aab31f9277653235682ebe6   \n",
       "964  0xcee87b725581b494b6b741105f8a4acba80082da   \n",
       "547  0x795f50722cf5ad82f78dda8dc8f7b235332977c3   \n",
       "..                                          ...   \n",
       "325                                         NaN   \n",
       "545                                         NaN   \n",
       "605                                         NaN   \n",
       "940                                         NaN   \n",
       "483                                         NaN   \n",
       "\n",
       "                                                    id  \\\n",
       "375  0x07f058e4212ea4115857cd68ed38d6eba0a8fc84977c...   \n",
       "763  0x106191a769d4ba4690aeb8f366a1ffb00f500c03ecc6...   \n",
       "844  0x11d12e4e40232247ba695bb303b0ea709873707de2cb...   \n",
       "964  0x1478bd439a671285e34dbeacd9d907270719308ec162...   \n",
       "547  0x0b6977f0cc00e06d12e273a8d66cc99f318096d2d1d3...   \n",
       "..                                                 ...   \n",
       "325  0x0a59b8052305715a77c61ba0eeed19c07af9a21f0f6f...   \n",
       "545  0x1232b74774d093305d9bb7ad88a8bfcbdb390f5fc90a...   \n",
       "605  0x145c4a743cc6e55c7f75498581b7c8c4636fc2324a98...   \n",
       "940  0x1dac9b9a7b9a5532f793c577ddcd02c85a911dc7da01...   \n",
       "483  0x0ff6cc1bbbb73bf4ad40dd464835f504e1fe46d0a159...   \n",
       "\n",
       "                                        indexer                   shares  \\\n",
       "375  0x7ab4cf25330ed7277ac7ab59380b68eea68abb0e  39800000000000000000000   \n",
       "763  0x4fedde33607cfda2c82a999accb427d1170987d9  33167330000000000000000   \n",
       "844  0x7ab4cf25330ed7277ac7ab59380b68eea68abb0e   4002893379514657642500   \n",
       "964  0x9238584c74e5fa445a8f72a4d4ef4699dd783852   7042604687446462930000   \n",
       "547  0x9238584c74e5fa445a8f72a4d4ef4699dd783852  37810000000000000000000   \n",
       "..                                          ...                      ...   \n",
       "325  0x7ddf0c8cb0167870bf7cc5368792c93aeeb15430                      NaN   \n",
       "545  0xbd1a939b4e4125254013a0c4573252be2fd9d207                      NaN   \n",
       "605  0x7ddf0c8cb0167870bf7cc5368792c93aeeb15430                      NaN   \n",
       "940  0x6dae84e4aed2c8708707b358e278408c2deb0397                      NaN   \n",
       "483  0x6dae84e4aed2c8708707b358e278408c2deb0397                      NaN   \n",
       "\n",
       "                      tokens eventTime until  \\\n",
       "375  39800000000000000000000       NaN   NaN   \n",
       "763  33167330000000000000000       NaN   NaN   \n",
       "844   4002893379514657642500       NaN   NaN   \n",
       "964   7042604687446462930000       NaN   NaN   \n",
       "547  37810000000000000000000       NaN   NaN   \n",
       "..                       ...       ...   ...   \n",
       "325         6100000000000000       NaN   NaN   \n",
       "545     14023231273599389484       NaN   NaN   \n",
       "605         6100000000000000       NaN   NaN   \n",
       "940     10949270000000000000       NaN   NaN   \n",
       "483     10949270000000000000       NaN   NaN   \n",
       "\n",
       "                                   allocationID epoch  \\\n",
       "375                                         NaN   NaN   \n",
       "763                                         NaN   NaN   \n",
       "844                                         NaN   NaN   \n",
       "964                                         NaN   NaN   \n",
       "547                                         NaN   NaN   \n",
       "..                                          ...   ...   \n",
       "325  0x92be903a9b4e5b11e8fd7aa84827dcfb39d13bae   136   \n",
       "545  0xb5bf904ba2c19ceb106c6047539868763e9f5f05   136   \n",
       "605  0x92be903a9b4e5b11e8fd7aa84827dcfb39d13bae   136   \n",
       "940  0x774dbc835c5a0312dbf407d1d5114fcdca88d093   136   \n",
       "483  0x774dbc835c5a0312dbf407d1d5114fcdca88d093   136   \n",
       "\n",
       "                                  subgraphDeploymentID         curationFees  \\\n",
       "375                                                NaN                  NaN   \n",
       "763                                                NaN                  NaN   \n",
       "844                                                NaN                  NaN   \n",
       "964                                                NaN                  NaN   \n",
       "547                                                NaN                  NaN   \n",
       "..                                                 ...                  ...   \n",
       "325  0x31edcacc9a53bc8ab4be2eeb0d873409da4c4228cb2d...      603900000000000   \n",
       "545  0x31edcacc9a53bc8ab4be2eeb0d873409da4c4228cb2d...  1388299896086339559   \n",
       "605  0x31edcacc9a53bc8ab4be2eeb0d873409da4c4228cb2d...      603900000000000   \n",
       "940  0x31edcacc9a53bc8ab4be2eeb0d873409da4c4228cb2d...  1083977730000000000   \n",
       "483  0x31edcacc9a53bc8ab4be2eeb0d873409da4c4228cb2d...  1083977730000000000   \n",
       "\n",
       "                                           from            rebateFees  \n",
       "375                                         NaN                   NaN  \n",
       "763                                         NaN                   NaN  \n",
       "844                                         NaN                   NaN  \n",
       "964                                         NaN                   NaN  \n",
       "547                                         NaN                   NaN  \n",
       "..                                          ...                   ...  \n",
       "325  0x9fd8ac559219d4dd463193d1fb0433f7844f730f      5435100000000000  \n",
       "545  0x9fd8ac559219d4dd463193d1fb0433f7844f730f  12494699064777056031  \n",
       "605  0x9fd8ac559219d4dd463193d1fb0433f7844f730f      5435100000000000  \n",
       "940  0x9fd8ac559219d4dd463193d1fb0433f7844f730f   9755799570000000000  \n",
       "483  0x9fd8ac559219d4dd463193d1fb0433f7844f730f   9755799570000000000  \n",
       "\n",
       "[5000 rows x 15 columns]"
      ],
      "text/html": "<div>\n<style scoped>\n    .dataframe tbody tr th:only-of-type {\n        vertical-align: middle;\n    }\n\n    .dataframe tbody tr th {\n        vertical-align: top;\n    }\n\n    .dataframe thead th {\n        text-align: right;\n    }\n</style>\n<table border=\"1\" class=\"dataframe\">\n  <thead>\n    <tr style=\"text-align: right;\">\n      <th></th>\n      <th>type</th>\n      <th>blockTime</th>\n      <th>delegator</th>\n      <th>id</th>\n      <th>indexer</th>\n      <th>shares</th>\n      <th>tokens</th>\n      <th>eventTime</th>\n      <th>until</th>\n      <th>allocationID</th>\n      <th>epoch</th>\n      <th>subgraphDeploymentID</th>\n      <th>curationFees</th>\n      <th>from</th>\n      <th>rebateFees</th>\n    </tr>\n  </thead>\n  <tbody>\n    <tr>\n      <th>375</th>\n      <td>stakeDelegates</td>\n      <td>1608262679</td>\n      <td>0xb7797cb7b4a031c4c1e04ea14824fa5d8d30beed</td>\n      <td>0x07f058e4212ea4115857cd68ed38d6eba0a8fc84977c...</td>\n      <td>0x7ab4cf25330ed7277ac7ab59380b68eea68abb0e</td>\n      <td>39800000000000000000000</td>\n      <td>39800000000000000000000</td>\n      <td>NaN</td>\n      <td>NaN</td>\n      <td>NaN</td>\n      <td>NaN</td>\n      <td>NaN</td>\n      <td>NaN</td>\n      <td>NaN</td>\n      <td>NaN</td>\n    </tr>\n    <tr>\n      <th>763</th>\n      <td>stakeDelegates</td>\n      <td>1608263358</td>\n      <td>0x6c615cb1e310d0909698ef4992958d849bf4a45c</td>\n      <td>0x106191a769d4ba4690aeb8f366a1ffb00f500c03ecc6...</td>\n      <td>0x4fedde33607cfda2c82a999accb427d1170987d9</td>\n      <td>33167330000000000000000</td>\n      <td>33167330000000000000000</td>\n      <td>NaN</td>\n      <td>NaN</td>\n      <td>NaN</td>\n      <td>NaN</td>\n      <td>NaN</td>\n      <td>NaN</td>\n      <td>NaN</td>\n      <td>NaN</td>\n    </tr>\n    <tr>\n      <th>844</th>\n      <td>stakeDelegates</td>\n      <td>1608269302</td>\n      <td>0x7eb692f22af33d637aab31f9277653235682ebe6</td>\n      <td>0x11d12e4e40232247ba695bb303b0ea709873707de2cb...</td>\n      <td>0x7ab4cf25330ed7277ac7ab59380b68eea68abb0e</td>\n      <td>4002893379514657642500</td>\n      <td>4002893379514657642500</td>\n      <td>NaN</td>\n      <td>NaN</td>\n      <td>NaN</td>\n      <td>NaN</td>\n      <td>NaN</td>\n      <td>NaN</td>\n      <td>NaN</td>\n      <td>NaN</td>\n    </tr>\n    <tr>\n      <th>964</th>\n      <td>stakeDelegates</td>\n      <td>1608291242</td>\n      <td>0xcee87b725581b494b6b741105f8a4acba80082da</td>\n      <td>0x1478bd439a671285e34dbeacd9d907270719308ec162...</td>\n      <td>0x9238584c74e5fa445a8f72a4d4ef4699dd783852</td>\n      <td>7042604687446462930000</td>\n      <td>7042604687446462930000</td>\n      <td>NaN</td>\n      <td>NaN</td>\n      <td>NaN</td>\n      <td>NaN</td>\n      <td>NaN</td>\n      <td>NaN</td>\n      <td>NaN</td>\n      <td>NaN</td>\n    </tr>\n    <tr>\n      <th>547</th>\n      <td>stakeDelegates</td>\n      <td>1608294293</td>\n      <td>0x795f50722cf5ad82f78dda8dc8f7b235332977c3</td>\n      <td>0x0b6977f0cc00e06d12e273a8d66cc99f318096d2d1d3...</td>\n      <td>0x9238584c74e5fa445a8f72a4d4ef4699dd783852</td>\n      <td>37810000000000000000000</td>\n      <td>37810000000000000000000</td>\n      <td>NaN</td>\n      <td>NaN</td>\n      <td>NaN</td>\n      <td>NaN</td>\n      <td>NaN</td>\n      <td>NaN</td>\n      <td>NaN</td>\n      <td>NaN</td>\n    </tr>\n    <tr>\n      <th>...</th>\n      <td>...</td>\n      <td>...</td>\n      <td>...</td>\n      <td>...</td>\n      <td>...</td>\n      <td>...</td>\n      <td>...</td>\n      <td>...</td>\n      <td>...</td>\n      <td>...</td>\n      <td>...</td>\n      <td>...</td>\n      <td>...</td>\n      <td>...</td>\n      <td>...</td>\n    </tr>\n    <tr>\n      <th>325</th>\n      <td>allocationCollecteds</td>\n      <td>1619931788</td>\n      <td>NaN</td>\n      <td>0x0a59b8052305715a77c61ba0eeed19c07af9a21f0f6f...</td>\n      <td>0x7ddf0c8cb0167870bf7cc5368792c93aeeb15430</td>\n      <td>NaN</td>\n      <td>6100000000000000</td>\n      <td>NaN</td>\n      <td>NaN</td>\n      <td>0x92be903a9b4e5b11e8fd7aa84827dcfb39d13bae</td>\n      <td>136</td>\n      <td>0x31edcacc9a53bc8ab4be2eeb0d873409da4c4228cb2d...</td>\n      <td>603900000000000</td>\n      <td>0x9fd8ac559219d4dd463193d1fb0433f7844f730f</td>\n      <td>5435100000000000</td>\n    </tr>\n    <tr>\n      <th>545</th>\n      <td>allocationCollecteds</td>\n      <td>1619931788</td>\n      <td>NaN</td>\n      <td>0x1232b74774d093305d9bb7ad88a8bfcbdb390f5fc90a...</td>\n      <td>0xbd1a939b4e4125254013a0c4573252be2fd9d207</td>\n      <td>NaN</td>\n      <td>14023231273599389484</td>\n      <td>NaN</td>\n      <td>NaN</td>\n      <td>0xb5bf904ba2c19ceb106c6047539868763e9f5f05</td>\n      <td>136</td>\n      <td>0x31edcacc9a53bc8ab4be2eeb0d873409da4c4228cb2d...</td>\n      <td>1388299896086339559</td>\n      <td>0x9fd8ac559219d4dd463193d1fb0433f7844f730f</td>\n      <td>12494699064777056031</td>\n    </tr>\n    <tr>\n      <th>605</th>\n      <td>allocationCollecteds</td>\n      <td>1619931788</td>\n      <td>NaN</td>\n      <td>0x145c4a743cc6e55c7f75498581b7c8c4636fc2324a98...</td>\n      <td>0x7ddf0c8cb0167870bf7cc5368792c93aeeb15430</td>\n      <td>NaN</td>\n      <td>6100000000000000</td>\n      <td>NaN</td>\n      <td>NaN</td>\n      <td>0x92be903a9b4e5b11e8fd7aa84827dcfb39d13bae</td>\n      <td>136</td>\n      <td>0x31edcacc9a53bc8ab4be2eeb0d873409da4c4228cb2d...</td>\n      <td>603900000000000</td>\n      <td>0x9fd8ac559219d4dd463193d1fb0433f7844f730f</td>\n      <td>5435100000000000</td>\n    </tr>\n    <tr>\n      <th>940</th>\n      <td>allocationCollecteds</td>\n      <td>1619931790</td>\n      <td>NaN</td>\n      <td>0x1dac9b9a7b9a5532f793c577ddcd02c85a911dc7da01...</td>\n      <td>0x6dae84e4aed2c8708707b358e278408c2deb0397</td>\n      <td>NaN</td>\n      <td>10949270000000000000</td>\n      <td>NaN</td>\n      <td>NaN</td>\n      <td>0x774dbc835c5a0312dbf407d1d5114fcdca88d093</td>\n      <td>136</td>\n      <td>0x31edcacc9a53bc8ab4be2eeb0d873409da4c4228cb2d...</td>\n      <td>1083977730000000000</td>\n      <td>0x9fd8ac559219d4dd463193d1fb0433f7844f730f</td>\n      <td>9755799570000000000</td>\n    </tr>\n    <tr>\n      <th>483</th>\n      <td>allocationCollecteds</td>\n      <td>1619931790</td>\n      <td>NaN</td>\n      <td>0x0ff6cc1bbbb73bf4ad40dd464835f504e1fe46d0a159...</td>\n      <td>0x6dae84e4aed2c8708707b358e278408c2deb0397</td>\n      <td>NaN</td>\n      <td>10949270000000000000</td>\n      <td>NaN</td>\n      <td>NaN</td>\n      <td>0x774dbc835c5a0312dbf407d1d5114fcdca88d093</td>\n      <td>136</td>\n      <td>0x31edcacc9a53bc8ab4be2eeb0d873409da4c4228cb2d...</td>\n      <td>1083977730000000000</td>\n      <td>0x9fd8ac559219d4dd463193d1fb0433f7844f730f</td>\n      <td>9755799570000000000</td>\n    </tr>\n  </tbody>\n</table>\n<p>5000 rows × 15 columns</p>\n</div>"
     },
     "metadata": {},
     "execution_count": 17
    }
   ],
   "source": [
    "# frames = [df, df2, df3]\n",
    "frames = [df, df2, df3,df4,df5]\n",
    "result = pd.concat(frames)\n",
    "result"
   ]
  },
  {
   "cell_type": "code",
   "execution_count": 19,
   "metadata": {},
   "outputs": [],
   "source": [
    "result.to_csv('merged.csv', index = False, header=True)"
   ]
  },
  {
   "cell_type": "code",
   "execution_count": 21,
   "metadata": {},
   "outputs": [
    {
     "output_type": "execute_result",
     "data": {
      "text/plain": [
       "str"
      ]
     },
     "metadata": {},
     "execution_count": 21
    }
   ],
   "source": [
    "type(df.blockTime[0])"
   ]
  },
  {
   "cell_type": "code",
   "execution_count": null,
   "metadata": {},
   "outputs": [],
   "source": [
    "type(2288500000000000000000)"
   ]
  },
  {
   "cell_type": "code",
   "execution_count": 10,
   "metadata": {},
   "outputs": [],
   "source": [
    "import numpy as np\n",
    "result['blockTime'] = result['blockTime'].astype(int)\n",
    "result['tokens'] = result['tokens'].astype(float)\n",
    "#result['tokens'] = pd.to_numeric(result['tokens'])\n",
    "result = result.sort_values('blockTime')\n",
    "\n"
   ]
  },
  {
   "cell_type": "code",
   "execution_count": 11,
   "metadata": {},
   "outputs": [],
   "source": [
    "import matplotlib.pyplot as plt\n",
    "\n",
    "#result_p  = result.drop_duplicates(subset=['blockTime'])\n",
    "result.set_index(['blockTime', 'delegator', 'indexer'], append=True)\n",
    "result\n",
    "result.insert(0,'index_2',0)\n",
    "result.index_2 = range(3000)"
   ]
  },
  {
   "cell_type": "code",
   "execution_count": 12,
   "metadata": {},
   "outputs": [
    {
     "data": {
      "text/html": "<div>\n<style scoped>\n    .dataframe tbody tr th:only-of-type {\n        vertical-align: middle;\n    }\n\n    .dataframe tbody tr th {\n        vertical-align: top;\n    }\n\n    .dataframe thead th {\n        text-align: right;\n    }\n</style>\n<table border=\"1\" class=\"dataframe\">\n  <thead>\n    <tr style=\"text-align: right;\">\n      <th></th>\n      <th>index_2</th>\n      <th>type</th>\n      <th>blockNumber</th>\n      <th>blockTime</th>\n      <th>delegator</th>\n      <th>id</th>\n      <th>indexer</th>\n      <th>shares</th>\n      <th>tokens</th>\n      <th>eventTime</th>\n      <th>until</th>\n    </tr>\n  </thead>\n  <tbody>\n    <tr>\n      <th>373</th>\n      <td>0</td>\n      <td>stakeDelegatedLockeds</td>\n      <td>11474621</td>\n      <td>1608260777</td>\n      <td>0x57b4a5f470c85d4281f7baf5162b59243a3491df</td>\n      <td>0x18cb0cf3c94ed5aee7c925b9691535fb78e0419d54e3...</td>\n      <td>0x7ab4cf25330ed7277ac7ab59380b68eea68abb0e</td>\n      <td>65257075000000000000000</td>\n      <td>6.525707e+22</td>\n      <td>1608260777</td>\n      <td>32</td>\n    </tr>\n    <tr>\n      <th>375</th>\n      <td>1</td>\n      <td>stakeDelegates</td>\n      <td>11474769</td>\n      <td>1608262679</td>\n      <td>0xb7797cb7b4a031c4c1e04ea14824fa5d8d30beed</td>\n      <td>0x07f058e4212ea4115857cd68ed38d6eba0a8fc84977c...</td>\n      <td>0x7ab4cf25330ed7277ac7ab59380b68eea68abb0e</td>\n      <td>39800000000000000000000</td>\n      <td>3.980000e+22</td>\n      <td>NaN</td>\n      <td>NaN</td>\n    </tr>\n    <tr>\n      <th>762</th>\n      <td>2</td>\n      <td>stakeDelegates</td>\n      <td>11474819</td>\n      <td>1608263358</td>\n      <td>0x6c615cb1e310d0909698ef4992958d849bf4a45c</td>\n      <td>0x106191a769d4ba4690aeb8f366a1ffb00f500c03ecc6...</td>\n      <td>0x4fedde33607cfda2c82a999accb427d1170987d9</td>\n      <td>33167330000000000000000</td>\n      <td>3.316733e+22</td>\n      <td>NaN</td>\n      <td>NaN</td>\n    </tr>\n    <tr>\n      <th>321</th>\n      <td>3</td>\n      <td>stakeDelegatedLockeds</td>\n      <td>11474886</td>\n      <td>1608264240</td>\n      <td>0x1853bf6a892abd949aed052bb634ab96afaf31dd</td>\n      <td>0x14b0c8979f1f246960a4145a594db37a7a440082451e...</td>\n      <td>0x7ab4cf25330ed7277ac7ab59380b68eea68abb0e</td>\n      <td>14169714085664846000000</td>\n      <td>1.416971e+22</td>\n      <td>1608264240</td>\n      <td>32</td>\n    </tr>\n    <tr>\n      <th>843</th>\n      <td>4</td>\n      <td>stakeDelegates</td>\n      <td>11475238</td>\n      <td>1608269302</td>\n      <td>0x7eb692f22af33d637aab31f9277653235682ebe6</td>\n      <td>0x11d12e4e40232247ba695bb303b0ea709873707de2cb...</td>\n      <td>0x7ab4cf25330ed7277ac7ab59380b68eea68abb0e</td>\n      <td>4002893379514657642500</td>\n      <td>4.002893e+21</td>\n      <td>NaN</td>\n      <td>NaN</td>\n    </tr>\n    <tr>\n      <th>...</th>\n      <td>...</td>\n      <td>...</td>\n      <td>...</td>\n      <td>...</td>\n      <td>...</td>\n      <td>...</td>\n      <td>...</td>\n      <td>...</td>\n      <td>...</td>\n      <td>...</td>\n      <td>...</td>\n    </tr>\n    <tr>\n      <th>70</th>\n      <td>2995</td>\n      <td>stakeDelegatedWithdrawns</td>\n      <td>12404610</td>\n      <td>1620622904</td>\n      <td>0x0b5e60685297eb5348de573d5d9b3c669deb4e94</td>\n      <td>0x05f9d356ee2e38e729554d89f59f356375984f742ebd...</td>\n      <td>0x5a8904be09625965d9aec4bffd30d853438a053e</td>\n      <td>NaN</td>\n      <td>2.225893e+23</td>\n      <td>NaN</td>\n      <td>NaN</td>\n    </tr>\n    <tr>\n      <th>393</th>\n      <td>2996</td>\n      <td>stakeDelegatedWithdrawns</td>\n      <td>12405183</td>\n      <td>1620629954</td>\n      <td>0x966b4d523fb6a4b88071f918b35e360c8326e7d8</td>\n      <td>0x23319a2373bf68f7ab1954f404e6c7cbe4f69f46e7a9...</td>\n      <td>0x5a8904be09625965d9aec4bffd30d853438a053e</td>\n      <td>NaN</td>\n      <td>4.357788e+22</td>\n      <td>NaN</td>\n      <td>NaN</td>\n    </tr>\n    <tr>\n      <th>362</th>\n      <td>2997</td>\n      <td>stakeDelegatedWithdrawns</td>\n      <td>12405480</td>\n      <td>1620633810</td>\n      <td>0x60b6c90ee835207fe0d82fe7b782e8e58e70d77a</td>\n      <td>0x1f8a50f3bb4ae971b96d1e6aacc81dc6c2f330e33cdf...</td>\n      <td>0x9238584c74e5fa445a8f72a4d4ef4699dd783852</td>\n      <td>NaN</td>\n      <td>1.140503e+22</td>\n      <td>NaN</td>\n      <td>NaN</td>\n    </tr>\n    <tr>\n      <th>646</th>\n      <td>2998</td>\n      <td>stakeDelegatedWithdrawns</td>\n      <td>12406969</td>\n      <td>1620654727</td>\n      <td>0x440efbba3f3d971fd8411c580197ecb53ef71f87</td>\n      <td>0x3bc4f127bef64df57e2c2f2cf0b5b5521bacca32984f...</td>\n      <td>0x5a8904be09625965d9aec4bffd30d853438a053e</td>\n      <td>NaN</td>\n      <td>1.011843e+22</td>\n      <td>NaN</td>\n      <td>NaN</td>\n    </tr>\n    <tr>\n      <th>679</th>\n      <td>2999</td>\n      <td>stakeDelegatedLockeds</td>\n      <td>12407510</td>\n      <td>1620661793</td>\n      <td>0xce5687a741d49b05732d14962aa20edf8cbd579e</td>\n      <td>0x2cf35e12cc3655a2c55e5134a40caa8c1fda2507d855...</td>\n      <td>0x8d632dfc2454d624910fe982e85a5b15d2ae93c5</td>\n      <td>1082830805278720050466</td>\n      <td>1.111555e+21</td>\n      <td>1620661793</td>\n      <td>172</td>\n    </tr>\n  </tbody>\n</table>\n<p>3000 rows × 11 columns</p>\n</div>",
      "text/plain": "     index_2                      type blockNumber   blockTime  \\\n373        0     stakeDelegatedLockeds    11474621  1608260777   \n375        1            stakeDelegates    11474769  1608262679   \n762        2            stakeDelegates    11474819  1608263358   \n321        3     stakeDelegatedLockeds    11474886  1608264240   \n843        4            stakeDelegates    11475238  1608269302   \n..       ...                       ...         ...         ...   \n70      2995  stakeDelegatedWithdrawns    12404610  1620622904   \n393     2996  stakeDelegatedWithdrawns    12405183  1620629954   \n362     2997  stakeDelegatedWithdrawns    12405480  1620633810   \n646     2998  stakeDelegatedWithdrawns    12406969  1620654727   \n679     2999     stakeDelegatedLockeds    12407510  1620661793   \n\n                                      delegator  \\\n373  0x57b4a5f470c85d4281f7baf5162b59243a3491df   \n375  0xb7797cb7b4a031c4c1e04ea14824fa5d8d30beed   \n762  0x6c615cb1e310d0909698ef4992958d849bf4a45c   \n321  0x1853bf6a892abd949aed052bb634ab96afaf31dd   \n843  0x7eb692f22af33d637aab31f9277653235682ebe6   \n..                                          ...   \n70   0x0b5e60685297eb5348de573d5d9b3c669deb4e94   \n393  0x966b4d523fb6a4b88071f918b35e360c8326e7d8   \n362  0x60b6c90ee835207fe0d82fe7b782e8e58e70d77a   \n646  0x440efbba3f3d971fd8411c580197ecb53ef71f87   \n679  0xce5687a741d49b05732d14962aa20edf8cbd579e   \n\n                                                    id  \\\n373  0x18cb0cf3c94ed5aee7c925b9691535fb78e0419d54e3...   \n375  0x07f058e4212ea4115857cd68ed38d6eba0a8fc84977c...   \n762  0x106191a769d4ba4690aeb8f366a1ffb00f500c03ecc6...   \n321  0x14b0c8979f1f246960a4145a594db37a7a440082451e...   \n843  0x11d12e4e40232247ba695bb303b0ea709873707de2cb...   \n..                                                 ...   \n70   0x05f9d356ee2e38e729554d89f59f356375984f742ebd...   \n393  0x23319a2373bf68f7ab1954f404e6c7cbe4f69f46e7a9...   \n362  0x1f8a50f3bb4ae971b96d1e6aacc81dc6c2f330e33cdf...   \n646  0x3bc4f127bef64df57e2c2f2cf0b5b5521bacca32984f...   \n679  0x2cf35e12cc3655a2c55e5134a40caa8c1fda2507d855...   \n\n                                        indexer                   shares  \\\n373  0x7ab4cf25330ed7277ac7ab59380b68eea68abb0e  65257075000000000000000   \n375  0x7ab4cf25330ed7277ac7ab59380b68eea68abb0e  39800000000000000000000   \n762  0x4fedde33607cfda2c82a999accb427d1170987d9  33167330000000000000000   \n321  0x7ab4cf25330ed7277ac7ab59380b68eea68abb0e  14169714085664846000000   \n843  0x7ab4cf25330ed7277ac7ab59380b68eea68abb0e   4002893379514657642500   \n..                                          ...                      ...   \n70   0x5a8904be09625965d9aec4bffd30d853438a053e                      NaN   \n393  0x5a8904be09625965d9aec4bffd30d853438a053e                      NaN   \n362  0x9238584c74e5fa445a8f72a4d4ef4699dd783852                      NaN   \n646  0x5a8904be09625965d9aec4bffd30d853438a053e                      NaN   \n679  0x8d632dfc2454d624910fe982e85a5b15d2ae93c5   1082830805278720050466   \n\n           tokens   eventTime until  \n373  6.525707e+22  1608260777    32  \n375  3.980000e+22         NaN   NaN  \n762  3.316733e+22         NaN   NaN  \n321  1.416971e+22  1608264240    32  \n843  4.002893e+21         NaN   NaN  \n..            ...         ...   ...  \n70   2.225893e+23         NaN   NaN  \n393  4.357788e+22         NaN   NaN  \n362  1.140503e+22         NaN   NaN  \n646  1.011843e+22         NaN   NaN  \n679  1.111555e+21  1620661793   172  \n\n[3000 rows x 11 columns]"
     },
     "execution_count": 12,
     "metadata": {},
     "output_type": "execute_result"
    }
   ],
   "source": [
    "result"
   ]
  },
  {
   "cell_type": "code",
   "execution_count": 13,
   "metadata": {},
   "outputs": [
    {
     "data": {
      "text/plain": "<AxesSubplot:>"
     },
     "execution_count": 13,
     "metadata": {},
     "output_type": "execute_result"
    },
    {
     "data": {
      "image/png": "[encoded data removed]",
      "text/plain": "<Figure size 432x288 with 1 Axes>"
     },
     "metadata": {
      "needs_background": "light"
     },
     "output_type": "display_data"
    }
   ],
   "source": [
    "result = result.pivot( columns='type', values='tokens')\n",
    "\n",
    "\n",
    "result.plot(logy=True)"
   ]
  },
  {
   "cell_type": "markdown",
   "metadata": {},
   "source": [
    "## 2 - Graph Visualization"
   ]
  },
  {
   "cell_type": "code",
   "execution_count": 6,
   "metadata": {},
   "outputs": [],
   "source": [
    "import networkx as nx\n",
    "def pd_to_graph(df):\n",
    "    G = nx.from_pandas_edgelist(df,\n",
    "                            source='delegator',\n",
    "                            target='indexer',\n",
    "                            edge_key='id',\n",
    "                            create_using=nx.MultiDiGraph(),\n",
    "                            edge_attr=True)\n",
    "    \n",
    "    unique_indexer = df.indexer.unique()\n",
    "    for i in unique_indexer:\n",
    "        G.nodes[i]['type'] = 'indexer'\n",
    "\n",
    "    unique_delegator = df.delegator.unique()   \n",
    "    for i in unique_delegator:\n",
    "        G.nodes[i]['type'] = 'delegator'\n",
    "    return(G)"
   ]
  },
  {
   "cell_type": "code",
   "execution_count": 7,
   "metadata": {},
   "outputs": [
    {
     "data": {
      "text/plain": "<networkx.classes.multidigraph.MultiDiGraph at 0x11e74dd00>"
     },
     "execution_count": 7,
     "metadata": {},
     "output_type": "execute_result"
    }
   ],
   "source": [
    "G = pd_to_graph(df)\n",
    "G"
   ]
  },
  {
   "cell_type": "code",
   "execution_count": 8,
   "metadata": {},
   "outputs": [
    {
     "data": {
      "text/plain": "DiMultiDegreeView({'0x1df0a5bfced8fb5b9eda72e6e500f44292792e76': 1, '0x5a8904be09625965d9aec4bffd30d853438a053e': 300, '0x317e5b109b97bf4222f163884257e9c6a42d755a': 1, '0xbe9d7c691792937ca7e2535652886ff390cc5b86': 34, '0x445ea1ccb8c2c984647484ca9bf0d08adafced60': 1, '0x4bc2e066fb0857493a1fbe48462bb34ff6ea731f': 2, '0xf2e9fb0e1ffcdc0dca2f39aa2e2245375bccf3e5': 1, '0xd22c1c1a1fc452e3312489f1e89676e93c3323f0': 11, '0xad6ee7c40d7d80a6c404e82e77cde5c5088e98a5': 5, '0x2c313e9fd1794685d2052af79457c858813b108f': 3, '0x9af906c01f75154dd3402dfa441c7a4251c3201f': 1, '0x88cd037eda1808449e59a27e161dd667c05ad91a': 2, '0x1d79706378ea91067fa574b30ea139b00000d15d': 1, '0xe7a694696a4d11ac0b7ab2dcb99a7fcf200eb00b': 10, '0x271271e6c59d4e47d67cd7ac13f8d0232fa4c919': 2, '0xb06071394531b63b0bac78f27e12dc2beaa913e4': 79, '0xa31d6dd6ef05356910b680bf60a13aba6a04435b': 1, '0x281a3a5b478c7c77460edd39dff561494f923f9a': 1, '0x4d6a8776a164776c93618233a0003e8894e7e6c2': 11, '0xbecfbd38ad4e13968007ea56678504e738bda8a9': 1, '0x9238584c74e5fa445a8f72a4d4ef4699dd783852': 86, '0xdfb99703f6cf759f76b5c817109d581e50c6326b': 1, '0xdb75b12c2b8bddbfd6dd836d43f010b0ac810a83': 1, '0x6115f03416bd85b799f43ee0201c9114a9f6bcf4': 1, '0x38148ecc2078da7f65e6233dda28efaf4c51e96f': 1, '0x62a0bd1d110ff4e5b793119e95fc07c9d1fc8c4a': 5, '0x748fcf3dc21dd4abe411079606786c48ddbfc45d': 1, '0x85fe868adf7f5950b052469075556fb207e5372d': 29, '0xcba1fc5477ac9eaa6a0c634ce91fdc20fcc25b33': 1, '0x3b9047e53efc926468285b974d1fcb29452f8ce7': 1, '0x365507a4eef5341cf00340f702f7f6e74217d96e': 9, '0x10e70e34ad70a5142b3b3dd7cc41551a9287ae38': 1, '0xf3f182e859f789af8d6c2223d15c691471c79a2b': 5, '0x1dd83f87ec9e2041c3eee8c7fba5653859ea463b': 1, '0x720a98087160bfdb282f695abe6f9ac966b03d43': 19, '0x2e3c239c423effedc44ca92032729dd8908cd460': 1, '0x78624b7316dc858f09a1b26192a4b1d5012c835e': 1, '0xe6368e677871b288294536c8fe6cb1bbeb19f7a2': 9, '0x6b17859675560961a406afb9f8248f5eed10dcbd': 2, '0x891e5bc28686b705b2c7c65d85ec75f75165dc19': 1, '0x671bc7a0ffa02b0ee90ee03bcd11915df011503a': 22, '0x55ced9be15c06894f63cc5e44cbe044a342114f6': 1, '0xdede2d81bed45b3ead9ead6ceec7ff08c76e404e': 1, '0xee97b2bbd506afa0cd6dafd0fd99da8a068dc087': 1, '0x36afba6c5dc98f6edd14470ce40691ac1b53ceab': 1, '0x03db85e86779febdd96d96ba43ac48382fb1a88d': 5, '0x5f200b56a98126349f1d9f8a74b620e6e50d9f19': 1, '0x7ab4cf25330ed7277ac7ab59380b68eea68abb0e': 42, '0xe5ebc11a7d40f81cf03124bdab7fac8ec81e1e0b': 1, '0xad2d73cf9b061719ff167d788e11e528276f81e8': 1, '0x67aa135dea604ab5b959db54f108ad8a2c9475a9': 2, '0x2a87c1345024ab463acc26417124c433b3069fdd': 1, '0x453a96c56e8046a1cf4b7e6b329795dca3155b51': 1, '0xfd7355b13567a3c60f98c60dd5729d59e1255e34': 1, '0x6c8e4d6f376336871821dbe369bfe444fdd1fc99': 1, '0x3e6afacfed11b25c5caf5f773af144e8c8ff3542': 1, '0x86da260db236c33133a44f96af9ac9beca069034': 1, '0x63c560997b8338f2b033f3ffdcc0f7c680feec45': 8, '0x907a1060ca0f327c70c4d430759778a86e4d0daf': 1, '0xff684a0ffccb954f751d3254faf0c53d218dfc87': 1, '0xc60d0c8c74b5d3a33ed51c007ebae682490de261': 22, '0x2c74a7fc4befc475a52b43f25ab4ef5cc1b125d2': 1, '0x4437e367cc68d87675148a9e4a1f052f0359c880': 12, '0x63f8168f665f79101a0e0da2313cd1391e1c5e27': 6, '0x72acbecf3013d7b27421185d3bf369520bf552c8': 3, '0xc9cacc26877b003490f17a0ff004490085537945': 1, '0xcd46cd81694848ab908ffd7a4d713a3baa0b758d': 2, '0x7abf8d57419d84e19cf08a17970bff8773d74fe3': 1, '0xc7db5d1509343af4f82f3015fccbcf8bbd69c4dc': 1, '0xb8410ecf5b8697aea47738cd23d1bdca61e1707e': 2, '0x529109d3e06f2acfc520f27042274e8dcd44eddd': 1, '0x5134b3e946cb2fbdbc4910446c9a1b2767911c95': 1, '0x385c4e722de11c64bbb2cf074ff7e29c3e7cbb27': 2, '0xd76f2d4d5072b5a3d24400e6c89c29a6d7ea9d92': 1, '0x6eede87e6a578b04af35240adc04d24850bad487': 1, '0xceb1fa6234e5a9bbb0923d188a71ddd48e3b4296': 1, '0x5f663a56bece3cd1c1e3a83e1d077559bc3cd622': 1, '0x4fedde33607cfda2c82a999accb427d1170987d9': 8, '0x3967f6de8a5a91fd0e34ebeb020593793e97e44b': 1, '0x8585a861bc701e0f225e6e84d3d3ddbd4a2b9688': 1, '0x6125ea331851367716bee301ecde7f38a7e429e7': 6, '0x4899b5ad4434d972f7cc76130db7020d87d5695a': 2, '0x39839abed87475422c5353256d17e08395c3af6b': 10, '0x39ae2a8b1ab84b530f74f72c76b62bd391ae832d': 1, '0xb0a77500188c201306a4ee907da1a89e00a6073a': 1, '0x88d95a0a4a2ae6824dce0e6167bf731cc8d91c85': 1, '0x3e1f1fc109b0130a8ba13a1546c713d030b8613f': 1, '0x1692a8710dcf0dce24bd34c028479176b97ee9ef': 12, '0x80e4ae5f32649796cf3c1038f8a1c8d09be8b6e7': 1, '0x177ca251c1ffc18462a552711fdff08555b1d342': 1, '0x03d44a197e88e131a23b9472c8e9372a2b415019': 1, '0x64b2b6ed128738c1144bc00d2c185ae0cf6751fe': 1, '0xf0c873bffac68a5d6749f251dea06fcbe634d821': 1, '0x559a06a9dedcb960c13d2074b1512e06c2208d58': 1, '0xa6d8c8541a2191ededabe89f0a8db1df1d9af45f': 3, '0x7b8f93130b7c610fb102f1e82e23ad978ed81702': 4, '0x956f1ce3ff2ea59a8b41df83ce9f85ed59d73f92': 1, '0x43196c7478e3937134308389146465280bf7bc8a': 1, '0x27ca9cf008a217e828b4b39945034ff8450730d1': 4, '0x4bbfbd1320093858d877ab0c8cd91ef0ce065318': 1, '0x87793fabd5ff7fe501f87817c7f6ad2476e8eaa4': 1, '0xc430be492ddeb6e761dbbd0e08bafe99f5064d90': 5, '0xaa73775ec15687dc8494e4768d276d3ca36e7e41': 1, '0x1823d892cc44b50fe506b89db8da9426218cdb76': 1, '0xf2c77f6376999ec5807cbd991089fc4e13fa509a': 1, '0x8b7663dd451c951f39e541188d9f7d9419e94421': 9, '0x19a5a86b0af748e44054e6f5523f65c950c61999': 2, '0x6094e1dd925cace56fa501daec02b01a49e55770': 1, '0x605c8418be0667a74c4f06a26246d0bbb61cb267': 1, '0x56b75ba0088d7272d002fd5a18de280c4f26df61': 1, '0x8bc0ed0627e9c406c6e781f1690441d57ce05b4a': 1, '0xe1a42597c2d2cc2d0237df741d4b071d36ce9e42': 1, '0xfd12a5a7bc7f2eb4904a8177418dbb0bf094ba16': 5, '0xcb7911ef9927374c702c78c2a83d28047e71abe5': 1, '0xae72cd5aaa6ee56126c188ed0a2a333b33f8e04d': 1, '0x2e6b7de5a4d8bd62f38294b87d54c9d948b5245e': 1, '0xe2b59f6abdc750a3795f510a81d3d078fd19a5ce': 1, '0xbb784d9b398271b7a64f975bebde869409691915': 6, '0x36067e3b1caa5f9330b8af03c4780df57fa32fe0': 1, '0xbb03dc56aeda4a90016a6e82c063968623c1594e': 1, '0x6c63208e0cf89c7e5cb15a3e5997e15b4fc6f14c': 1, '0xd081dd9aa91554de6530a98e2b677f355621829b': 1, '0x54b7c46d3908a8dce822bef2255e1912baf236cd': 1, '0x8f9793029b66325b70fffbfdf2b04d8491682466': 3, '0x775ed8915969d9cd7937ee7c679a3e9aeb57a556': 1, '0xbc3847d7e2110b8905bb9e1cbed004df472e4362': 1, '0xac104dba73822c575713e1ecb06da67af01c54b3': 3, '0xe6607691000e41cefe2f0fa6f3ca889f52bf1232': 1, '0x362717d3fa1bfe457535b9b716f450b95a858217': 1, '0x99c3986e557f981bd84c53b01fe499a65adaa71a': 1, '0x048eb4ee2c67d827cd0028273871bd934cb9d2a7': 1, '0x08283b208252566a857a1077f9e4b39d48dd12b5': 1, '0xe9cac39fdf107ea5e7cb58891653b9cfe8b3da8f': 1, '0xb3ac04c79c40c5034a3c5d43d80a7c30e1db3865': 3, '0x20074277f892404ee413753e01bac21a4f8d98c4': 1, '0x77057d1bc1c24baf1d66ae5c535b517f5f41eec8': 1, '0xa20ad2e592ab005e4767edeb08215aeafc993237': 2, '0x6980fd6c85a98df8180123951e46d673b456699c': 2, '0x09ab720be0deda7f664e5dd15c5f33472da0e0fe': 1, '0xe0ddee528856195af906eb5c7645ddcb6dbbe1c0': 1, '0x40f657e85bbb5cc7beb402da315c3fe1974442bf': 3, '0x3622522a5eb9bba3417ec3d2a437f9d3c5caacee': 1, '0xfb09195c088a720f146edc46e66e29b4d006fd21': 1, '0xedcd5c229a78bdaf55080fdb6ea6b99acc5c4afd': 1, '0xe52c01eb7ecc799afb77c98c5ddff3dc645f9e35': 1, '0x346f1fdbd21bcddd12e85bbf1c347186bd5b00a8': 1, '0xb21a594b544099bd1593dd1c6a08d7371f7845e9': 1, '0x188af1d01a95dec1225b7fe72849117607bfd73c': 1, '0x0d7fd1b55be6d650045e66a5279f5f7a9da6ab07': 1, '0x55349cb224ea2a0cb8c6466e8ece7a17867dfbdd': 1, '0x54b5f3da699547f24de28345c839d8db5a5e812c': 2, '0x2c0b833cdac5b735ed494d2f35e506e373cb0cd1': 1, '0xbff76f4d252f8075a64d1eabd8d4327aba9261b6': 1, '0xd133fd8e0607f5d82c91626140495ea0a31d0398': 6, '0x483ca9370064ba03200fade3b37603eb8cf464c6': 1, '0x0808d4689b347d499a96f139a5fc5b5101258406': 1, '0x7ed9d36539f349808c42187ed4e1753d5947db7a': 13, '0x1603c58c95e5ab66471e7d9d1a41e5d907246abb': 1, '0x427f071e335bfa32241bbfa7f240f24a8a46f292': 2, '0x8556df07fd7a50195dffc55420b7a211e7c09a75': 1, '0x4cd3fb7a7ab67fe583914c459dfd63d63024b00f': 2, '0x0cf6f3d9013e49588882ffab01d008deb5b1f7bc': 1, '0xd2df06909111a2b4492e329b94f91c83a663b8f6': 1, '0x89d3e7f71e23e584a2984e57fbf8b34fac421e3c': 1, '0x248c9c14894739fead9ae0cdf67eb4cb0138c800': 1, '0xef6fb5e0f1624a5cfa6e702d116c6d58b862d60f': 1, '0x95c33b9d38551c9415d72d89369b2894638f6004': 2, '0xf6b76a8d41ffb8460fab76bcb7e814ab775baff6': 1, '0xf55a5d2d711b98f2fc38b64407a729312ae3271b': 1, '0x3ee91e77dca738f464551bf04720895bc55cae1a': 1, '0xeac90efbe731ce2d3d6f4b4802436932b387288e': 1, '0x19fbac0891042be71ce60321a17720358575f580': 10, '0xa49e54116a63e1f33712733dde639654fb54b5f4': 1, '0xa93732731df985d1a8bbd9ddfeca88f80ae4d4f5': 2, '0x465dca9995d6c2a81a9be80fbced5a770dee3dae': 1, '0xb00d1dec3c2ea82792b6dc4f147608fad0717f34': 1, '0x57def36b14d04c5ef684d17b5d4fb527c3080808': 1, '0x564d107b6e174f73f39a4246a0bc6ef36bb3a218': 1, '0x56a38f34a7e1cc0e3ef881b55f2c69b40353ea30': 2, '0xe127cd2dcae53a6acf623e7e54b45b2252cc74df': 1, '0x8318d20346678a890b7f1f1e01a522ab1d5c4b5c': 1, '0x4167eb613d784c910f5dc0f3f0515d61ec6ec8df': 13, '0x534d123b6580aea7ea0d78ebc692bed9850113a4': 1, '0x257f6c8a972a74786d365f4a5cb82b24c5b2538e': 1, '0x3a58538b353994bb4703f0458a99224067fd6004': 1, '0x30bc08eecd7d2d0feafa75326fd6271fa8dccb64': 1, '0x791cbeccfd0dcd5929b83f9b6b4544927a6ff05b': 1, '0x27b4b37c6d4ac54b3f983f47d5b65dc0daea0244': 1, '0xb92386609b5a68bbdafbb48572b60568b8f49765': 1, '0x730822d8da73c6102c026cbdd4d53aed611dd5df': 1, '0xf35fa1a04d30ef4974746a3cd6a2ccb877cf44f0': 1, '0xea15feb578fe87aa4b476ea56c48eb033a2c9076': 1, '0xb7a2501eb083a8300ee38f86f128457188b961f5': 1, '0xa78d3d9e5a5360cf50c188447ebef8e9422732d8': 1, '0xd940072500f52a6a6f372de8eb84617af4a26681': 1, '0xbf4af02f7855c7ead52d037349b7a76e48ed47a9': 3, '0xc470c5ac934f9b142b2eca4d6ab8902d13065794': 2, '0xd8410a44041e0a8e758e496113dfb42bef4ed3bc': 1, '0x8296a591315b5af779d845e59b6dad303b4a855a': 2, '0x79c813f6b6a84b4ab7258db617612f06bde25498': 10, '0xa29b2573469e80debe0ab3babf6008e5fb3d8722': 1, '0xe0f79e8af81d8c5673ab964cc362aad4545625e1': 1, '0x56cf15e529cd5bf62cc31be67c71580801911f9a': 1, '0xd1c78d21abc22a0ad6e91e2150380e6a715b975a': 1, '0x56d138a329faa31cdf5e3e7766da4d6c1e55e732': 1, '0xadec174ff97763b871a312afd7a8b495ed5f25ab': 1, '0xe94dbcd3a303e67083622e618f22fd6ae78cc996': 1, '0x8ea0602af3aab58928ebc42ed5d72dff3588230a': 1, '0x16c9818c1a9c3539b843673d1fc500eb707fda67': 1, '0xcab19390c0e8e90be4f94740f82e72b0a9bf8466': 1, '0xe0b18affb1bd9b681f51ce841f1ee1ebe55cd172': 1, '0x3d1ed1ecb8f1ad060e13ae4db293d915923d2090': 1, '0x64bd4397302c775c087f422d11491c97ecd4d524': 1, '0xcb22a8ce581d04fef99b81ec5a60725070a3e8c4': 5, '0x9c57027b1eca93093a6f446422c59c85a5a3fa52': 1, '0x3ed9bb5ab516df21a8e2b02c9747a352145d4b34': 1, '0xaebae0a7efbe6ba2a48319d4b595b0ccd3e2861f': 2, '0x55f3dcdaf0b73f7f0c761a9070d8865f37986e2c': 2, '0x01edb4947ab414bfca12abe346d1eed039fb02e4': 1, '0x67c769124787dff1ad720a0c0faa32141bb84c0f': 1, '0xd11b02765685222a539262b06f01c70c000c89f5': 1, '0xd18cce3a067ba4dcddf3272249322771cb8900d7': 2, '0xdeb12a10638f4c1da06c7aaf768c40c62d71f653': 1, '0x87e7a461828270e4105b77017fd35e92fbb888ed': 1, '0xc190f8844789051790dc96cdcb475b64dd5d6aa0': 1, '0xa76b295e3aea2142f95c53c4d46178ed966db1ad': 1, '0x17dbdeb837fb3ae4eb791a740d78e7aaf79a0fc6': 1, '0x5014e7dc2f4610c1eb3491f3b94b42503b477b9e': 1, '0xa37c8103f387d61b018d1b67dde0dd554181a78b': 1, '0xbdfbf2a55de91fee5d0eb829fdfd337430862bff': 2, '0x48724ad2e2a440d98d366d9ee9f94bc84868a90b': 1, '0xfdb644bb1e2fb59f2604952658e1c2f16ce74337': 1, '0xb0c8b8ddcfc7c7a39d171b40c9a55deecfdc482b': 1, '0x643c5f5223ba68e06766b194b274c4d90dd42dc8': 2, '0xb31c4e47df61c89f5a419db24f0e94b34751f14f': 1, '0xc94a2669f719f792f166800fb6ef00fb3a7f5bec': 1, '0x7c7d093b4fb96c89fcc29cd4c24c15db0ed669df': 1, '0x26873dbb476f96b7e92869360c4f0c3bc420149e': 1, '0x29402cec2e49afb874b696ee64c10f88dad26b44': 1, '0x67253aae800b98c427770435dbc2a4dbbd7f278e': 1, '0x2174edda540cae93feb0ee13952fdf20ad9b9d84': 1, '0xa33b2593303a70b793b5fc11bb002c0c797d6718': 1, '0xa26bc7e6cdfe1d6e254e962a87d7fcb6941b6060': 1, '0x672a9b8f3bab8625385b8e64d5fd2f2b83ba79ae': 1, '0xfe5b5fb5830c875078abea43c800127a670bf9b2': 1, '0x87a896c1cca4c748dd3468e0b705469b66de68db': 1, '0x35108b12913937b886636552ad036221be3b12c2': 2, '0x05c2974d048d90ec5bfa124b6369396727b900fd': 1, '0xca49d1312925ff3799e682d995fdceb325a40e6f': 1, '0xf7c6382da0a3ee08ad4c201b01e33e122600ab6f': 1, '0x8e297141f9dc76f4d71741da1a1e47294cf0fde2': 4, '0xe91cf3ea87affed783416bd3f1f937a6f8049a32': 1, '0x049808d5eaa90a2665b9703d2246dded34f1eb73': 1, '0x16ea1f673e01419ba9af51365b88138ac492489a': 1, '0xad7f6ebd3ba1c3e5d94e563784c9b13bf6161bc9': 1, '0x390a58ab1f4a5776400c1384968fa31b77aed708': 1, '0xe992d67d0632027166140128f28eea9b4ca00f12': 1, '0xe88f42474046183f2367066cd940e74ded8085fe': 1, '0xc37cd5e34ef273f6aefe6900fc9d75563cdcfe03': 1, '0x4b15d924afde5f715926bed818478de395b53402': 1, '0x8a1729fe84c53c231c7ae53a5bec3f6e9953cb4b': 11, '0x9bddc9de55c563c0a9ca54488cd32f0787bc33d1': 1, '0xa02ce45abebd3aaf01915657e477e8cd2658fb24': 1, '0xa959b5afe73c6faa803541b5c4edc0492dfda294': 2, '0xec9c250a51d13517588112f2f6ae1434bfbcd2ba': 1, '0x1a99dd7d916117a523f3ce6510dcfd6bceab11e7': 9, '0xad452d52cfa7bf273a6a357635520ed15b8865fb': 1, '0xd8e27c9bb7a98391f3b3088bdafb8cc2c10525f4': 1, '0x8a5051fac92ed8ab48d9887a3ffaa140bd89225c': 1, '0xe50e5b1d5d16b42d2c813cf5f160dbd51ee3f2b5': 1, '0x3eb3297b0e34a7897aa004b66a354053425f7894': 9, '0xe5dd145697996040c8acda044dc19a86c2240c15': 1, '0xb6405137bb91e6935d1dc5e995f1c3c0929e90f2': 1, '0x4c06e926a1af5e518e480eaa526ad3bd05aad504': 1, '0xe3c572b9b9b2674cd0afff27c2fff8b86b2c5fa1': 1, '0x474e571ab6dd77489ec3c7ddf9cbc893fcba684c': 3, '0x0994e0d1eba4718c24c6b92db2b3ecec4e709552': 1, '0x0b76e9558ee5f819a2c26a3e941b170cec2e5612': 1, '0xf54ab639cbbd36651475605d235469225a9fda6f': 1, '0x228f1cd21fa92b5877c056b8e6488841ef3ca097': 1, '0x8403a10d5d340b5fdacd5e0988a2bfd871bcfe2c': 1, '0xc8e93774d13fabca0458e1b4e8a86bab4f214284': 1, '0xc02344c55ade82c4c78fa1552ddee95934670539': 1, '0x6889e3e62507908603e58dd78e2724a3ca6cb166': 1, '0xf61027939fb6d945191ffa7620ec606ef2411dae': 1, '0xecdfc5b34b46e30161c6e54af81109aeb13be979': 1, '0x7697a886fc3b71a8a88487019337a6bbe5838f1a': 9, '0x2369602aa298203d511cca3285063c238a028430': 1, '0x597d37c22b0a7f9af62b5f32a159e5cdce1db1de': 1, '0x8db69aaa5832a0ffe3ec48bef66da267fd70fc53': 1, '0x10a854297504e132d3675587b494eaaf05b94040': 2, '0x620c8a1dc6fbe29c10f9c599c5e29e450bb0ef58': 1, '0xe8e324a5d885874c5837464ec61081c5366d2dab': 1, '0xefffd31d7326dc97256e1de09a669ba30b9955f2': 1, '0xb097661d99aedd0b8bd34cb6e25795d1bbc4da1d': 1, '0x8b4bd056c8fbbbc29668cda4bdf3b38775503cd0': 1, '0x0e477d8599ba5007bf248ef33747155888d99754': 1, '0x91f98ecb55a87986970b78c11dabc71c32baa104': 1, '0xd6e9d9cf96c6bec0ac88ee00202aebdbd1fa3432': 3, '0xd9fb8cfb089975228cb866a5f42a5ba0d3c08bac': 1, '0x599602355c1e96102905adb34a7634d85c02ce19': 1, '0x9f148c2e7e39efdabf8a6ea1b83e18be38cb8ac7': 1, '0x681694d348f45c9eca4e968cc4cdf996352970ac': 2, '0x397e4922317be1aa463de4233b676d1eadf40765': 1, '0x9a458d258f5d38479e6642f1af334ba244982041': 1, '0x8da90e9c112fec6d583a39bb917820a7624151a4': 2, '0x3fc9daf4f83e6ca17295c1a7cd38a962570780ed': 1, '0xbfe2a198cb0cdfb50fb03cd932c7387ddb0d25aa': 1, '0xaecdf9e1493fbf8e7d9dc94cbbf8dd2dfbb5d565': 1, '0xf556a0fb18130430c3699182259d15b47e043cd3': 1, '0x9e3ad1c689a44a1d30cc99391cf1f6856cb08579': 1, '0xf2d4edc5f5438136cade4301930921d084c77a5d': 1, '0x3727321b9b1318c2716b743e4eea28e0c8fc7f58': 1, '0x2f3eca2be65b46a1af70133955f5aeb7643375cd': 1, '0xe63716032ccfadaf97c4e046486bff992ed223ff': 1, '0x4c6514efcd93425a70830ecfe9f9f5436de91d57': 1, '0x6c615c4ecfea0aff9e87746723eaa35495fd52f5': 1, '0x6903d41877f8d6232700edb7f45fadc50dcf7a0a': 1, '0xa303bafc6ceaa68857ac7b9f35ac465961a74ef3': 1, '0xe8162912d3259be14fa802a6acbaa1dee7dcdd33': 1, '0x1f585b955157eb367a36fadc16e4c4d694eb72b3': 1, '0xb9c7895c8e1af78cd994d15f5128e6bf5f85463f': 1, '0xfcc3a3c72bec5247d52147478840f611dff9c7bb': 1, '0x31268fa4bcf2395025bf849ef8bdf4477d91fb79': 1, '0xdf166d5ce1a5006ef08ab4453ba13adacb8193fc': 1, '0xf6c835e53692c0cab4b444dcf5e35c980bcfc31b': 3, '0x00778a211057c47a9f8885750bbf48226771bcdc': 1, '0x49bc9eccd93cbfa6b76dcf33b3ba9a36aab05b36': 1, '0x3ec9a83cd4235cd62455977da80a83fae876ee79': 1, '0x93443071c475f9c38f54979c795473b7a48cf28d': 1, '0x9ae2282c5715717fc786a7a20cd7a84d36dabade': 1, '0xe0c1af3235ecee2c085ead8e918cd394986d2303': 1, '0xddc39dceb6d8fb94d8a9b59cf3bf9a1e7ae19034': 4, '0x9e38355beb5253ab2d8bb2fe4f3db6c01f18d619': 1, '0x58514ada5f7926c99bfcfa4f2f91294598f084f5': 4, '0xb4bd860f00df73559fa73df86ddb644f1a1c4ff3': 1, '0xc044d6b11fc9bf5ad5a190f87912855e24970184': 1, '0x47195d4d9544351a402295224f66a139aff34cfe': 1, '0x2b5b1fffe86302f73e478a0e09d8bf92ec75ffba': 1, '0x85894bee993d08071c0cfad219e6d89fffefacf0': 1, '0x09ccd85a14d132551ef0b069a81bd3f766daaea6': 1, '0xed389a9935c2b9641d53c8de6445e9157a363bc1': 1, '0x2650df0e50e61327381466b5526406d0d4994cc2': 1, '0xc4c68a148ada4ad2d0c7ea6c4eb2f38a22874e94': 1, '0x5a34f25040ba6e12daea0512d4d2a0043ecc9292': 1, '0x94568ffb84d7afb9fdaeca6bf1206a1e8ef59769': 1, '0xc3130f83bdcf5e84f777d58580ce99d811aea108': 1, '0x4955ec78868e90572c7d315a3c22238451fb7923': 1, '0x6901c75858a1403b445fca25a73d83c6ae827e04': 1, '0xfa6ab2d5d070f38292ff9f3de5cb3296bdd1febb': 1, '0xb16a4cc8a24ce7dfd6e517097717aff6fb10c0e7': 1, '0x96973af24f0c278988440f1b8ad5578c9c2b72ff': 1, '0xaf495efb794244a0079c2718e8855ea8ba666bf2': 1, '0x4c5577fbbaf7ce5875902bdadd98c42fea81af5f': 1, '0xd07418d2c5c71d02ad9ebaa0fbee1c63bfd267cf': 2, '0x38832fb6fdc82e148ac99a0e6a82e0071b0cceb7': 1, '0x8c8df0a80eef0606e4767f1fb7a45a53e04ec6ae': 1, '0x8b42304c53603ee0ed3db5b1fdd4d4d0ac9a9cee': 1, '0x7cc4991e1fe5be078d44d62a5dad5d853ae03333': 1, '0x901f02f30eaaa8e0825615f8d7b9071357a72f8d': 1, '0xca1719ed13435c94166c977bce8a2af8b55fac95': 1, '0xc693e51e576431c602cff3dce1610a0b0cb4f946': 1, '0xb1c660a1591914dc22b7f1aa03f9a717802ea319': 1, '0x4c059ccb00e504b4472f8fbb0d2556f165bdbb3b': 1, '0x0e62f01ba53c3756fa25c0535bcb6292459c0b4d': 1, '0x7b8c903d1c496357e02a1002620c45295b3cd488': 1, '0x6b3d634598ac3956e5b9acb11baed5755510b5fd': 1, '0xd9c7cdf09d868467d9f94f885dd68e850e278118': 4, '0xca5ffcdf9f5383931e32aa1c015e7b5d1982b766': 1, '0x25083467cf76e5fb7ce319c043ab49f80399d62d': 1, '0xdfc6a040b5905a3b82d63f19894b9bb8a85a1cba': 1, '0xe65ca2abcd937b62a9963088edd7cade6f6a68eb': 1, '0x88adc97b653350c49017ebd3be968043acea65ed': 1, '0x186706603efa83f26e44fb6f83bb0ef8c165a79f': 1, '0x29c64a258845dcb4ed62d8a819d6c64c1c2510d5': 1, '0x5d6f3d0c92d0564151357b0863e55e9ed4631b8d': 1, '0xc2efdf5557ec647238555dd84bdf9f96cd3e7216': 1, '0x17334759dbc7ec5eff9465f11aaabdad0e7a2ce0': 1, '0x6ba41b4476889dd7bbe9c72d92003546dcb56b71': 1, '0x8d32d75ab6f464eab24ecefead84406ab03bb6f2': 1, '0xaa3e1e9ccb0e6f3a1446d4c50c81b0b40a3d1645': 1, '0x19ed4e86422abb3f2fb0b2ff96587efc2695f175': 1, '0x17d7ad2539b29f2716e9161f05c3f1d402f69b59': 1, '0xe58c90d9a9da8f20755216100a39b6c646cb26e2': 1, '0x115b72c42fa4d48777a26f612a26bdecf3d40b2d': 1, '0xeb699df6eae4c136ce697d49fcbba1d4f98e1b60': 1, '0xd4c7dfeb1a3984f3fcdffbe9d8dbbcb69d6f3368': 1, '0x63c409c9e7dfbc93fb5d74d198501647fcbf5c4a': 1, '0x4a0864cddc15f181603f781f371f0b80329c5db1': 1, '0xe593c335c9c3da29204215c50827f023ec2560b0': 1, '0x9096e4090dc9ea86ddcf6105b267999a05dbf257': 1, '0xbc0e3a344a28ad0ac07e5838af6ecfe8b026e1e1': 2, '0x3427cdef3058b03d05d38530049d95250ec92222': 1, '0x3f7603a81908df662203a3a417597a9354974e0d': 1, '0x6ac85b9d834b51b14a7b0ed849bb5199e04c05c5': 3, '0xfa07f09e12139eba76be36381e2cd44d5dcb9f57': 1, '0x7869daaad47c3b2e733d54a48e5bbf473883b0dc': 1, '0xa5f3dae7c23aa3070f4639e72ee4aad5d62f785e': 1, '0x3c2cfb98e11235a7942760b6355eff4f6dc2e4ef': 1, '0x651c59151cdbc2c0cd0e23d5367fbb37f3e0ac72': 1, '0x0eaf16ee014a08cd3006965f87f74e2e91d162b0': 1, '0xfc346690666b1f3e0b8fa729f94cce64969ed074': 1, '0x27afb31d96ee4fbafcdd0e1972bf3f64f9cf1e66': 1, '0xe86f53d7b29b5a507651edd2c1744154207f622c': 1, '0x29a51fe98c1b070b1dffc314d7fb7f189c12b3d6': 1, '0xe70938e0d785a2207589a33a8ffb4040cccfae9e': 1, '0xc8c87dc3a6eb1774b899bf9570816d39f174e252': 1, '0x117eec859b7652680212c97aaa152a57344bd3c3': 2, '0x938866916af04c200c5b96aca147f7eb21045307': 2, '0xfb633b3fc442032e03126dfed3953ffc3383040d': 1, '0xdc81f90ccdd72ce4239d741a7ed9c16006dce73b': 1, '0x851df320888767b2d2a8d7ba30a0720380028e10': 1, '0xab4a13e3f41076924a86a26c501579d87cbaae77': 1, '0x3870540f4eb428f0085b49260c0606024931fc34': 1, '0x122c2f601a2f47b4ccab68a838213b1036485d68': 1, '0x5133389354528a77b48eb9ce3954f623a6bc0155': 1, '0xa3276e7ab0a162f6a3b5aa6b3089accbaa65d12e': 15, '0x9bd6c203c7982d2279bc3240339a0c010785da4d': 1, '0x24339ce06cc2f30547660ce8564431a309eb975e': 1, '0xbfb8547fb8abfd41ecfb133975fd74a2a77116bb': 1, '0x12de54791044b6fbce2680338e207e5aa18c5aa3': 1, '0x276292b77c30df7d6da80852b9b75be965a2aafd': 1, '0x809f5f2d3e1b9861d963bc6fb36d5da3560f77ea': 1, '0x7bdcb057735391d293c11945c5240434d1d85ead': 1, '0x6f4f77e5e10f715215012e92a57704bca503d323': 1, '0x2a3aa17c2d4c5ecd12c918d4940c5f7482b380ce': 1, '0x831f785989d17e23f68364be06488d6bc51472c5': 2, '0x25726c0d2647afd8acace0be1d71a0511b178ff1': 1, '0x3e894d217e392c72b74feecf25b3f8f43a3d22d3': 1, '0xb7797cb7b4a031c4c1e04ea14824fa5d8d30beed': 1, '0x0ac20f5ec9d21013546279f0e807970e3522774f': 1, '0xe183718f4a2a8cfc7fde85dc0a36cf64e5657a14': 1, '0x747cee0e037a92dac77f17264fce55e844d00dd1': 1, '0x50e3dbe9a80e61f33963523116517cd7b172a73b': 1, '0x7d34759be00a8605666289f381156d710a7929e7': 1, '0x56264fecbcabf5bffccfdfbdb078fef1185d7451': 1, '0x3c6f379b42dbb1438a116ee82ebafba0c5aa5081': 1, '0x404625fc3ec15a5495f2463b8716d1290c2c561f': 1, '0xb8fd76f90d2569a29574c603620aaac70c64f805': 2, '0xa06c7e86cd902fb3b5f690dda9986899f9a19714': 1, '0xe2f453247db35e00e56a5ab83693af6222c61d96': 1, '0x9dc6275ecb3aef7c4cd1c52290e8e9394d69032f': 1, '0x7b1f95b9c01e8b55fbd5b2988e797002a6d3ca42': 1, '0xc5c5b53438a7fc9cddea4f0ded2d12fbf75b6c76': 1, '0xf304928be241aaa4d3bc6b95328300b5691aab9e': 6, '0x5b1c5d0da8409cd37f89bf1a2dc0ca81844c4d88': 1, '0x0deb54499e6b8d186504d467736e36c578f023ed': 1, '0x15a472341a4d925603bbff2d8a4182e908ba55ec': 1, '0xbd0de8b6cf8411097ef54793afafd10929160bd1': 1, '0xd9353d77e35329bf6f609f5f8eccc84dda8d6c5b': 1, '0x4d903d8bcc402523b4b8814b58218a2a519f4faa': 1, '0xbd1f7d88c76a86c60d41bddd4819fae404e7151e': 1, '0xf5d2bc09900aa5ff4e3aae14ede387126707d18f': 1, '0x449b63081d9e0985815e36ff0eefbb886a8095b1': 1, '0xfca399b892f4e8306fc31b312a3399f422976886': 2, '0x223305536ad7a760fbfb43e372653626a2a14468': 1, '0x632484e0411a40ca7f2552defb70605ec3e58676': 1, '0x6a4d843eec758ab7561ad387f7c9e7b6993ab0f2': 1, '0x60b6c90ee835207fe0d82fe7b782e8e58e70d77a': 1, '0xb0d9a472e7e95eec05f8f56b80ca724496913131': 1, '0x7f7b32c998083d66de56602d75bc820b768c721b': 1, '0x8e9f8d2ab2358f2c37e3ade883650c59c7103f3f': 1, '0x7ddf0c8cb0167870bf7cc5368792c93aeeb15430': 1, '0xd8fd9353f0478b06a8343ae4f871e689284ce7af': 2, '0x17f50195be0951bf7c62b675629eb749e078fa71': 1, '0x84bb3ef1b4c82babc43b22c4cf3b7f9f1d24bba3': 1, '0x06d7e41830fcd7ccc073d0f1cd1b875135c78dd0': 1, '0xa543abe0ea61b4bbbca3f402442bda4bf7d45992': 2, '0xd31ad77058043e160e2b545589492a1331197cbf': 1, '0xb9f9855da58379f0639dd8756fbf974a11611015': 1, '0xa7e562b9b726ce34600ce0c6a3dfe46eb46117ba': 1, '0x8715c4722d7b7563191f6fdad8cdb485f7b374aa': 2, '0x07e01419aa31c7efdc4e305073b8b9e6628517a7': 1, '0x637ff77cd8a2e2b5e4e2561c39ddcd98661a83b3': 1, '0x293203c956f18703aabab033307107991c947d1c': 1, '0xd145f93ea8931d73047eb68b346aa98ab0ced7a8': 2, '0xfcf6eb1c0dfb6ace0f25ea2a5432f8c957abb4b2': 1, '0xd11e05240a50e2eedb03e72d4c9c6465bc05f2a4': 2, '0x324566f5fc41f93b40053cc1267a9b3503675b67': 1, '0x7213cd5c2cf4d159392a1f1924214184b4941da3': 1, '0xcff83b89414664146d4bfa17a522c777de299a1b': 1, '0xcccffae442361481439e1a3d67a3bf83a8b6ab96': 1, '0xd62913ccb52b7deb970aae753949c576ddab9f26': 1, '0x58136502be6f834a5fbb300e4ed1fde0d234404e': 1, '0x9e25ed20deaa45568d4bda29a20f4ce07ecf2a60': 1, '0x393ac03108bd2b8c553a435becd8956a0ad15d2b': 1, '0x146a388c1d60aed275caa5598e884b60d985c4ab': 1, '0x9d27db82412cbf6de34cdf06d602a76a48352b7f': 1, '0x583f3a59a01c7b223ea9e8f7724f6481e2da6a9c': 1, '0x746b93c69677cdd7e923ca0171a022589069ac23': 1, '0x5fb06990683e6a57ce9608702454ee55d30fb0d3': 1, '0x9c57d3227c627b8ba33d33297c4d41f5a2a7140b': 1, '0x0d3338ceb3e550f843c8c5167b4c4911b63be781': 1, '0xdb17556feb5f5ac1c227936e870c193eb01d25c8': 1, '0x34f38671e9ffb8464a268752680444feb8139feb': 1, '0xd1127906ab50887f7ff199f9108a82b587801eb9': 1, '0x8b026623923e21045eada54f4b5b73064d5e9d1e': 1, '0xfc66510a543fbab5ab4dadb26d1184d305b31936': 1, '0xe973c289006b9f72acc4c2ec33cc53cddf94291b': 1, '0x289d545e52b97524278f94672d2be8c44eb3f369': 1, '0x3ea4db63654d3e4837fbeab563b6212954a08a22': 2, '0x67d199f08aa71f470c4c8fa79e314e6ea39e53f8': 1, '0x69fbaec4131cb64e9828f7e6fdb7e31fa4a9e230': 1, '0xc44208d9aab9ba0bf8a7cca62927e091f916754b': 1, '0x1002d2164b5c1f5d2ae8b343e58d72b849dd2087': 1, '0xb438830f11820a5e9cdde1363bc49bde2da67f1f': 1, '0x349f71ecb73b5db100b6b5b124e71cfb7b60044d': 1, '0xfb804245e314442768b0336e869029c239b0e4f3': 1, '0x8aef8de06aa03916eccd39d7552c81bbdf269349': 1, '0x2f8cd74b41633b6c859ad2f4bfa92a0b130247ee': 1, '0xe0ed26ceaf7ffc6b883dd6e54777ef14b015e398': 1, '0x9452d07387fefead9fbec9bb38ce0d18eea9ba06': 1, '0x31f8cb03e6a57aff7ad88aefd5b3c80ce35baab8': 1, '0x81dd719fd7efb19d12740b8057c0e363bee35b4a': 3, '0xc815271d90763b0697c82641b6375152d21ed7d3': 1, '0x24c909a7522ea88a9eadc6d3ff006f35ee6189ca': 1, '0xff5ff317987fbb1f0a9e4f32b10cfe7e647d1a69': 1, '0x04f648bb839033bba7c6341529bd7dd6fd6d413e': 1, '0xaab1d26be7c1e24e62ab7a7311e9c9b5d4389d9d': 1, '0x289dd8bf0d5229c5aa4a29bb2c576fa60f4ce71d': 1, '0xd93456bf656436e66a8e0a8835c43a6f59afbb37': 1, '0x3490c1c7b55bb9795483dd68193401a1a8b7c9c1': 1, '0x3e8f7cdf9e8db789fb5cef16c3d40714e6bb9a13': 1, '0x4d3719b39453fade6a902d39f3a0381f1acfdc45': 1, '0x60eb4e52aa24f7c9dc2dc7359e895a2d339dae77': 1, '0xe5c5de838b49c824c47ba55ddb46a76d5b44c40f': 1, '0x3ad400508fb569a69fe73aa70c22ed90428cba7c': 1, '0xed769534f93582d4ccd0b8ea74a044962b8aa0b5': 1, '0x31629df6c4f21c8ee2e36f12f9fbf0a8004bbce2': 1, '0x82a6f1ebad545284c45c4b0d081cdec25b6471c7': 1, '0x8f9f865aafd6487c7ac45a22bbb9278f8fc06d47': 1, '0x9ea2b2307548dacb190ec1341d4354e1a22d8c9f': 1, '0xe060ba6427b7ec4c0cb54ea1c9aaa7eab0f86b5c': 1, '0xe32a89ce1d3b3cae16ceafff98eb7ddb9f6e9a2d': 1, '0xbd52889a4cb198a0e2ce36b52cdf75c4e65875a8': 1, '0x65ae95127c434e8720b3e86485c801f480358f63': 1, '0x4b34e28f9662e837c60be95492946c3973cee66b': 1, '0x0d5367947334dd9ce47f27c406d713bb133db73d': 1, '0xaa27a46998efc1b27b25cd1fb5b88d3b45bc873d': 1, '0x4603d1b07cbed4d68b46ec443fa62cc57e5c9b91': 1, '0x59dcc6b558b3945c57e565e580bce53a808847f6': 1, '0xf2a88c9f592d769d8fc466d77977a7bf204ffae2': 1, '0x09b3890beb83f480837046ecaf9861af2f45279c': 2, '0x289f3b40c5a3fd12732a23b7ba19955a6b1f8ee6': 1, '0x53db06881e8f040190a3778a21bc86a0122793d9': 1, '0x784f5a1684a53e4674e230fe24a05ef9eb41e3e3': 1, '0x9c82b35a23ba4acea56993a6b074d5ffb9d63ade': 1, '0x011bdfea664ece919d895d174f57331460056236': 2, '0xab330d26081a6863f20e3513224015cad0e3b023': 1, '0x66b9af941bc34a4e01381f76a6b6f5fa70c2242d': 1, '0x441c0059dba3a5c22c0d4777889b17d3cc531a2d': 1, '0xfb3e4d54cf1120531f5dd94d51129e60f34a5afd': 1, '0xa83ad4db3821977d1d527328095ecd66e066211f': 1, '0x80ae60a9b1e28133680945e5d7f31d687ff27d00': 1, '0xff33f5653e547a0b54b86b35a45e8b1c9abd1c46': 2, '0xf8d3cb8811ac2d11287225c5699361ab883b5535': 1, '0x6d141a9b6c4f2ed1b25bc2aa99a392f8fa2850ea': 1, '0xf9294a7d2b521f05561755173c76457e3976d1d5': 1, '0x8574b355241d0a7dc2e4c371be8cf33ab3219e67': 1, '0x40cf32c6c2b3031be6836beac16feea18dc1c886': 1, '0x731447cec80526d7088f6ae81a53e87405c08d7e': 1, '0x232ab62b9b9f34c3a42363acd0c7ababb14dd818': 1, '0x94caf0b1159bfb8937ecdd5c6c1da2121d9cd442': 1, '0x173ea57f0501b055ebf5480c6d58a8676c29b607': 1, '0x521e0da4a91b61743689af15ca14bd36bc3f748b': 1, '0x94e4534961bad19f2b4f2107212676b7b9058532': 2, '0x6c0a52a399793fc56101e602a0605b35c2e2e312': 1, '0x25697257c961faf7edcad30f2071fcb7d3c9d910': 1, '0x1dfc0fbfb4defe2b520987531bd89e0621a01b36': 1, '0x379e16ad36ea06663b7a33e5bb697f70b9102456': 1, '0xb1ebc277815f6e9900508de585461f8b1550c523': 1, '0xfb5b40098cdfec1564ae5b94d4deed116b887d08': 1, '0x51242c9a7f7cf6e7f3bbf59207ea9c2577eb0a81': 1, '0x509cfeee72a9b7d0b068123bfdede737edf65a18': 1, '0xd4e0180b9a0b0c8c963472f0c9ff02a6fbffa398': 1, '0x05275affa4b235deacf99e490f3834273c15ea8b': 1, '0x741c02e499c72d2a7fd49ff8cdfeb5775988bac1': 1, '0x989fdfe3ad4f0b386e0fe51dc9209ac0f1274b5a': 1, '0x6ce0191bd2b7613b34c70c44f67bc25883d2a7aa': 1, '0x52e5f9650266a222395d1079079c24e77f946fff': 1, '0x993d8b5eb5f4396ce9f62f0ba126ade3c30b8f09': 1, '0xa141b71cf14f8ceb8fb905165a8955d3dd167d5e': 1, '0x535616f6f349b0af2a6a44d85d5b2dd0f73afd1f': 1, '0x1370a45315152ea465dffaf0661aa8ffab5d94da': 1, '0x3a1a202f0257568ab3abc40695a64b87b0d22df8': 1, '0x995849ea6bf535c4ad3a9ec254b8fad4dc3f1d03': 1, '0xf4a097ce3a4efbd1748b2ef2076813961e4e6fa7': 2, '0x1df85b5e872830b5928fa4f9e8aa7f12bdfc91d8': 1, '0x9aa6e754a9ba094d142dec052a86b360f1b0cdbe': 1, '0x96978619e46439b9657ed3fcc07009c5aaa15074': 1, '0x109ea970dfa1042c4322528b3591b0cf9b2949cb': 1, '0x979bbe57afa352ad5b6ac507136f616cafe26cf7': 1, '0x334c00c880757a0910cc8e6245a70b5869a246dc': 1, '0x9015ed1cda97373518de54e82a9b527900399066': 1, '0x35f040583b6a85370d83c95811823447d3a1d6d7': 1, '0xaca3cf555688f6bd31167ed95687f631a04017f8': 1, '0x5132b874d4f9f4ae9ffd25734517d094bd4aea83': 1, '0xc6f0934bd1f83ed7b6e07872debc85b399ea323d': 2, '0x14d5258427f2661e74a153f1c306786c540dc0a6': 1, '0x7ae37ed0f0051b495f11bbe5750ace9093912ca8': 1, '0xc28f85d6a2cd2252dac06f3db42a17033c4e7791': 1, '0x795f50722cf5ad82f78dda8dc8f7b235332977c3': 1, '0x5ea5793e8e2b26478c6099d7ddae64fc885b62ab': 1, '0x00e9114dbfeb686eb736f78aa481ed0528e200a8': 1, '0xfe94095db34bfbd155b848eb72f098ebe10e0515': 2, '0xa11342111b921b3d03a9bdadabcddd2cef7395e9': 1, '0x8d21e3c8993633546e89cb4a24e5c0a5bc4d97e5': 1, '0x3d292f9668bc1867e5c9d05a604233c6bdff309c': 1, '0xbd366515122cf3034b5bff397bf5af169fb1b0cb': 1, '0x747c5d350ef744350ceac4fb9bda16d76c3ec550': 1, '0x5b6797f19ec0ae29a44c2b1436865a5c021c27c5': 1, '0x56686389d3b6c335f74162fe36a64a95c414215c': 1, '0x0a3e54ae7f9a3b94fd0b55cfff88b64d6b60bd84': 1, '0xa5285f43b3565afa3ab28063de9fc646bce9c7b8': 1, '0x11e474d28550ce67738951381bf23262031fad57': 1, '0xfda3fceafeb0d5d69b149cb6fb8f2e7fd923bfdc': 1, '0xf1cce3699ce58d01ba4a631f99e4bd6e7e25b812': 1, '0xe656b33e4306908a1752787ffcaf16ef13a200a6': 1, '0xa7afb23f88141f6a3eab71b150d4b544a8959238': 1, '0x6bdb320a2bf1fedc96326a061ec6760308765a35': 1, '0xd8d0eea3e2637f5742d9bf9b5262bdb44339dd4a': 1, '0x870da2e8f3ed8f2bff44a5a4280f46980825d2ac': 1, '0xcbbd18d3ac27ab0fffd04bccd091b2802c92e0ca': 1, '0x9b0a93e75df910dbe03030639df07e3f58fad7d3': 1, '0xbf15754dc61f5e552a5c5a51e6b571d567798650': 1, '0xcb2441f534673b0261a10909d1442d1bc959dfb8': 1, '0x0469b82b3028b96bc424e40daf9d30115cdbd913': 1, '0x0003ca24e19c30db588aabb81d55bfcec6e196c4': 1, '0x2b8a3e5a0952acff20c17b3d0274410368f140eb': 1, '0x576ae2dadaac088c135fe8bb3b256773663b0e58': 1, '0x6f9bb7e454f5b3eb2310343f0e99269dc2bb8a1d': 1, '0xcaf5fabbd6cc02a12b6cdcc29938e73cf103e6df': 1, '0x87e05febe473991f019d02fe8d37d97e01c31c7b': 1, '0x854235f59539ccd4769a9301189ad6729dc6b813': 1, '0x1dfb4f69bae1a652633d930e2993daa54da59d83': 1, '0x8140b5d041490a706da799dd295dbb251b3fbc7a': 1, '0x4a7998df2cd16815271bb6b7d3ae7eb30f50a73a': 1, '0xfaf5f461290662a0ac3f58aff3514d99e76e2ad9': 1, '0x8be62d58e5044458ebfbc422e9caa769870249a0': 1, '0x0a1fe60b1d27f7fbe17ace3fc9f3deb30766257a': 1, '0xc95932d5a11ecb8eb776ee4ef062888008e9b84d': 1, '0x269c8c68b8331afeb83f95cb700a7eedb9c42088': 1, '0x7bef3ff76f3e94bc2e70d1de65cdcbff10abcf93': 1, '0x7d4f9180d7369058cdb481f085f36ffaf2e98e2c': 1, '0x41c6bd5e7edf3f185d798df16aaf5c464df6b692': 1, '0xc65328a9e842f22643332733a479fd63f179ab4d': 2, '0x4b3b4291dd6a8372ed98cff23237a85edd73eaf2': 1, '0x55cffd4e7d43ab3a1dc3dc5b071169ffb8e1c97c': 1, '0x27ef977bc447ad3451e41327abdb60ff7f1100e0': 1, '0x9c5e6c77d43579329ede04b8941b256efc11eb5f': 1, '0x7eb8635efb980d5f2200852d54860a539938ab4d': 1, '0x0c499fd8f77301c88c70de60c697470b771c53d3': 1, '0xf748879edbe8cca140940788163d7be4d2a2e46a': 2, '0xb5ed96f48b90c954ec5c75b10849edb301113f2b': 1, '0xb5164ebccb7800ce5d00922e609eb3e20717e0e4': 1, '0x25b011cbe1a945d002a99991ea144736f30a804c': 1, '0x6852382a87231d6c1fd984271b32fe0e039d7991': 1, '0x1db4c9abecd9c0ef24e21113fba8101e53e24805': 1, '0x75f21efaa80bd8fb692a5c5113f5f3c56efbd278': 1, '0x3d6f35532f252b84efb1a5e3fd93e4e11672e42d': 1, '0xa78efed06306936506a32fa892c086a94f5c4db7': 2, '0x2c261a95284a7f3df6311be407e769ff93540a1f': 1, '0xf811d1aad30dc0ff98970320884843c2e40c41e0': 1, '0x71c869058f9d791eee938641d0817f6bfcd0f3aa': 1, '0x1819eba4f13d2693756d38acf8d3e9aabbd8fdb5': 2, '0xb69b933c88c37037c1f989bc63d9fcb2bdeb93f7': 1, '0xfe3829c226fa603399f348ab7ca09a3dfff0576a': 1, '0x10bad7846a68f214df883d6a682d2e9bdd1d4c51': 1, '0x25338ea861773cfff821da25b693d15d8233da5b': 1, '0x7a0e2616046b897ba7290a25288145b8e3ac6daf': 2, '0xe6685469d89ef1d9ced5d9a050ef38dfbb39ad5a': 1, '0xc972a4ba4b10555171f2c08f185e05571e129cd7': 1, '0x369e32aed1dc5c33c85ab20977fb645a803e4a70': 1, '0x5356df73b293bd9c6e8efd22c99833391ef8821a': 1, '0x4e6803822506449ef20c214660c9731e3bd79db3': 2, '0x51018972e0ad6703aa563e43ef11a1bf1ee0ed0e': 1, '0x4e58b97ce2c9a687ff6df2ba7f8f7217ad44327d': 1, '0x6afcd05c6ec4c0ce3f16bbf4c472a77472e15a03': 1, '0x14ecd6919532f63a62e4720e7cf09c57cf8413f1': 1, '0x2b7ed5fe15238a8aec9f6f231b7b24fa7ee7a474': 1, '0x12946114f9614df0feed30769f3a99dbaa4f6ba5': 1, '0xefac7513e601c3ce309810588f65ca78d3de22e9': 1, '0x329e20ffc2e15209d36ad22ca6d9070160337ce0': 1, '0xfc22875f01ffed27d6477983626e369844ff954c': 1, '0xda9693c7e8e973fa8ba25e814336a5853f680dc3': 1, '0xd0e30c4a3d094387fc8a32505c472d2ec547f773': 1, '0x95383d2beff0df0a6dc2c8957f0066ad8172be53': 1, '0xc53c361bfdbb4a22846319063eb35feb457d68ce': 1, '0x75572f3ef32b8e3ffc6c7033917fdc8f7a82dd3a': 1, '0x3ec52292aef4039bcbf00cc10d0dcc4c05676141': 1, '0xc097c73f56cffb89eb9e2536f209e47ae9b1fbbf': 1, '0x49ffad1628b1506a3304d1ce28ca62f05fc45656': 1, '0xaa01fe11645f849d7e9cc7024fa705bb9932fbb9': 1, '0x6bc5d6622c801fca4c3f2818787b8a16c4c27c32': 1, '0x8f4280d09bed3a7d1056b7bfd0e930c416354cc1': 1, '0x8cb414df6a05c39adf36f82c162212295caf8382': 1, '0x8ca44262319702777a26f4da8478d8913312e25c': 1, '0xc9348dcaef652791033a22f79a2024363e23d32b': 1, '0x3acb5eaecfab99d01e86f7068ae7b90479fb50e9': 1, '0x0f2b8ae99889af741202bcd94a619a4f67f8dc37': 1, '0xe1018dd3e8964d19882656255a55c2ea0174ecb7': 1, '0x0203685e2b35a8d1f50d434478294cd8d4e1193a': 1, '0xa296cfa7c1752204cbdda37b5ed058e46309821d': 1, '0xbb8c7665dd6785f0274c67e2b8d2448139b3c77d': 1, '0x9ca3fc0c46ef1ad52c7ddc836606370e912f40e5': 1, '0xfdf9172a342f41e6a3218da51b66b52567738e6a': 1, '0x5516da32cb8639645b2eae05cf688b33a1ca5357': 1, '0x4e1f994c4c5c7c7e57dbec32018bd827dd869d1d': 2, '0x0d79b5962a5781a165bb633f15a1426f4673bd42': 1, '0x2d3c7facb0e2977eac87b8c56c12066e72eb199f': 1, '0x8997023f133edfb50af47e950fe38f7601166e78': 1, '0x48981a5b8de2caaebe0532af885d111de8199d54': 1, '0x128b1dec802ddf81681e3d6f113bd83dd852311e': 1, '0x01401ede19c4beeb2ea70043493695646023d0dc': 1, '0xf4b2cebc6dd18db114c08c2b187a781f2587ef83': 1, '0xa494af4c90ef8642d384c1024357cbf6ff6af836': 1, '0xf0a0c775891ac18e74be5a18ee3649b41d8228c1': 1, '0xe4b1572e838d0af1aa6e8dbeb8a418df6df296db': 1, '0x7fca90ff9021175ba65a93669a2698b456f4a4f6': 1, '0x2e4614719dee9ab9ef8a5f742ea0b0237fa66ef2': 1, '0x7a4fa265d0113fc23ededf3fc9046fe2d057a75e': 2, '0xae97f9182c38c8913b1a643d3a03aec3d2f742e4': 1, '0x6c6f1dc3831b949630f009c43f74ef126742ad91': 1, '0x44bcc8d4ef88d481d9e4bd5fd68fe73e1dc6f4a6': 1, '0x03ab3cad2546464bdf77ef7065f7c078e0bcb9fb': 1, '0x40a77d1ce5675982056316a86accc2e76ca2d7ed': 1, '0x02304d460e9074e82e5efd18e483422033f488a4': 2, '0x272e19152096b6adb4f79afd1bfa6f97a246c657': 1, '0xe5c29f92e742e9ac213f2737dbe1beb6ab259832': 1, '0xe7bfe9b78d32469796deb029b2bea3d68773aec4': 1, '0x3d0d7f8720a02cfc9fee5dc7dc08181303a6ed86': 1, '0x46b348108de9e4e3e3384b3e3569bb926f2eae0b': 1, '0x01f6ffc227b5a0a45aa8268cdb6c515db565c4bf': 1, '0x543ca97fc05f330ef2b3dfef017c539c87db606f': 1, '0xfbf0600647574e65854755026f48d8a78226ef52': 1, '0x6477f5aba56e032645f2760ece3e76db0194059b': 1, '0x50fda0a43d6770a927ebe2909fce1cdcba417801': 1, '0x286686d774e031106ea5768ef5249267faba267c': 1, '0x34a559e899b2512fda615ea415ac8d68fad404de': 1, '0x201c10fc2159f7ab8a38a0262137a27cf6d0cf35': 1, '0xcfe14e771973e4803e5cc9d7fe35541e883fc096': 1, '0x938898ccaf594980adfcf7235772b23b5a1e9826': 1, '0xf2cfd7bac654986e98e46fd3790156cc3428aa7e': 1, '0xae6d0575341aaed989378ab015a7b06b4ce039dd': 1, '0x015df768ec74575220ae993d84dd03b9f6ead253': 1, '0x1b9b40975d6d64852d6de3a5b0cf795cc9e03f8d': 1, '0x9e90072ed332b32919e90fd2581057cc454274f2': 1, '0x97b554a93fbd097fda4b32a04de486ed124986f7': 1, '0xed093fca388c1fc8ccc77c512ed167b2684e7966': 1, '0xdeaf01dc1259e884581c98516f3e7bcdbb1c3e54': 1, '0xcadfc511af54e841efdd8bf235637e58962a7a15': 2, '0x1aeff0b3471785f24a5b06a01370b17565bde957': 1, '0x7e37bf79394063341e0d227faa5fa7b793ceaf6b': 1, '0x0616e02d2492e33aba850b9a83cfd379169c00be': 1, '0x99830a83049daff3f86fdc01526cc8e692d43791': 1, '0x1d2f8a45ff6244f43079d116fe70c304b1d51d3f': 1, '0xbbd6f97ead004d61a96e846f22dd2e3fa9e4f698': 1, '0xc4e24959c05de73a01b1f27db3078da1c50c53d1': 1, '0x4967335b170ae862bcaf1d4fdfe4499b5f366c21': 1, '0xef2f7a12fbe834c628f5e630ac48e8e26442e3bc': 1, '0xf3fc8a3863a84c4af78fdddee85159b263acdf22': 1, '0xdab9541889a29c9127c3ba3fbf42b4ae83778a70': 1, '0x0bffeb711f7bdb3c4b9dc9b05c8ac1902507065f': 2, '0xc90d8a29b726b338a8082ded0d6e24b5fd27d627': 1, '0xac88f263b2d3f75370154092398d1572864e6220': 1, '0x50dd68b7a7dbfc4be1c7372cc4f8c11842b95b7d': 1, '0xd8393f55d4b2a2d235c7b375b6cc1bfe32510e7b': 1, '0x2e465ddca6d2c6c81ce6f260ab13148d43e93371': 1, '0xd45d0eb21cb9dbf86012cbd574fb66d1a2c6d800': 1, '0x61590afb7e2c612ef8c441356ee82db8cd90a5d6': 1, '0xd2fc8629c13dfce97b35e32a4c62a5fee3ceb962': 1, '0x832b6a1c62049878459a6fa1ab15c897960d8d2c': 1, '0xb518c6e08769cd10eb5d30e5ee2581b87f98dc4c': 1, '0xd11eb5db7cfbb9ecae4b62e71ec0a461f6baf669': 1, '0xe5de46a6ab14c6f53e27106696b6e888f4214b4b': 1, '0x44562cca4dd87987703d251dafc232867f007b7b': 1, '0x6ea71ff581c47411a9bad360a0ac88c6b4f90b27': 1, '0xe3bcee372ed493121e88b4a0e6a118e0868ebbaf': 1, '0x8504de3a10fe6aa1b6217de041e669a29fec1b79': 1, '0x25062fa1ebdccaf85a0c63904ffd72311561f509': 1, '0xff4f31ce3b58a706c70834b7176a5aca917fa74f': 1, '0xcfc0977d1946f0ef097fbc7ac6388be6284a64e6': 1, '0x4cae5bed586f6e73ae54ebd40a4ac4ed2c477c34': 1, '0x876242ff7a681cb5fc1a3861248ddbd9e8992211': 1, '0x7c0264f26c356eb647341f3f184c31833bede4be': 1, '0x510b15abd7078878141a5a49b0ee246c8aee6712': 1, '0xa6e3960a7464cdac19caf90386e6cacda337448f': 1, '0x4340457b82bbee6908f64e8509be991a8c230773': 1, '0x9af85a1b79e85e8cf48b3e44543eb048a37b6d90': 1, '0x2bb8c3d32f4ab233b91be83fd7fcaedb085d4330': 1, '0x9eb9bd0e9a1fb4a4da715928bce50f4fe5b8288f': 1, '0x61fa28f257eef3f7c120948dceb28a67b682b15a': 1, '0xa4a3d2477211108c931f099c90406f295e41a4ea': 1, '0x7599a0a49b7723050a3e2469f8bed1674ffba7e4': 1, '0x722e54cbdb3ea1a08643c344cd47c57c57414767': 2, '0x5e6137c3459fea05a7d8f104c2ccfc3fc99c01b0': 1, '0xf2efc7b78168abc6a5be99e5624c64f2499d91fc': 1, '0xa37149b6db89dbcc24a805d559754b5aff302115': 1, '0x7fa7d0212ac64b48efaf62055b9d2d274d14403f': 1, '0xe4e9d5a2d831578e1cd630982efb7bd38cc9a0ba': 1, '0x6c615cb1e310d0909698ef4992958d849bf4a45c': 1, '0xfaa779cc3d28caa7a65ea57e172c19c2e60bb8d5': 1, '0x8d632dfc2454d624910fe982e85a5b15d2ae93c5': 4, '0xcf2c026fd07c704dd1da1be2113a30f706da456e': 2, '0x201b0ea27717c02b67e2802f80bb1a4b3cdc9a85': 1, '0xa158031686857e84b10ca7287a57c12187a009cb': 1, '0x9ba988a90a871de943a63ab416f5d9c89fde58c4': 1, '0x921977580a69dfa0a2b36ccdc407f8d565f9ae84': 1, '0x53aaf2078b08b9cfed09e812fb9c0175fbbe2217': 1, '0xd19d293a576156c142eb36e5182de39020f9502a': 1, '0x5d7ab46fb3e00fb3baf7a91a6235c7b41a888581': 1, '0x20132ca5fbff8cf3071347deb9e6118fa8d79e94': 1, '0x83a98561e6e5c5ad7b6a13de06dcf2f30ed9d41b': 1, '0x8faba38edd4dd7cb115a0ab17b45d09a9f62b544': 1, '0xadc7fc1e06ec29993db24fc640924a12a9e61e4e': 1, '0x429485d43153fb8944a9eafe6b529d68218487f2': 1, '0x65c66d701653969aa7dba427a3ecbece2d9e1784': 1, '0xc53ff68f109412e033743e0252075d613592da0f': 1, '0x7bdca7dacc2fb394b76a07e2f4f502892f7032af': 1, '0xace4c8daa11b8d3eec5012b734e7a010f1808d34': 1, '0x6f583a3dc1176a7858c49459a215106fb21dd339': 1, '0x587ad78d0252afd72b948621477c9ead746a533a': 1, '0x585bcb5959f11c59e99ddb685dffd93752e9f294': 1, '0xaa1b0e21b455d54b3bc09aff398c02266c482832': 1, '0x4b1c684dc4ad3c77cbaae5f16051c269b79116d2': 1, '0x70db555793aa934fdec2b59d68ae904fa5715e70': 1, '0xbe7eb2a7a9c949322f6ccaa1c857fc227fb14ced': 1, '0x8b8ef01f391ece3dc17d26306c7d28dd6a26d332': 1, '0xae78870270477bfb7a2c7e42ab57097809787c41': 1, '0xdfbe2a3f1a1aa42f6bdadc0de1f9bdf9cd0cf8c8': 1, '0xb192fc5da0834e0cdc1014a7214f137d288567e5': 1, '0x1fdf64a7e784e352b9d92e301d050bc29fa32e02': 1, '0x9465be6ca4d27860937ae8d9bd4749c58141f078': 1, '0x38791dee0f8112e93772db20ab3e8276a220f6ef': 1, '0x73cd627c3d6ad8e64c18d48396379db52d5792b5': 1, '0xebc391ba182f6d8654a516a44e382cf9c9196831': 2, '0xc36157756ea4838cf882edab9dd94325c38f2edc': 1, '0x4786c6690904cbee4a6c2b5673bfa90be8abadab': 1, '0xd738e0d74e190b20d5eda6f0f23f65c6d925bf24': 1, '0x11b1785d9ac81480c03210e89f1508c8c115888e': 1, '0x4314a35ace19c1ebd5a65fa076bd645ec56402b8': 1, '0xfcf4fda602266d74f303180283289ca767dc9b57': 1, '0x200e2d23fe91216848b80555b2dd105daa410027': 1, '0xb1ac9db0d6a1ec291f427ad03fc3b632e1e93a56': 1, '0x54aad59c6be79ce8bfd8ae8bdb8ac0222949e269': 1, '0x3add634d5b67c1ce4d3b7af6967d36ad18d62eb6': 1, '0x41c33b0c8331e9c0336accdf0198231785b26294': 1, '0x67e49253fa1b5be38265331ee987974804fcf6ec': 2, '0x45874192929530cd4e3dd0624df05bee3c13974f': 3, '0x655ab4b2c31eaffdde8ab6baf3f247e4245dac11': 1, '0x0b751463e07d90f465573d3b5dd45e1afafd4cd0': 1, '0x2fc273733ad89c7627ba8e487709e85eda4ae442': 1, '0x9e8ee22b82f2e5c2696c7c896297afa03d17371c': 1, '0xbeea300b3707b79e9c4733c06b0699865349a67c': 1, '0x2fcfdd74d105276b78c34fbb52e16b1e6b0589a3': 1, '0xcc0973b9ae5b8d547fef4a1ae663849d8181599a': 1, '0x2e52e092ae055d2ffd324dd4510b2afb0aba7d3d': 1, '0x530c089612e76ba209f7a318359657c8e55ff18a': 1, '0x0dd063ecef2a6fa4e3c25cca22331db11ea47f7e': 1, '0x2ff13e6504735c9ae0d4f3ebf4bb4f6839dcae44': 1, '0xbdc6e3b66019f0db3d833091a46b4e616fe3e390': 1, '0x648f04fc74a959385ae6596f099436124bd8cac5': 1, '0x9a26c2274a8d6c69318a4e7e5da78c6d41b18246': 1, '0xb8f0f81df338338a2672f58e90c2f4b5e45ffacc': 1, '0xbd9ee204274b036202914c576047abe5ded78492': 1, '0xce56bde187281911da949aeed6b67f4243263d25': 1, '0x71916e5a77bd9fde0a18f5a6a62a31756534d53c': 1, '0xf53ef1fc11d93c322ecf9402452802f4616eb3cb': 1, '0xe3550357aa389bb6f78a7fdaae0df43e2a1080b7': 1, '0x41bc515508b30ce259e94da6799d0ccfb01c0246': 1, '0x6fb850a63ec03eb6c9b3a5f0c247deb1fc0eddd3': 1, '0xc6be76335161d48cd4254e5c81edefb623fe5ccc': 1, '0xeb066d2bb1c1ddb5bec6e7f7a08f22e4d73241eb': 1, '0x15c417eeb47edcef5689eabeec3443666e30209c': 1, '0x7eb692f22af33d637aab31f9277653235682ebe6': 1, '0x553663e10298bfd82af60b6783d12613d046378b': 1, '0x38ef64162b682703ceb0e425827958e9f5db02c1': 1, '0xcd763458cf4b36124b05e07dfaaf13f5159614ae': 1, '0xc7272ac8ee1ec4dc4028f907c8fcc893383bee62': 1, '0x4b0a270fa26ae39168953bd0c10fab89e3aa2494': 1, '0xb07a2e907c45f79fe48b36d2d34ebccebfcbfe1a': 1, '0x192c635b3b1cb8e4bd46cf7c66ab06a62b83ff4b': 1, '0x48b5687f0595e2a4d581dc72305fbae214345d07': 2, '0x8035045ed2244b6008ea6c30f0633bd1f5aa86d8': 1, '0x66a675837c9779fdfa64fd96020b2de3e092350f': 1, '0xeb9095aa1bd6eaa120aa720bb9374becbec7b990': 1, '0x8f743fac7beb2cb579443475a981b524b3481614': 1, '0x37c6503732e8c8b9af50bd3755c3530f6b032dfd': 1, '0x25c54bc2fa1e05e20ad8b720a2488eee91fafa5f': 1, '0x3f2eeb69778671883c912581cff39d93880b9064': 1, '0x09f7e3f5cf0b3699d6fe4a7dc0c7db62d3d7d45f': 1, '0x00df1a072e66eae444af0756abd65f667b9aeb39': 1, '0x63e0e8a3a9c59141843cc26e5433507b8a835999': 1, '0xa802310a31b1f5c8165f9ec099989bae7a1dfe53': 1, '0x4783ee7e180b85d2a9bf3f0971ab234fd84f3150': 1, '0x9720c9361bce8787a6488d8b66b9c15b3ce51985': 1, '0xcccfde9aa1ee48eea089375689d95428132abef2': 1, '0x2057cbf2332ab2697a52b8dbc85756535d577e32': 1, '0xe9bd415d5d543b5d4fe12ac2baa52cd9ca026f46': 1, '0x2b61aa4c47d2b1b3f1e740e595dcd5ef96b756c4': 1, '0x4f8ff07e16af4bc3919bbc12105ffbcbb87f4ffd': 1, '0xb85aa6814f988a7fbc8f4d308ef528f5f00d6d85': 1, '0xb393ff3cd1f70fecf9cf8b67f27780fbea0d084f': 1, '0x27ac40b9198659ce99eef1890d853a40560c9425': 2, '0x8696a6844e8a091d99be417e3d995256bd7e575c': 1, '0x19da1ebbf20c632759dded680b52f98fe87809d8': 1, '0x3a5a93fb01a4bbfa3fc87398f100e4a00a167996': 1, '0xa42a636412b6f38d0d490c50aba3cef7afb7ebbe': 1, '0xdf1aefb979d180b4d67cca9abb4c5108c89dc8a4': 1, '0x43bc8535b3a55272c522e98930fd9c42168c9de7': 1, '0x8d3fcb47d022b6f6545b0dafb7a683be94bb84a3': 1, '0x9be21869873221cac1ba391a630b49d0d07a3e42': 1, '0xa92bd8c16ae3266cf3b80ba0152735e9a8460ce7': 1, '0xe00a7208ea3fdb63f9e8fd0e4bb1473d29c2b85b': 1, '0x0b010b0152ae2bb7b251c7ebd7d2173db9141ee2': 1, '0x68551b6d5232f3fdc547cdb6c62952a7ac61cb4e': 1, '0xb90a59f77315f6ffa221e3320dacfbe32d72487c': 1, '0xc6f292c074e40094f1ef0fe2c3cb8a2842e3fcab': 1, '0xecb040f56bbf1a008b2122d0116ea4d8c9184e78': 1, '0x41fa7ef9e3dd14c5f6bb59a604ffb64768801fab': 1, '0x2df4e250c8a51998a270307856b1b808d2714adb': 1, '0xb511323942ffda3cf5f76d4313f6669188e30646': 1, '0x0f278c56b52b4c0e2a69b30a0b591d237c783907': 2, '0xb52f9fd3620648716a99e95df6ea33dcd490f052': 1, '0x0097bc49e4c33eae61d5b3b661da92f1f9e2af21': 1, '0x7d4f34f0f305b65c0d89ae55fa57ff6015f0fcc5': 1, '0x4d67938e9b07681526fe0345a45b770bba88c659': 1, '0x286208525fa811bcfd4497c0b61a4c2c0ea402f7': 1, '0xe6cbdf9ac8d24206a7edf4f64bdce22afd2da524': 1, '0x43d4a8a224a77b4fd1f9f205062ba718964b32f2': 1, '0x48f88a8d8e4a9dff33c0a4d857a81a189c2d6e07': 1, '0xcf415316548184a5ddb9328ba6c7a8891a7f6e1b': 1, '0x2264a9080296f3968bee58b13f0dff3d95b13fb9': 1, '0x2aef7703cec89dfa6a08222d79d5fb6cba9a54dc': 1, '0xae68e37846b013f87b34b906a124d0658bff01e6': 1, '0xe0d7acd1eed0ac33717a6785bad9e62c9cb5d218': 1, '0xb8df111ed4c8f1a651eec6a363d775004cb5ec0c': 1, '0x755d5885d99b53b8f0ac7a8d8795ccd6ad723f00': 1, '0x9ffbc95ee8408f03a706a6177c8d6097c7894f25': 1, '0x23579c4df93e1acb650d9edb60c247e4241fa075': 1, '0x306cb31aec1d7f5e0176f81ddd4c6bfc6587a5e6': 1, '0x8ff43bfd449ad3f508f4a4b98d24c99b8cb5ff9d': 1, '0x29d9805f44820446de090a23f3ea78d346b6dd3a': 1, '0x80a2330b6bbc655cb52fb7baae05c0dd45880f8f': 1, '0x56e279f0241ac955e35f23457e1461ee7331487e': 1, '0x274ac37d326a40698e332bca9e460f90376afb33': 1, '0x8e4a3da54ed057e964653608a4454bfe51c54c77': 1, '0x74155961b66041a8cffb4aa8a16864e76b0f3f68': 1, '0x57618d5c17abac913bca8a032f35aeb2410f3a35': 1, '0x7b1272c3202aef6eb069ee88cbec8106102d26da': 1, '0x11d56dc8e968ad7dc44818c241ec998ae85ff8b9': 1, '0xfac7fa34170cd2d34710069d8baf4e911f9f9ae7': 1, '0x4a6c6f84fc66262e0d3b0b35b448cbccc8898ebd': 1, '0xb3e2fe4e6673709613c22c63d3d7326f3bfa15cc': 1, '0x2af8338bba652ecdaa6da2c46acc6e1bcd9b5e2f': 1, '0x4f41b8f207e679ebd989f7bcefebdb74323792ed': 1, '0x22b717278ffcd370bc6b9b9c4e7202419bb7b445': 1, '0x0482e55b2ad9ed32486cdf1ffb15396692ed7c9b': 1, '0xa7123e73b56d8f82242f8f81387d08306ebba69e': 1, '0xae563f19946883624897e3674b263726921218e0': 1, '0xf5d75cd3e2d87357d7b9c7dcc09ca7add6409fcf': 1, '0x2cf48f3be45d1786e74b88b7d33b0f6418df9ee2': 1, '0x9ec9571fa901b5c8270e40f553ba6ac2671d6844': 1, '0x4248b89d9d4696d8c4f77f1e1ca8cee80f1b6e24': 1, '0x950d8f1e2e0ec438573a9540ca6f74913df0aeb1': 1, '0x8ed9245a00d1f1edc664f32c33c3115f5b2c9a90': 1, '0xf17973c25aeed5beaeeae798461afbd0a7869f6a': 1, '0x0c2e4500bc3d7928b0d5825daafc300baab3a953': 1, '0x66f936dd2a3cea2c84a03098f056315f568137dc': 1, '0xff5911f2861f78afbb6aa8429017a140ebee2d30': 1, '0xc6bf41b2273a840a9db867ef4dad463b5635dcd3': 2, '0x8ea87bc8389b35d2e5a38950555316be2740ff16': 1, '0x84e9fc30b2e9ced2bee65ee98c145483b1038b7d': 1, '0x64e8d8c40e14fa6e9f0c2b1c4160494e78c151c6': 1, '0x87c000d26f987fbe3adc318bf029b5d88ffc325e': 1, '0xcf1c836602a63eeb0cd9ca7a885e9ee31fd93a74': 1, '0xa911ccf5f6c7bd5fb25188d41a536890c3c8fae5': 1, '0x7529c49e254adfc0c2dff85eee12dc889f83828e': 1, '0x06e39726f061aad48e60206f4a85a52b7b76870d': 1, '0x9e84244a68e7581c45b0c02adfe6a514ee3f7573': 1, '0x0c90a9d2b0f573c21c499ddac720e2c6e2899f7c': 1, '0x77299cf68685b96a529d392c7d8edfc94cbdcc15': 1, '0x1b17e906edc0af2f658419bbea4a39a10506886e': 1, '0x52d4d46e28dc72b1cef2cb8eb5ec75dd12bc4df3': 1, '0x9d9bb109d2fd190ce0dca0c445c881b18f2c7a27': 1, '0xcee87b725581b494b6b741105f8a4acba80082da': 1, '0xf96d8e9723861308cc41e15f71e86df79d70e558': 1, '0xae3f573d998e395cee3bc6c1fa713b06d72a3de4': 1, '0x0d410413e19064e6d2d812acc5042a89d58078b3': 1, '0x7efac8a02650396cdc162a8d989fa2edd87b2a13': 1, '0x57a1130acd5976f02b5eb44bd4ea460ead550834': 1, '0x49703c216b34276118751006189dca2eed891182': 1, '0x694b349123811287194ac5b746b0aead89464aa0': 1, '0x17dcb5393ca1d2080262818156e519f9b9da847a': 1, '0x00921ca881e2862ad04adaa4417f8076af9c14ff': 1, '0x0e7b9b47f59d703f9207142699cbc2efd995b9f1': 1, '0x9327775e225a703125167eb423d246915bdc37e7': 1, '0xcab956f8cee02f739356ee5f88feb19a2b53485d': 1, '0x03b76647464cf57255f20289d2501417a5ec457e': 1, '0x1bd3ca8ed858c3c238f92a35b3103cb1a11aee11': 1, '0x2e0d63ffcb08ea20ff3acdbb72dfec97343885d2': 1, '0x009ff6f18fe6a292b5247c8463947b665651a03e': 1, '0x8d0bc45e0361819d294bb74a4a119bf35916f994': 1, '0xf6349d0f633dc74d57ce27ea5ddd995f8a2a6a3e': 1, '0x931179c9530bad447085c060d7698b4c12777c47': 1, '0x5893ca468afbfe07fd3286870331e9029a138772': 1, '0x34cadf09dbf50a39d1a68b87d7763db3961ef483': 2, '0xa5b4cfb07f5e2ffe3fbe386798bbccc171b1706c': 1, '0x4e1ffc7b919bda65466ec3a6b498300ab417b00e': 1, '0x18b057cc9cb49a8948227c96b021899ce9d271e8': 1, '0xacd403d685424b20cf0971348ed823833915b56c': 1, '0x7c8eba6df6115d4c9a84e83f77b7e6bb9d266c2a': 1, '0x3e33ed0c6bc56511d7ef749b608a8cdf19c1b49b': 1, '0x42b11941ce5f54b1a15d7ab461ec8734134998cb': 1, '0x147e0980483f71a235521335a3ef79338ca11d28': 1, '0xbfc11138f08141b0015bc2e92f90f40519e9f64d': 1})"
     },
     "execution_count": 8,
     "metadata": {},
     "output_type": "execute_result"
    }
   ],
   "source": [
    "nx.degree(G)"
   ]
  },
  {
   "cell_type": "markdown",
   "metadata": {},
   "source": []
  },
  {
   "cell_type": "markdown",
   "metadata": {},
   "source": [
    "## 3 - Explore\n",
    "1. block number and block time are interchangable measurement of time, but a more crose measure of action timestep. Namely if two transaction happpens in the same block, it will be represented with the same block number and block time, and the actual order of how they happen as unknown in the Graph's framework (futher detail might be searchable in projets like Ether Scan)\n",
    "\n",
    "2. event time is NOT unique either\n",
    "\n",
    "3. "
   ]
  },
  {
   "cell_type": "markdown",
   "metadata": {},
   "source": [
    "### 3.1 Block number"
   ]
  },
  {
   "cell_type": "code",
   "execution_count": null,
   "metadata": {},
   "outputs": [],
   "source": [
    "df.sort_values('blockNumber')\n",
    "\n",
    "#search for duplicate\n",
    "df2 = df[['blockNumber','blockTime']]\n",
    "df2[df2.duplicated()]\n",
    "\n",
    "#examine duplicate\n",
    "df.loc[[203, 812,949]]\n",
    "df[df.blockNumber == '11520282']\n",
    "df[df.blockNumber == '11727669']\n",
    "df[df.blockNumber == '11727669']\n",
    "\n",
    "#small number of indexer, and relatively large number of delegators\n",
    "df.delegator.nunique()\n",
    "df.id.nunique()\n",
    "\n",
    "#block numbers are string, to plot and order need to be cast into integers\n",
    "type(df.blockNumber[0])\n",
    "df.blockNumber.plot()"
   ]
  },
  {
   "cell_type": "code",
   "execution_count": null,
   "metadata": {},
   "outputs": [],
   "source": [
    "(df2.eventTime.nunique(), df2.blockTime.nunique())"
   ]
  },
  {
   "cell_type": "markdown",
   "metadata": {},
   "source": [
    "### 3.2 unique delegator and indexer"
   ]
  },
  {
   "cell_type": "code",
   "execution_count": null,
   "metadata": {},
   "outputs": [],
   "source": [
    "df2[\"inde_del\"] = df2[\"indexer\"] + df2[\"delegator\"]\n",
    "df2['inde_del'].nunique()\n",
    "df2[df2.inde_del.duplicated()]"
   ]
  },
  {
   "cell_type": "code",
   "execution_count": null,
   "metadata": {},
   "outputs": [],
   "source": []
  },
  {
   "cell_type": "code",
   "execution_count": null,
   "metadata": {
    "collapsed": true,
    "jupyter": {
     "outputs_hidden": true
    },
    "tags": []
   },
   "outputs": [],
   "source": [
    "\n",
    "r = requests.post(url, json={'query': query})\n",
    "print(r.status_code)\n",
    "print(r.text)"
   ]
  },
  {
   "cell_type": "code",
   "execution_count": null,
   "metadata": {},
   "outputs": [],
   "source": []
  },
  {
   "cell_type": "code",
   "execution_count": null,
   "metadata": {},
   "outputs": [],
   "source": []
  },
  {
   "cell_type": "code",
   "execution_count": null,
   "metadata": {},
   "outputs": [],
   "source": [
    "len(df)"
   ]
  },
  {
   "cell_type": "code",
   "execution_count": null,
   "metadata": {},
   "outputs": [],
   "source": []
  },
  {
   "cell_type": "code",
   "execution_count": null,
   "metadata": {},
   "outputs": [],
   "source": []
  },
  {
   "cell_type": "code",
   "execution_count": null,
   "metadata": {},
   "outputs": [],
   "source": []
  },
  {
   "cell_type": "code",
   "execution_count": null,
   "metadata": {},
   "outputs": [],
   "source": []
  },
  {
   "cell_type": "code",
   "execution_count": null,
   "metadata": {},
   "outputs": [],
   "source": []
  },
  {
   "cell_type": "code",
   "execution_count": null,
   "metadata": {},
   "outputs": [],
   "source": []
  },
  {
   "cell_type": "code",
   "execution_count": null,
   "metadata": {},
   "outputs": [],
   "source": []
  },
  {
   "cell_type": "markdown",
   "metadata": {},
   "source": [
    "## This is what we want it to look like"
   ]
  },
  {
   "cell_type": "code",
   "execution_count": null,
   "metadata": {},
   "outputs": [],
   "source": [
    "subgraph_tvl.head()"
   ]
  },
  {
   "cell_type": "markdown",
   "metadata": {
    "tags": []
   },
   "source": [
    "Dealing with pagination here is a pain and the `query` string above does not actually run in the explorer as written. In order to make it easier to move back and forth between the [explorer](https://thegraph.com/explorer/subgraph/balancer-labs/balancer) and the python environment we should build a function to run the same query we use in the explorer, for example:\n",
    "```\n",
    "{pools(first:1000){\n",
    "        id\n",
    "        liquidity\n",
    "    }\n",
    "}\n",
    "```\n",
    "\n"
   ]
  },
  {
   "cell_type": "code",
   "execution_count": null,
   "metadata": {},
   "outputs": [],
   "source": [
    "def query_theGraph(raw_query, field_name, url, verbose=False, hardcap=5000):\n",
    "\n",
    "    query_parts =raw_query.split(')')\n",
    "    paginator = \", skip:{}\"\n",
    "    #this expectes the raw query to gave a `first:1000` term\n",
    "    n = 0\n",
    "    records = []\n",
    "    while True:\n",
    "        print(f'request {n+1}')\n",
    "        skipper = paginator.format(n*1000)\n",
    "        query = 'query '+query_parts[0]+skipper+')'+query_parts[1]\n",
    "\n",
    "        if verbose:\n",
    "            print(query)\n",
    "\n",
    "        r = requests.post(url, json = {'query':query})\n",
    "\n",
    "        try:\n",
    "            d = json.loads(r.content)['data'][field_name]\n",
    "        except:\n",
    "            #print(r.content)\n",
    "            errors = json.loads(r.content)['errors']\n",
    "            #print(errors)\n",
    "            for e in errors:\n",
    "                print(e['message'])\n",
    "\n",
    "        print(f'results {len(d)}')\n",
    "        records.extend(d)\n",
    "        print(f'total {len(records)}')\n",
    "        \n",
    "        if n*1000>hardcap:\n",
    "            break\n",
    "        \n",
    "        n += 1\n",
    "        if len(d) < 1000:\n",
    "            break\n",
    "        \n",
    "    return pd.DataFrame(records)"
   ]
  },
  {
   "cell_type": "code",
   "execution_count": null,
   "metadata": {
    "tags": []
   },
   "outputs": [],
   "source": [
    "raw_query = '''{pools(first:1000){\n",
    "        id\n",
    "        liquidity\n",
    "    }\n",
    "}\n",
    "\n",
    "'''\n",
    "field_name = 'pools'\n",
    "\n",
    "subgraph_tvl2 = query_theGraph(raw_query, field_name, url, True)"
   ]
  },
  {
   "cell_type": "code",
   "execution_count": null,
   "metadata": {},
   "outputs": [],
   "source": [
    "subgraph_tvl2"
   ]
  },
  {
   "cell_type": "code",
   "execution_count": null,
   "metadata": {},
   "outputs": [],
   "source": [
    "subgraph_tvl2.head()"
   ]
  },
  {
   "cell_type": "code",
   "execution_count": null,
   "metadata": {},
   "outputs": [],
   "source": [
    "subgraph_tvl2.columns = ['id','liquidity2'] "
   ]
  },
  {
   "cell_type": "code",
   "execution_count": null,
   "metadata": {},
   "outputs": [],
   "source": [
    "checker = subgraph_tvl.merge(subgraph_tvl2)"
   ]
  },
  {
   "cell_type": "code",
   "execution_count": null,
   "metadata": {},
   "outputs": [],
   "source": [
    "checker['matches'] = checker.liquidity==checker.liquidity2"
   ]
  },
  {
   "cell_type": "code",
   "execution_count": null,
   "metadata": {},
   "outputs": [],
   "source": [
    "checker.matches.describe()"
   ]
  },
  {
   "cell_type": "markdown",
   "metadata": {},
   "source": [
    "Now that have checked the data we can proceed with some exploratory analysis."
   ]
  },
  {
   "cell_type": "code",
   "execution_count": null,
   "metadata": {},
   "outputs": [],
   "source": [
    "subgraph_tvl.liquidity= subgraph_tvl.liquidity.apply(float)"
   ]
  },
  {
   "cell_type": "code",
   "execution_count": null,
   "metadata": {},
   "outputs": [],
   "source": [
    "subgraph_tvl.sort_values('liquidity', inplace=True)"
   ]
  },
  {
   "cell_type": "code",
   "execution_count": null,
   "metadata": {},
   "outputs": [],
   "source": [
    "subgraph_tvl.liquidity"
   ]
  },
  {
   "cell_type": "code",
   "execution_count": null,
   "metadata": {},
   "outputs": [],
   "source": [
    "plt_df=subgraph_tvl[subgraph_tvl.liquidity>1].copy().sort_values('liquidity', ascending=False)"
   ]
  },
  {
   "cell_type": "code",
   "execution_count": null,
   "metadata": {},
   "outputs": [],
   "source": [
    "subgraph_tvl.describe()"
   ]
  },
  {
   "cell_type": "code",
   "execution_count": null,
   "metadata": {},
   "outputs": [],
   "source": [
    "plt_df.tail()"
   ]
  },
  {
   "cell_type": "code",
   "execution_count": null,
   "metadata": {},
   "outputs": [],
   "source": [
    "plt_df.plot(x='id', y='liquidity', logy=True)\n",
    "plt.xticks(rotation=90)"
   ]
  },
  {
   "cell_type": "code",
   "execution_count": null,
   "metadata": {},
   "outputs": [],
   "source": [
    "plt_df['cumulative liquidity'] = plt_df.liquidity.cumsum()"
   ]
  },
  {
   "cell_type": "code",
   "execution_count": null,
   "metadata": {},
   "outputs": [],
   "source": [
    "plt_df.plot(x='id', y='cumulative liquidity', logy=False)\n",
    "plt.xticks(rotation=90)"
   ]
  },
  {
   "cell_type": "code",
   "execution_count": null,
   "metadata": {},
   "outputs": [],
   "source": []
  },
  {
   "cell_type": "code",
   "execution_count": null,
   "metadata": {},
   "outputs": [],
   "source": []
  }
 ],
 "metadata": {
  "interpreter": {
   "hash": "ede7a0c535aa6ff82d96d380683f57f0c9e09807d6f240ba7499e53b5854e832"
  },
  "kernelspec": {
   "name": "python392jvsc74a57bd0ede7a0c535aa6ff82d96d380683f57f0c9e09807d6f240ba7499e53b5854e832",
   "display_name": "Python 3.9.2 64-bit"
  },
  "language_info": {
   "name": "python",
   "version": "3.9.2"
  }
 },
 "nbformat": 4,
 "nbformat_minor": 4
}