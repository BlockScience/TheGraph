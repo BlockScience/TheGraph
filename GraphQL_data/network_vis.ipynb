{
 "cells": [
  {
   "cell_type": "markdown",
   "metadata": {},
   "source": [
    "# Visualize the transaction within the Graph Protocle with network structure\n",
    "Visualize \n",
    "[ ] import csv, transform into networkX directed  multigraph\n",
    "[ ] add visualization, examine edge quality\n",
    "[ ] produce agent centered view"
   ]
  },
  {
   "cell_type": "raw",
   "metadata": {},
   "source": [
    "# library and dependencis\n"
   ]
  }
 ],
 "metadata": {
  "kernelspec": {
   "display_name": "Python 3.9.2 64-bit ('cadCADEnv': conda)",
   "name": "python392jvsc74a57bd0ede7a0c535aa6ff82d96d380683f57f0c9e09807d6f240ba7499e53b5854e832"
  },
  "language_info": {
   "name": "python",
   "version": ""
  },
  "orig_nbformat": 2
 },
 "nbformat": 4,
 "nbformat_minor": 2
}