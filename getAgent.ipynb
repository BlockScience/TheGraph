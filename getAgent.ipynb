{
 "cells": [
  {
   "cell_type": "markdown",
   "id": "5c4e72af-cc7b-435a-85ba-074538795332",
   "metadata": {},
   "source": [
    "# Get Abstract Agent Class Info"
   ]
  },
  {
   "cell_type": "code",
   "execution_count": 1,
   "id": "321db99c-43aa-4494-8c92-e4f03d204a05",
   "metadata": {},
   "outputs": [
    {
     "name": "stdout",
     "output_type": "stream",
     "text": [
      "stakeDelegateds: 605 events\n",
      "stakeDelegatedLockeds: 375 events\n",
      "stakeDelegatedWithdrawns: 326 events\n",
      "allocationCloseds: 47 events\n",
      "allocationCollecteds: 16 events\n",
      "stakeDepositeds: 25 events\n",
      "rewardsAssigneds: 47 events\n",
      "delegationParametersUpdateds: 6 events\n",
      "allocationCreateds: 51 events\n",
      "TOTAL NUMBER OF EVENTS: 1529\n",
      "You should set SIMULATION_TIME_STEPS in config.py to a minimum of 1529 to capture all events.\n",
      "\n"
     ]
    }
   ],
   "source": [
    "import pandas as pd\n",
    "import numpy as np\n",
    "\n",
    "# import os\n",
    "# import sys\n",
    "# module_path = os.path.abspath(os.path.join('..'))\n",
    "# print(module_path)\n",
    "# sys.path.append(module_path)\n",
    "import model.parts.utils as utils\n",
    "from model.sys_params import *\n",
    "df = pd.read_pickle(r'experiment.p')"
   ]
  },
  {
   "cell_type": "code",
   "execution_count": 2,
   "id": "f4836da1-b118-4967-b7db-eac4cdf6055c",
   "metadata": {},
   "outputs": [],
   "source": [
    "df.reset_index(inplace = True)\n",
    "pd.set_option('display.max_rows', None)"
   ]
  },
  {
   "cell_type": "code",
   "execution_count": 3,
   "id": "36e4a6d7-cb21-476c-b96d-7f12c777580b",
   "metadata": {},
   "outputs": [
    {
     "data": {
      "text/html": [
       "<div>\n",
       "<style scoped>\n",
       "    .dataframe tbody tr th:only-of-type {\n",
       "        vertical-align: middle;\n",
       "    }\n",
       "\n",
       "    .dataframe tbody tr th {\n",
       "        vertical-align: top;\n",
       "    }\n",
       "\n",
       "    .dataframe thead th {\n",
       "        text-align: right;\n",
       "    }\n",
       "</style>\n",
       "<table border=\"1\" class=\"dataframe\">\n",
       "  <thead>\n",
       "    <tr style=\"text-align: right;\">\n",
       "      <th></th>\n",
       "      <th>index</th>\n",
       "      <th>indexers</th>\n",
       "      <th>delegator_portfolios</th>\n",
       "      <th>block_number</th>\n",
       "      <th>epoch</th>\n",
       "      <th>injected_event_shift</th>\n",
       "      <th>simulation</th>\n",
       "      <th>subset</th>\n",
       "      <th>run</th>\n",
       "      <th>substep</th>\n",
       "      <th>timestep</th>\n",
       "    </tr>\n",
       "  </thead>\n",
       "  <tbody>\n",
       "    <tr>\n",
       "      <th>0</th>\n",
       "      <td>6</td>\n",
       "      <td>{'0x7ab4cf25330ed7277ac7ab59380b68eea68abb0e':...</td>\n",
       "      <td>{}</td>\n",
       "      <td>11474009</td>\n",
       "      <td>4</td>\n",
       "      <td>0</td>\n",
       "      <td>0</td>\n",
       "      <td>0</td>\n",
       "      <td>1</td>\n",
       "      <td>6</td>\n",
       "      <td>1</td>\n",
       "    </tr>\n",
       "    <tr>\n",
       "      <th>1</th>\n",
       "      <td>12</td>\n",
       "      <td>{'0x7ab4cf25330ed7277ac7ab59380b68eea68abb0e':...</td>\n",
       "      <td>{}</td>\n",
       "      <td>11474009</td>\n",
       "      <td>4</td>\n",
       "      <td>0</td>\n",
       "      <td>0</td>\n",
       "      <td>0</td>\n",
       "      <td>1</td>\n",
       "      <td>6</td>\n",
       "      <td>2</td>\n",
       "    </tr>\n",
       "    <tr>\n",
       "      <th>2</th>\n",
       "      <td>18</td>\n",
       "      <td>{'0x7ab4cf25330ed7277ac7ab59380b68eea68abb0e':...</td>\n",
       "      <td>{}</td>\n",
       "      <td>11474307</td>\n",
       "      <td>4</td>\n",
       "      <td>0</td>\n",
       "      <td>0</td>\n",
       "      <td>0</td>\n",
       "      <td>1</td>\n",
       "      <td>6</td>\n",
       "      <td>3</td>\n",
       "    </tr>\n",
       "    <tr>\n",
       "      <th>3</th>\n",
       "      <td>24</td>\n",
       "      <td>{'0x7ab4cf25330ed7277ac7ab59380b68eea68abb0e':...</td>\n",
       "      <td>{'0xd776a7306ee6a060cebb46b46d305e88fd39ba84':...</td>\n",
       "      <td>11474332</td>\n",
       "      <td>4</td>\n",
       "      <td>0</td>\n",
       "      <td>0</td>\n",
       "      <td>0</td>\n",
       "      <td>1</td>\n",
       "      <td>6</td>\n",
       "      <td>4</td>\n",
       "    </tr>\n",
       "    <tr>\n",
       "      <th>4</th>\n",
       "      <td>30</td>\n",
       "      <td>{'0x7ab4cf25330ed7277ac7ab59380b68eea68abb0e':...</td>\n",
       "      <td>{'0xd776a7306ee6a060cebb46b46d305e88fd39ba84':...</td>\n",
       "      <td>11474426</td>\n",
       "      <td>4</td>\n",
       "      <td>0</td>\n",
       "      <td>0</td>\n",
       "      <td>0</td>\n",
       "      <td>1</td>\n",
       "      <td>6</td>\n",
       "      <td>5</td>\n",
       "    </tr>\n",
       "  </tbody>\n",
       "</table>\n",
       "</div>"
      ],
      "text/plain": [
       "   index                                           indexers  \\\n",
       "0      6  {'0x7ab4cf25330ed7277ac7ab59380b68eea68abb0e':...   \n",
       "1     12  {'0x7ab4cf25330ed7277ac7ab59380b68eea68abb0e':...   \n",
       "2     18  {'0x7ab4cf25330ed7277ac7ab59380b68eea68abb0e':...   \n",
       "3     24  {'0x7ab4cf25330ed7277ac7ab59380b68eea68abb0e':...   \n",
       "4     30  {'0x7ab4cf25330ed7277ac7ab59380b68eea68abb0e':...   \n",
       "\n",
       "                                delegator_portfolios  block_number  epoch  \\\n",
       "0                                                 {}      11474009      4   \n",
       "1                                                 {}      11474009      4   \n",
       "2                                                 {}      11474307      4   \n",
       "3  {'0xd776a7306ee6a060cebb46b46d305e88fd39ba84':...      11474332      4   \n",
       "4  {'0xd776a7306ee6a060cebb46b46d305e88fd39ba84':...      11474426      4   \n",
       "\n",
       "   injected_event_shift  simulation  subset  run  substep  timestep  \n",
       "0                     0           0       0    1        6         1  \n",
       "1                     0           0       0    1        6         2  \n",
       "2                     0           0       0    1        6         3  \n",
       "3                     0           0       0    1        6         4  \n",
       "4                     0           0       0    1        6         5  "
      ]
     },
     "execution_count": 3,
     "metadata": {},
     "output_type": "execute_result"
    }
   ],
   "source": [
    "df.head()"
   ]
  },
  {
   "cell_type": "code",
   "execution_count": 4,
   "id": "260a79c6-d6b3-400a-93b2-8fe9ee10bb7a",
   "metadata": {},
   "outputs": [
    {
     "data": {
      "text/plain": [
       "self.id=1, self.shares=Decimal('0E-25'), self.holdings=Decimal('0'), self.undelegated_tokens=0"
      ]
     },
     "execution_count": 4,
     "metadata": {},
     "output_type": "execute_result"
    }
   ],
   "source": [
    "df.indexers.loc[1528]['0x7ab4cf25330ed7277ac7ab59380b68eea68abb0e'].delegators[1]"
   ]
  }
 ],
 "metadata": {
  "kernelspec": {
   "display_name": "Python 3",
   "language": "python",
   "name": "python3"
  },
  "language_info": {
   "codemirror_mode": {
    "name": "ipython",
    "version": 3
   },
   "file_extension": ".py",
   "mimetype": "text/x-python",
   "name": "python",
   "nbconvert_exporter": "python",
   "pygments_lexer": "ipython3",
   "version": "3.8.5"
  }
 },
 "nbformat": 4,
 "nbformat_minor": 5
}
