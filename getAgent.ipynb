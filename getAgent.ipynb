{
 "cells": [
  {
   "cell_type": "markdown",
   "id": "5c4e72af-cc7b-435a-85ba-074538795332",
   "metadata": {},
   "source": [
    "# Get Abstract Agent Class Info"
   ]
  },
  {
   "cell_type": "code",
   "execution_count": 1,
   "id": "321db99c-43aa-4494-8c92-e4f03d204a05",
   "metadata": {},
   "outputs": [
    {
     "name": "stdout",
     "output_type": "stream",
     "text": [
      "stakeDelegateds: 605 events\n",
      "stakeDelegatedLockeds: 375 events\n",
      "stakeDelegatedWithdrawns: 326 events\n",
      "allocationCloseds: 47 events\n",
      "allocationCollecteds: 16 events\n",
      "stakeDepositeds: 25 events\n",
      "rewardsAssigneds: 47 events\n",
      "delegationParametersUpdateds: 6 events\n",
      "allocationCreateds: 51 events\n",
      "TOTAL NUMBER OF EVENTS: 1529\n",
      "You should set SIMULATION_TIME_STEPS in config.py to a minimum of 1529 to capture all events.\n",
      "\n"
     ]
    }
   ],
   "source": [
    "import pandas as pd\n",
    "import numpy as np\n",
    "\n",
    "# import os\n",
    "# import sys\n",
    "# module_path = os.path.abspath(os.path.join('..'))\n",
    "# print(module_path)\n",
    "# sys.path.append(module_path)\n",
    "import model.parts.utils as utils\n",
    "from model.sys_params import *\n",
    "df = pd.read_pickle(r'experiment.p')"
   ]
  },
  {
   "cell_type": "code",
   "execution_count": 2,
   "id": "f4836da1-b118-4967-b7db-eac4cdf6055c",
   "metadata": {},
   "outputs": [],
   "source": [
    "df.reset_index(inplace = True)\n",
    "pd.set_option('display.max_rows', None)"
   ]
  },
  {
   "cell_type": "code",
   "execution_count": 3,
   "id": "36e4a6d7-cb21-476c-b96d-7f12c777580b",
   "metadata": {},
   "outputs": [
    {
     "data": {
      "text/html": [
       "<div>\n",
       "<style scoped>\n",
       "    .dataframe tbody tr th:only-of-type {\n",
       "        vertical-align: middle;\n",
       "    }\n",
       "\n",
       "    .dataframe tbody tr th {\n",
       "        vertical-align: top;\n",
       "    }\n",
       "\n",
       "    .dataframe thead th {\n",
       "        text-align: right;\n",
       "    }\n",
       "</style>\n",
       "<table border=\"1\" class=\"dataframe\">\n",
       "  <thead>\n",
       "    <tr style=\"text-align: right;\">\n",
       "      <th></th>\n",
       "      <th>index</th>\n",
       "      <th>indexers</th>\n",
       "      <th>delegator_portfolios</th>\n",
       "      <th>block_number</th>\n",
       "      <th>simulation</th>\n",
       "      <th>subset</th>\n",
       "      <th>run</th>\n",
       "      <th>substep</th>\n",
       "      <th>timestep</th>\n",
       "    </tr>\n",
       "  </thead>\n",
       "  <tbody>\n",
       "    <tr>\n",
       "      <th>0</th>\n",
       "      <td>4</td>\n",
       "      <td>{'0x7ab4cf25330ed7277ac7ab59380b68eea68abb0e':...</td>\n",
       "      <td>{}</td>\n",
       "      <td>11474009</td>\n",
       "      <td>0</td>\n",
       "      <td>0</td>\n",
       "      <td>1</td>\n",
       "      <td>4</td>\n",
       "      <td>1</td>\n",
       "    </tr>\n",
       "    <tr>\n",
       "      <th>1</th>\n",
       "      <td>8</td>\n",
       "      <td>{'0x7ab4cf25330ed7277ac7ab59380b68eea68abb0e':...</td>\n",
       "      <td>{}</td>\n",
       "      <td>11474009</td>\n",
       "      <td>0</td>\n",
       "      <td>0</td>\n",
       "      <td>1</td>\n",
       "      <td>4</td>\n",
       "      <td>2</td>\n",
       "    </tr>\n",
       "    <tr>\n",
       "      <th>2</th>\n",
       "      <td>12</td>\n",
       "      <td>{'0x7ab4cf25330ed7277ac7ab59380b68eea68abb0e':...</td>\n",
       "      <td>{}</td>\n",
       "      <td>11474307</td>\n",
       "      <td>0</td>\n",
       "      <td>0</td>\n",
       "      <td>1</td>\n",
       "      <td>4</td>\n",
       "      <td>3</td>\n",
       "    </tr>\n",
       "    <tr>\n",
       "      <th>3</th>\n",
       "      <td>16</td>\n",
       "      <td>{'0x7ab4cf25330ed7277ac7ab59380b68eea68abb0e':...</td>\n",
       "      <td>{'0xd776a7306ee6a060cebb46b46d305e88fd39ba84':...</td>\n",
       "      <td>11474332</td>\n",
       "      <td>0</td>\n",
       "      <td>0</td>\n",
       "      <td>1</td>\n",
       "      <td>4</td>\n",
       "      <td>4</td>\n",
       "    </tr>\n",
       "    <tr>\n",
       "      <th>4</th>\n",
       "      <td>20</td>\n",
       "      <td>{'0x7ab4cf25330ed7277ac7ab59380b68eea68abb0e':...</td>\n",
       "      <td>{'0xd776a7306ee6a060cebb46b46d305e88fd39ba84':...</td>\n",
       "      <td>11474426</td>\n",
       "      <td>0</td>\n",
       "      <td>0</td>\n",
       "      <td>1</td>\n",
       "      <td>4</td>\n",
       "      <td>5</td>\n",
       "    </tr>\n",
       "  </tbody>\n",
       "</table>\n",
       "</div>"
      ],
      "text/plain": [
       "   index                                           indexers  \\\n",
       "0      4  {'0x7ab4cf25330ed7277ac7ab59380b68eea68abb0e':...   \n",
       "1      8  {'0x7ab4cf25330ed7277ac7ab59380b68eea68abb0e':...   \n",
       "2     12  {'0x7ab4cf25330ed7277ac7ab59380b68eea68abb0e':...   \n",
       "3     16  {'0x7ab4cf25330ed7277ac7ab59380b68eea68abb0e':...   \n",
       "4     20  {'0x7ab4cf25330ed7277ac7ab59380b68eea68abb0e':...   \n",
       "\n",
       "                                delegator_portfolios  block_number  \\\n",
       "0                                                 {}      11474009   \n",
       "1                                                 {}      11474009   \n",
       "2                                                 {}      11474307   \n",
       "3  {'0xd776a7306ee6a060cebb46b46d305e88fd39ba84':...      11474332   \n",
       "4  {'0xd776a7306ee6a060cebb46b46d305e88fd39ba84':...      11474426   \n",
       "\n",
       "   simulation  subset  run  substep  timestep  \n",
       "0           0       0    1        4         1  \n",
       "1           0       0    1        4         2  \n",
       "2           0       0    1        4         3  \n",
       "3           0       0    1        4         4  \n",
       "4           0       0    1        4         5  "
      ]
     },
     "execution_count": 3,
     "metadata": {},
     "output_type": "execute_result"
    }
   ],
   "source": [
    "df.head()"
   ]
  },
  {
   "cell_type": "code",
   "execution_count": 4,
   "id": "260a79c6-d6b3-400a-93b2-8fe9ee10bb7a",
   "metadata": {},
   "outputs": [
    {
     "data": {
      "text/html": [
       "<div>\n",
       "<style scoped>\n",
       "    .dataframe tbody tr th:only-of-type {\n",
       "        vertical-align: middle;\n",
       "    }\n",
       "\n",
       "    .dataframe tbody tr th {\n",
       "        vertical-align: top;\n",
       "    }\n",
       "\n",
       "    .dataframe thead th {\n",
       "        text-align: right;\n",
       "    }\n",
       "</style>\n",
       "<table border=\"1\" class=\"dataframe\">\n",
       "  <thead>\n",
       "    <tr style=\"text-align: right;\">\n",
       "      <th></th>\n",
       "      <th>index</th>\n",
       "      <th>indexers</th>\n",
       "      <th>delegator_portfolios</th>\n",
       "      <th>block_number</th>\n",
       "      <th>simulation</th>\n",
       "      <th>subset</th>\n",
       "      <th>run</th>\n",
       "      <th>substep</th>\n",
       "      <th>timestep</th>\n",
       "    </tr>\n",
       "  </thead>\n",
       "  <tbody>\n",
       "    <tr>\n",
       "      <th>1524</th>\n",
       "      <td>6100</td>\n",
       "      <td>{'0x7ab4cf25330ed7277ac7ab59380b68eea68abb0e':...</td>\n",
       "      <td>{'0xd776a7306ee6a060cebb46b46d305e88fd39ba84':...</td>\n",
       "      <td>13191283</td>\n",
       "      <td>0</td>\n",
       "      <td>0</td>\n",
       "      <td>1</td>\n",
       "      <td>4</td>\n",
       "      <td>1525</td>\n",
       "    </tr>\n",
       "    <tr>\n",
       "      <th>1525</th>\n",
       "      <td>6104</td>\n",
       "      <td>{'0x7ab4cf25330ed7277ac7ab59380b68eea68abb0e':...</td>\n",
       "      <td>{'0xd776a7306ee6a060cebb46b46d305e88fd39ba84':...</td>\n",
       "      <td>13198650</td>\n",
       "      <td>0</td>\n",
       "      <td>0</td>\n",
       "      <td>1</td>\n",
       "      <td>4</td>\n",
       "      <td>1526</td>\n",
       "    </tr>\n",
       "    <tr>\n",
       "      <th>1526</th>\n",
       "      <td>6108</td>\n",
       "      <td>{'0x7ab4cf25330ed7277ac7ab59380b68eea68abb0e':...</td>\n",
       "      <td>{'0xd776a7306ee6a060cebb46b46d305e88fd39ba84':...</td>\n",
       "      <td>13202983</td>\n",
       "      <td>0</td>\n",
       "      <td>0</td>\n",
       "      <td>1</td>\n",
       "      <td>4</td>\n",
       "      <td>1527</td>\n",
       "    </tr>\n",
       "    <tr>\n",
       "      <th>1527</th>\n",
       "      <td>6112</td>\n",
       "      <td>{'0x7ab4cf25330ed7277ac7ab59380b68eea68abb0e':...</td>\n",
       "      <td>{'0xd776a7306ee6a060cebb46b46d305e88fd39ba84':...</td>\n",
       "      <td>13204873</td>\n",
       "      <td>0</td>\n",
       "      <td>0</td>\n",
       "      <td>1</td>\n",
       "      <td>4</td>\n",
       "      <td>1528</td>\n",
       "    </tr>\n",
       "    <tr>\n",
       "      <th>1528</th>\n",
       "      <td>6116</td>\n",
       "      <td>{'0x7ab4cf25330ed7277ac7ab59380b68eea68abb0e':...</td>\n",
       "      <td>{'0xd776a7306ee6a060cebb46b46d305e88fd39ba84':...</td>\n",
       "      <td>13207528</td>\n",
       "      <td>0</td>\n",
       "      <td>0</td>\n",
       "      <td>1</td>\n",
       "      <td>4</td>\n",
       "      <td>1529</td>\n",
       "    </tr>\n",
       "  </tbody>\n",
       "</table>\n",
       "</div>"
      ],
      "text/plain": [
       "      index                                           indexers  \\\n",
       "1524   6100  {'0x7ab4cf25330ed7277ac7ab59380b68eea68abb0e':...   \n",
       "1525   6104  {'0x7ab4cf25330ed7277ac7ab59380b68eea68abb0e':...   \n",
       "1526   6108  {'0x7ab4cf25330ed7277ac7ab59380b68eea68abb0e':...   \n",
       "1527   6112  {'0x7ab4cf25330ed7277ac7ab59380b68eea68abb0e':...   \n",
       "1528   6116  {'0x7ab4cf25330ed7277ac7ab59380b68eea68abb0e':...   \n",
       "\n",
       "                                   delegator_portfolios  block_number  \\\n",
       "1524  {'0xd776a7306ee6a060cebb46b46d305e88fd39ba84':...      13191283   \n",
       "1525  {'0xd776a7306ee6a060cebb46b46d305e88fd39ba84':...      13198650   \n",
       "1526  {'0xd776a7306ee6a060cebb46b46d305e88fd39ba84':...      13202983   \n",
       "1527  {'0xd776a7306ee6a060cebb46b46d305e88fd39ba84':...      13204873   \n",
       "1528  {'0xd776a7306ee6a060cebb46b46d305e88fd39ba84':...      13207528   \n",
       "\n",
       "      simulation  subset  run  substep  timestep  \n",
       "1524           0       0    1        4      1525  \n",
       "1525           0       0    1        4      1526  \n",
       "1526           0       0    1        4      1527  \n",
       "1527           0       0    1        4      1528  \n",
       "1528           0       0    1        4      1529  "
      ]
     },
     "execution_count": 4,
     "metadata": {},
     "output_type": "execute_result"
    }
   ],
   "source": [
    "df.tail()"
   ]
  },
  {
   "cell_type": "code",
   "execution_count": 7,
   "id": "a1aa5197",
   "metadata": {},
   "outputs": [
    {
     "name": "stdout",
     "output_type": "stream",
     "text": [
      "{'0x7ab4cf25330ed7277ac7ab59380b68eea68abb0e': <model.parts.indexer.Indexer object at 0x00000201AABE2AF0>}\n"
     ]
    }
   ],
   "source": [
    "print(df['indexers'].loc[1528])"
   ]
  },
  {
   "cell_type": "code",
   "execution_count": 8,
   "id": "e6ee9b4a",
   "metadata": {},
   "outputs": [
    {
     "data": {
      "text/plain": [
       "dict_keys(['0x7ab4cf25330ed7277ac7ab59380b68eea68abb0e'])"
      ]
     },
     "execution_count": 8,
     "metadata": {},
     "output_type": "execute_result"
    }
   ],
   "source": [
    "df['indexers'].loc[1528].keys()"
   ]
  },
  {
   "cell_type": "code",
   "execution_count": 11,
   "id": "476308ee",
   "metadata": {},
   "outputs": [
    {
     "name": "stdout",
     "output_type": "stream",
     "text": [
      "<model.parts.indexer.Indexer object at 0x00000201AABE2AF0>\n"
     ]
    }
   ],
   "source": [
    "print(df['indexers'].loc[1528]['0x7ab4cf25330ed7277ac7ab59380b68eea68abb0e'])"
   ]
  },
  {
   "cell_type": "code",
   "execution_count": 13,
   "id": "fc38d3b0",
   "metadata": {},
   "outputs": [
    {
     "ename": "KeyError",
     "evalue": "'0x7ab4cf25330ed7277ac7ab59380b68eea68abb0e'",
     "output_type": "error",
     "traceback": [
      "\u001b[1;31m---------------------------------------------------------------------------\u001b[0m",
      "\u001b[1;31mKeyError\u001b[0m                                  Traceback (most recent call last)",
      "\u001b[1;32m<ipython-input-13-3113ea068cf1>\u001b[0m in \u001b[0;36m<module>\u001b[1;34m\u001b[0m\n\u001b[1;32m----> 1\u001b[1;33m \u001b[0mdf\u001b[0m\u001b[1;33m[\u001b[0m\u001b[1;34m'indexers'\u001b[0m\u001b[1;33m]\u001b[0m\u001b[1;33m[\u001b[0m\u001b[1;34m'0x7ab4cf25330ed7277ac7ab59380b68eea68abb0e'\u001b[0m\u001b[1;33m]\u001b[0m\u001b[1;33m\u001b[0m\u001b[1;33m\u001b[0m\u001b[0m\n\u001b[0m",
      "\u001b[1;32m~\\anaconda3\\lib\\site-packages\\pandas\\core\\series.py\u001b[0m in \u001b[0;36m__getitem__\u001b[1;34m(self, key)\u001b[0m\n\u001b[0;32m    851\u001b[0m \u001b[1;33m\u001b[0m\u001b[0m\n\u001b[0;32m    852\u001b[0m         \u001b[1;32melif\u001b[0m \u001b[0mkey_is_scalar\u001b[0m\u001b[1;33m:\u001b[0m\u001b[1;33m\u001b[0m\u001b[1;33m\u001b[0m\u001b[0m\n\u001b[1;32m--> 853\u001b[1;33m             \u001b[1;32mreturn\u001b[0m \u001b[0mself\u001b[0m\u001b[1;33m.\u001b[0m\u001b[0m_get_value\u001b[0m\u001b[1;33m(\u001b[0m\u001b[0mkey\u001b[0m\u001b[1;33m)\u001b[0m\u001b[1;33m\u001b[0m\u001b[1;33m\u001b[0m\u001b[0m\n\u001b[0m\u001b[0;32m    854\u001b[0m \u001b[1;33m\u001b[0m\u001b[0m\n\u001b[0;32m    855\u001b[0m         \u001b[1;32mif\u001b[0m \u001b[0mis_hashable\u001b[0m\u001b[1;33m(\u001b[0m\u001b[0mkey\u001b[0m\u001b[1;33m)\u001b[0m\u001b[1;33m:\u001b[0m\u001b[1;33m\u001b[0m\u001b[1;33m\u001b[0m\u001b[0m\n",
      "\u001b[1;32m~\\anaconda3\\lib\\site-packages\\pandas\\core\\series.py\u001b[0m in \u001b[0;36m_get_value\u001b[1;34m(self, label, takeable)\u001b[0m\n\u001b[0;32m    959\u001b[0m \u001b[1;33m\u001b[0m\u001b[0m\n\u001b[0;32m    960\u001b[0m         \u001b[1;31m# Similar to Index.get_value, but we do not fall back to positional\u001b[0m\u001b[1;33m\u001b[0m\u001b[1;33m\u001b[0m\u001b[1;33m\u001b[0m\u001b[0m\n\u001b[1;32m--> 961\u001b[1;33m         \u001b[0mloc\u001b[0m \u001b[1;33m=\u001b[0m \u001b[0mself\u001b[0m\u001b[1;33m.\u001b[0m\u001b[0mindex\u001b[0m\u001b[1;33m.\u001b[0m\u001b[0mget_loc\u001b[0m\u001b[1;33m(\u001b[0m\u001b[0mlabel\u001b[0m\u001b[1;33m)\u001b[0m\u001b[1;33m\u001b[0m\u001b[1;33m\u001b[0m\u001b[0m\n\u001b[0m\u001b[0;32m    962\u001b[0m         \u001b[1;32mreturn\u001b[0m \u001b[0mself\u001b[0m\u001b[1;33m.\u001b[0m\u001b[0mindex\u001b[0m\u001b[1;33m.\u001b[0m\u001b[0m_get_values_for_loc\u001b[0m\u001b[1;33m(\u001b[0m\u001b[0mself\u001b[0m\u001b[1;33m,\u001b[0m \u001b[0mloc\u001b[0m\u001b[1;33m,\u001b[0m \u001b[0mlabel\u001b[0m\u001b[1;33m)\u001b[0m\u001b[1;33m\u001b[0m\u001b[1;33m\u001b[0m\u001b[0m\n\u001b[0;32m    963\u001b[0m \u001b[1;33m\u001b[0m\u001b[0m\n",
      "\u001b[1;32m~\\anaconda3\\lib\\site-packages\\pandas\\core\\indexes\\range.py\u001b[0m in \u001b[0;36mget_loc\u001b[1;34m(self, key, method, tolerance)\u001b[0m\n\u001b[0;32m    352\u001b[0m                 \u001b[1;32mexcept\u001b[0m \u001b[0mValueError\u001b[0m \u001b[1;32mas\u001b[0m \u001b[0merr\u001b[0m\u001b[1;33m:\u001b[0m\u001b[1;33m\u001b[0m\u001b[1;33m\u001b[0m\u001b[0m\n\u001b[0;32m    353\u001b[0m                     \u001b[1;32mraise\u001b[0m \u001b[0mKeyError\u001b[0m\u001b[1;33m(\u001b[0m\u001b[0mkey\u001b[0m\u001b[1;33m)\u001b[0m \u001b[1;32mfrom\u001b[0m \u001b[0merr\u001b[0m\u001b[1;33m\u001b[0m\u001b[1;33m\u001b[0m\u001b[0m\n\u001b[1;32m--> 354\u001b[1;33m             \u001b[1;32mraise\u001b[0m \u001b[0mKeyError\u001b[0m\u001b[1;33m(\u001b[0m\u001b[0mkey\u001b[0m\u001b[1;33m)\u001b[0m\u001b[1;33m\u001b[0m\u001b[1;33m\u001b[0m\u001b[0m\n\u001b[0m\u001b[0;32m    355\u001b[0m         \u001b[1;32mreturn\u001b[0m \u001b[0msuper\u001b[0m\u001b[1;33m(\u001b[0m\u001b[1;33m)\u001b[0m\u001b[1;33m.\u001b[0m\u001b[0mget_loc\u001b[0m\u001b[1;33m(\u001b[0m\u001b[0mkey\u001b[0m\u001b[1;33m,\u001b[0m \u001b[0mmethod\u001b[0m\u001b[1;33m=\u001b[0m\u001b[0mmethod\u001b[0m\u001b[1;33m,\u001b[0m \u001b[0mtolerance\u001b[0m\u001b[1;33m=\u001b[0m\u001b[0mtolerance\u001b[0m\u001b[1;33m)\u001b[0m\u001b[1;33m\u001b[0m\u001b[1;33m\u001b[0m\u001b[0m\n\u001b[0;32m    356\u001b[0m \u001b[1;33m\u001b[0m\u001b[0m\n",
      "\u001b[1;31mKeyError\u001b[0m: '0x7ab4cf25330ed7277ac7ab59380b68eea68abb0e'"
     ]
    }
   ],
   "source": [
    "df['indexers']['0x7ab4cf25330ed7277ac7ab59380b68eea68abb0e']"
   ]
  }
 ],
 "metadata": {
  "kernelspec": {
   "display_name": "Python 3",
   "language": "python",
   "name": "python3"
  },
  "language_info": {
   "codemirror_mode": {
    "name": "ipython",
    "version": 3
   },
   "file_extension": ".py",
   "mimetype": "text/x-python",
   "name": "python",
   "nbconvert_exporter": "python",
   "pygments_lexer": "ipython3",
   "version": "3.8.8"
  }
 },
 "nbformat": 4,
 "nbformat_minor": 5
}
