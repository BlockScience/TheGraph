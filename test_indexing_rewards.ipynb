{
 "cells": [
  {
   "cell_type": "markdown",
   "source": [
    "# Indexing Reward Unit Test\r\n",
    "Performing verification of the indexing rewards mechanism by comparing the event data to the results of cadCAD model."
   ],
   "metadata": {}
  },
  {
   "cell_type": "code",
   "execution_count": 1,
   "source": [
    "import pandas as pd\r\n",
    "import numpy as np\r\n",
    "from decimal import Decimal\r\n",
    "from decimal import *\r\n",
    "import model.parts.utils as utils\r\n",
    "from model.sys_params import *\r\n",
    "df = pd.read_pickle(r'experiment.p')"
   ],
   "outputs": [
    {
     "output_type": "stream",
     "name": "stdout",
     "text": [
      "loaded GraphQL_data/SIstakeDelegateds.csv.\n",
      "loaded GraphQL_data/SIstakeLockeds.csv.\n",
      "loaded GraphQL_data/SIstakeWithdrawns.csv.\n",
      "loaded GraphQL_data/SIallocationCollecteds.csv.\n",
      "loaded GraphQL_data/SIstakeDepositeds.csv.\n"
     ]
    }
   ],
   "metadata": {}
  },
  {
   "cell_type": "markdown",
   "source": [
    "Configure environment"
   ],
   "metadata": {}
  },
  {
   "cell_type": "code",
   "execution_count": 2,
   "source": [
    "df.reset_index(inplace = True)\r\n",
    "pd.set_option('display.max_rows', None)"
   ],
   "outputs": [],
   "metadata": {}
  },
  {
   "cell_type": "code",
   "execution_count": 3,
   "source": [
    "stake_deposited_events_dict = stake_deposited_events[0]\r\n",
    "print(\"EXPECTED TRUE INDEXING REWARDS FROM STAKE DEPOSITED EVENTS:\")\r\n",
    "is_first = True\r\n",
    "for timestep, indexing_fee_events_list in stake_deposited_events_dict.items():\r\n",
    "    if is_first:\r\n",
    "        is_first = False\r\n",
    "        pass\r\n",
    "    else:        \r\n",
    "        if indexing_fee_events_list is None:\r\n",
    "            indexing_fee_amt = 0\r\n",
    "        else:\r\n",
    "            indexing_fee_amt = sum([e['tokens'] for e in indexing_fee_events_list])        \r\n",
    "        print(indexing_fee_amt)\r\n",
    "        # print(f\"{timestep}, {stake_deposited_event[0]['tokens']}\")\r\n",
    "    \r\n"
   ],
   "outputs": [
    {
     "output_type": "stream",
     "name": "stdout",
     "text": [
      "EXPECTED TRUE INDEXING REWARDS FROM STAKE DEPOSITED EVENTS:\n",
      "6992.278838280839213400\n",
      "7412.390565199642429400\n",
      "0.314500799690706457\n",
      "19917.334764642678146000\n",
      "23772.682490475838525600\n",
      "781.892419941371744000\n"
     ]
    }
   ],
   "metadata": {}
  },
  {
   "cell_type": "code",
   "execution_count": 4,
   "source": [
    "print(\"MODELED RESULTS\")\r\n",
    "# print(df.iloc[timestep])\r\n",
    "is_first = True\r\n",
    "indexing_rewards_modeled = {}\r\n",
    "for timestep, stake_deposited_event in stake_deposited_events_dict.items():\r\n",
    "    # back indexing rewards out from increase in pool_delegated_stake / 0.11 * 0.89\r\n",
    "    if is_first:\r\n",
    "        is_first = False\r\n",
    "        pass\r\n",
    "    else:       \r\n",
    "        indexing_rewards =( df.iloc[timestep-1]['pool_delegated_stake'] - df.iloc[timestep-2]['pool_delegated_stake']) / (1 - indexer_revenue_cut[0]) * (indexer_revenue_cut[0])\r\n",
    "        indexing_rewards_modeled[timestep] = indexing_rewards\r\n",
    "        print(f\"{timestep}, {indexing_rewards=}\")\r\n"
   ],
   "outputs": [
    {
     "output_type": "stream",
     "name": "stdout",
     "text": [
      "MODELED RESULTS\n",
      "22, indexing_rewards=Decimal('6992.278838280839213400000035')\n",
      "23, indexing_rewards=Decimal('7412.390565199642429399999997')\n",
      "30, indexing_rewards=Decimal('0.3145007996907064569999597442')\n",
      "59, indexing_rewards=Decimal('11791.92043340830915931947950')\n",
      "128, indexing_rewards=Decimal('23772.68249047583852559999997')\n",
      "130, indexing_rewards=Decimal('781.8924199413717440000000209')\n"
     ]
    }
   ],
   "metadata": {}
  },
  {
   "cell_type": "code",
   "execution_count": 10,
   "source": [
    "print(\"UNITTEST RESULTS\")\r\n",
    "is_first = True\r\n",
    "for timestep, stake_deposited_event in stake_deposited_events_dict.items():\r\n",
    "    # back indexing rewards out from increase in pool_delegated_stake / 0.11 * 0.89\r\n",
    "    if is_first:\r\n",
    "        is_first = False\r\n",
    "        pass\r\n",
    "    else:       \r\n",
    "        indexing_rewards = indexing_rewards_modeled[timestep]\r\n",
    "        print(f\"Event: Timestep={timestep-1}, Indexing Reward Tokens={stake_deposited_event[0]['tokens']}\")\r\n",
    "        print(f\"Model: Timestep={timestep-1}, Indexing Reward Tokens={indexing_rewards}\")\r\n",
    "        print(\"Tokens Equal?\", stake_deposited_event[0]['tokens'] == indexing_rewards)\r\n",
    "        print(\"Tokens Within 1%?\", 0.99 <= abs(stake_deposited_event[0]['tokens'] / indexing_rewards) <= 1.01)\r\n",
    "        print()\r\n"
   ],
   "outputs": [
    {
     "output_type": "stream",
     "name": "stdout",
     "text": [
      "UNITTEST RESULTS\n",
      "Event: Timestep=21, Indexing Reward Tokens=6992.278838280839213400\n",
      "Model: Timestep=21, Indexing Reward Tokens=6992.278838280839213400000035\n",
      "Shares Equal? False\n",
      "Shares Within 1%? True\n",
      "\n",
      "Event: Timestep=22, Indexing Reward Tokens=7412.390565199642429400\n",
      "Model: Timestep=22, Indexing Reward Tokens=7412.390565199642429399999997\n",
      "Shares Equal? False\n",
      "Shares Within 1%? True\n",
      "\n",
      "Event: Timestep=29, Indexing Reward Tokens=0.314500799690706457\n",
      "Model: Timestep=29, Indexing Reward Tokens=0.3145007996907064569999597442\n",
      "Shares Equal? False\n",
      "Shares Within 1%? True\n",
      "\n",
      "Event: Timestep=58, Indexing Reward Tokens=9556.847374872508219000\n",
      "Model: Timestep=58, Indexing Reward Tokens=11791.92043340830915931947950\n",
      "Shares Equal? False\n",
      "Shares Within 1%? False\n",
      "\n",
      "Event: Timestep=127, Indexing Reward Tokens=23772.682490475838525600\n",
      "Model: Timestep=127, Indexing Reward Tokens=23772.68249047583852559999997\n",
      "Shares Equal? False\n",
      "Shares Within 1%? True\n",
      "\n",
      "Event: Timestep=129, Indexing Reward Tokens=781.892419941371744000\n",
      "Model: Timestep=129, Indexing Reward Tokens=781.8924199413717440000000209\n",
      "Shares Equal? False\n",
      "Shares Within 1%? True\n",
      "\n"
     ]
    }
   ],
   "metadata": {}
  },
  {
   "cell_type": "markdown",
   "source": [
    "# Conclusion\r\n",
    "The indexing reward token quantities are accurate to roughly 21 significant figures except in timestep 58.  "
   ],
   "metadata": {}
  }
 ],
 "metadata": {
  "interpreter": {
   "hash": "0b0631ca040321b645c8721b9afbca57f18a1aa322598383be03b7ee0c528602"
  },
  "kernelspec": {
   "name": "python3",
   "display_name": "Python 3.9.6 64-bit ('py396': conda)"
  },
  "language_info": {
   "codemirror_mode": {
    "name": "ipython",
    "version": 3
   },
   "file_extension": ".py",
   "mimetype": "text/x-python",
   "name": "python",
   "nbconvert_exporter": "python",
   "pygments_lexer": "ipython3",
   "version": "3.9.6"
  }
 },
 "nbformat": 4,
 "nbformat_minor": 4
}