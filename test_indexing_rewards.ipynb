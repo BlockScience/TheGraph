{
 "cells": [
  {
   "cell_type": "markdown",
   "metadata": {},
   "source": [
    "# Indexing Reward Unit Test\r\n",
    "Performing verification of the indexing rewards mechanism by comparing the event data to the results of cadCAD model."
   ]
  },
  {
   "cell_type": "code",
   "execution_count": 1,
   "metadata": {},
   "outputs": [
    {
     "name": "stdout",
     "output_type": "stream",
     "text": [
      "loaded GraphQL_data/SIstakeDelegateds.csv.\n",
      "loaded GraphQL_data/SIstakeLockeds.csv.\n",
      "loaded GraphQL_data/SIstakeWithdrawns.csv.\n",
      "loaded GraphQL_data/SIallocationCloseds.csv.\n",
      "loaded GraphQL_data/SIallocationCollecteds.csv.\n",
      "loaded GraphQL_data/SIstakeDepositeds.csv.\n",
      "loaded GraphQL_data/SIrewardsAssigneds.csv.\n"
     ]
    }
   ],
   "source": [
    "import pandas as pd\r\n",
    "import numpy as np\r\n",
    "from decimal import Decimal\r\n",
    "from decimal import *\r\n",
    "import model.parts.utils as utils\r\n",
    "from model.sys_params import *\r\n",
    "df = pd.read_pickle(r'experiment.p')"
   ]
  },
  {
   "cell_type": "markdown",
   "metadata": {},
   "source": [
    "Configure environment"
   ]
  },
  {
   "cell_type": "code",
   "execution_count": 2,
   "metadata": {},
   "outputs": [],
   "source": [
    "df.reset_index(inplace = True)\r\n",
    "pd.set_option('display.max_rows', None)"
   ]
  },
  {
   "cell_type": "code",
   "execution_count": 3,
   "metadata": {},
   "outputs": [
    {
     "name": "stdout",
     "output_type": "stream",
     "text": [
      "EXPECTED TRUE INDEXING REWARDS FROM STAKE DEPOSITED EVENTS:\n",
      "6992.278838280839213400\n",
      "7412.390565199642429400\n",
      "0.314500799690706457\n",
      "19917.334764642678146000\n",
      "23772.682490475838525600\n",
      "781.892419941371744000\n"
     ]
    }
   ],
   "source": [
    "stake_deposited_events_dict = stake_deposited_events[0]\r\n",
    "print(\"EXPECTED TRUE INDEXING REWARDS FROM STAKE DEPOSITED EVENTS:\")\r\n",
    "is_first = True\r\n",
    "for timestep, indexing_fee_events_list in stake_deposited_events_dict.items():\r\n",
    "    if is_first:\r\n",
    "        is_first = False\r\n",
    "        pass\r\n",
    "    else:        \r\n",
    "        if indexing_fee_events_list is None:\r\n",
    "            indexing_fee_amt = 0\r\n",
    "        else:\r\n",
    "            indexing_fee_amt = sum([e['tokens'] for e in indexing_fee_events_list])        \r\n",
    "        print(indexing_fee_amt)\r\n",
    "        # print(f\"{timestep}, {stake_deposited_event[0]['tokens']}\")\r\n",
    "    \r\n"
   ]
  },
  {
   "cell_type": "code",
   "execution_count": 4,
   "metadata": {},
   "outputs": [
    {
     "name": "stdout",
     "output_type": "stream",
     "text": [
      "MODELED RESULTS\n",
      "22, indexing_rewards=Decimal('6992.278838280839318069514071')\n",
      "23, indexing_rewards=Decimal('7412.390565199642540358292222')\n",
      "30, indexing_rewards=Decimal('0E-48')\n",
      "59, indexing_rewards=Decimal('11791.92203368813839133992081')\n",
      "128, indexing_rewards=Decimal('23772.68249047583888146039716')\n",
      "130, indexing_rewards=Decimal('781.8924199413717557043815255')\n"
     ]
    }
   ],
   "source": [
    "print(\"MODELED RESULTS\")\r\n",
    "# print(df.iloc[timestep])\r\n",
    "is_first = True\r\n",
    "indexing_rewards_modeled = {}\r\n",
    "for timestep, stake_deposited_event in stake_deposited_events_dict.items():\r\n",
    "    # back indexing rewards out from increase in pool_delegated_stake / 0.11 * 0.89\r\n",
    "    if is_first:\r\n",
    "        is_first = False\r\n",
    "        pass\r\n",
    "    else:       \r\n",
    "        indexing_rewards =( df.iloc[timestep-1]['pool_delegated_stake'] - df.iloc[timestep-2]['pool_delegated_stake']) / (1 - indexer_revenue_cut[0]) * (indexer_revenue_cut[0])\r\n",
    "        indexing_rewards_modeled[timestep] = indexing_rewards\r\n",
    "        print(f\"{timestep}, {indexing_rewards=}\")\r\n"
   ]
  },
  {
   "cell_type": "code",
   "execution_count": 5,
   "metadata": {},
   "outputs": [
    {
     "name": "stdout",
     "output_type": "stream",
     "text": [
      "UNITTEST RESULTS\n",
      "Event: Timestep=21, Indexing Reward Tokens=6992.278838280839213400\n",
      "Model: Timestep=21, Indexing Reward Tokens=6992.278838280839318069514071\n",
      "Tokens Equal? False\n",
      "Tokens Within 1%? True\n",
      "\n",
      "Event: Timestep=22, Indexing Reward Tokens=7412.390565199642429400\n",
      "Model: Timestep=22, Indexing Reward Tokens=7412.390565199642540358292222\n",
      "Tokens Equal? False\n",
      "Tokens Within 1%? True\n",
      "\n",
      "Event: Timestep=29, Indexing Reward Tokens=0.314500799690706457\n",
      "Model: Timestep=29, Indexing Reward Tokens=0E-48\n",
      "Tokens Equal? False\n"
     ]
    },
    {
     "ename": "DivisionByZero",
     "evalue": "[<class 'decimal.DivisionByZero'>]",
     "output_type": "error",
     "traceback": [
      "\u001b[0;31m---------------------------------------------------------------------------\u001b[0m",
      "\u001b[0;31mDivisionByZero\u001b[0m                            Traceback (most recent call last)",
      "\u001b[0;32m<ipython-input-5-6565fe8895cd>\u001b[0m in \u001b[0;36m<module>\u001b[0;34m\u001b[0m\n\u001b[1;32m     11\u001b[0m         \u001b[0mprint\u001b[0m\u001b[0;34m(\u001b[0m\u001b[0;34mf\"Model: Timestep={timestep-1}, Indexing Reward Tokens={indexing_rewards}\"\u001b[0m\u001b[0;34m)\u001b[0m\u001b[0;34m\u001b[0m\u001b[0;34m\u001b[0m\u001b[0m\n\u001b[1;32m     12\u001b[0m         \u001b[0mprint\u001b[0m\u001b[0;34m(\u001b[0m\u001b[0;34m\"Tokens Equal?\"\u001b[0m\u001b[0;34m,\u001b[0m \u001b[0mstake_deposited_event\u001b[0m\u001b[0;34m[\u001b[0m\u001b[0;36m0\u001b[0m\u001b[0;34m]\u001b[0m\u001b[0;34m[\u001b[0m\u001b[0;34m'tokens'\u001b[0m\u001b[0;34m]\u001b[0m \u001b[0;34m==\u001b[0m \u001b[0mindexing_rewards\u001b[0m\u001b[0;34m)\u001b[0m\u001b[0;34m\u001b[0m\u001b[0;34m\u001b[0m\u001b[0m\n\u001b[0;32m---> 13\u001b[0;31m         \u001b[0mprint\u001b[0m\u001b[0;34m(\u001b[0m\u001b[0;34m\"Tokens Within 1%?\"\u001b[0m\u001b[0;34m,\u001b[0m \u001b[0;36m0.99\u001b[0m \u001b[0;34m<=\u001b[0m \u001b[0mabs\u001b[0m\u001b[0;34m(\u001b[0m\u001b[0mstake_deposited_event\u001b[0m\u001b[0;34m[\u001b[0m\u001b[0;36m0\u001b[0m\u001b[0;34m]\u001b[0m\u001b[0;34m[\u001b[0m\u001b[0;34m'tokens'\u001b[0m\u001b[0;34m]\u001b[0m \u001b[0;34m/\u001b[0m \u001b[0mindexing_rewards\u001b[0m\u001b[0;34m)\u001b[0m \u001b[0;34m<=\u001b[0m \u001b[0;36m1.01\u001b[0m\u001b[0;34m)\u001b[0m\u001b[0;34m\u001b[0m\u001b[0;34m\u001b[0m\u001b[0m\n\u001b[0m\u001b[1;32m     14\u001b[0m         \u001b[0mprint\u001b[0m\u001b[0;34m(\u001b[0m\u001b[0;34m)\u001b[0m\u001b[0;34m\u001b[0m\u001b[0;34m\u001b[0m\u001b[0m\n",
      "\u001b[0;31mDivisionByZero\u001b[0m: [<class 'decimal.DivisionByZero'>]"
     ]
    }
   ],
   "source": [
    "print(\"UNITTEST RESULTS\")\r\n",
    "is_first = True\r\n",
    "for timestep, stake_deposited_event in stake_deposited_events_dict.items():\r\n",
    "    # back indexing rewards out from increase in pool_delegated_stake / 0.11 * 0.89\r\n",
    "    if is_first:\r\n",
    "        is_first = False\r\n",
    "        pass\r\n",
    "    else:       \r\n",
    "        indexing_rewards = indexing_rewards_modeled[timestep]\r\n",
    "        print(f\"Event: Timestep={timestep-1}, Indexing Reward Tokens={stake_deposited_event[0]['tokens']}\")\r\n",
    "        print(f\"Model: Timestep={timestep-1}, Indexing Reward Tokens={indexing_rewards}\")\r\n",
    "        print(\"Tokens Equal?\", stake_deposited_event[0]['tokens'] == indexing_rewards)\r\n",
    "        print(\"Tokens Within 1%?\", 0.99 <= abs(stake_deposited_event[0]['tokens'] / indexing_rewards) <= 1.01)\r\n",
    "        print()\r\n"
   ]
  },
  {
   "cell_type": "markdown",
   "metadata": {},
   "source": [
    "# Conclusion\r\n",
    "The indexing reward token quantities are accurate to roughly 21 significant figures except in timestep 58.  "
   ]
  }
 ],
 "metadata": {
  "interpreter": {
   "hash": "0b0631ca040321b645c8721b9afbca57f18a1aa322598383be03b7ee0c528602"
  },
  "kernelspec": {
   "display_name": "Python 3",
   "language": "python",
   "name": "python3"
  },
  "language_info": {
   "codemirror_mode": {
    "name": "ipython",
    "version": 3
   },
   "file_extension": ".py",
   "mimetype": "text/x-python",
   "name": "python",
   "nbconvert_exporter": "python",
   "pygments_lexer": "ipython3",
   "version": "3.8.5"
  }
 },
 "nbformat": 4,
 "nbformat_minor": 4
}
