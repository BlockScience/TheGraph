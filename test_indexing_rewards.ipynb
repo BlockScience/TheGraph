{
 "cells": [
  {
   "cell_type": "markdown",
   "metadata": {},
   "source": [
    "# Indexing Reward Unit Test\r\n",
    "Performing verification of the indexing rewards mechanism by comparing the event data to the results of cadCAD model."
   ]
  },
  {
   "cell_type": "code",
   "execution_count": 1,
   "metadata": {},
   "outputs": [
    {
     "name": "stdout",
     "output_type": "stream",
     "text": [
      "loaded another_indexer/0xd133fd8e0607f5d82c91626140495ea0a31d0398/SIstakeDelegateds.csv.\n",
      "loaded another_indexer/0xd133fd8e0607f5d82c91626140495ea0a31d0398/SIstakeLockeds.csv.\n",
      "loaded another_indexer/0xd133fd8e0607f5d82c91626140495ea0a31d0398/SIstakeWithdrawns.csv.\n",
      "loaded another_indexer/0xd133fd8e0607f5d82c91626140495ea0a31d0398/SIallocationCloseds.csv.\n",
      "loaded another_indexer/0xd133fd8e0607f5d82c91626140495ea0a31d0398/SIallocationCollecteds.csv.\n",
      "loaded another_indexer/0xd133fd8e0607f5d82c91626140495ea0a31d0398/SIstakeDepositeds.csv.\n",
      "loaded another_indexer/0xd133fd8e0607f5d82c91626140495ea0a31d0398/SIrewardsAssigneds.csv.\n"
     ]
    }
   ],
   "source": [
    "import pandas as pd\r\n",
    "import numpy as np\r\n",
    "from decimal import Decimal\r\n",
    "from decimal import *\r\n",
    "import model.parts.utils as utils\r\n",
    "from model.sys_params import *\r\n",
    "df = pd.read_pickle(r'experiment.p')"
   ]
  },
  {
   "cell_type": "markdown",
   "metadata": {},
   "source": [
    "Configure environment"
   ]
  },
  {
   "cell_type": "code",
   "execution_count": 2,
   "metadata": {},
   "outputs": [],
   "source": [
    "df.reset_index(inplace = True)\r\n",
    "pd.set_option('display.max_rows', None)"
   ]
  },
  {
   "cell_type": "code",
   "execution_count": 3,
   "metadata": {},
   "outputs": [
    {
     "name": "stdout",
     "output_type": "stream",
     "text": [
      "EXPECTED TRUE INDEXING REWARDS FROM STAKE DEPOSITED EVENTS:\n",
      "6685.642545872035705186\n",
      "5533572818.55335728180195\n"
     ]
    }
   ],
   "source": [
    "stake_deposited_events_dict = stake_deposited_events[0]\r\n",
    "print(\"EXPECTED TRUE INDEXING REWARDS FROM STAKE DEPOSITED EVENTS:\")\r\n",
    "is_first = True\r\n",
    "for timestep, indexing_fee_events_list in stake_deposited_events_dict.items():\r\n",
    "    if is_first:\r\n",
    "        is_first = False\r\n",
    "        pass\r\n",
    "    else:        \r\n",
    "        if indexing_fee_events_list is None:\r\n",
    "            indexing_fee_amt = 0\r\n",
    "        else:\r\n",
    "            indexing_fee_amt = sum([e['tokens'] for e in indexing_fee_events_list])        \r\n",
    "        print(indexing_fee_amt)\r\n",
    "        # print(f\"{timestep}, {stake_deposited_event[0]['tokens']}\")\r\n",
    "    \r\n"
   ]
  },
  {
   "cell_type": "code",
   "execution_count": 4,
   "metadata": {},
   "outputs": [
    {
     "name": "stdout",
     "output_type": "stream",
     "text": [
      "MODELED RESULTS\n"
     ]
    },
    {
     "ename": "InvalidOperation",
     "evalue": "[<class 'decimal.DivisionUndefined'>]",
     "output_type": "error",
     "traceback": [
      "\u001b[0;31m---------------------------------------------------------------------------\u001b[0m",
      "\u001b[0;31mInvalidOperation\u001b[0m                          Traceback (most recent call last)",
      "\u001b[0;32m<ipython-input-4-2e337a1d0aa7>\u001b[0m in \u001b[0;36m<module>\u001b[0;34m\u001b[0m\n\u001b[1;32m      9\u001b[0m         \u001b[0;32mpass\u001b[0m\u001b[0;34m\u001b[0m\u001b[0;34m\u001b[0m\u001b[0m\n\u001b[1;32m     10\u001b[0m     \u001b[0;32melse\u001b[0m\u001b[0;34m:\u001b[0m\u001b[0;34m\u001b[0m\u001b[0;34m\u001b[0m\u001b[0m\n\u001b[0;32m---> 11\u001b[0;31m         \u001b[0mindexing_rewards\u001b[0m \u001b[0;34m=\u001b[0m\u001b[0;34m(\u001b[0m \u001b[0mdf\u001b[0m\u001b[0;34m.\u001b[0m\u001b[0miloc\u001b[0m\u001b[0;34m[\u001b[0m\u001b[0mtimestep\u001b[0m\u001b[0;34m-\u001b[0m\u001b[0;36m1\u001b[0m\u001b[0;34m]\u001b[0m\u001b[0;34m[\u001b[0m\u001b[0;34m'pool_delegated_stake'\u001b[0m\u001b[0;34m]\u001b[0m \u001b[0;34m-\u001b[0m \u001b[0mdf\u001b[0m\u001b[0;34m.\u001b[0m\u001b[0miloc\u001b[0m\u001b[0;34m[\u001b[0m\u001b[0mtimestep\u001b[0m\u001b[0;34m-\u001b[0m\u001b[0;36m2\u001b[0m\u001b[0;34m]\u001b[0m\u001b[0;34m[\u001b[0m\u001b[0;34m'pool_delegated_stake'\u001b[0m\u001b[0;34m]\u001b[0m\u001b[0;34m)\u001b[0m \u001b[0;34m/\u001b[0m \u001b[0;34m(\u001b[0m\u001b[0;36m1\u001b[0m \u001b[0;34m-\u001b[0m \u001b[0mindexer_revenue_cut\u001b[0m\u001b[0;34m[\u001b[0m\u001b[0;36m0\u001b[0m\u001b[0;34m]\u001b[0m\u001b[0;34m)\u001b[0m \u001b[0;34m*\u001b[0m \u001b[0;34m(\u001b[0m\u001b[0mindexer_revenue_cut\u001b[0m\u001b[0;34m[\u001b[0m\u001b[0;36m0\u001b[0m\u001b[0;34m]\u001b[0m\u001b[0;34m)\u001b[0m\u001b[0;34m\u001b[0m\u001b[0;34m\u001b[0m\u001b[0m\n\u001b[0m\u001b[1;32m     12\u001b[0m         \u001b[0mindexing_rewards_modeled\u001b[0m\u001b[0;34m[\u001b[0m\u001b[0mtimestep\u001b[0m\u001b[0;34m]\u001b[0m \u001b[0;34m=\u001b[0m \u001b[0mindexing_rewards\u001b[0m\u001b[0;34m\u001b[0m\u001b[0;34m\u001b[0m\u001b[0m\n\u001b[1;32m     13\u001b[0m         \u001b[0mprint\u001b[0m\u001b[0;34m(\u001b[0m\u001b[0;34mf\"{timestep}, {indexing_rewards=}\"\u001b[0m\u001b[0;34m)\u001b[0m\u001b[0;34m\u001b[0m\u001b[0;34m\u001b[0m\u001b[0m\n",
      "\u001b[0;31mInvalidOperation\u001b[0m: [<class 'decimal.DivisionUndefined'>]"
     ]
    }
   ],
   "source": [
    "print(\"MODELED RESULTS\")\r\n",
    "# print(df.iloc[timestep])\r\n",
    "is_first = True\r\n",
    "indexing_rewards_modeled = {}\r\n",
    "for timestep, stake_deposited_event in stake_deposited_events_dict.items():\r\n",
    "    # back indexing rewards out from increase in pool_delegated_stake / 0.11 * 0.89\r\n",
    "    if is_first:\r\n",
    "        is_first = False\r\n",
    "        pass\r\n",
    "    else:       \r\n",
    "        indexing_rewards =( df.iloc[timestep-1]['pool_delegated_stake'] - df.iloc[timestep-2]['pool_delegated_stake']) / (1 - indexer_revenue_cut[0]) * (indexer_revenue_cut[0])\r\n",
    "        indexing_rewards_modeled[timestep] = indexing_rewards\r\n",
    "        print(f\"{timestep}, {indexing_rewards=}\")\r\n"
   ]
  },
  {
   "cell_type": "code",
   "execution_count": 5,
   "metadata": {},
   "outputs": [
    {
     "name": "stdout",
     "output_type": "stream",
     "text": [
      "UNITTEST RESULTS\n"
     ]
    },
    {
     "ename": "KeyError",
     "evalue": "105",
     "output_type": "error",
     "traceback": [
      "\u001b[0;31m---------------------------------------------------------------------------\u001b[0m",
      "\u001b[0;31mKeyError\u001b[0m                                  Traceback (most recent call last)",
      "\u001b[0;32m<ipython-input-5-6565fe8895cd>\u001b[0m in \u001b[0;36m<module>\u001b[0;34m\u001b[0m\n\u001b[1;32m      7\u001b[0m         \u001b[0;32mpass\u001b[0m\u001b[0;34m\u001b[0m\u001b[0;34m\u001b[0m\u001b[0m\n\u001b[1;32m      8\u001b[0m     \u001b[0;32melse\u001b[0m\u001b[0;34m:\u001b[0m\u001b[0;34m\u001b[0m\u001b[0;34m\u001b[0m\u001b[0m\n\u001b[0;32m----> 9\u001b[0;31m         \u001b[0mindexing_rewards\u001b[0m \u001b[0;34m=\u001b[0m \u001b[0mindexing_rewards_modeled\u001b[0m\u001b[0;34m[\u001b[0m\u001b[0mtimestep\u001b[0m\u001b[0;34m]\u001b[0m\u001b[0;34m\u001b[0m\u001b[0;34m\u001b[0m\u001b[0m\n\u001b[0m\u001b[1;32m     10\u001b[0m         \u001b[0mprint\u001b[0m\u001b[0;34m(\u001b[0m\u001b[0;34mf\"Event: Timestep={timestep-1}, Indexing Reward Tokens={stake_deposited_event[0]['tokens']}\"\u001b[0m\u001b[0;34m)\u001b[0m\u001b[0;34m\u001b[0m\u001b[0;34m\u001b[0m\u001b[0m\n\u001b[1;32m     11\u001b[0m         \u001b[0mprint\u001b[0m\u001b[0;34m(\u001b[0m\u001b[0;34mf\"Model: Timestep={timestep-1}, Indexing Reward Tokens={indexing_rewards}\"\u001b[0m\u001b[0;34m)\u001b[0m\u001b[0;34m\u001b[0m\u001b[0;34m\u001b[0m\u001b[0m\n",
      "\u001b[0;31mKeyError\u001b[0m: 105"
     ]
    }
   ],
   "source": [
    "print(\"UNITTEST RESULTS\")\r\n",
    "is_first = True\r\n",
    "for timestep, stake_deposited_event in stake_deposited_events_dict.items():\r\n",
    "    # back indexing rewards out from increase in pool_delegated_stake / 0.11 * 0.89\r\n",
    "    if is_first:\r\n",
    "        is_first = False\r\n",
    "        pass\r\n",
    "    else:       \r\n",
    "        indexing_rewards = indexing_rewards_modeled[timestep]\r\n",
    "        print(f\"Event: Timestep={timestep-1}, Indexing Reward Tokens={stake_deposited_event[0]['tokens']}\")\r\n",
    "        print(f\"Model: Timestep={timestep-1}, Indexing Reward Tokens={indexing_rewards}\")\r\n",
    "        print(\"Tokens Equal?\", stake_deposited_event[0]['tokens'] == indexing_rewards)\r\n",
    "        print(\"Tokens Within 1%?\", 0.99 <= abs(stake_deposited_event[0]['tokens'] / indexing_rewards) <= 1.01)\r\n",
    "        print()\r\n"
   ]
  },
  {
   "cell_type": "markdown",
   "metadata": {},
   "source": [
    "# Conclusion\r\n",
    "The indexing reward token quantities are accurate to roughly 21 significant figures except in timestep 58.  "
   ]
  }
 ],
 "metadata": {
  "interpreter": {
   "hash": "0b0631ca040321b645c8721b9afbca57f18a1aa322598383be03b7ee0c528602"
  },
  "kernelspec": {
   "display_name": "Python 3",
   "language": "python",
   "name": "python3"
  },
  "language_info": {
   "codemirror_mode": {
    "name": "ipython",
    "version": 3
   },
   "file_extension": ".py",
   "mimetype": "text/x-python",
   "name": "python",
   "nbconvert_exporter": "python",
   "pygments_lexer": "ipython3",
   "version": "3.8.5"
  }
 },
 "nbformat": 4,
 "nbformat_minor": 4
}
