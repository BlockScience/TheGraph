{
 "cells": [
  {
   "cell_type": "markdown",
   "metadata": {},
   "source": [
    "# Indexing Reward Unit Test\n",
    "Performing verification of the indexing rewards mechanism by comparing the event data to the results of cadCAD model."
   ]
  },
  {
   "cell_type": "code",
   "execution_count": null,
   "metadata": {},
   "outputs": [],
   "source": [
    "import pandas as pd\n",
    "import numpy as np\n",
    "from decimal import Decimal\n",
    "from decimal import *\n",
    "import model.parts.utils as utils\n",
    "from model.sys_params import *\n",
    "df = pd.read_pickle(r'experiment.p')"
   ]
  },
  {
   "cell_type": "markdown",
   "metadata": {},
   "source": [
    "Configure environment"
   ]
  },
  {
   "cell_type": "code",
   "execution_count": null,
   "metadata": {},
   "outputs": [],
   "source": [
    "df.reset_index(inplace = True)\n",
    "pd.set_option('display.max_rows', None)\n"
   ]
  },
  {
   "cell_type": "code",
   "execution_count": null,
   "metadata": {},
   "outputs": [],
   "source": [
    "\n",
    "print(\"EXPECTED TRUE INDEXING REWARDS FROM REWARDS ASSIGNED EVENTS:\")\n",
    "is_first = True\n",
    "for timestep, indexing_fee_events_list in rewards_assigned_events.items():\n",
    "    # if is_first:\n",
    "    #     is_first = False\n",
    "    #     pass\n",
    "    # else:        \n",
    "        if indexing_fee_events_list is None:\n",
    "            indexing_fee_amt = 0\n",
    "        else:\n",
    "            indexing_fee_amt = sum([e['amount'] for e in indexing_fee_events_list])        \n",
    "        print(indexing_fee_amt)\n",
    "        # print(f\"{timestep}, {stake_deposited_event[0]['tokens']}\")\n",
    "    \n"
   ]
  },
  {
   "cell_type": "code",
   "execution_count": null,
   "metadata": {},
   "outputs": [],
   "source": [
    "print(\"MODELED RESULTS\")\n",
    "# TODO: weave in indexer_revenue_cut events\n",
    "# indexer #1\n",
    "# indexer_revenue_cut = 0.89\n",
    "# indexer #2\n",
    "indexer_revenue_cut = Decimal(0.8)\n",
    "# print(df.iloc[timestep])\n",
    "# is_first = True\n",
    "indexing_rewards_modeled = {}\n",
    "for timestep, stake_deposited_event in rewards_assigned_events.items():\n",
    "    # back indexing rewards out from increase in pool_delegated_stake / 0.11 * 0.89\n",
    "    event = stake_deposited_event[0]\n",
    "    new_indexing_rewards = df.iloc[timestep-1].indexers[event['indexer']].pool_delegated_stake\n",
    "    old_indexing_rewards = df.iloc[timestep-2].indexers[event['indexer']].pool_delegated_stake\n",
    "    indexing_rewards =(new_indexing_rewards - old_indexing_rewards) / (1 - indexer_revenue_cut) \n",
    "    indexing_rewards_modeled[timestep] = indexing_rewards\n",
    "    print(f\"{timestep}, {indexing_rewards=}\")\n",
    "        \n"
   ]
  },
  {
   "cell_type": "code",
   "execution_count": null,
   "metadata": {},
   "outputs": [],
   "source": [
    "print(\"UNITTEST RESULTS\")\n",
    "is_first = True\n",
    "# print(rewards_assigned_events)\n",
    "cntExact = 0\n",
    "cntReallyClose = 0\n",
    "cntClose = 0\n",
    "cnt = 0\n",
    "cntWrong = 0\n",
    "for timestep, rewards_assigned_event in rewards_assigned_events.items():\n",
    "    # back indexing rewards out from increase in pool_delegated_stake / 0.11 * 0.89\n",
    "    modeled_indexing_rewards = indexing_rewards_modeled[timestep]\n",
    "    event_indexing_rewards = rewards_assigned_event[0]['amount']\n",
    "    print(f\"Event: Timestep={timestep}, Indexing Reward Tokens={event_indexing_rewards}\")\n",
    "    print(f\"Model: Timestep={timestep}, Indexing Reward Tokens={modeled_indexing_rewards}\")\n",
    "    # print(\"Tokens Within 1%?\", 0.99 <= abs(event_indexing_rewards / modeled_indexing_rewards) <= 1.01)\n",
    "    # print()\n",
    "    try:\n",
    "        ratio = abs(modeled_indexing_rewards / event_indexing_rewards)\n",
    "    except:\n",
    "        ratio = np.inf\n",
    "    exact = ratio == 1.0\n",
    "    close = 0.99 <= ratio <= 1.01\n",
    "    reallyClose = 0.99999 <= ratio <= 1.00001\n",
    "\n",
    "    if exact:            \n",
    "        cntExact += 1\n",
    "    elif reallyClose:\n",
    "        cntReallyClose += 1\n",
    "    elif close:\n",
    "        cntClose += 1\n",
    "    else:\n",
    "        cntWrong += 1\n",
    "    cnt += 1\n",
    "    print(\"Tokens Equal?\", exact)\n",
    "    print(\"Tokens Within 0.001%?\", reallyClose)\n",
    "    print(\"Tokens Within 1%?\", close)\n",
    "    print(f\"Exact: {cntExact}, ReallyClose: {cntReallyClose}, Close: {cntClose}, Wrong: {cntWrong}, Total Number: {cnt}\")   \n",
    "    print()\n",
    "print(f\"Exact: {cntExact}, ReallyClose: {cntReallyClose}, Close: {cntClose}, Wrong: {cntWrong}, Total Number: {cnt}\")           \n"
   ]
  },
  {
   "cell_type": "markdown",
   "metadata": {},
   "source": [
    "# Conclusion\n",
    "The indexing reward token quantities are accurate to roughly 21 significant figures except in timestep 58.  "
   ]
  }
 ],
 "metadata": {
  "interpreter": {
   "hash": "0b0631ca040321b645c8721b9afbca57f18a1aa322598383be03b7ee0c528602"
  },
  "kernelspec": {
   "display_name": "Python 3.9.6 64-bit ('py396': conda)",
   "name": "python3"
  },
  "language_info": {
   "codemirror_mode": {
    "name": "ipython",
    "version": 3
   },
   "file_extension": ".py",
   "mimetype": "text/x-python",
   "name": "python",
   "nbconvert_exporter": "python",
   "pygments_lexer": "ipython3",
   "version": "3.9.6"
  }
 },
 "nbformat": 4,
 "nbformat_minor": 4
}
