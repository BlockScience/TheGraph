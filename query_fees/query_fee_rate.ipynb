{
 "cells": [
  {
   "cell_type": "markdown",
   "metadata": {},
   "source": [
    "# Query Fee Rate"
   ]
  },
  {
   "cell_type": "code",
   "execution_count": 1,
   "metadata": {},
   "outputs": [],
   "source": [
    "# standard imports\n",
    "import pandas as pd\n",
    "import json\n",
    "import requests\n",
    "import matplotlib.pyplot as plt\n",
    "import numpy as np\n",
    "from eth_utils import keccak\n",
    "#from web3 import Web3"
   ]
  },
  {
   "cell_type": "markdown",
   "metadata": {},
   "source": [
    "### Ford Subgraph"
   ]
  },
  {
   "cell_type": "code",
   "execution_count": 2,
   "metadata": {},
   "outputs": [],
   "source": [
    "url = 'https://api.thegraph.com/subgraphs/name/fordn/graph-network-events'"
   ]
  },
  {
   "cell_type": "code",
   "execution_count": 3,
   "metadata": {},
   "outputs": [],
   "source": [
    "# function used to query each type of event from The Graph\n",
    "def query_theGraphFord(raw_query, field_name, url, verbose=False):\n",
    "\n",
    "    query_parts =raw_query.split(')')\n",
    "    paginator = \", where: {}\"\n",
    "    n = 0\n",
    "    records = []\n",
    "    while n < 1000:\n",
    "        if (n == 0):\n",
    "            # order by blockNumber to get all events, as deafult ordering is by id\n",
    "            query = 'query '+query_parts[0] + 'orderBy:blockNumber, where:{blockNumber_gt: 0})' + query_parts[1]\n",
    "        else:\n",
    "            query = 'query '+query_parts[0]+ 'orderBy:blockNumber, where: {blockNumber_gt: ' + indexer + '})'+query_parts[1]\n",
    "\n",
    "        if verbose:\n",
    "            print(query)\n",
    "\n",
    "        r = requests.post(url, json = {'query':query})\n",
    "\n",
    "        try:\n",
    "            d = json.loads(r.content)['data'][field_name]\n",
    "        except:\n",
    "            print(r.content)\n",
    "            errors = json.loads(r.content)['errors']\n",
    "            print(errors)\n",
    "            for e in errors:\n",
    "                print(e['message'])\n",
    "\n",
    "        #print(f'results {len(d)}')\n",
    "        records.extend(d)\n",
    "        #print(f'total {len(records)}')\n",
    "        try:\n",
    "            indexer = d[-1]['blockNumber']\n",
    "        except:\n",
    "            print('noblock')\n",
    "        \n",
    "        n += 1\n",
    "        if len(d) < 99:\n",
    "            break\n",
    "        \n",
    "    return pd.DataFrame(records)"
   ]
  },
  {
   "cell_type": "code",
   "execution_count": 5,
   "metadata": {},
   "outputs": [],
   "source": [
    "# get allocationCollected event\n",
    "collect_query = \"\"\"query{\n",
    "  allocationCollecteds() {\n",
    "    id\n",
    "    blockNumber\n",
    "    logIndex\n",
    "    indexer\n",
    "    subgraphDeploymentID\n",
    "    epoch\n",
    "    tokens\n",
    "    allocationID\n",
    "    from\n",
    "    curationFees\n",
    "    rebateFees\n",
    "  }\n",
    "  \n",
    "}\"\"\"\n",
    "\n",
    "field_name = 'allocationCollecteds'\n",
    "alloc_collected_df = query_theGraphFord(collect_query, field_name, url, False)\n",
    "\n",
    "# save allocationCollected data\n",
    "alloc_collected_df['type'] = 'allocationCollecteds'\n",
    "alloc_collected_df.to_csv('allocationCollected.csv', index = False, header = True)"
   ]
  },
  {
   "cell_type": "code",
   "execution_count": 6,
   "metadata": {},
   "outputs": [],
   "source": [
    "# get rewardsAssigned data\n",
    "rewardsassigned_query = \"\"\"query{rewardsAssigneds () {\n",
    "    id\n",
    "    blockNumber\n",
    "    logIndex\n",
    "    indexer\n",
    "    amount\n",
    "    epoch\n",
    "}\n",
    "}\"\"\"\n",
    "field_name = 'rewardsAssigneds'\n",
    "rewards_assigned_df = query_theGraphFord(rewardsassigned_query, field_name, url, False)\n",
    "\n",
    "# save rewardsAssigned data\n",
    "rewards_assigned_df['type'] = 'rewardsAssigneds'\n",
    "rewards_assigned_df.to_csv('rewardsAssigneds.csv', index = False, header = True)"
   ]
  },
  {
   "cell_type": "code",
   "execution_count": 7,
   "metadata": {},
   "outputs": [],
   "source": [
    "# get rebateClaim data\n",
    "rebate_query = \"\"\"query{rebateClaimeds () {\n",
    "    id\n",
    "    blockNumber\n",
    "    logIndex\n",
    "    indexer\n",
    "    tokens\n",
    "    subgraphDeploymentID\n",
    "    allocationID\n",
    "    delegationFees\n",
    "    epoch\n",
    "}\n",
    "}\"\"\"\n",
    "field_name = 'rebateClaimeds'\n",
    "rebate_claim_df = query_theGraphFord(rebate_query, field_name, url, False)\n",
    "\n",
    "# save rebateClaim data\n",
    "rebate_claim_df['type'] = 'rebateClaimeds'\n",
    "rebate_claim_df.to_csv('rebateClaimeds.csv', index = False, header = True)"
   ]
  },
  {
   "cell_type": "code",
   "execution_count": null,
   "metadata": {},
   "outputs": [],
   "source": [
    "# function used to query each type of event from The Graph\n",
    "def query_theGraph(raw_query, field_name, url, trans_type, verbose=False):\n",
    "\n",
    "    query_parts =raw_query.split(')')\n",
    "    paginator = \", where: {}\" \n",
    "    n = 0\n",
    "    records = []\n",
    "    while n < 1000:\n",
    "        if (n == 0):\n",
    "            # order by blockNumber to get all events, as deafult ordering is by id\n",
    "            query = 'query '+query_parts[0] + 'orderBy:blockNumber, where:{blockNumber_gt: 0, type:' + trans_type +'})' + query_parts[1]\n",
    "        else:\n",
    "            query = 'query '+query_parts[0]+ 'orderBy:blockNumber, where: {blockNumber_gt: ' + str(indexer) + ', type:' + trans_type +'})'+query_parts[1]\n",
    "\n",
    "        if verbose:\n",
    "            print(query)\n",
    "\n",
    "        r = requests.post(url, json = {'query':query})\n",
    "\n",
    "        try:\n",
    "            d = json.loads(r.content)['data'][field_name]\n",
    "        except:\n",
    "            print(r.content)\n",
    "            errors = json.loads(r.content)['errors']\n",
    "            print(errors)\n",
    "            for e in errors:\n",
    "                print(e['message'])\n",
    "\n",
    "        #print(f'results {len(d)}')\n",
    "        records.extend(d)\n",
    "        #print(f'total {len(records)}')\n",
    "        try:\n",
    "            indexer = d[-1]['blockNumber']\n",
    "        except:\n",
    "            print('noblock')\n",
    "        \n",
    "        n += 1\n",
    "        if len(d) < 99:\n",
    "            break\n",
    "        \n",
    "    return pd.DataFrame(records)"
   ]
  },
  {
   "cell_type": "code",
   "execution_count": null,
   "metadata": {},
   "outputs": [],
   "source": [
    "url = 'https://api.thegraph.com/subgraphs/name/graphprotocol/graph-network-mainnet'"
   ]
  },
  {
   "cell_type": "code",
   "execution_count": null,
   "metadata": {},
   "outputs": [],
   "source": [
    "# get allocationCollected event\n",
    "collect_query = \"\"\"query{\n",
    "  allocationCollecteds() {\n",
    "    id\n",
    "    blockNumber\n",
    "    logIndex\n",
    "    indexer\n",
    "    subgraphDeploymentID\n",
    "    epoch\n",
    "    tokens\n",
    "    allocationID\n",
    "    from\n",
    "    curationFees\n",
    "    rebateFees\n",
    "  }\n",
    "  \n",
    "}\"\"\"\n",
    "\n",
    "field_name = 'allocationCollecteds'\n",
    "trans_type = 'MintSignal'\n",
    "alloc_collected_df = query_theGraph(collect_query, field_name, url, trans_type, False)\n",
    "\n",
    "# save allocationCollected data\n",
    "alloc_collected_df['type'] = 'allocationCollecteds'\n",
    "alloc_collected_df.to_csv('allocationCollected.csv', index = False, header = True)"
   ]
  },
  {
   "cell_type": "code",
   "execution_count": null,
   "metadata": {},
   "outputs": [],
   "source": [
    "# get rebateClaim data\n",
    "rebate_query = \"\"\"query{rebateClaimeds () {\n",
    "    id\n",
    "    blockNumber\n",
    "    logIndex\n",
    "    indexer\n",
    "    tokens\n",
    "    subgraphDeploymentID\n",
    "    allocationID\n",
    "    delegationFees\n",
    "    epoch\n",
    "}\n",
    "}\"\"\"\n",
    "field_name = 'rebateClaimeds'\n",
    "rebate_claim_df = query_theGraph(rebate_query, field_name, url, False)\n",
    "\n",
    "# save rebateClaim data\n",
    "rebate_claim_df['type'] = 'rebateClaimeds'"
   ]
  },
  {
   "cell_type": "code",
   "execution_count": null,
   "metadata": {},
   "outputs": [],
   "source": [
    "#get mintSignal event\n",
    "\n",
    "\n",
    "minted_query = '''query{\n",
    "  signalTransactions() {\n",
    "    id\n",
    "    blockNumber\n",
    "    signer{\n",
    "      curator\n",
    "      {\n",
    "        id\n",
    "      }\n",
    "    }\n",
    "    signal\n",
    "    tokens\n",
    "    type\n",
    "    subgraphDeployment{\n",
    "     id\n",
    "    } \n",
    "  }  \n",
    "}\n",
    "'''\n",
    "\n",
    "field_name = 'signalTransactions'\n",
    "trans_type = 'MintSignal'\n",
    "\n",
    "curation_mint_df = query_theGraph(minted_query, field_name, url, trans_type, False)"
   ]
  },
  {
   "cell_type": "code",
   "execution_count": null,
   "metadata": {},
   "outputs": [],
   "source": [
    "#alloc_created_df.to_csv('allocationCreateds.csv', index = False, header = True)\n",
    "curation_mint_df.head()"
   ]
  },
  {
   "cell_type": "code",
   "execution_count": null,
   "metadata": {},
   "outputs": [],
   "source": [
    "curation_mint_df['signer'] = [i['curator']['id'] for i in curation_mint_df['signer']]\n",
    "curation_mint_df['subgraphDeployment']  = [i['id'] for i in curation_mint_df['subgraphDeployment']]\n",
    "curation_mint_df.head()"
   ]
  },
  {
   "cell_type": "code",
   "execution_count": null,
   "metadata": {},
   "outputs": [],
   "source": [
    "len(curation_mint_df)"
   ]
  },
  {
   "cell_type": "code",
   "execution_count": null,
   "metadata": {},
   "outputs": [],
   "source": [
    "#get BurnSignal event\n",
    "url = 'https://api.thegraph.com/subgraphs/name/graphprotocol/graph-network-mainnet'\n",
    "\n",
    "created_query = '''query{\n",
    "  signalTransactions() {\n",
    "    id\n",
    "    blockNumber\n",
    "    signer{\n",
    "      curator\n",
    "      {\n",
    "        id\n",
    "      }\n",
    "    }\n",
    "    signal\n",
    "    tokens\n",
    "    type\n",
    "    subgraphDeployment{\n",
    "     id\n",
    "    } \n",
    "  }  \n",
    "}\n",
    "'''\n",
    "\n",
    "field_name = 'signalTransactions'\n",
    "trans_type = 'BurnSignal'\n",
    "\n",
    "curation_burned_df = query_theGraph(created_query, field_name, url, trans_type, False)"
   ]
  },
  {
   "cell_type": "code",
   "execution_count": null,
   "metadata": {},
   "outputs": [],
   "source": [
    "curation_burned_df.head()"
   ]
  },
  {
   "cell_type": "code",
   "execution_count": null,
   "metadata": {},
   "outputs": [],
   "source": [
    "curation_burned_df['signer'] = [i['curator']['id'] for i in curation_burned_df['signer']]\n",
    "curation_burned_df['subgraphDeployment']  = [i['id'] for i in curation_burned_df['subgraphDeployment']]\n",
    "curation_burned_df.head()"
   ]
  },
  {
   "cell_type": "code",
   "execution_count": null,
   "metadata": {},
   "outputs": [],
   "source": [
    "# get data of existing indexer\n",
    "indexer_df = pd.read_csv('../another_indexer/single_indexer/singleIndexer.csv', low_memory = False)\n",
    "indexer_df.head()\n",
    "#len(indexer_df)"
   ]
  },
  {
   "cell_type": "code",
   "execution_count": null,
   "metadata": {},
   "outputs": [],
   "source": [
    "# filter events for subgraphs\n",
    "subgraph_df = indexer_df[indexer_df['subgraphDeploymentID'].isna() != 1]"
   ]
  },
  {
   "cell_type": "code",
   "execution_count": null,
   "metadata": {},
   "outputs": [],
   "source": [
    "# create list of subgraphs indexer is involved in\n",
    "unique_subgraphs = subgraph_df['subgraphDeploymentID'].unique()"
   ]
  },
  {
   "cell_type": "code",
   "execution_count": null,
   "metadata": {},
   "outputs": [],
   "source": [
    "unique_subgraphs[1]"
   ]
  },
  {
   "cell_type": "code",
   "execution_count": null,
   "metadata": {},
   "outputs": [],
   "source": [
    "# combine mint and burn events\n",
    "indexer_curation_df = curation_mint_df[curation_mint_df['subgraphDeployment'].isin(unique_subgraphs)].append(curation_burned_df[curation_burned_df['subgraphDeployment'].isin(unique_subgraphs)])"
   ]
  },
  {
   "cell_type": "code",
   "execution_count": null,
   "metadata": {},
   "outputs": [],
   "source": [
    "indexer_curation_df.head()"
   ]
  },
  {
   "cell_type": "code",
   "execution_count": null,
   "metadata": {},
   "outputs": [],
   "source": [
    "len(indexer_curation_df)"
   ]
  },
  {
   "cell_type": "code",
   "execution_count": null,
   "metadata": {},
   "outputs": [],
   "source": [
    "# add curation events to existing indexer dataframe\n",
    "single_indexer_df = indexer_df.append(indexer_curation_df)\n",
    "single_indexer_df.sort_values(by='blockNumber')\n",
    "single_indexer_df.drop(['level_0', 'index'], axis = 1, inplace = True)\n",
    "single_indexer_df.head()"
   ]
  },
  {
   "cell_type": "code",
   "execution_count": null,
   "metadata": {},
   "outputs": [],
   "source": [
    "len(single_indexer_df)"
   ]
  },
  {
   "cell_type": "code",
   "execution_count": null,
   "metadata": {},
   "outputs": [],
   "source": [
    "# save all events for the indexer\n",
    "single_indexer_df.to_csv('../another_indexer/single_indexer/singleIndexer.csv', index = False, header = True)"
   ]
  },
  {
   "cell_type": "markdown",
   "metadata": {},
   "source": [
    "# GNS Exploration"
   ]
  },
  {
   "cell_type": "code",
   "execution_count": null,
   "metadata": {},
   "outputs": [],
   "source": [
    "#get MintNSignal event\n",
    "url = 'https://api.thegraph.com/subgraphs/name/graphprotocol/graph-network-mainnet'\n",
    "\n",
    "name_mint_query = '''query{\n",
    "  nameSignalTransactions(){\n",
    "    id\n",
    "    blockNumber\n",
    "    signer{\n",
    "      curator{\n",
    "        id\n",
    "      }\n",
    "    }\n",
    "    type\n",
    "    nameSignal\n",
    "    versionSignal\n",
    "    tokens\n",
    "    subgraph{\n",
    "      id\n",
    "      currentVersion\n",
    "      {\n",
    "        version\n",
    "        subgraphDeployment {\n",
    "          id\n",
    "        }\n",
    "      }\n",
    "      displayName\n",
    "    }\n",
    "  }\n",
    "}\n",
    "'''\n",
    "\n",
    "field_name = 'nameSignalTransactions'\n",
    "trans_type = 'MintNSignal'\n",
    "\n",
    "name_mint_df = query_theGraph(name_mint_query, field_name, url, trans_type, False)"
   ]
  },
  {
   "cell_type": "code",
   "execution_count": null,
   "metadata": {},
   "outputs": [],
   "source": [
    "name_mint_df.head()"
   ]
  },
  {
   "cell_type": "code",
   "execution_count": null,
   "metadata": {},
   "outputs": [],
   "source": [
    "name_mint_df['curatorId'] = [i['curator']['id'] for i in name_mint_df['signer']]\n",
    "name_mint_df['subgraphId'] = [i['id'] for i in name_mint_df['subgraph']]\n",
    "name_mint_df['subgraphDeploymentID'] = [i['currentVersion']['subgraphDeployment']['id'] for i in name_mint_df['subgraph']]\n",
    "name_mint_df['subgraphversion'] = [i['currentVersion']['version'] for i in name_mint_df['subgraph']]\n",
    "name_mint_df['subgraphname'] = [i['displayName'] for i in name_mint_df['subgraph']]\n",
    "name_mint_df.drop(['signer','subgraph'], axis = 1, inplace = True)\n",
    "name_mint_df.head()"
   ]
  },
  {
   "cell_type": "code",
   "execution_count": null,
   "metadata": {},
   "outputs": [],
   "source": [
    "#get BurnNSignal event\n",
    "url = 'https://api.thegraph.com/subgraphs/name/graphprotocol/graph-network-mainnet'\n",
    "\n",
    "name_burn_query = '''query{\n",
    "  nameSignalTransactions(){\n",
    "    id\n",
    "    blockNumber\n",
    "    signer{\n",
    "      curator{\n",
    "        id\n",
    "      }\n",
    "    }\n",
    "    type\n",
    "    nameSignal\n",
    "    versionSignal\n",
    "    tokens\n",
    "    subgraph{\n",
    "      id\n",
    "      currentVersion\n",
    "      {\n",
    "        version\n",
    "        subgraphDeployment {\n",
    "          id\n",
    "        }\n",
    "      }\n",
    "      displayName\n",
    "    }\n",
    "  }\n",
    "}\n",
    "'''\n",
    "\n",
    "field_name = 'nameSignalTransactions'\n",
    "trans_type = 'BurnNSignal'\n",
    "\n",
    "name_burn_df = query_theGraph(name_burn_query, field_name, url, trans_type, False)"
   ]
  },
  {
   "cell_type": "code",
   "execution_count": null,
   "metadata": {},
   "outputs": [],
   "source": [
    "name_burn_df.head()"
   ]
  },
  {
   "cell_type": "code",
   "execution_count": null,
   "metadata": {},
   "outputs": [],
   "source": [
    "name_burn_df['curatorId'] = [i['curator']['id'] for i in name_burn_df['signer']]\n",
    "name_burn_df['subgraphId'] = [i['id'] for i in name_burn_df['subgraph']]\n",
    "name_burn_df['subgraphDeploymentID'] = [i['currentVersion']['subgraphDeployment']['id'] for i in name_burn_df['subgraph']]\n",
    "name_burn_df['subgraphversion'] = [i['currentVersion']['version'] for i in name_burn_df['subgraph']]\n",
    "name_burn_df['subgraphname'] = [i['displayName'] for i in name_burn_df['subgraph']]\n",
    "name_burn_df.drop(['signer','subgraph'], axis = 1, inplace = True)\n",
    "name_burn_df.head()"
   ]
  },
  {
   "cell_type": "code",
   "execution_count": null,
   "metadata": {},
   "outputs": [],
   "source": [
    "indexer_name_curation_df = name_mint_df[name_mint_df['subgraphDeploymentID'].isin(unique_subgraphs)].append(name_burn_df[name_burn_df['subgraphDeploymentID'].isin(unique_subgraphs)])"
   ]
  },
  {
   "cell_type": "code",
   "execution_count": null,
   "metadata": {},
   "outputs": [],
   "source": [
    "#merge curation events\n",
    "single_indexer_name_df = indexer_df.append(indexer_name_curation_df)\n",
    "single_indexer_name_df.sort_values(by='blockNumber')\n",
    "single_indexer_name_df.head()"
   ]
  },
  {
   "cell_type": "code",
   "execution_count": null,
   "metadata": {},
   "outputs": [],
   "source": [
    "# save all events for the indexer\n",
    "single_indexer_name_df.to_csv('../another_indexer/single_indexer/singleIndexername.csv', index = False, header = True)"
   ]
  },
  {
   "cell_type": "code",
   "execution_count": null,
   "metadata": {},
   "outputs": [],
   "source": [
    "# function used to query each type of event from The Graph\n",
    "def query_theGraph_subgraph(raw_query, field_name, url, trans_type, verbose=False):\n",
    "\n",
    "    query_parts =raw_query.split(')')\n",
    "    paginator = \", where: {}\" \n",
    "    n = 0\n",
    "    records = []\n",
    "    while n < 1000:\n",
    "        if (n == 0):\n",
    "            # order by blockNumber to get all events, as deafult ordering is by id\n",
    "            query = 'query '+query_parts[0] + 'orderBy:createdAt, where:{createdAt_gt: 0})' + query_parts[1]\n",
    "        else:\n",
    "            query = 'query '+query_parts[0]+ 'orderBy:createdAt, where: {createdAt_gt: ' + str(indexer) + '})'+query_parts[1]\n",
    "\n",
    "        if verbose:\n",
    "            print(query)\n",
    "\n",
    "        r = requests.post(url, json = {'query':query})\n",
    "\n",
    "        try:\n",
    "            d = json.loads(r.content)['data'][field_name]\n",
    "        except:\n",
    "            print(r.content)\n",
    "            errors = json.loads(r.content)['errors']\n",
    "            print(errors)\n",
    "            for e in errors:\n",
    "                print(e['message'])\n",
    "\n",
    "        #print(f'results {len(d)}')\n",
    "        records.extend(d)\n",
    "        #print(f'total {len(records)}')\n",
    "        try:\n",
    "            indexer = d[-1]['createdAt']\n",
    "        except:\n",
    "            print('noblock')\n",
    "        \n",
    "        n += 1\n",
    "        if len(d) < 99:\n",
    "            break\n",
    "        \n",
    "    return pd.DataFrame(records)"
   ]
  },
  {
   "cell_type": "code",
   "execution_count": null,
   "metadata": {},
   "outputs": [],
   "source": [
    "#get subgraphs data\n",
    "url = 'https://api.thegraph.com/subgraphs/name/graphprotocol/graph-network-mainnet'\n",
    "\n",
    "subgraph_query = '''query{\n",
    "\tsubgraphs(){\n",
    "    id\n",
    "    owner{\n",
    "      id\n",
    "    }\n",
    "    currentVersion{\n",
    "      id\n",
    "      subgraphDeployment{\n",
    "        id\n",
    "      }\n",
    "      version\n",
    "    }\n",
    "    createdAt\n",
    "    updatedAt\n",
    "    active\n",
    "    migrated\n",
    "    displayName\n",
    "  }\n",
    "}\n",
    "'''\n",
    "\n",
    "field_name = 'subgraphs'\n",
    "trans_type = 'BurnNSignal'\n",
    "\n",
    "subgraph_df = query_theGraph_subgraph(subgraph_query, field_name, url, trans_type, False)"
   ]
  },
  {
   "cell_type": "code",
   "execution_count": null,
   "metadata": {},
   "outputs": [],
   "source": [
    "subgraph_df.head()"
   ]
  },
  {
   "cell_type": "code",
   "execution_count": null,
   "metadata": {},
   "outputs": [],
   "source": [
    "subgraph_df['ownerId'] = [i['id'] for i in subgraph_df['owner']]\n",
    "subgraph_df['version'] = [i['version'] for i in subgraph_df['currentVersion']]\n",
    "subgraph_df['subgraphDeploymentId'] = [i['subgraphDeployment']['id'] for i in subgraph_df['currentVersion']]\n",
    "subgraph_df['subgraphid'] = [i['id'] for i in subgraph_df['currentVersion']]\n",
    "subgraph_df.drop(['owner', 'currentVersion'], axis = 1, inplace = True)\n",
    "subgraph_df.head()"
   ]
  },
  {
   "cell_type": "code",
   "execution_count": null,
   "metadata": {},
   "outputs": [],
   "source": [
    "subgraph_df[10:20]"
   ]
  },
  {
   "cell_type": "code",
   "execution_count": null,
   "metadata": {},
   "outputs": [],
   "source": [
    "subgraph_df['subgraph_version'] = [i.split('-')[0]+'-'+i.split('-')[1] for i in  subgraph_df['subgraphid']]\n",
    "subgraph_df.head()"
   ]
  },
  {
   "cell_type": "code",
   "execution_count": null,
   "metadata": {},
   "outputs": [],
   "source": [
    "# function used to query each type of event from The Graph\n",
    "def query_theGraph_events(raw_query, field_name, url, trans_type, verbose=False):\n",
    "\n",
    "    query_parts =raw_query.split(')')\n",
    "    paginator = \", where: {}\" \n",
    "    n = 0\n",
    "    records = []\n",
    "    while n < 1000:\n",
    "        if (n == 0):\n",
    "            # order by blockNumber to get all events, as deafult ordering is by id\n",
    "            query = 'query '+query_parts[0] + 'orderBy:blockNumber, where:{blockNumber_gt: 0})' + query_parts[1]\n",
    "        else:\n",
    "            query = 'query '+query_parts[0]+ 'orderBy:blockNumber, where: {blockNumber_gt: ' + str(indexer) + '})'+query_parts[1]\n",
    "\n",
    "        if verbose:\n",
    "            print(query)\n",
    "\n",
    "        r = requests.post(url, json = {'query':query})\n",
    "\n",
    "        try:\n",
    "            d = json.loads(r.content)['data'][field_name]\n",
    "        except:\n",
    "            print(r.content)\n",
    "            errors = json.loads(r.content)['errors']\n",
    "            print(errors)\n",
    "            for e in errors:\n",
    "                print(e['message'])\n",
    "\n",
    "        #print(f'results {len(d)}')\n",
    "        records.extend(d)\n",
    "        #print(f'total {len(records)}')\n",
    "        try:\n",
    "            indexer = d[-1]['createdAt']\n",
    "        except:\n",
    "            print('noblock')\n",
    "        \n",
    "        n += 1\n",
    "        if len(d) < 99:\n",
    "            break\n",
    "        \n",
    "    return pd.DataFrame(records)"
   ]
  },
  {
   "cell_type": "code",
   "execution_count": null,
   "metadata": {},
   "outputs": [],
   "source": [
    "#get grtWithdrawns event\n",
    "url = 'https://api.thegraph.com/subgraphs/name/fordn/graph-network-events'\n",
    "\n",
    "withdraw_query = '''query{\n",
    "\tgrtwithdrawns(){\n",
    "        id\n",
    "        blockNumber\n",
    "        graphAccount\n",
    "        subgraphNumber\n",
    "        nameCurator\n",
    "        nSignalBurnt\n",
    "        withdrawnGRT\n",
    "  }\n",
    "}\n",
    "'''\n",
    "\n",
    "field_name = 'grtwithdrawns'\n",
    "\n",
    "withdraw_df = query_theGraph_events(withdraw_query, field_name, url, trans_type, False)"
   ]
  },
  {
   "cell_type": "code",
   "execution_count": null,
   "metadata": {},
   "outputs": [],
   "source": [
    "withdraw_df.head()"
   ]
  },
  {
   "cell_type": "code",
   "execution_count": null,
   "metadata": {},
   "outputs": [],
   "source": [
    "withdraw_df['subgraph_w_version'] = withdraw_df['graphAccount']+'-'+withdraw_df['subgraphNumber']\n",
    "withdraw_df.head()"
   ]
  },
  {
   "cell_type": "code",
   "execution_count": null,
   "metadata": {},
   "outputs": [],
   "source": [
    "withdraw_df['subgraphDeploymentID'] = 0"
   ]
  },
  {
   "cell_type": "code",
   "execution_count": null,
   "metadata": {},
   "outputs": [],
   "source": [
    "for i, j in enumerate(withdraw_df['subgraph_w_version']):\n",
    "    for k, l in enumerate(subgraph_df['subgraph_version']):\n",
    "        if j in l:\n",
    "            withdraw_df['subgraphDeploymentID'][i] = subgraph_df.iloc[k]['subgraphDeploymentId']\n",
    "withdraw_df['type'] = 'grtwithdrawns'\n",
    "withdraw_df.head()"
   ]
  },
  {
   "cell_type": "code",
   "execution_count": null,
   "metadata": {},
   "outputs": [],
   "source": [
    "withdraw_df[withdraw_df['subgraphDeploymentID'].isin(unique_subgraphs)]"
   ]
  },
  {
   "cell_type": "code",
   "execution_count": null,
   "metadata": {},
   "outputs": [],
   "source": [
    "single_indexer_name_df = single_indexer_name_df.append(withdraw_df[withdraw_df['subgraphDeploymentID'].isin(unique_subgraphs)])\n",
    "single_indexer_name_df['blockNumber'] = single_indexer_name_df['blockNumber'].astype(int)\n",
    "single_indexer_name_df.drop(['index'], axis = 1, inplace = True)\n",
    "single_indexer_name_df.reset_index(inplace = True)\n",
    "single_indexer_name_df['epoch'] = ((single_indexer_name_df['blockNumber'] - 11446768)/6646)\n",
    "single_indexer_name_df['epoch'] = single_indexer_name_df['epoch'].astype(int)\n",
    "single_indexer_name_df.sort_values(by=['blockNumber', 'epoch'], inplace = True)\n",
    "single_indexer_name_df.head()"
   ]
  },
  {
   "cell_type": "code",
   "execution_count": null,
   "metadata": {},
   "outputs": [],
   "source": [
    "single_indexer_name_df.columns"
   ]
  },
  {
   "cell_type": "code",
   "execution_count": null,
   "metadata": {},
   "outputs": [],
   "source": [
    "single_indexer_name_df['type'].unique()"
   ]
  },
  {
   "cell_type": "code",
   "execution_count": null,
   "metadata": {},
   "outputs": [],
   "source": [
    "# save all events for the indexer\n",
    "single_indexer_name_df.to_csv('../another_indexer/single_indexer/singleIndexername.csv', index = False, header = True)"
   ]
  },
  {
   "cell_type": "code",
   "execution_count": null,
   "metadata": {},
   "outputs": [],
   "source": [
    "single_indexer_name_df[['tokens', 'type']]"
   ]
  },
  {
   "cell_type": "code",
   "execution_count": null,
   "metadata": {},
   "outputs": [],
   "source": [
    "curation_list = []\n",
    "signal_list = []\n",
    "epoch_list = []\n",
    "for i, j in single_indexer_name_df[['tokens', 'type', 'nameSignal', 'blockNumber', 'epoch']].iterrows():\n",
    "    #print(j['epoch'])\n",
    "    if j['type'] == 'MintNSignal':\n",
    "        curation_list.append(int(j['tokens']))\n",
    "        signal_list.append(int(j['nameSignal']))\n",
    "        epoch_list.append(int(j['epoch']))\n",
    "    elif j['type'] == 'BurnNSignal':\n",
    "        curation_list.append(-int(j['tokens']))\n",
    "        signal_list.append(-int(j['nameSignal']))\n",
    "        epoch_list.append(int(j['epoch']))\n",
    "    else:\n",
    "        curation_list.append(0)\n",
    "        signal_list.append(0)\n",
    "        epoch_list.append(int(j['epoch']))\n",
    "curation_list = np.cumsum(curation_list)\n",
    "signal_list = np.cumsum(signal_list)\n",
    "plt.figure(figsize = (10, 5))\n",
    "plt.plot(epoch_list , curation_list)\n",
    "plt.xlabel('Epoch')\n",
    "plt.ylabel('Tokens')\n",
    "#plt.ylim(1e4, 1e6)\n",
    "plt.title('Curation Tokens on Subgraphs Single Indexer is In')"
   ]
  },
  {
   "cell_type": "code",
   "execution_count": null,
   "metadata": {},
   "outputs": [],
   "source": [
    "delegation_list = []\n",
    "for i, j in single_indexer_name_df[['tokens', 'type', 'blockNumber']].iterrows():\n",
    "    if j['type'] == 'stakeDelegateds':\n",
    "        delegation_list.append(int(j['tokens']))\n",
    "    elif j['type'] == 'stakeDelegatedWithdrawns':\n",
    "        delegation_list.append(-int(j['tokens']))\n",
    "    else:\n",
    "        delegation_list.append(0)\n",
    "delegation_list = np.cumsum(delegation_list)\n"
   ]
  },
  {
   "cell_type": "code",
   "execution_count": null,
   "metadata": {},
   "outputs": [],
   "source": [
    "plt.figure(figsize = (10, 5))\n",
    "plt.plot(single_indexer_name_df.epoch, signal_list)\n",
    "plt.xlabel('Timestep')\n",
    "plt.ylabel('Tokens')\n",
    "#plt.ylim(1e4, 1e6)\n",
    "plt.title('Amount of Signal Curators Have for Subgraphs Single Indexer is In')"
   ]
  },
  {
   "cell_type": "code",
   "execution_count": null,
   "metadata": {},
   "outputs": [],
   "source": [
    "token_list = ['Curated Tokens', 'Delegated Tokens']\n",
    "total = {}\n",
    "total['Curated Tokens'] = np.array(curation_list, dtype=float)\n",
    "total['Delegated Tokens'] = np.array(delegation_list, dtype=float)\n",
    "fig, ax = plt.subplots(figsize=(10, 5))\n",
    "ax.stackplot(list(single_indexer_name_df.epoch), total.values(), labels = total.keys(), alpha = 0.8)\n",
    "ax.legend(loc='upper left', bbox_to_anchor=(1.05, 1.0))\n",
    "ax.set_xlabel('Epoch')\n",
    "ax.set_ylabel('Tokens')\n",
    "ax.set_title('Delegated Tokens to Indexer vs Curated Tokens on Subgraphs Indexer is In');"
   ]
  },
  {
   "cell_type": "markdown",
   "metadata": {},
   "source": [
    "Here we see that there is not much of an effect on delegation as curation events happen, as the amount of curation with respect to delegation is very small. "
   ]
  }
 ],
 "metadata": {
  "interpreter": {
   "hash": "94a11493524b81d5783d4ac160de5341ecb7f4e0851f9257726787e1a88e2b0d"
  },
  "kernelspec": {
   "display_name": "Python 3.8.5 ('base')",
   "language": "python",
   "name": "python3"
  },
  "language_info": {
   "codemirror_mode": {
    "name": "ipython",
    "version": 3
   },
   "file_extension": ".py",
   "mimetype": "text/x-python",
   "name": "python",
   "nbconvert_exporter": "python",
   "pygments_lexer": "ipython3",
   "version": "3.8.8"
  },
  "orig_nbformat": 4
 },
 "nbformat": 4,
 "nbformat_minor": 2
}
