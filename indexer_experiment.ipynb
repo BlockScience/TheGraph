{
 "cells": [
  {
   "cell_type": "markdown",
   "source": [
    "# cadCAD Experiment\r\n"
   ],
   "metadata": {}
  },
  {
   "cell_type": "code",
   "execution_count": null,
   "source": [
    "# if this crashes, run this:\r\n",
    "# pip install ipython-autotime\r\n",
    "%load_ext autotime\r\n",
    "%load_ext autoreload\r\n",
    "%autoreload 2\r\n",
    "# import sys\r\n",
    "# sys.path.append(\"..\")\r\n",
    "\r\n",
    "import pandas as pd\r\n",
    "import numpy as np\r\n",
    "import matplotlib.pyplot as plt\r\n",
    "\r\n",
    "\r\n",
    "pd.options.display.float_format = '{:.2f}'.format\r\n",
    "%matplotlib inline"
   ],
   "outputs": [],
   "metadata": {
    "tags": []
   }
  },
  {
   "cell_type": "code",
   "execution_count": null,
   "source": [
    "from model import run"
   ],
   "outputs": [],
   "metadata": {}
  },
  {
   "cell_type": "code",
   "execution_count": null,
   "source": [
    "df = run.run()\r\n",
    "import pickle\r\n",
    "with open('experiment.p', 'wb') as f:\r\n",
    "    pickle.dump(df, f)\r\n"
   ],
   "outputs": [],
   "metadata": {}
  },
  {
   "cell_type": "code",
   "execution_count": null,
   "source": [
    "df"
   ],
   "outputs": [],
   "metadata": {}
  },
  {
   "cell_type": "markdown",
   "source": [
    "# Revenue coming in each period.  \r\n",
    "## Indexing rewards and query rewards come in as an event stream."
   ],
   "metadata": {}
  },
  {
   "cell_type": "code",
   "execution_count": null,
   "source": [
    "# df.GRT.astype(float).plot()"
   ],
   "outputs": [],
   "metadata": {}
  },
  {
   "cell_type": "code",
   "execution_count": null,
   "source": [
    "# df.cumulative_indexing_revenue.astype(float).plot()"
   ],
   "outputs": [],
   "metadata": {}
  },
  {
   "cell_type": "code",
   "execution_count": null,
   "source": [
    "# df.cumulative_query_revenue.astype(float).plot()"
   ],
   "outputs": [],
   "metadata": {}
  },
  {
   "cell_type": "markdown",
   "source": [
    "# Cumulative Claimed Rewards\n",
    "This shows that the cumulative rewards continues to rise even though each delegator eventually leaves the system and their rewards become fixed.  They are of similar heights (ie. same rewards) because they all use the same policies to join and leave."
   ],
   "metadata": {}
  },
  {
   "cell_type": "code",
   "execution_count": null,
   "source": [
    "# import pandas as pd\r\n",
    "# df1 = df.reset_index().delegators\r\n",
    "\r\n",
    "# delegator_holdings = {}\r\n",
    "# delegator_shares = {}\r\n",
    "# timestep = 0\r\n",
    "# for delegator_dict in df1:\r\n",
    "#     for delegator_id, delegator in delegator_dict.items():\r\n",
    "#         if delegator_id not in delegator_holdings:\r\n",
    "#             delegator_holdings[delegator_id] = {}\r\n",
    "#             delegator_shares[delegator_id] = {}\r\n",
    "#         delegator_holdings[delegator_id][timestep] = float(delegator.holdings)\r\n",
    "#         delegator_shares[delegator_id][timestep] = float(delegator.shares)\r\n",
    "#     timestep += 1"
   ],
   "outputs": [],
   "metadata": {}
  },
  {
   "cell_type": "markdown",
   "source": [
    "# Shares broken down by Delegator"
   ],
   "metadata": {}
  },
  {
   "cell_type": "code",
   "execution_count": null,
   "source": [
    "# resultset = [value for key, value in your_dict.items() if key not in your_blacklisted_set]"
   ],
   "outputs": [],
   "metadata": {}
  },
  {
   "cell_type": "code",
   "execution_count": null,
   "source": [
    "\r\n",
    "\r\n",
    "# df_plot = pd.DataFrame(delegator_shares)\r\n",
    "# df_plot.plot(kind='area')\r\n",
    "# plt.gca().legend(loc=9, bbox_to_anchor=(2.5, 1), ncol=12)\r\n",
    "# plt.title('Shares Owned By Delegators')\r\n",
    "# plt.xlabel('Epoch Number')\r\n",
    "# plt.ylabel('Delegator Shares')"
   ],
   "outputs": [],
   "metadata": {}
  },
  {
   "cell_type": "markdown",
   "source": [
    "# Cumulative Revenue Token Holdings\n",
    "\n"
   ],
   "metadata": {}
  },
  {
   "cell_type": "code",
   "execution_count": null,
   "source": [
    "# df_plot = pd.DataFrame(delegator_holdings)\r\n",
    "# df_plot.plot(kind='line')\r\n",
    "# plt.gca().legend(loc=9, bbox_to_anchor=(2.5, 1), ncol=12)\r\n",
    "# plt.title('Cumulative Revenue Token Holdings')\r\n",
    "# plt.xlabel('Epoch Number')\r\n",
    "# plt.ylabel('Revenue Token Holdings')"
   ],
   "outputs": [],
   "metadata": {}
  },
  {
   "cell_type": "markdown",
   "source": [
    "Exploratory data analysis"
   ],
   "metadata": {}
  },
  {
   "cell_type": "code",
   "execution_count": null,
   "source": [
    "# df['shareholders'] = df.delegators.apply(lambda x: [k for k in x.keys() if x[k].shares>0] )"
   ],
   "outputs": [],
   "metadata": {}
  },
  {
   "cell_type": "code",
   "execution_count": null,
   "source": [
    "# df['total_shares'] = df.delegators.apply(lambda x: [x[k].shares for k in x.keys() if x[k].shares>0] )"
   ],
   "outputs": [],
   "metadata": {}
  },
  {
   "cell_type": "code",
   "execution_count": null,
   "source": [
    "# df_list = []\r\n",
    "# for t in range(len(df)):\r\n",
    "#     temp_df = pd.DataFrame({'shareholder':df.shareholders.iloc[t] , 'shares':df.total_shares.iloc[t]})\r\n",
    "#     temp_df['Epoch Number'] = t\r\n",
    "\r\n",
    "#     df_list.append(temp_df)\r\n",
    "\r\n",
    "# shareholder_df = pd.concat(df_list)"
   ],
   "outputs": [],
   "metadata": {}
  },
  {
   "cell_type": "code",
   "execution_count": null,
   "source": [
    "shareholder_df"
   ],
   "outputs": [],
   "metadata": {}
  },
  {
   "cell_type": "markdown",
   "source": [
    "# Pool Delegated Stake\r\n"
   ],
   "metadata": {}
  },
  {
   "cell_type": "code",
   "execution_count": null,
   "source": [
    "df.pool_delegated_stake[:20]"
   ],
   "outputs": [],
   "metadata": {}
  },
  {
   "cell_type": "code",
   "execution_count": null,
   "source": [
    "# df['period_revenue_per_share'] = df.period_revenue/df.shares\r\n",
    "# df.period_revenue"
   ],
   "outputs": [],
   "metadata": {}
  },
  {
   "cell_type": "code",
   "execution_count": null,
   "source": [
    "df"
   ],
   "outputs": [],
   "metadata": {}
  }
 ],
 "metadata": {
  "interpreter": {
   "hash": "0b0631ca040321b645c8721b9afbca57f18a1aa322598383be03b7ee0c528602"
  },
  "kernelspec": {
   "name": "python3",
   "display_name": "Python 3.9.6 64-bit ('py396': conda)"
  },
  "language_info": {
   "codemirror_mode": {
    "name": "ipython",
    "version": 3
   },
   "file_extension": ".py",
   "mimetype": "text/x-python",
   "name": "python",
   "nbconvert_exporter": "python",
   "pygments_lexer": "ipython3",
   "version": "3.9.6"
  }
 },
 "nbformat": 4,
 "nbformat_minor": 4
}