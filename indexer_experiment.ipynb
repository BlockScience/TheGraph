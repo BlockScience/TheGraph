{
 "cells": [
  {
   "cell_type": "markdown",
   "source": [
    "# cadCAD Experiment\r\n"
   ],
   "metadata": {}
  },
  {
   "cell_type": "code",
   "execution_count": 1,
   "source": [
    "# if this crashes, run this:\r\n",
    "# pip install ipython-autotime\r\n",
    "%load_ext autotime\r\n",
    "%load_ext autoreload\r\n",
    "%autoreload 2\r\n",
    "# import sys\r\n",
    "# sys.path.append(\"..\")\r\n",
    "\r\n",
    "import pandas as pd\r\n",
    "import numpy as np\r\n",
    "import matplotlib.pyplot as plt\r\n",
    "\r\n",
    "# Experiments\r\n",
    "\r\n",
    "# from model.plot_utils import *\r\n",
    "\r\n",
    "pd.options.display.float_format = '{:.2f}'.format\r\n",
    "\r\n",
    "%matplotlib inline\r\n",
    "\r\n",
    "\r\n",
    "\r\n"
   ],
   "outputs": [
    {
     "output_type": "stream",
     "name": "stdout",
     "text": [
      "time: 906 ms (started: 2021-08-06 10:04:03 -04:00)\n"
     ]
    }
   ],
   "metadata": {
    "tags": []
   }
  },
  {
   "cell_type": "code",
   "execution_count": 2,
   "source": [
    "from model import run"
   ],
   "outputs": [
    {
     "output_type": "stream",
     "name": "stdout",
     "text": [
      "loaded GraphQL_data\\SIstakeDelegateds.csv.\n",
      "loaded GraphQL_data\\SIstakeLockeds.csv.\n",
      "loaded GraphQL_data\\SIstakeWithdrawns.csv.\n",
      "loaded GraphQL_data\\SIallocationCloseds.csv.\n",
      "loaded GraphQL_data\\SIallocationCollecteds.csv.\n",
      "running file: sim_setup.py\n",
      "end of file: sim_setup.py\n",
      "time: 203 ms (started: 2021-08-06 10:04:04 -04:00)\n"
     ]
    }
   ],
   "metadata": {}
  },
  {
   "cell_type": "code",
   "execution_count": 3,
   "source": [
    "df = run.run()\r\n",
    "import pickle\r\n",
    "with open('experiment.p', 'wb') as f:\r\n",
    "    pickle.dump(df, f)\r\n"
   ],
   "outputs": [
    {
     "output_type": "stream",
     "name": "stdout",
     "text": [
      "\n",
      "                  ___________    ____\n",
      "  ________ __ ___/ / ____/   |  / __ \\\n",
      " / ___/ __` / __  / /   / /| | / / / /\n",
      "/ /__/ /_/ / /_/ / /___/ ___ |/ /_/ /\n",
      "\\___/\\__,_/\\__,_/\\____/_/  |_/_____/\n",
      "by cadCAD\n",
      "\n",
      "Execution Mode: local_proc\n",
      "Configuration Count: 1\n",
      "Dimensions of the first simulation: (Timesteps, Params, Runs, Vars) = (90, 24, 1, 8)\n",
      "Execution Method: local_simulations\n",
      "SimIDs   : [0]\n",
      "SubsetIDs: [0]\n",
      "Ns       : [0]\n",
      "ExpIDs   : [0]\n",
      "Execution Mode: single_threaded\n",
      "ACTION: DELEGATE--\n",
      "                delegator_id='0x63f8168f665f79101a0e0da2313cd1391e1c5e27', \n",
      "                delegator.holdings=Decimal('9999998905.500000000000000000'), \n",
      "                delegator.delegated_tokens=Decimal('1089.027499999999999886080709'), \n",
      "                delegator.undelegated_tokens=0, \n",
      "                delegator.shares=Decimal('1088.074676093251638179797803')\n",
      "ACTION: DELEGATE--\n",
      "                delegator_id='0x40f657e85bbb5cc7beb402da315c3fe1974442bf', \n",
      "                delegator.holdings=Decimal('9999999005.000000000000000000'), \n",
      "                delegator.delegated_tokens=Decimal('990.0249999999999998964370084'), \n",
      "                delegator.undelegated_tokens=0, \n",
      "                delegator.shares=Decimal('989.2374107994961465972312043')\n",
      "ACTION: DISTRIBUTE REVENUE TO DELEGATORS\n",
      "  id='indexer', s[\"timestep\"]=9, delegator.shares=1243612\n",
      "  id='0x63f8168f665f79101a0e0da2313cd1391e1c5e27', s[\"timestep\"]=9, delegator.shares=Decimal('1088.074676093251638179797803')\n",
      "  id='0x40f657e85bbb5cc7beb402da315c3fe1974442bf', s[\"timestep\"]=9, delegator.shares=Decimal('989.2374107994961465972312043')\n",
      "ACTION: DISTRIBUTE REVENUE TO POOL\n",
      "  pool_delegated_stake=Decimal('1245691.925612598617373848233')\n",
      "ACTION: DELEGATE--\n",
      "                delegator_id='0x950d8f1e2e0ec438573a9540ca6f74913df0aeb1', \n",
      "                delegator.holdings=Decimal('9999944777.500000000000000000'), \n",
      "                delegator.delegated_tokens=Decimal('54946.38749999999999425225397'), \n",
      "                delegator.undelegated_tokens=0, \n",
      "                delegator.shares=Decimal('52625.06332782088956617775046')\n",
      "ACTION: DISTRIBUTE REVENUE TO DELEGATORS\n",
      "  id='indexer', s[\"timestep\"]=22, delegator.shares=1243612\n",
      "  id='0x63f8168f665f79101a0e0da2313cd1391e1c5e27', s[\"timestep\"]=22, delegator.shares=Decimal('1088.074676093251638179797803')\n",
      "  id='0x40f657e85bbb5cc7beb402da315c3fe1974442bf', s[\"timestep\"]=22, delegator.shares=Decimal('989.2374107994961465972312043')\n",
      "  id='0x950d8f1e2e0ec438573a9540ca6f74913df0aeb1', s[\"timestep\"]=22, delegator.shares=Decimal('52625.06332782088956617775046')\n",
      "ACTION: DISTRIBUTE REVENUE TO POOL\n",
      "  pool_delegated_stake=Decimal('1765637.439999999999994034772')\n",
      "ACTION: DISTRIBUTE REVENUE TO DELEGATORS\n",
      "  id='indexer', s[\"timestep\"]=23, delegator.shares=1243612\n",
      "  id='0x63f8168f665f79101a0e0da2313cd1391e1c5e27', s[\"timestep\"]=23, delegator.shares=Decimal('1088.074676093251638179797803')\n",
      "  id='0x40f657e85bbb5cc7beb402da315c3fe1974442bf', s[\"timestep\"]=23, delegator.shares=Decimal('989.2374107994961465972312043')\n",
      "  id='0x950d8f1e2e0ec438573a9540ca6f74913df0aeb1', s[\"timestep\"]=23, delegator.shares=Decimal('52625.06332782088956617775046')\n",
      "ACTION: DISTRIBUTE REVENUE TO POOL\n",
      "  pool_delegated_stake=Decimal('1765637.439999999999994034772')\n",
      "ACTION: DELEGATE--\n",
      "                delegator_id='0xcbb08e918e828bfd46a0e32e3365e80d7502c7d9', \n",
      "                delegator.holdings=Decimal('9999997015.000000000000000000'), \n",
      "                delegator.delegated_tokens=Decimal('2970.074999999999999689311025'), \n",
      "                delegator.undelegated_tokens=0, \n",
      "                delegator.shares=Decimal('2958.015372103662355820593218')\n",
      "ACTION: UNDELEGATE--\n",
      "                    delegator_id='0xcbb08e918e828bfd46a0e32e3365e80d7502c7d9', \n",
      "                    delegator.holdings=Decimal('9999997015.000000000000000000'), \n",
      "                    delegator.delegated_tokens=Decimal('69.814719779672133975603931'), \n",
      "                    delegator.undelegated_tokens=Decimal('2900.260280220327865713707094'), \n",
      "                    delegator.shares=Decimal('62.950265988229498294593218')\n",
      "ACTION: DELEGATE--\n",
      "                delegator_id='0xd45d0eb21cb9dbf86012cbd574fb66d1a2c6d800', \n",
      "                delegator.holdings=Decimal('9999980100.000000000000000000'), \n",
      "                delegator.delegated_tokens=Decimal('19800.49999999999999792874017'), \n",
      "                delegator.undelegated_tokens=0, \n",
      "                delegator.shares=Decimal('19468.66282704735224559437406')\n",
      "ACTION: UNDELEGATE--\n",
      "                    delegator_id='0x40f657e85bbb5cc7beb402da315c3fe1974442bf', \n",
      "                    delegator.holdings=Decimal('9999999005.000000000000000000'), \n",
      "                    delegator.delegated_tokens=Decimal('-1.2104581727891183479215070'), \n",
      "                    delegator.undelegated_tokens=Decimal('991.2354581727891182443585154'), \n",
      "                    delegator.shares=Decimal('0E-25')\n",
      "ACTION: DISTRIBUTE REVENUE TO DELEGATORS\n",
      "  id='indexer', s[\"timestep\"]=59, delegator.shares=1243612\n",
      "  id='0x63f8168f665f79101a0e0da2313cd1391e1c5e27', s[\"timestep\"]=59, delegator.shares=Decimal('1088.074676093251638179797803')\n",
      "  id='0x40f657e85bbb5cc7beb402da315c3fe1974442bf', s[\"timestep\"]=59, delegator.shares=Decimal('0E-25')\n",
      "  id='0x950d8f1e2e0ec438573a9540ca6f74913df0aeb1', s[\"timestep\"]=59, delegator.shares=Decimal('52625.06332782088956617775046')\n",
      "  id='0xcbb08e918e828bfd46a0e32e3365e80d7502c7d9', s[\"timestep\"]=59, delegator.shares=Decimal('62.950265988229498294593218')\n",
      "  id='0xd45d0eb21cb9dbf86012cbd574fb66d1a2c6d800', s[\"timestep\"]=59, delegator.shares=Decimal('19468.66282704735224559437406')\n",
      "ACTION: DISTRIBUTE REVENUE TO POOL\n",
      "  pool_delegated_stake=Decimal('2249516.519261606883007694757')\n",
      "ACTION: UNDELEGATE--\n",
      "                    delegator_id='0x63f8168f665f79101a0e0da2313cd1391e1c5e27', \n",
      "                    delegator.holdings=Decimal('9999998905.500000000000000000'), \n",
      "                    delegator.delegated_tokens=Decimal('-1.244853541335296712517820'), \n",
      "                    delegator.undelegated_tokens=Decimal('1090.272353541335296598598529'), \n",
      "                    delegator.shares=Decimal('0E-24')\n",
      "ACTION: WITHDRAW--\n",
      "                    delegator_id='0xcbb08e918e828bfd46a0e32e3365e80d7502c7d9', \n",
      "                    delegator.holdings=Decimal('9999997015.000000000000000000'), \n",
      "                    delegator.delegated_tokens=Decimal('69.814719779672133975603931'), \n",
      "                    delegator.undelegated_tokens=Decimal('2900.260280220327865713707094'), \n",
      "                    delegator.shares=Decimal('62.950265988229498294593218')\n",
      "ACTION: DELEGATE--\n",
      "                delegator_id='0x8e0c59ba449ac228016dee5b1bb0990a8be7f8a6', \n",
      "                delegator.holdings=Decimal('9999996009.323650000000000000'), \n",
      "                delegator.delegated_tokens=Decimal('3970.722968249999999584636803'), \n",
      "                delegator.undelegated_tokens=0, \n",
      "                delegator.shares=Decimal('3950.820384031016078865759336')\n",
      "ACTION: WITHDRAW--\n",
      "                    delegator_id='0x40f657e85bbb5cc7beb402da315c3fe1974442bf', \n",
      "                    delegator.holdings=Decimal('9999999005.000000000000000000'), \n",
      "                    delegator.delegated_tokens=Decimal('-1.2104581727891183479215070'), \n",
      "                    delegator.undelegated_tokens=Decimal('991.2354581727891182443585154'), \n",
      "                    delegator.shares=Decimal('0E-25')\n",
      "Total execution time: 0.08s\n",
      "time: 140 ms (started: 2021-08-06 10:04:04 -04:00)\n"
     ]
    }
   ],
   "metadata": {}
  },
  {
   "cell_type": "code",
   "execution_count": 4,
   "source": [
    "df"
   ],
   "outputs": [
    {
     "output_type": "execute_result",
     "data": {
      "text/plain": [
       "    id_indexer           pool_delegated_stake  pool_locked_stake  \\\n",
       "5      indexer                        1243612                  0   \n",
       "10     indexer                        1243612                  0   \n",
       "15     indexer                        1243612                  0   \n",
       "20     indexer                        1243612                  0   \n",
       "25     indexer                        1243612                  0   \n",
       "..         ...                            ...                ...   \n",
       "430    indexer  1322396.969876315547710680795                  0   \n",
       "435    indexer  1322396.969876315547710680795                  0   \n",
       "440    indexer  1322396.969876315547710680795                  0   \n",
       "445    indexer  1322396.969876315547710680795                  0   \n",
       "450    indexer  1322396.969876315547710680795                  0   \n",
       "\n",
       "                            shares  \\\n",
       "5                          1243612   \n",
       "10                         1243612   \n",
       "15                         1243612   \n",
       "20                         1243612   \n",
       "25                         1243612   \n",
       "..                             ...   \n",
       "430  1319719.496804887487388932476   \n",
       "435  1319719.496804887487388932476   \n",
       "440  1319719.496804887487388932476   \n",
       "445  1319719.496804887487388932476   \n",
       "450  1319719.496804887487388932476   \n",
       "\n",
       "                                            delegators  \\\n",
       "5    {'indexer': <model.parts.delegator.Delegator o...   \n",
       "10   {'indexer': <model.parts.delegator.Delegator o...   \n",
       "15   {'indexer': <model.parts.delegator.Delegator o...   \n",
       "20   {'indexer': <model.parts.delegator.Delegator o...   \n",
       "25   {'indexer': <model.parts.delegator.Delegator o...   \n",
       "..                                                 ...   \n",
       "430  {'indexer': <model.parts.delegator.Delegator o...   \n",
       "435  {'indexer': <model.parts.delegator.Delegator o...   \n",
       "440  {'indexer': <model.parts.delegator.Delegator o...   \n",
       "445  {'indexer': <model.parts.delegator.Delegator o...   \n",
       "450  {'indexer': <model.parts.delegator.Delegator o...   \n",
       "\n",
       "                               GRT            indexing_revenue  \\\n",
       "5                            0E-60                           0   \n",
       "10                           0E-60                           0   \n",
       "15                           0E-60                           0   \n",
       "20                           0E-60                           0   \n",
       "25                           0E-60                           0   \n",
       "..                             ...                         ...   \n",
       "430  2479579.061618249999991237460  2480000.000000000000000000   \n",
       "435  2479579.061618249999991237460  2480000.000000000000000000   \n",
       "440  2479579.061618249999991237460  2480000.000000000000000000   \n",
       "445  2479579.061618249999991237460  2480000.000000000000000000   \n",
       "450  2479579.061618249999991237460  2480000.000000000000000000   \n",
       "\n",
       "            query_revenue  simulation  subset  run  substep  timestep  \n",
       "5                       0           0       0    1        5         1  \n",
       "10                      0           0       0    1        5         2  \n",
       "15                      0           0       0    1        5         3  \n",
       "20                      0           0       0    1        5         4  \n",
       "25                      0           0       0    1        5         5  \n",
       "..                    ...         ...     ...  ...      ...       ...  \n",
       "430  0.970125109574860079           0       0    1        5        86  \n",
       "435  0.970125109574860079           0       0    1        5        87  \n",
       "440  0.970125109574860079           0       0    1        5        88  \n",
       "445  0.970125109574860079           0       0    1        5        89  \n",
       "450  0.970125109574860079           0       0    1        5        90  \n",
       "\n",
       "[90 rows x 13 columns]"
      ],
      "text/html": [
       "<div>\n",
       "<style scoped>\n",
       "    .dataframe tbody tr th:only-of-type {\n",
       "        vertical-align: middle;\n",
       "    }\n",
       "\n",
       "    .dataframe tbody tr th {\n",
       "        vertical-align: top;\n",
       "    }\n",
       "\n",
       "    .dataframe thead th {\n",
       "        text-align: right;\n",
       "    }\n",
       "</style>\n",
       "<table border=\"1\" class=\"dataframe\">\n",
       "  <thead>\n",
       "    <tr style=\"text-align: right;\">\n",
       "      <th></th>\n",
       "      <th>id_indexer</th>\n",
       "      <th>pool_delegated_stake</th>\n",
       "      <th>pool_locked_stake</th>\n",
       "      <th>shares</th>\n",
       "      <th>delegators</th>\n",
       "      <th>GRT</th>\n",
       "      <th>indexing_revenue</th>\n",
       "      <th>query_revenue</th>\n",
       "      <th>simulation</th>\n",
       "      <th>subset</th>\n",
       "      <th>run</th>\n",
       "      <th>substep</th>\n",
       "      <th>timestep</th>\n",
       "    </tr>\n",
       "  </thead>\n",
       "  <tbody>\n",
       "    <tr>\n",
       "      <th>5</th>\n",
       "      <td>indexer</td>\n",
       "      <td>1243612</td>\n",
       "      <td>0</td>\n",
       "      <td>1243612</td>\n",
       "      <td>{'indexer': &lt;model.parts.delegator.Delegator o...</td>\n",
       "      <td>0E-60</td>\n",
       "      <td>0</td>\n",
       "      <td>0</td>\n",
       "      <td>0</td>\n",
       "      <td>0</td>\n",
       "      <td>1</td>\n",
       "      <td>5</td>\n",
       "      <td>1</td>\n",
       "    </tr>\n",
       "    <tr>\n",
       "      <th>10</th>\n",
       "      <td>indexer</td>\n",
       "      <td>1243612</td>\n",
       "      <td>0</td>\n",
       "      <td>1243612</td>\n",
       "      <td>{'indexer': &lt;model.parts.delegator.Delegator o...</td>\n",
       "      <td>0E-60</td>\n",
       "      <td>0</td>\n",
       "      <td>0</td>\n",
       "      <td>0</td>\n",
       "      <td>0</td>\n",
       "      <td>1</td>\n",
       "      <td>5</td>\n",
       "      <td>2</td>\n",
       "    </tr>\n",
       "    <tr>\n",
       "      <th>15</th>\n",
       "      <td>indexer</td>\n",
       "      <td>1243612</td>\n",
       "      <td>0</td>\n",
       "      <td>1243612</td>\n",
       "      <td>{'indexer': &lt;model.parts.delegator.Delegator o...</td>\n",
       "      <td>0E-60</td>\n",
       "      <td>0</td>\n",
       "      <td>0</td>\n",
       "      <td>0</td>\n",
       "      <td>0</td>\n",
       "      <td>1</td>\n",
       "      <td>5</td>\n",
       "      <td>3</td>\n",
       "    </tr>\n",
       "    <tr>\n",
       "      <th>20</th>\n",
       "      <td>indexer</td>\n",
       "      <td>1243612</td>\n",
       "      <td>0</td>\n",
       "      <td>1243612</td>\n",
       "      <td>{'indexer': &lt;model.parts.delegator.Delegator o...</td>\n",
       "      <td>0E-60</td>\n",
       "      <td>0</td>\n",
       "      <td>0</td>\n",
       "      <td>0</td>\n",
       "      <td>0</td>\n",
       "      <td>1</td>\n",
       "      <td>5</td>\n",
       "      <td>4</td>\n",
       "    </tr>\n",
       "    <tr>\n",
       "      <th>25</th>\n",
       "      <td>indexer</td>\n",
       "      <td>1243612</td>\n",
       "      <td>0</td>\n",
       "      <td>1243612</td>\n",
       "      <td>{'indexer': &lt;model.parts.delegator.Delegator o...</td>\n",
       "      <td>0E-60</td>\n",
       "      <td>0</td>\n",
       "      <td>0</td>\n",
       "      <td>0</td>\n",
       "      <td>0</td>\n",
       "      <td>1</td>\n",
       "      <td>5</td>\n",
       "      <td>5</td>\n",
       "    </tr>\n",
       "    <tr>\n",
       "      <th>...</th>\n",
       "      <td>...</td>\n",
       "      <td>...</td>\n",
       "      <td>...</td>\n",
       "      <td>...</td>\n",
       "      <td>...</td>\n",
       "      <td>...</td>\n",
       "      <td>...</td>\n",
       "      <td>...</td>\n",
       "      <td>...</td>\n",
       "      <td>...</td>\n",
       "      <td>...</td>\n",
       "      <td>...</td>\n",
       "      <td>...</td>\n",
       "    </tr>\n",
       "    <tr>\n",
       "      <th>430</th>\n",
       "      <td>indexer</td>\n",
       "      <td>1322396.969876315547710680795</td>\n",
       "      <td>0</td>\n",
       "      <td>1319719.496804887487388932476</td>\n",
       "      <td>{'indexer': &lt;model.parts.delegator.Delegator o...</td>\n",
       "      <td>2479579.061618249999991237460</td>\n",
       "      <td>2480000.000000000000000000</td>\n",
       "      <td>0.970125109574860079</td>\n",
       "      <td>0</td>\n",
       "      <td>0</td>\n",
       "      <td>1</td>\n",
       "      <td>5</td>\n",
       "      <td>86</td>\n",
       "    </tr>\n",
       "    <tr>\n",
       "      <th>435</th>\n",
       "      <td>indexer</td>\n",
       "      <td>1322396.969876315547710680795</td>\n",
       "      <td>0</td>\n",
       "      <td>1319719.496804887487388932476</td>\n",
       "      <td>{'indexer': &lt;model.parts.delegator.Delegator o...</td>\n",
       "      <td>2479579.061618249999991237460</td>\n",
       "      <td>2480000.000000000000000000</td>\n",
       "      <td>0.970125109574860079</td>\n",
       "      <td>0</td>\n",
       "      <td>0</td>\n",
       "      <td>1</td>\n",
       "      <td>5</td>\n",
       "      <td>87</td>\n",
       "    </tr>\n",
       "    <tr>\n",
       "      <th>440</th>\n",
       "      <td>indexer</td>\n",
       "      <td>1322396.969876315547710680795</td>\n",
       "      <td>0</td>\n",
       "      <td>1319719.496804887487388932476</td>\n",
       "      <td>{'indexer': &lt;model.parts.delegator.Delegator o...</td>\n",
       "      <td>2479579.061618249999991237460</td>\n",
       "      <td>2480000.000000000000000000</td>\n",
       "      <td>0.970125109574860079</td>\n",
       "      <td>0</td>\n",
       "      <td>0</td>\n",
       "      <td>1</td>\n",
       "      <td>5</td>\n",
       "      <td>88</td>\n",
       "    </tr>\n",
       "    <tr>\n",
       "      <th>445</th>\n",
       "      <td>indexer</td>\n",
       "      <td>1322396.969876315547710680795</td>\n",
       "      <td>0</td>\n",
       "      <td>1319719.496804887487388932476</td>\n",
       "      <td>{'indexer': &lt;model.parts.delegator.Delegator o...</td>\n",
       "      <td>2479579.061618249999991237460</td>\n",
       "      <td>2480000.000000000000000000</td>\n",
       "      <td>0.970125109574860079</td>\n",
       "      <td>0</td>\n",
       "      <td>0</td>\n",
       "      <td>1</td>\n",
       "      <td>5</td>\n",
       "      <td>89</td>\n",
       "    </tr>\n",
       "    <tr>\n",
       "      <th>450</th>\n",
       "      <td>indexer</td>\n",
       "      <td>1322396.969876315547710680795</td>\n",
       "      <td>0</td>\n",
       "      <td>1319719.496804887487388932476</td>\n",
       "      <td>{'indexer': &lt;model.parts.delegator.Delegator o...</td>\n",
       "      <td>2479579.061618249999991237460</td>\n",
       "      <td>2480000.000000000000000000</td>\n",
       "      <td>0.970125109574860079</td>\n",
       "      <td>0</td>\n",
       "      <td>0</td>\n",
       "      <td>1</td>\n",
       "      <td>5</td>\n",
       "      <td>90</td>\n",
       "    </tr>\n",
       "  </tbody>\n",
       "</table>\n",
       "<p>90 rows × 13 columns</p>\n",
       "</div>"
      ]
     },
     "metadata": {},
     "execution_count": 4
    },
    {
     "output_type": "stream",
     "name": "stdout",
     "text": [
      "time: 63 ms (started: 2021-08-06 10:04:04 -04:00)\n"
     ]
    }
   ],
   "metadata": {}
  },
  {
   "cell_type": "markdown",
   "source": [
    "# Revenue coming in each period.  \r\n",
    "## Indexing rewards and query rewards come in as an event stream."
   ],
   "metadata": {}
  },
  {
   "cell_type": "code",
   "execution_count": 9,
   "source": [
    "df.GRT.astype(float).plot()"
   ],
   "outputs": [
    {
     "output_type": "execute_result",
     "data": {
      "text/plain": [
       "<AxesSubplot:>"
      ]
     },
     "metadata": {},
     "execution_count": 9
    },
    {
     "output_type": "display_data",
     "data": {
      "text/plain": [
       "<Figure size 432x288 with 1 Axes>"
      ],
      "image/png": "[encoded data removed]"
     },
     "metadata": {
      "needs_background": "light"
     }
    },
    {
     "output_type": "stream",
     "name": "stdout",
     "text": [
      "time: 157 ms (started: 2021-08-06 10:10:36 -04:00)\n"
     ]
    }
   ],
   "metadata": {}
  },
  {
   "cell_type": "code",
   "execution_count": 7,
   "source": [
    "df.indexing_revenue.astype(float).plot()"
   ],
   "outputs": [
    {
     "output_type": "execute_result",
     "data": {
      "text/plain": [
       "<AxesSubplot:>"
      ]
     },
     "metadata": {},
     "execution_count": 7
    },
    {
     "output_type": "display_data",
     "data": {
      "text/plain": [
       "<Figure size 432x288 with 1 Axes>"
      ],
      "image/png": "[encoded data removed]"
     },
     "metadata": {
      "needs_background": "light"
     }
    },
    {
     "output_type": "stream",
     "name": "stdout",
     "text": [
      "time: 157 ms (started: 2021-08-06 10:04:13 -04:00)\n"
     ]
    }
   ],
   "metadata": {}
  },
  {
   "cell_type": "code",
   "execution_count": null,
   "source": [],
   "outputs": [],
   "metadata": {}
  },
  {
   "cell_type": "code",
   "execution_count": 8,
   "source": [
    "df.query_revenue.astype(float).plot()"
   ],
   "outputs": [
    {
     "output_type": "execute_result",
     "data": {
      "text/plain": [
       "<AxesSubplot:>"
      ]
     },
     "metadata": {},
     "execution_count": 8
    },
    {
     "output_type": "display_data",
     "data": {
      "text/plain": [
       "<Figure size 432x288 with 1 Axes>"
      ],
      "image/png": "[encoded data removed]"
     },
     "metadata": {
      "needs_background": "light"
     }
    },
    {
     "output_type": "stream",
     "name": "stdout",
     "text": [
      "time: 172 ms (started: 2021-08-06 10:04:19 -04:00)\n"
     ]
    }
   ],
   "metadata": {}
  },
  {
   "cell_type": "code",
   "execution_count": null,
   "source": [],
   "outputs": [],
   "metadata": {}
  },
  {
   "cell_type": "code",
   "execution_count": null,
   "source": [
    "df.GRT.astype(float).plot()"
   ],
   "outputs": [],
   "metadata": {}
  },
  {
   "cell_type": "markdown",
   "source": [
    "# Cumulative Claimed Rewards\n",
    "This shows that the cumulative rewards continues to rise even though each delegator eventually leaves the system and their rewards become fixed.  They are of similar heights (ie. same rewards) because they all use the same policies to join and leave."
   ],
   "metadata": {}
  },
  {
   "cell_type": "code",
   "execution_count": null,
   "source": [
    "import pandas as pd\r\n",
    "df1 = df.reset_index().delegators\r\n",
    "\r\n",
    "delegator_holdings = {}\r\n",
    "delegator_shares = {}\r\n",
    "timestep = 0\r\n",
    "for delegator_dict in df1:\r\n",
    "    for delegator_id, delegator in delegator_dict.items():\r\n",
    "        if delegator_id not in delegator_holdings:\r\n",
    "            delegator_holdings[delegator_id] = {}\r\n",
    "            delegator_shares[delegator_id] = {}\r\n",
    "        delegator_holdings[delegator_id][timestep] = float(delegator.holdings)\r\n",
    "        delegator_shares[delegator_id][timestep] = float(delegator.shares)\r\n",
    "    timestep += 1"
   ],
   "outputs": [],
   "metadata": {}
  },
  {
   "cell_type": "markdown",
   "source": [
    "# Shares broken down by Delegator"
   ],
   "metadata": {}
  },
  {
   "cell_type": "code",
   "execution_count": null,
   "source": [
    "delegator_shares"
   ],
   "outputs": [],
   "metadata": {}
  },
  {
   "cell_type": "code",
   "execution_count": null,
   "source": [
    "# resultset = [value for key, value in your_dict.items() if key not in your_blacklisted_set]"
   ],
   "outputs": [],
   "metadata": {}
  },
  {
   "cell_type": "code",
   "execution_count": null,
   "source": [
    "\r\n",
    "\r\n",
    "df_plot = pd.DataFrame(delegator_shares)\r\n",
    "df_plot.plot(kind='area')\r\n",
    "plt.gca().legend(loc=9, bbox_to_anchor=(2.5, 1), ncol=12)\r\n",
    "plt.title('Shares Owned By Delegators')\r\n",
    "plt.xlabel('Epoch Number')\r\n",
    "plt.ylabel('Delegator Shares')"
   ],
   "outputs": [],
   "metadata": {}
  },
  {
   "cell_type": "markdown",
   "source": [
    "# Cumulative Revenue Token Holdings\n",
    "\n"
   ],
   "metadata": {}
  },
  {
   "cell_type": "code",
   "execution_count": null,
   "source": [
    "df_plot = pd.DataFrame(delegator_holdings)\r\n",
    "df_plot.plot(kind='area')\r\n",
    "plt.gca().legend(loc=9, bbox_to_anchor=(2.5, 1), ncol=12)\r\n",
    "plt.title('Cumulative Revenue Token Holdings')\r\n",
    "plt.xlabel('Epoch Number')\r\n",
    "plt.ylabel('Revenue Token Holdings')"
   ],
   "outputs": [],
   "metadata": {}
  },
  {
   "cell_type": "markdown",
   "source": [
    "Exploratory data analysis"
   ],
   "metadata": {}
  },
  {
   "cell_type": "code",
   "execution_count": null,
   "source": [
    "df['shareholders'] = df.delegators.apply(lambda x: [k for k in x.keys() if x[k].shares>0] )"
   ],
   "outputs": [],
   "metadata": {}
  },
  {
   "cell_type": "code",
   "execution_count": null,
   "source": [
    "df['total_shares'] = df.delegators.apply(lambda x: [x[k].shares for k in x.keys() if x[k].shares>0] )"
   ],
   "outputs": [],
   "metadata": {}
  },
  {
   "cell_type": "code",
   "execution_count": null,
   "source": [
    "df_list = []\r\n",
    "for t in range(len(df)):\r\n",
    "    temp_df = pd.DataFrame({'shareholder':df.shareholders.iloc[t] , 'shares':df.total_shares.iloc[t]})\r\n",
    "    temp_df['Epoch Number'] = t\r\n",
    "\r\n",
    "    df_list.append(temp_df)\r\n",
    "\r\n",
    "shareholder_df = pd.concat(df_list)"
   ],
   "outputs": [],
   "metadata": {}
  },
  {
   "cell_type": "code",
   "execution_count": null,
   "source": [
    "shareholder_df"
   ],
   "outputs": [],
   "metadata": {}
  },
  {
   "cell_type": "markdown",
   "source": [
    "# Price per share"
   ],
   "metadata": {}
  },
  {
   "cell_type": "code",
   "execution_count": null,
   "source": [
    "df.pool_delegated_stake"
   ],
   "outputs": [],
   "metadata": {}
  },
  {
   "cell_type": "code",
   "execution_count": null,
   "source": [
    "# df['period_revenue_per_share'] = df.period_revenue/df.shares\r\n",
    "# df.period_revenue"
   ],
   "outputs": [],
   "metadata": {}
  },
  {
   "cell_type": "markdown",
   "source": [
    "# Revenue per share "
   ],
   "metadata": {}
  },
  {
   "cell_type": "code",
   "execution_count": null,
   "source": [
    "df.period_revenue_per_share.plot()"
   ],
   "outputs": [],
   "metadata": {}
  },
  {
   "cell_type": "code",
   "execution_count": null,
   "source": [
    "df.columns"
   ],
   "outputs": [],
   "metadata": {}
  },
  {
   "cell_type": "code",
   "execution_count": null,
   "source": [
    "df"
   ],
   "outputs": [],
   "metadata": {}
  }
 ],
 "metadata": {
  "kernelspec": {
   "name": "python3",
   "display_name": "Python 3.9.6 64-bit ('py396': conda)"
  },
  "language_info": {
   "codemirror_mode": {
    "name": "ipython",
    "version": 3
   },
   "file_extension": ".py",
   "mimetype": "text/x-python",
   "name": "python",
   "nbconvert_exporter": "python",
   "pygments_lexer": "ipython3",
   "version": "3.9.6"
  },
  "interpreter": {
   "hash": "0a1a48bafe7ca02230dbc83ca2e4258281e5941b227762e0e79c5151a9ad32c3"
  }
 },
 "nbformat": 4,
 "nbformat_minor": 4
}