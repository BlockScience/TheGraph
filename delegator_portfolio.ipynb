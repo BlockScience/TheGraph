{
 "cells": [
  {
   "cell_type": "code",
   "execution_count": 1,
   "id": "61e3d104-b5f4-45b9-8494-0cf364513632",
   "metadata": {},
   "outputs": [
    {
     "name": "stdout",
     "output_type": "stream",
     "text": [
      "stakeDelegateds: 605 events\n",
      "stakeDelegatedLockeds: 375 events\n",
      "stakeDelegatedWithdrawns: 326 events\n",
      "allocationCloseds: 47 events\n",
      "allocationCollecteds: 16 events\n",
      "stakeDepositeds: 25 events\n",
      "rewardsAssigneds: 47 events\n",
      "delegationParametersUpdateds: 6 events\n",
      "allocationCreateds: 51 events\n",
      "TOTAL NUMBER OF EVENTS: 1529\n",
      "You should set SIMULATION_TIME_STEPS in config.py to a minimum of 1529 to capture all events.\n",
      "\n"
     ]
    }
   ],
   "source": [
    "import pandas as pd\n",
    "import numpy as np\n",
    "\n",
    "# import os\n",
    "# import sys\n",
    "# module_path = os.path.abspath(os.path.join('..'))\n",
    "# print(module_path)\n",
    "# sys.path.append(module_path)\n",
    "import model.parts.utils as utils\n",
    "from model.sys_params import *\n",
    "df = pd.read_pickle(r'experiment.p')"
   ]
  },
  {
   "cell_type": "code",
   "execution_count": 2,
   "id": "d7c3be70-4358-4d61-bffd-9d424286c910",
   "metadata": {},
   "outputs": [],
   "source": [
    "df.reset_index(inplace = True)\n",
    "pd.set_option('display.max_rows', None)"
   ]
  },
  {
   "cell_type": "code",
   "execution_count": 3,
   "id": "b6ab6109-f7d9-41c8-a66d-022682a90fa1",
   "metadata": {},
   "outputs": [
    {
     "data": {
      "text/html": [
       "<div>\n",
       "<style scoped>\n",
       "    .dataframe tbody tr th:only-of-type {\n",
       "        vertical-align: middle;\n",
       "    }\n",
       "\n",
       "    .dataframe tbody tr th {\n",
       "        vertical-align: top;\n",
       "    }\n",
       "\n",
       "    .dataframe thead th {\n",
       "        text-align: right;\n",
       "    }\n",
       "</style>\n",
       "<table border=\"1\" class=\"dataframe\">\n",
       "  <thead>\n",
       "    <tr style=\"text-align: right;\">\n",
       "      <th></th>\n",
       "      <th>index</th>\n",
       "      <th>indexers</th>\n",
       "      <th>delegator_portfolios</th>\n",
       "      <th>block_number</th>\n",
       "      <th>epoch</th>\n",
       "      <th>injected_event_shift</th>\n",
       "      <th>simulation</th>\n",
       "      <th>subset</th>\n",
       "      <th>run</th>\n",
       "      <th>substep</th>\n",
       "      <th>timestep</th>\n",
       "    </tr>\n",
       "  </thead>\n",
       "  <tbody>\n",
       "    <tr>\n",
       "      <th>0</th>\n",
       "      <td>6</td>\n",
       "      <td>{'0x7ab4cf25330ed7277ac7ab59380b68eea68abb0e':...</td>\n",
       "      <td>{}</td>\n",
       "      <td>11474009</td>\n",
       "      <td>4</td>\n",
       "      <td>0</td>\n",
       "      <td>0</td>\n",
       "      <td>0</td>\n",
       "      <td>1</td>\n",
       "      <td>6</td>\n",
       "      <td>1</td>\n",
       "    </tr>\n",
       "    <tr>\n",
       "      <th>1</th>\n",
       "      <td>12</td>\n",
       "      <td>{'0x7ab4cf25330ed7277ac7ab59380b68eea68abb0e':...</td>\n",
       "      <td>{}</td>\n",
       "      <td>11474009</td>\n",
       "      <td>4</td>\n",
       "      <td>0</td>\n",
       "      <td>0</td>\n",
       "      <td>0</td>\n",
       "      <td>1</td>\n",
       "      <td>6</td>\n",
       "      <td>2</td>\n",
       "    </tr>\n",
       "    <tr>\n",
       "      <th>2</th>\n",
       "      <td>18</td>\n",
       "      <td>{'0x7ab4cf25330ed7277ac7ab59380b68eea68abb0e':...</td>\n",
       "      <td>{}</td>\n",
       "      <td>11474307</td>\n",
       "      <td>4</td>\n",
       "      <td>0</td>\n",
       "      <td>0</td>\n",
       "      <td>0</td>\n",
       "      <td>1</td>\n",
       "      <td>6</td>\n",
       "      <td>3</td>\n",
       "    </tr>\n",
       "    <tr>\n",
       "      <th>3</th>\n",
       "      <td>24</td>\n",
       "      <td>{'0x7ab4cf25330ed7277ac7ab59380b68eea68abb0e':...</td>\n",
       "      <td>{'0xd776a7306ee6a060cebb46b46d305e88fd39ba84':...</td>\n",
       "      <td>11474332</td>\n",
       "      <td>4</td>\n",
       "      <td>0</td>\n",
       "      <td>0</td>\n",
       "      <td>0</td>\n",
       "      <td>1</td>\n",
       "      <td>6</td>\n",
       "      <td>4</td>\n",
       "    </tr>\n",
       "    <tr>\n",
       "      <th>4</th>\n",
       "      <td>30</td>\n",
       "      <td>{'0x7ab4cf25330ed7277ac7ab59380b68eea68abb0e':...</td>\n",
       "      <td>{'0xd776a7306ee6a060cebb46b46d305e88fd39ba84':...</td>\n",
       "      <td>11474426</td>\n",
       "      <td>4</td>\n",
       "      <td>0</td>\n",
       "      <td>0</td>\n",
       "      <td>0</td>\n",
       "      <td>1</td>\n",
       "      <td>6</td>\n",
       "      <td>5</td>\n",
       "    </tr>\n",
       "  </tbody>\n",
       "</table>\n",
       "</div>"
      ],
      "text/plain": [
       "   index                                           indexers  \\\n",
       "0      6  {'0x7ab4cf25330ed7277ac7ab59380b68eea68abb0e':...   \n",
       "1     12  {'0x7ab4cf25330ed7277ac7ab59380b68eea68abb0e':...   \n",
       "2     18  {'0x7ab4cf25330ed7277ac7ab59380b68eea68abb0e':...   \n",
       "3     24  {'0x7ab4cf25330ed7277ac7ab59380b68eea68abb0e':...   \n",
       "4     30  {'0x7ab4cf25330ed7277ac7ab59380b68eea68abb0e':...   \n",
       "\n",
       "                                delegator_portfolios  block_number  epoch  \\\n",
       "0                                                 {}      11474009      4   \n",
       "1                                                 {}      11474009      4   \n",
       "2                                                 {}      11474307      4   \n",
       "3  {'0xd776a7306ee6a060cebb46b46d305e88fd39ba84':...      11474332      4   \n",
       "4  {'0xd776a7306ee6a060cebb46b46d305e88fd39ba84':...      11474426      4   \n",
       "\n",
       "   injected_event_shift  simulation  subset  run  substep  timestep  \n",
       "0                     0           0       0    1        6         1  \n",
       "1                     0           0       0    1        6         2  \n",
       "2                     0           0       0    1        6         3  \n",
       "3                     0           0       0    1        6         4  \n",
       "4                     0           0       0    1        6         5  "
      ]
     },
     "execution_count": 3,
     "metadata": {},
     "output_type": "execute_result"
    }
   ],
   "source": [
    "df.head()"
   ]
  },
  {
   "cell_type": "code",
   "execution_count": 4,
   "id": "cc0cb690-f905-4bac-a311-86bc6a1a218f",
   "metadata": {},
   "outputs": [
    {
     "data": {
      "text/html": [
       "<div>\n",
       "<style scoped>\n",
       "    .dataframe tbody tr th:only-of-type {\n",
       "        vertical-align: middle;\n",
       "    }\n",
       "\n",
       "    .dataframe tbody tr th {\n",
       "        vertical-align: top;\n",
       "    }\n",
       "\n",
       "    .dataframe thead th {\n",
       "        text-align: right;\n",
       "    }\n",
       "</style>\n",
       "<table border=\"1\" class=\"dataframe\">\n",
       "  <thead>\n",
       "    <tr style=\"text-align: right;\">\n",
       "      <th></th>\n",
       "      <th>0xd776a7306ee6a060cebb46b46d305e88fd39ba84</th>\n",
       "      <th>1</th>\n",
       "    </tr>\n",
       "  </thead>\n",
       "  <tbody>\n",
       "    <tr>\n",
       "      <th>3</th>\n",
       "      <td>&lt;model.parts.portfolio.Portfolio object at 0x7...</td>\n",
       "      <td>&lt;model.parts.portfolio.Portfolio object at 0x7...</td>\n",
       "    </tr>\n",
       "    <tr>\n",
       "      <th>4</th>\n",
       "      <td>&lt;model.parts.portfolio.Portfolio object at 0x7...</td>\n",
       "      <td>&lt;model.parts.portfolio.Portfolio object at 0x7...</td>\n",
       "    </tr>\n",
       "    <tr>\n",
       "      <th>5</th>\n",
       "      <td>&lt;model.parts.portfolio.Portfolio object at 0x7...</td>\n",
       "      <td>&lt;model.parts.portfolio.Portfolio object at 0x7...</td>\n",
       "    </tr>\n",
       "    <tr>\n",
       "      <th>6</th>\n",
       "      <td>&lt;model.parts.portfolio.Portfolio object at 0x7...</td>\n",
       "      <td>&lt;model.parts.portfolio.Portfolio object at 0x7...</td>\n",
       "    </tr>\n",
       "    <tr>\n",
       "      <th>7</th>\n",
       "      <td>&lt;model.parts.portfolio.Portfolio object at 0x7...</td>\n",
       "      <td>&lt;model.parts.portfolio.Portfolio object at 0x7...</td>\n",
       "    </tr>\n",
       "  </tbody>\n",
       "</table>\n",
       "</div>"
      ],
      "text/plain": [
       "          0xd776a7306ee6a060cebb46b46d305e88fd39ba84  \\\n",
       "3  <model.parts.portfolio.Portfolio object at 0x7...   \n",
       "4  <model.parts.portfolio.Portfolio object at 0x7...   \n",
       "5  <model.parts.portfolio.Portfolio object at 0x7...   \n",
       "6  <model.parts.portfolio.Portfolio object at 0x7...   \n",
       "7  <model.parts.portfolio.Portfolio object at 0x7...   \n",
       "\n",
       "                                                   1  \n",
       "3  <model.parts.portfolio.Portfolio object at 0x7...  \n",
       "4  <model.parts.portfolio.Portfolio object at 0x7...  \n",
       "5  <model.parts.portfolio.Portfolio object at 0x7...  \n",
       "6  <model.parts.portfolio.Portfolio object at 0x7...  \n",
       "7  <model.parts.portfolio.Portfolio object at 0x7...  "
      ]
     },
     "execution_count": 4,
     "metadata": {},
     "output_type": "execute_result"
    }
   ],
   "source": [
    "from model.parts.portfolio import Portfolio\n",
    "portfolios = df['delegator_portfolios']\n",
    "portfolio_values = {}\n",
    "timestep = 0\n",
    "for i in portfolios:\n",
    "    for delegator_id, values in i.items():\n",
    "        if delegator_id not in portfolio_values:\n",
    "            portfolio_values[delegator_id] = {}\n",
    "        portfolio_values[delegator_id][timestep] = values\n",
    "    timestep += 1\n",
    "delegator_values_df = pd.DataFrame(portfolio_values)\n",
    "for i in delegator_values_df.columns:\n",
    "    delegator_values_df[i] = [Portfolio(i) if j != j else j for j in delegator_values_df[i]]\n",
    "delegator_values_df.head()"
   ]
  },
  {
   "cell_type": "code",
   "execution_count": 5,
   "id": "1e06d46f-2227-41d7-a6b5-7227ee395a18",
   "metadata": {},
   "outputs": [
    {
     "data": {
      "text/plain": [
       "Decimal('1000000000')"
      ]
     },
     "execution_count": 5,
     "metadata": {},
     "output_type": "execute_result"
    }
   ],
   "source": [
    "delegator_values_df[1][3].holdings"
   ]
  },
  {
   "cell_type": "code",
   "execution_count": 6,
   "id": "d68afee1-1308-4a27-a3e0-c5a520bccb59",
   "metadata": {},
   "outputs": [
    {
     "data": {
      "text/plain": [
       "<zip at 0x7ff9d43e7e80>"
      ]
     },
     "execution_count": 6,
     "metadata": {},
     "output_type": "execute_result"
    }
   ],
   "source": [
    "delegator_values_df[1].items()"
   ]
  },
  {
   "cell_type": "code",
   "execution_count": 7,
   "id": "8607a3dc-3e77-4433-b5c3-461196e4d7bd",
   "metadata": {},
   "outputs": [
    {
     "data": {
      "image/png": "[encoded data removed]",
      "text/plain": [
       "<Figure size 432x288 with 1 Axes>"
      ]
     },
     "metadata": {
      "needs_background": "light"
     },
     "output_type": "display_data"
    }
   ],
   "source": [
    "import matplotlib.pyplot as plt\n",
    "ROI_list = []\n",
    "for i, values in delegator_values_df[1].items():\n",
    "    ROI_list.append(values.ROI)\n",
    "plt.plot(delegator_values_df.index, ROI_list)\n",
    "plt.title('ROI of Front Running Delegator');"
   ]
  },
  {
   "cell_type": "code",
   "execution_count": 8,
   "id": "89c1a520-bd1d-49f8-a928-51fb9cfe1116",
   "metadata": {},
   "outputs": [
    {
     "data": {
      "image/png": "[encoded data removed]",
      "text/plain": [
       "<Figure size 432x288 with 1 Axes>"
      ]
     },
     "metadata": {
      "needs_background": "light"
     },
     "output_type": "display_data"
    }
   ],
   "source": [
    "holdings_list = []\n",
    "for i, values in delegator_values_df[1].items():\n",
    "    holdings_list.append(values.holdings)\n",
    "plt.plot(delegator_values_df.index, holdings_list)\n",
    "plt.title('GRT Holdings of Front Running Delegator')\n",
    "plt.ylim(0, 1100000000);"
   ]
  },
  {
   "cell_type": "markdown",
   "id": "d1dff8bd-182c-407b-81bc-d5f4fdb18634",
   "metadata": {},
   "source": [
    "As we set holdings at a high amount to avoid negative values, we can't really see the 160% ROI the delegator made, will be able to see this is we are able to get the actual holdings of delegators. "
   ]
  }
 ],
 "metadata": {
  "kernelspec": {
   "display_name": "Python 3",
   "language": "python",
   "name": "python3"
  },
  "language_info": {
   "codemirror_mode": {
    "name": "ipython",
    "version": 3
   },
   "file_extension": ".py",
   "mimetype": "text/x-python",
   "name": "python",
   "nbconvert_exporter": "python",
   "pygments_lexer": "ipython3",
   "version": "3.8.5"
  }
 },
 "nbformat": 4,
 "nbformat_minor": 5
}
