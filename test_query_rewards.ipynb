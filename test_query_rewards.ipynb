{
 "cells": [
  {
   "cell_type": "markdown",
   "metadata": {},
   "source": [
    "# Query Reward Unit Test\n",
    "Performing verification of the query rewards mechanism by comparing the event data to the results of cadCAD model."
   ]
  },
  {
   "cell_type": "code",
   "execution_count": null,
   "metadata": {},
   "outputs": [],
   "source": [
    "import pandas as pd\n",
    "import numpy as np\n",
    "from decimal import Decimal\n",
    "from decimal import *\n",
    "import model.parts.utils as utils\n",
    "from model.sys_params import *\n",
    "df = pd.read_pickle(r'experiment.p')"
   ]
  },
  {
   "cell_type": "markdown",
   "metadata": {},
   "source": [
    "Configure environment"
   ]
  },
  {
   "cell_type": "code",
   "execution_count": null,
   "metadata": {},
   "outputs": [],
   "source": [
    "df.reset_index(inplace = True)\n",
    "pd.set_option('display.max_rows', None)"
   ]
  },
  {
   "cell_type": "code",
   "execution_count": null,
   "metadata": {},
   "outputs": [],
   "source": [
    "# print(query_fee_events)\n",
    "query_fee_events_dict = allocation_collected_events\n",
    "print(\"EXPECTED TRUE QUERY REWARDS FROM STAKE DEPOSITED EVENTS:\")\n",
    "for timestep, query_fee_events_list in query_fee_events_dict.items():\n",
    "    if query_fee_events_list is None:\n",
    "        query_fee_amt = 0\n",
    "    else:\n",
    "        query_fee_amt = sum([e['tokens'] for e in query_fee_events_list])\n",
    "    print(f\"{timestep}, {query_fee_amt}\")\n",
    "    \n"
   ]
  },
  {
   "cell_type": "code",
   "execution_count": null,
   "metadata": {},
   "outputs": [],
   "source": [
    "print(\"MODELED RESULTS\")\n",
    "for timestep, query_fee_events_list in query_fee_events_dict.items():    \n",
    "    event = query_fee_events_list[0]\n",
    "    new_query_fee_amt = df.iloc[timestep-1].indexers[event['indexer']].cumulative_query_revenue\n",
    "    old_query_fee_amt = df.iloc[timestep-2].indexers[event['indexer']].cumulative_query_revenue\n",
    "    query_fee_amt = new_query_fee_amt - old_query_fee_amt\n",
    "    print(f\"{timestep}, {query_fee_amt=}\")\n"
   ]
  },
  {
   "cell_type": "code",
   "execution_count": null,
   "metadata": {},
   "outputs": [],
   "source": [
    "print(\"UNITTEST RESULTS\")\n",
    "cntExact = 0\n",
    "cntReallyClose = 0\n",
    "cntClose = 0\n",
    "cnt = 0\n",
    "cntWrong = 0\n",
    "for timestep, query_fee_events_list in query_fee_events_dict.items():\n",
    "    if query_fee_events_list is None:\n",
    "        event_query_fee_amt = 0\n",
    "    else:\n",
    "        event_query_fee_amt = sum([e['tokens'] for e in query_fee_events_list])\n",
    "    event = query_fee_events_list[0]\n",
    "    new_query_fee_amt = df.iloc[timestep-1].indexers[event['indexer']].cumulative_query_revenue\n",
    "    old_query_fee_amt = df.iloc[timestep-2].indexers[event['indexer']].cumulative_query_revenue\n",
    "    model_query_fee_amt = new_query_fee_amt - old_query_fee_amt\n",
    "    print(f\"Event: Timestep={timestep-1}, Query Reward Tokens={event_query_fee_amt}\")\n",
    "    print(f\"Model: Timestep={timestep-1}, Query Reward Tokens={model_query_fee_amt}\")\n",
    "    # print(\"Query Rewards Equal?\", event_query_fee_amt == model_query_fee_amt)\n",
    "    # print()\n",
    "\n",
    "    try:\n",
    "        ratio =  abs(event_query_fee_amt / model_query_fee_amt)\n",
    "    except:\n",
    "        ratio = np.inf\n",
    "    exact = ratio == 1.0\n",
    "    close = 0.99 <= ratio <= 1.01\n",
    "    reallyClose = 0.99999 <= ratio <= 1.00001\n",
    "\n",
    "    if exact:            \n",
    "        cntExact += 1\n",
    "    elif reallyClose:\n",
    "        cntReallyClose += 1\n",
    "    elif close:\n",
    "        cntClose += 1\n",
    "    else:\n",
    "        cntWrong += 1\n",
    "    cnt += 1\n",
    "    print(\"Tokens Equal?\", exact)\n",
    "    print(\"Tokens Within 0.001%?\", reallyClose)\n",
    "    print(\"Tokens Within 1%?\", close)\n",
    "    print(f\"Exact: {cntExact}, ReallyClose: {cntReallyClose}, Close: {cntClose}, Wrong: {cntWrong}, Total Number: {cnt}\")   \n",
    "    print()\n",
    "print(f\"Exact: {cntExact}, ReallyClose: {cntReallyClose}, Close: {cntClose}, Wrong: {cntWrong}, Total Number: {cnt}\")   \n",
    "    \n",
    "    \n"
   ]
  },
  {
   "cell_type": "markdown",
   "metadata": {},
   "source": [
    "# Conclusion\n",
    "The query reward token quantities are exactly equal."
   ]
  }
 ],
 "metadata": {
  "interpreter": {
   "hash": "0b0631ca040321b645c8721b9afbca57f18a1aa322598383be03b7ee0c528602"
  },
  "kernelspec": {
   "display_name": "Python 3.9.6 64-bit ('py396': conda)",
   "name": "python3"
  },
  "language_info": {
   "codemirror_mode": {
    "name": "ipython",
    "version": 3
   },
   "file_extension": ".py",
   "mimetype": "text/x-python",
   "name": "python",
   "nbconvert_exporter": "python",
   "pygments_lexer": "ipython3",
   "version": "3.9.6"
  }
 },
 "nbformat": 4,
 "nbformat_minor": 4
}
