{
 "cells": [
  {
   "cell_type": "markdown",
   "metadata": {},
   "source": [
    "# Query Reward Unit Test\n",
    "Performing verification of the query rewards mechanism by comparing the event data to the results of cadCAD model."
   ]
  },
  {
   "cell_type": "code",
   "execution_count": 1,
   "metadata": {},
   "outputs": [
    {
     "name": "stdout",
     "output_type": "stream",
     "text": [
      "stakeDelegateds: 605 events\n",
      "stakeDelegatedLockeds: 375 events\n",
      "stakeDelegatedWithdrawns: 326 events\n",
      "allocationCloseds: 47 events\n",
      "allocationCollecteds: 16 events\n",
      "stakeDepositeds: 25 events\n",
      "rewardsAssigneds: 47 events\n",
      "delegationParametersUpdateds: 6 events\n",
      "allocationCreateds: 51 events\n",
      "TOTAL NUMBER OF EVENTS: 1529\n",
      "You should set SIMULATION_TIME_STEPS in config.py to a minimum of 1529 to capture all events.\n",
      "\n"
     ]
    }
   ],
   "source": [
    "import pandas as pd\n",
    "import numpy as np\n",
    "from decimal import Decimal\n",
    "from decimal import *\n",
    "import model.parts.utils as utils\n",
    "from model.sys_params import *\n",
    "df = pd.read_pickle(r'experiment.p')"
   ]
  },
  {
   "cell_type": "markdown",
   "metadata": {},
   "source": [
    "Configure environment"
   ]
  },
  {
   "cell_type": "code",
   "execution_count": 2,
   "metadata": {},
   "outputs": [],
   "source": [
    "df.reset_index(inplace = True)\n",
    "pd.set_option('display.max_rows', None)"
   ]
  },
  {
   "cell_type": "code",
   "execution_count": 3,
   "metadata": {},
   "outputs": [
    {
     "name": "stdout",
     "output_type": "stream",
     "text": [
      "EXPECTED TRUE QUERY REWARDS FROM STAKE DEPOSITED EVENTS:\n",
      "466, 137.509689357001388186\n",
      "704, 26.735411802895408127\n",
      "705, 177.886072492066675018\n",
      "779, 214.529777397159839053\n",
      "819, 18.276136055873106202\n",
      "820, 18.276136055873106202\n",
      "821, 18.276136055873106202\n",
      "822, 18.276136055873106202\n",
      "823, 18.276136055873106202\n",
      "824, 18.276136055873106202\n",
      "825, 18.276136055873106202\n",
      "826, 18.276136055873106202\n",
      "827, 18.276136055873106202\n",
      "1080, 7.259243672384625343\n",
      "1091, 1.200768983572724847\n",
      "1106, 1.200768983572724847\n"
     ]
    }
   ],
   "source": [
    "# print(query_fee_events)\n",
    "query_fee_events_dict = query_fee_events\n",
    "print(\"EXPECTED TRUE QUERY REWARDS FROM STAKE DEPOSITED EVENTS:\")\n",
    "for timestep, query_fee_events_list in query_fee_events_dict.items():\n",
    "    if query_fee_events_list is None:\n",
    "        query_fee_amt = 0\n",
    "    else:\n",
    "        query_fee_amt = sum([e['tokens'] for e in query_fee_events_list])\n",
    "    print(f\"{timestep}, {query_fee_amt}\")\n",
    "    \n"
   ]
  },
  {
   "cell_type": "code",
   "execution_count": 4,
   "metadata": {},
   "outputs": [
    {
     "name": "stdout",
     "output_type": "stream",
     "text": [
      "MODELED RESULTS\n",
      "466, query_fee_amt=Decimal('137.509689357001388186')\n",
      "704, query_fee_amt=Decimal('26.735411802895408127')\n",
      "705, query_fee_amt=Decimal('177.886072492066675018')\n",
      "779, query_fee_amt=Decimal('214.529777397159839053')\n",
      "819, query_fee_amt=Decimal('18.276136055873106202')\n",
      "820, query_fee_amt=Decimal('18.276136055873106202')\n",
      "821, query_fee_amt=Decimal('18.276136055873106202')\n",
      "822, query_fee_amt=Decimal('18.276136055873106202')\n",
      "823, query_fee_amt=Decimal('18.276136055873106202')\n",
      "824, query_fee_amt=Decimal('18.276136055873106202')\n",
      "825, query_fee_amt=Decimal('18.276136055873106202')\n",
      "826, query_fee_amt=Decimal('18.276136055873106202')\n",
      "827, query_fee_amt=Decimal('18.276136055873106202')\n",
      "1080, query_fee_amt=Decimal('7.259243672384625343')\n",
      "1091, query_fee_amt=Decimal('1.200768983572724847')\n",
      "1106, query_fee_amt=Decimal('1.200768983572724847')\n"
     ]
    }
   ],
   "source": [
    "print(\"MODELED RESULTS\")\n",
    "for timestep, query_fee_events_list in query_fee_events_dict.items():    \n",
    "    event = query_fee_events_list[0]\n",
    "    new_query_fee_amt = df.iloc[timestep-1].indexers[event['indexer']].cumulative_query_revenue\n",
    "    old_query_fee_amt = df.iloc[timestep-2].indexers[event['indexer']].cumulative_query_revenue\n",
    "    query_fee_amt = new_query_fee_amt - old_query_fee_amt\n",
    "    print(f\"{timestep}, {query_fee_amt=}\")\n"
   ]
  },
  {
   "cell_type": "code",
   "execution_count": 5,
   "metadata": {},
   "outputs": [
    {
     "name": "stdout",
     "output_type": "stream",
     "text": [
      "UNITTEST RESULTS\n",
      "Event: Timestep=465, Query Reward Tokens=137.509689357001388186\n",
      "Model: Timestep=465, Query Reward Tokens=137.509689357001388186\n",
      "Tokens Equal? True\n",
      "Tokens Within 0.001%? True\n",
      "Tokens Within 1%? True\n",
      "Exact: 1, ReallyClose: 0, Close: 0, Wrong: 0, Total Number: 1\n",
      "\n",
      "Event: Timestep=703, Query Reward Tokens=26.735411802895408127\n",
      "Model: Timestep=703, Query Reward Tokens=26.735411802895408127\n",
      "Tokens Equal? True\n",
      "Tokens Within 0.001%? True\n",
      "Tokens Within 1%? True\n",
      "Exact: 2, ReallyClose: 0, Close: 0, Wrong: 0, Total Number: 2\n",
      "\n",
      "Event: Timestep=704, Query Reward Tokens=177.886072492066675018\n",
      "Model: Timestep=704, Query Reward Tokens=177.886072492066675018\n",
      "Tokens Equal? True\n",
      "Tokens Within 0.001%? True\n",
      "Tokens Within 1%? True\n",
      "Exact: 3, ReallyClose: 0, Close: 0, Wrong: 0, Total Number: 3\n",
      "\n",
      "Event: Timestep=778, Query Reward Tokens=214.529777397159839053\n",
      "Model: Timestep=778, Query Reward Tokens=214.529777397159839053\n",
      "Tokens Equal? True\n",
      "Tokens Within 0.001%? True\n",
      "Tokens Within 1%? True\n",
      "Exact: 4, ReallyClose: 0, Close: 0, Wrong: 0, Total Number: 4\n",
      "\n",
      "Event: Timestep=818, Query Reward Tokens=18.276136055873106202\n",
      "Model: Timestep=818, Query Reward Tokens=18.276136055873106202\n",
      "Tokens Equal? True\n",
      "Tokens Within 0.001%? True\n",
      "Tokens Within 1%? True\n",
      "Exact: 5, ReallyClose: 0, Close: 0, Wrong: 0, Total Number: 5\n",
      "\n",
      "Event: Timestep=819, Query Reward Tokens=18.276136055873106202\n",
      "Model: Timestep=819, Query Reward Tokens=18.276136055873106202\n",
      "Tokens Equal? True\n",
      "Tokens Within 0.001%? True\n",
      "Tokens Within 1%? True\n",
      "Exact: 6, ReallyClose: 0, Close: 0, Wrong: 0, Total Number: 6\n",
      "\n",
      "Event: Timestep=820, Query Reward Tokens=18.276136055873106202\n",
      "Model: Timestep=820, Query Reward Tokens=18.276136055873106202\n",
      "Tokens Equal? True\n",
      "Tokens Within 0.001%? True\n",
      "Tokens Within 1%? True\n",
      "Exact: 7, ReallyClose: 0, Close: 0, Wrong: 0, Total Number: 7\n",
      "\n",
      "Event: Timestep=821, Query Reward Tokens=18.276136055873106202\n",
      "Model: Timestep=821, Query Reward Tokens=18.276136055873106202\n",
      "Tokens Equal? True\n",
      "Tokens Within 0.001%? True\n",
      "Tokens Within 1%? True\n",
      "Exact: 8, ReallyClose: 0, Close: 0, Wrong: 0, Total Number: 8\n",
      "\n",
      "Event: Timestep=822, Query Reward Tokens=18.276136055873106202\n",
      "Model: Timestep=822, Query Reward Tokens=18.276136055873106202\n",
      "Tokens Equal? True\n",
      "Tokens Within 0.001%? True\n",
      "Tokens Within 1%? True\n",
      "Exact: 9, ReallyClose: 0, Close: 0, Wrong: 0, Total Number: 9\n",
      "\n",
      "Event: Timestep=823, Query Reward Tokens=18.276136055873106202\n",
      "Model: Timestep=823, Query Reward Tokens=18.276136055873106202\n",
      "Tokens Equal? True\n",
      "Tokens Within 0.001%? True\n",
      "Tokens Within 1%? True\n",
      "Exact: 10, ReallyClose: 0, Close: 0, Wrong: 0, Total Number: 10\n",
      "\n",
      "Event: Timestep=824, Query Reward Tokens=18.276136055873106202\n",
      "Model: Timestep=824, Query Reward Tokens=18.276136055873106202\n",
      "Tokens Equal? True\n",
      "Tokens Within 0.001%? True\n",
      "Tokens Within 1%? True\n",
      "Exact: 11, ReallyClose: 0, Close: 0, Wrong: 0, Total Number: 11\n",
      "\n",
      "Event: Timestep=825, Query Reward Tokens=18.276136055873106202\n",
      "Model: Timestep=825, Query Reward Tokens=18.276136055873106202\n",
      "Tokens Equal? True\n",
      "Tokens Within 0.001%? True\n",
      "Tokens Within 1%? True\n",
      "Exact: 12, ReallyClose: 0, Close: 0, Wrong: 0, Total Number: 12\n",
      "\n",
      "Event: Timestep=826, Query Reward Tokens=18.276136055873106202\n",
      "Model: Timestep=826, Query Reward Tokens=18.276136055873106202\n",
      "Tokens Equal? True\n",
      "Tokens Within 0.001%? True\n",
      "Tokens Within 1%? True\n",
      "Exact: 13, ReallyClose: 0, Close: 0, Wrong: 0, Total Number: 13\n",
      "\n",
      "Event: Timestep=1079, Query Reward Tokens=7.259243672384625343\n",
      "Model: Timestep=1079, Query Reward Tokens=7.259243672384625343\n",
      "Tokens Equal? True\n",
      "Tokens Within 0.001%? True\n",
      "Tokens Within 1%? True\n",
      "Exact: 14, ReallyClose: 0, Close: 0, Wrong: 0, Total Number: 14\n",
      "\n",
      "Event: Timestep=1090, Query Reward Tokens=1.200768983572724847\n",
      "Model: Timestep=1090, Query Reward Tokens=1.200768983572724847\n",
      "Tokens Equal? True\n",
      "Tokens Within 0.001%? True\n",
      "Tokens Within 1%? True\n",
      "Exact: 15, ReallyClose: 0, Close: 0, Wrong: 0, Total Number: 15\n",
      "\n",
      "Event: Timestep=1105, Query Reward Tokens=1.200768983572724847\n",
      "Model: Timestep=1105, Query Reward Tokens=1.200768983572724847\n",
      "Tokens Equal? True\n",
      "Tokens Within 0.001%? True\n",
      "Tokens Within 1%? True\n",
      "Exact: 16, ReallyClose: 0, Close: 0, Wrong: 0, Total Number: 16\n",
      "\n",
      "Exact: 16, ReallyClose: 0, Close: 0, Wrong: 0, Total Number: 16\n"
     ]
    }
   ],
   "source": [
    "print(\"UNITTEST RESULTS\")\n",
    "cntExact = 0\n",
    "cntReallyClose = 0\n",
    "cntClose = 0\n",
    "cnt = 0\n",
    "cntWrong = 0\n",
    "for timestep, query_fee_events_list in query_fee_events_dict.items():\n",
    "    if query_fee_events_list is None:\n",
    "        event_query_fee_amt = 0\n",
    "    else:\n",
    "        event_query_fee_amt = sum([e['tokens'] for e in query_fee_events_list])\n",
    "    event = query_fee_events_list[0]\n",
    "    new_query_fee_amt = df.iloc[timestep-1].indexers[event['indexer']].cumulative_query_revenue\n",
    "    old_query_fee_amt = df.iloc[timestep-2].indexers[event['indexer']].cumulative_query_revenue\n",
    "    model_query_fee_amt = new_query_fee_amt - old_query_fee_amt\n",
    "    print(f\"Event: Timestep={timestep-1}, Query Reward Tokens={event_query_fee_amt}\")\n",
    "    print(f\"Model: Timestep={timestep-1}, Query Reward Tokens={model_query_fee_amt}\")\n",
    "    # print(\"Query Rewards Equal?\", event_query_fee_amt == model_query_fee_amt)\n",
    "    # print()\n",
    "\n",
    "    try:\n",
    "        ratio =  abs(event_query_fee_amt / model_query_fee_amt)\n",
    "    except:\n",
    "        ratio = np.inf\n",
    "    exact = ratio == 1.0\n",
    "    close = 0.99 <= ratio <= 1.01\n",
    "    reallyClose = 0.99999 <= ratio <= 1.00001\n",
    "\n",
    "    if exact:            \n",
    "        cntExact += 1\n",
    "    elif reallyClose:\n",
    "        cntReallyClose += 1\n",
    "    elif close:\n",
    "        cntClose += 1\n",
    "    else:\n",
    "        cntWrong += 1\n",
    "    cnt += 1\n",
    "    print(\"Tokens Equal?\", exact)\n",
    "    print(\"Tokens Within 0.001%?\", reallyClose)\n",
    "    print(\"Tokens Within 1%?\", close)\n",
    "    print(f\"Exact: {cntExact}, ReallyClose: {cntReallyClose}, Close: {cntClose}, Wrong: {cntWrong}, Total Number: {cnt}\")   \n",
    "    print()\n",
    "print(f\"Exact: {cntExact}, ReallyClose: {cntReallyClose}, Close: {cntClose}, Wrong: {cntWrong}, Total Number: {cnt}\")   \n",
    "    \n",
    "    \n"
   ]
  },
  {
   "cell_type": "markdown",
   "metadata": {},
   "source": [
    "# Conclusion\n",
    "The query reward token quantities are exactly equal."
   ]
  }
 ],
 "metadata": {
  "interpreter": {
   "hash": "0b0631ca040321b645c8721b9afbca57f18a1aa322598383be03b7ee0c528602"
  },
  "kernelspec": {
   "display_name": "Python 3.9.6 64-bit ('py396': conda)",
   "name": "python3"
  },
  "language_info": {
   "codemirror_mode": {
    "name": "ipython",
    "version": 3
   },
   "file_extension": ".py",
   "mimetype": "text/x-python",
   "name": "python",
   "nbconvert_exporter": "python",
   "pygments_lexer": "ipython3",
   "version": "3.9.6"
  }
 },
 "nbformat": 4,
 "nbformat_minor": 4
}
