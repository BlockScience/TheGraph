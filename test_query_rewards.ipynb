{
 "cells": [
  {
   "cell_type": "markdown",
   "source": [
    "# Query Reward Unit Test\r\n",
    "Performing verification of the query rewards mechanism by comparing the event data to the results of cadCAD model."
   ],
   "metadata": {}
  },
  {
   "cell_type": "code",
   "execution_count": 1,
   "source": [
    "import pandas as pd\r\n",
    "import numpy as np\r\n",
    "from decimal import Decimal\r\n",
    "from decimal import *\r\n",
    "import model.parts.utils as utils\r\n",
    "from model.sys_params import *\r\n",
    "df = pd.read_pickle(r'experiment.p')"
   ],
   "outputs": [
    {
     "output_type": "stream",
     "name": "stdout",
     "text": [
      "stakeDelegateds: 605 events\n",
      "stakeDelegatedLockeds: 375 events\n",
      "stakeDelegatedWithdrawns: 326 events\n",
      "allocationCloseds: 47 events\n",
      "allocationCollecteds: 16 events\n",
      "stakeDepositeds: 25 events\n",
      "rewardsAssigneds: 47 events\n",
      "delegationParametersUpdateds: 6 events\n",
      "TOTAL NUMBER OF EVENTS: 1529\n",
      "Set SIMULATION_TIME_STEPS in config.py to 1529\n",
      "\n"
     ]
    }
   ],
   "metadata": {}
  },
  {
   "cell_type": "markdown",
   "source": [
    "Configure environment"
   ],
   "metadata": {}
  },
  {
   "cell_type": "code",
   "execution_count": 2,
   "source": [
    "df.reset_index(inplace = True)\r\n",
    "pd.set_option('display.max_rows', None)"
   ],
   "outputs": [],
   "metadata": {}
  },
  {
   "cell_type": "code",
   "execution_count": 3,
   "source": [
    "# print(query_fee_events)\r\n",
    "query_fee_events_dict = query_fee_events\r\n",
    "print(\"EXPECTED TRUE QUERY REWARDS FROM STAKE DEPOSITED EVENTS:\")\r\n",
    "for timestep, query_fee_events_list in query_fee_events_dict.items():\r\n",
    "    if query_fee_events_list is None:\r\n",
    "        query_fee_amt = 0\r\n",
    "    else:\r\n",
    "        query_fee_amt = sum([e['tokens'] for e in query_fee_events_list])\r\n",
    "    print(f\"{timestep}, {query_fee_amt}\")\r\n",
    "    \r\n"
   ],
   "outputs": [
    {
     "output_type": "stream",
     "name": "stdout",
     "text": [
      "EXPECTED TRUE QUERY REWARDS FROM STAKE DEPOSITED EVENTS:\n",
      "465, 137.509689357001388186\n",
      "703, 26.735411802895408127\n",
      "704, 177.886072492066675018\n",
      "778, 214.529777397159839053\n",
      "818, 18.276136055873106202\n",
      "819, 18.276136055873106202\n",
      "820, 18.276136055873106202\n",
      "821, 18.276136055873106202\n",
      "822, 18.276136055873106202\n",
      "823, 18.276136055873106202\n",
      "824, 18.276136055873106202\n",
      "825, 18.276136055873106202\n",
      "826, 18.276136055873106202\n",
      "1079, 7.259243672384625343\n",
      "1090, 1.200768983572724847\n",
      "1105, 1.200768983572724847\n"
     ]
    }
   ],
   "metadata": {}
  },
  {
   "cell_type": "code",
   "execution_count": 4,
   "source": [
    "print(\"MODELED RESULTS\")\r\n",
    "for timestep, query_fee_events_list in query_fee_events_dict.items():    \r\n",
    "    query_fee_amt = df.iloc[timestep-1]['cumulative_query_revenue'] - df.iloc[timestep-2]['cumulative_query_revenue']\r\n",
    "    print(f\"{timestep}, {query_fee_amt=}\")\r\n"
   ],
   "outputs": [
    {
     "output_type": "stream",
     "name": "stdout",
     "text": [
      "MODELED RESULTS\n",
      "465, query_fee_amt=Decimal('137.509689357001388186')\n",
      "703, query_fee_amt=Decimal('26.735411802895408127')\n",
      "704, query_fee_amt=Decimal('177.886072492066675018')\n",
      "778, query_fee_amt=Decimal('214.529777397159839053')\n",
      "818, query_fee_amt=Decimal('18.276136055873106202')\n",
      "819, query_fee_amt=Decimal('18.276136055873106202')\n",
      "820, query_fee_amt=Decimal('18.276136055873106202')\n",
      "821, query_fee_amt=Decimal('18.276136055873106202')\n",
      "822, query_fee_amt=Decimal('18.276136055873106202')\n",
      "823, query_fee_amt=Decimal('18.276136055873106202')\n",
      "824, query_fee_amt=Decimal('18.276136055873106202')\n",
      "825, query_fee_amt=Decimal('18.276136055873106202')\n",
      "826, query_fee_amt=Decimal('18.276136055873106202')\n",
      "1079, query_fee_amt=Decimal('7.259243672384625343')\n",
      "1090, query_fee_amt=Decimal('1.200768983572724847')\n",
      "1105, query_fee_amt=Decimal('1.200768983572724847')\n"
     ]
    }
   ],
   "metadata": {}
  },
  {
   "cell_type": "code",
   "execution_count": 5,
   "source": [
    "print(\"UNITTEST RESULTS\")\r\n",
    "cntExact = 0\r\n",
    "cntReallyClose = 0\r\n",
    "cntClose = 0\r\n",
    "cnt = 0\r\n",
    "cntWrong = 0\r\n",
    "for timestep, query_fee_events_list in query_fee_events_dict.items():\r\n",
    "    if query_fee_events_list is None:\r\n",
    "        event_query_fee_amt = 0\r\n",
    "    else:\r\n",
    "        event_query_fee_amt = sum([e['tokens'] for e in query_fee_events_list])\r\n",
    "    model_query_fee_amt = df.iloc[timestep-1]['cumulative_query_revenue'] - df.iloc[timestep-2]['cumulative_query_revenue']\r\n",
    "    print(f\"Event: Timestep={timestep-1}, Query Reward Tokens={event_query_fee_amt}\")\r\n",
    "    print(f\"Model: Timestep={timestep-1}, Query Reward Tokens={model_query_fee_amt}\")\r\n",
    "    # print(\"Query Rewards Equal?\", event_query_fee_amt == model_query_fee_amt)\r\n",
    "    # print()\r\n",
    "\r\n",
    "    try:\r\n",
    "        ratio =  abs(event_query_fee_amt / model_query_fee_amt)\r\n",
    "    except:\r\n",
    "        ratio = np.inf\r\n",
    "    exact = ratio == 1.0\r\n",
    "    close = 0.99 <= ratio <= 1.01\r\n",
    "    reallyClose = 0.99999 <= ratio <= 1.00001\r\n",
    "\r\n",
    "    if exact:            \r\n",
    "        cntExact += 1\r\n",
    "    elif reallyClose:\r\n",
    "        cntReallyClose += 1\r\n",
    "    elif close:\r\n",
    "        cntClose += 1\r\n",
    "    else:\r\n",
    "        cntWrong += 1\r\n",
    "    cnt += 1\r\n",
    "    print(\"Tokens Equal?\", exact)\r\n",
    "    print(\"Tokens Within 0.001%?\", reallyClose)\r\n",
    "    print(\"Tokens Within 1%?\", close)\r\n",
    "    print(f\"Exact: {cntExact}, ReallyClose: {cntReallyClose}, Close: {cntClose}, Wrong: {cntWrong}, Total Number: {cnt}\")   \r\n",
    "    print()\r\n",
    "print(f\"Exact: {cntExact}, ReallyClose: {cntReallyClose}, Close: {cntClose}, Wrong: {cntWrong}, Total Number: {cnt}\")   \r\n",
    "    \r\n",
    "    \r\n"
   ],
   "outputs": [
    {
     "output_type": "stream",
     "name": "stdout",
     "text": [
      "UNITTEST RESULTS\n",
      "Event: Timestep=464, Query Reward Tokens=137.509689357001388186\n",
      "Model: Timestep=464, Query Reward Tokens=137.509689357001388186\n",
      "Tokens Equal? True\n",
      "Tokens Within 0.001%? True\n",
      "Tokens Within 1%? True\n",
      "Exact: 1, ReallyClose: 0, Close: 0, Wrong: 0, Total Number: 1\n",
      "\n",
      "Event: Timestep=702, Query Reward Tokens=26.735411802895408127\n",
      "Model: Timestep=702, Query Reward Tokens=26.735411802895408127\n",
      "Tokens Equal? True\n",
      "Tokens Within 0.001%? True\n",
      "Tokens Within 1%? True\n",
      "Exact: 2, ReallyClose: 0, Close: 0, Wrong: 0, Total Number: 2\n",
      "\n",
      "Event: Timestep=703, Query Reward Tokens=177.886072492066675018\n",
      "Model: Timestep=703, Query Reward Tokens=177.886072492066675018\n",
      "Tokens Equal? True\n",
      "Tokens Within 0.001%? True\n",
      "Tokens Within 1%? True\n",
      "Exact: 3, ReallyClose: 0, Close: 0, Wrong: 0, Total Number: 3\n",
      "\n",
      "Event: Timestep=777, Query Reward Tokens=214.529777397159839053\n",
      "Model: Timestep=777, Query Reward Tokens=214.529777397159839053\n",
      "Tokens Equal? True\n",
      "Tokens Within 0.001%? True\n",
      "Tokens Within 1%? True\n",
      "Exact: 4, ReallyClose: 0, Close: 0, Wrong: 0, Total Number: 4\n",
      "\n",
      "Event: Timestep=817, Query Reward Tokens=18.276136055873106202\n",
      "Model: Timestep=817, Query Reward Tokens=18.276136055873106202\n",
      "Tokens Equal? True\n",
      "Tokens Within 0.001%? True\n",
      "Tokens Within 1%? True\n",
      "Exact: 5, ReallyClose: 0, Close: 0, Wrong: 0, Total Number: 5\n",
      "\n",
      "Event: Timestep=818, Query Reward Tokens=18.276136055873106202\n",
      "Model: Timestep=818, Query Reward Tokens=18.276136055873106202\n",
      "Tokens Equal? True\n",
      "Tokens Within 0.001%? True\n",
      "Tokens Within 1%? True\n",
      "Exact: 6, ReallyClose: 0, Close: 0, Wrong: 0, Total Number: 6\n",
      "\n",
      "Event: Timestep=819, Query Reward Tokens=18.276136055873106202\n",
      "Model: Timestep=819, Query Reward Tokens=18.276136055873106202\n",
      "Tokens Equal? True\n",
      "Tokens Within 0.001%? True\n",
      "Tokens Within 1%? True\n",
      "Exact: 7, ReallyClose: 0, Close: 0, Wrong: 0, Total Number: 7\n",
      "\n",
      "Event: Timestep=820, Query Reward Tokens=18.276136055873106202\n",
      "Model: Timestep=820, Query Reward Tokens=18.276136055873106202\n",
      "Tokens Equal? True\n",
      "Tokens Within 0.001%? True\n",
      "Tokens Within 1%? True\n",
      "Exact: 8, ReallyClose: 0, Close: 0, Wrong: 0, Total Number: 8\n",
      "\n",
      "Event: Timestep=821, Query Reward Tokens=18.276136055873106202\n",
      "Model: Timestep=821, Query Reward Tokens=18.276136055873106202\n",
      "Tokens Equal? True\n",
      "Tokens Within 0.001%? True\n",
      "Tokens Within 1%? True\n",
      "Exact: 9, ReallyClose: 0, Close: 0, Wrong: 0, Total Number: 9\n",
      "\n",
      "Event: Timestep=822, Query Reward Tokens=18.276136055873106202\n",
      "Model: Timestep=822, Query Reward Tokens=18.276136055873106202\n",
      "Tokens Equal? True\n",
      "Tokens Within 0.001%? True\n",
      "Tokens Within 1%? True\n",
      "Exact: 10, ReallyClose: 0, Close: 0, Wrong: 0, Total Number: 10\n",
      "\n",
      "Event: Timestep=823, Query Reward Tokens=18.276136055873106202\n",
      "Model: Timestep=823, Query Reward Tokens=18.276136055873106202\n",
      "Tokens Equal? True\n",
      "Tokens Within 0.001%? True\n",
      "Tokens Within 1%? True\n",
      "Exact: 11, ReallyClose: 0, Close: 0, Wrong: 0, Total Number: 11\n",
      "\n",
      "Event: Timestep=824, Query Reward Tokens=18.276136055873106202\n",
      "Model: Timestep=824, Query Reward Tokens=18.276136055873106202\n",
      "Tokens Equal? True\n",
      "Tokens Within 0.001%? True\n",
      "Tokens Within 1%? True\n",
      "Exact: 12, ReallyClose: 0, Close: 0, Wrong: 0, Total Number: 12\n",
      "\n",
      "Event: Timestep=825, Query Reward Tokens=18.276136055873106202\n",
      "Model: Timestep=825, Query Reward Tokens=18.276136055873106202\n",
      "Tokens Equal? True\n",
      "Tokens Within 0.001%? True\n",
      "Tokens Within 1%? True\n",
      "Exact: 13, ReallyClose: 0, Close: 0, Wrong: 0, Total Number: 13\n",
      "\n",
      "Event: Timestep=1078, Query Reward Tokens=7.259243672384625343\n",
      "Model: Timestep=1078, Query Reward Tokens=7.259243672384625343\n",
      "Tokens Equal? True\n",
      "Tokens Within 0.001%? True\n",
      "Tokens Within 1%? True\n",
      "Exact: 14, ReallyClose: 0, Close: 0, Wrong: 0, Total Number: 14\n",
      "\n",
      "Event: Timestep=1089, Query Reward Tokens=1.200768983572724847\n",
      "Model: Timestep=1089, Query Reward Tokens=1.200768983572724847\n",
      "Tokens Equal? True\n",
      "Tokens Within 0.001%? True\n",
      "Tokens Within 1%? True\n",
      "Exact: 15, ReallyClose: 0, Close: 0, Wrong: 0, Total Number: 15\n",
      "\n",
      "Event: Timestep=1104, Query Reward Tokens=1.200768983572724847\n",
      "Model: Timestep=1104, Query Reward Tokens=1.200768983572724847\n",
      "Tokens Equal? True\n",
      "Tokens Within 0.001%? True\n",
      "Tokens Within 1%? True\n",
      "Exact: 16, ReallyClose: 0, Close: 0, Wrong: 0, Total Number: 16\n",
      "\n",
      "Exact: 16, ReallyClose: 0, Close: 0, Wrong: 0, Total Number: 16\n"
     ]
    }
   ],
   "metadata": {}
  },
  {
   "cell_type": "markdown",
   "source": [
    "# Conclusion\r\n",
    "The query reward token quantities are exactly equal."
   ],
   "metadata": {}
  }
 ],
 "metadata": {
  "interpreter": {
   "hash": "0b0631ca040321b645c8721b9afbca57f18a1aa322598383be03b7ee0c528602"
  },
  "kernelspec": {
   "name": "python3",
   "display_name": "Python 3.9.6 64-bit ('py396': conda)"
  },
  "language_info": {
   "codemirror_mode": {
    "name": "ipython",
    "version": 3
   },
   "file_extension": ".py",
   "mimetype": "text/x-python",
   "name": "python",
   "nbconvert_exporter": "python",
   "pygments_lexer": "ipython3",
   "version": "3.9.6"
  }
 },
 "nbformat": 4,
 "nbformat_minor": 4
}