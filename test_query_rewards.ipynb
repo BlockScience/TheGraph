{
 "cells": [
  {
   "cell_type": "markdown",
   "metadata": {},
   "source": [
    "# Query Reward Unit Test\r\n",
    "Performing verification of the query rewards mechanism by comparing the event data to the results of cadCAD model."
   ]
  },
  {
   "cell_type": "code",
   "execution_count": 1,
   "metadata": {},
   "outputs": [
    {
     "name": "stdout",
     "output_type": "stream",
     "text": [
      "loaded GraphQL_data/SIstakeDelegateds.csv.\n",
      "loaded GraphQL_data/SIstakeLockeds.csv.\n",
      "loaded GraphQL_data/SIstakeWithdrawns.csv.\n",
      "loaded GraphQL_data/SIallocationCloseds.csv.\n",
      "loaded GraphQL_data/SIallocationCollecteds.csv.\n",
      "loaded GraphQL_data/SIstakeDepositeds.csv.\n",
      "loaded GraphQL_data/SIrewardsAssigneds.csv.\n"
     ]
    }
   ],
   "source": [
    "import pandas as pd\r\n",
    "import numpy as np\r\n",
    "from decimal import Decimal\r\n",
    "from decimal import *\r\n",
    "import model.parts.utils as utils\r\n",
    "from model.sys_params import *\r\n",
    "df = pd.read_pickle(r'experiment.p')"
   ]
  },
  {
   "cell_type": "markdown",
   "metadata": {},
   "source": [
    "Configure environment"
   ]
  },
  {
   "cell_type": "code",
   "execution_count": 2,
   "metadata": {},
   "outputs": [],
   "source": [
    "df.reset_index(inplace = True)\r\n",
    "pd.set_option('display.max_rows', None)"
   ]
  },
  {
   "cell_type": "code",
   "execution_count": 3,
   "metadata": {},
   "outputs": [
    {
     "name": "stdout",
     "output_type": "stream",
     "text": [
      "EXPECTED TRUE QUERY REWARDS FROM STAKE DEPOSITED EVENTS:\n",
      "9, 0.970125109574860079\n"
     ]
    }
   ],
   "source": [
    "# print(query_fee_events)\r\n",
    "query_fee_events_dict = query_fee_events[0]\r\n",
    "print(\"EXPECTED TRUE QUERY REWARDS FROM STAKE DEPOSITED EVENTS:\")\r\n",
    "for timestep, query_fee_events_list in query_fee_events_dict.items():\r\n",
    "    if query_fee_events_list is None:\r\n",
    "        query_fee_amt = 0\r\n",
    "    else:\r\n",
    "        query_fee_amt = sum([e['tokens'] for e in query_fee_events_list])\r\n",
    "    print(f\"{timestep}, {query_fee_amt}\")\r\n",
    "    \r\n"
   ]
  },
  {
   "cell_type": "code",
   "execution_count": 4,
   "metadata": {},
   "outputs": [
    {
     "name": "stdout",
     "output_type": "stream",
     "text": [
      "MODELED RESULTS\n",
      "9, query_fee_amt=Decimal('0.970125109574860079')\n"
     ]
    }
   ],
   "source": [
    "print(\"MODELED RESULTS\")\r\n",
    "for timestep, query_fee_events_list in query_fee_events_dict.items():    \r\n",
    "    query_fee_amt = df.iloc[timestep-1]['cumulative_query_revenue'] - df.iloc[timestep-2]['cumulative_query_revenue']\r\n",
    "    print(f\"{timestep}, {query_fee_amt=}\")\r\n"
   ]
  },
  {
   "cell_type": "code",
   "execution_count": 5,
   "metadata": {},
   "outputs": [
    {
     "name": "stdout",
     "output_type": "stream",
     "text": [
      "UNITTEST RESULTS\n",
      "Event: Timestep=8, Query Reward Tokens=0.970125109574860079\n",
      "Model: Timestep=8, Query Reward Tokens=0.970125109574860079\n",
      "Query Rewards Equal? True\n",
      "\n"
     ]
    }
   ],
   "source": [
    "print(\"UNITTEST RESULTS\")\r\n",
    "for timestep, query_fee_events_list in query_fee_events_dict.items():\r\n",
    "    if query_fee_events_list is None:\r\n",
    "        event_query_fee_amt = 0\r\n",
    "    else:\r\n",
    "        event_query_fee_amt = sum([e['tokens'] for e in query_fee_events_list])\r\n",
    "    model_query_fee_amt = df.iloc[timestep-1]['cumulative_query_revenue'] - df.iloc[timestep-2]['cumulative_query_revenue']\r\n",
    "    print(f\"Event: Timestep={timestep-1}, Query Reward Tokens={event_query_fee_amt}\")\r\n",
    "    print(f\"Model: Timestep={timestep-1}, Query Reward Tokens={model_query_fee_amt}\")\r\n",
    "    print(\"Query Rewards Equal?\", event_query_fee_amt == model_query_fee_amt)\r\n",
    "    print()\r\n"
   ]
  },
  {
   "cell_type": "markdown",
   "metadata": {},
   "source": [
    "# Conclusion\r\n",
    "The query reward token quantities are exactly equal."
   ]
  }
 ],
 "metadata": {
  "interpreter": {
   "hash": "0b0631ca040321b645c8721b9afbca57f18a1aa322598383be03b7ee0c528602"
  },
  "kernelspec": {
   "display_name": "Python 3",
   "language": "python",
   "name": "python3"
  },
  "language_info": {
   "codemirror_mode": {
    "name": "ipython",
    "version": 3
   },
   "file_extension": ".py",
   "mimetype": "text/x-python",
   "name": "python",
   "nbconvert_exporter": "python",
   "pygments_lexer": "ipython3",
   "version": "3.8.5"
  }
 },
 "nbformat": 4,
 "nbformat_minor": 4
}
