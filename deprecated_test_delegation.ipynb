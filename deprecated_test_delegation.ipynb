{
 "cells": [
  {
   "cell_type": "markdown",
   "metadata": {},
   "source": [
    "# Delegation Unit Test\n",
    "Performing verification of the delegation mechanism by comparing the event data to the results of cadCAD model."
   ]
  },
  {
   "cell_type": "code",
   "execution_count": null,
   "metadata": {},
   "outputs": [],
   "source": [
    "import pandas as pd\n",
    "import numpy as np\n",
    "\n",
    "# import os\n",
    "# import sys\n",
    "# module_path = os.path.abspath(os.path.join('..'))\n",
    "# print(module_path)\n",
    "# sys.path.append(module_path)\n",
    "import model.parts.utils as utils\n",
    "from model.sys_params import *\n",
    "df = pd.read_pickle(r'experiment.p')\n"
   ]
  },
  {
   "cell_type": "markdown",
   "metadata": {},
   "source": [
    "Configure environment"
   ]
  },
  {
   "cell_type": "code",
   "execution_count": null,
   "metadata": {},
   "outputs": [],
   "source": [
    "df.reset_index(inplace = True)\n",
    "pd.set_option('display.max_rows', None)"
   ]
  },
  {
   "cell_type": "code",
   "execution_count": null,
   "metadata": {},
   "outputs": [],
   "source": [
    "# print(delegation_events)\n",
    "\n",
    "getcontext().prec = 6\n",
    "print(getcontext())\n",
    "delegation_events_dict = delegation_events\n",
    "print(\"EXPECTED TRUTH FROM DELEGATION EVENTS:\")\n",
    "for timestep, events in delegation_events_dict.items():\n",
    "    for event in events:        \n",
    "        print(f\"{timestep}, {event['delegator']}, {event['shares']}\")\n",
    "print(getcontext())\n",
    "\n"
   ]
  },
  {
   "cell_type": "code",
   "execution_count": null,
   "metadata": {},
   "outputs": [],
   "source": []
  },
  {
   "cell_type": "code",
   "execution_count": null,
   "metadata": {},
   "outputs": [],
   "source": [
    "timestep = 1\n",
    "# df.iloc[timestep-1].delegators['0xd776a7306ee6a060cebb46b46d305e88fd39ba84'].shares\n",
    "# df.iloc[timestep*6+1].delegators\n",
    "\n",
    "# timestep += 1\n",
    "# df.iloc[3].delegators['0xd776a7306ee6a060cebb46b46d305e88fd39ba84']\n",
    "print(\"MODELED RESULTS\")\n",
    "print(getcontext())\n",
    "delegation_event_shares = {}\n",
    "for timestep, events in delegation_events_dict.items():\n",
    "    for event in events:\n",
    "        # curTimestepShares = df.iloc[timestep-1].delegators[event['delegator']].shares\n",
    "        curTimestepShares = df.iloc[timestep-1].indexers[event['indexer']].delegators[event['delegator']].shares\n",
    "        try:\n",
    "            # lastTimestepShares = df.iloc[timestep-2].delegators[event['delegator']].shares\n",
    "            lastTimestepShares = df.iloc[timestep-2].indexers[event['indexer']].delegators[event['delegator']].shares\n",
    "        except:\n",
    "            lastTimestepShares = 0\n",
    "        deltaShares = curTimestepShares - lastTimestepShares\n",
    "        delegation_event_shares[timestep] = deltaShares\n",
    "        print(f\"{timestep}, {event['delegator']}, {delegation_event_shares[timestep]}\")\n",
    "\n"
   ]
  },
  {
   "cell_type": "code",
   "execution_count": null,
   "metadata": {},
   "outputs": [],
   "source": [
    "print(\"UNITTEST RESULTS\")\n",
    "print(getcontext())\n",
    "cntExact = 0\n",
    "cntReallyClose = 0\n",
    "cntClose = 0\n",
    "cnt = 0\n",
    "cntWrong = 0\n",
    "for timestep, events in delegation_events_dict.items():\n",
    "    for event in events:\n",
    "        # curTimestepShares = df.iloc[timestep-1].delegators[event['delegator']].shares\n",
    "        curTimestepShares = df.iloc[timestep-1].indexers[event['indexer']].delegators[event['delegator']].shares\n",
    "        try:\n",
    "            # lastTimestepShares = df.iloc[timestep-2].delegators[event['delegator']].shares\n",
    "            lastTimestepShares = df.iloc[timestep-2].indexers[event['indexer']].delegators[event['delegator']].shares\n",
    "        except:\n",
    "            # this is a new delegator.\n",
    "            lastTimestepShares = 0\n",
    "        deltaShares = curTimestepShares - lastTimestepShares\n",
    "\n",
    "        print(f\"Event: Timestep={timestep}, Delegator ID={event['delegator']}, Shares Granted={event['shares']}\")\n",
    "        print(f\"Model: Timestep={timestep}, Delegator ID={event['delegator']}, Shares Granted={deltaShares}\")\n",
    "        \n",
    "        try:\n",
    "            ratio = abs(event['shares'] / deltaShares)\n",
    "        except:\n",
    "            ratio = np.inf\n",
    "        exact = ratio == 1.0\n",
    "        close = 0.99 <= ratio <= 1.01\n",
    "        reallyClose = 0.99999 <= ratio <= 1.00001\n",
    "\n",
    "        if exact:            \n",
    "            cntExact += 1\n",
    "        elif reallyClose:\n",
    "            cntReallyClose += 1\n",
    "        elif close:\n",
    "            cntClose += 1\n",
    "        else:\n",
    "            cntWrong += 1\n",
    "        cnt += 1\n",
    "        print(\"Shares Equal?\", exact)\n",
    "        print(\"Shares Within 0.001%?\", reallyClose)\n",
    "        print(\"Shares Within 1%?\", close)\n",
    "        print(f\"Exact: {cntExact}, ReallyClose: {cntReallyClose}, Close: {cntClose}, Wrong: {cntWrong}, Total Number: {cnt}\")   \n",
    "        print()\n",
    "print(f\"Exact: {cntExact}, ReallyClose: {cntReallyClose}, Close: {cntClose}, Wrong: {cntWrong}, Total Number: {cnt}\")   \n"
   ]
  },
  {
   "cell_type": "markdown",
   "metadata": {},
   "source": []
  },
  {
   "cell_type": "markdown",
   "metadata": {},
   "source": [
    "# Conclusion\n",
    "The number of shares granted by delegation in the first two events match the output of the cadCAD model exactly and then the next 3 are extremely close, diverging gradually."
   ]
  },
  {
   "cell_type": "code",
   "execution_count": null,
   "metadata": {},
   "outputs": [],
   "source": []
  }
 ],
 "metadata": {
  "interpreter": {
   "hash": "0b0631ca040321b645c8721b9afbca57f18a1aa322598383be03b7ee0c528602"
  },
  "kernelspec": {
   "display_name": "Python 3.9.6 64-bit ('py396': conda)",
   "name": "python3"
  },
  "language_info": {
   "codemirror_mode": {
    "name": "ipython",
    "version": 3
   },
   "file_extension": ".py",
   "mimetype": "text/x-python",
   "name": "python",
   "nbconvert_exporter": "python",
   "pygments_lexer": "ipython3",
   "version": "3.9.6"
  }
 },
 "nbformat": 4,
 "nbformat_minor": 4
}
