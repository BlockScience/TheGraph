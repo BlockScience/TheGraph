{
 "cells": [
  {
   "cell_type": "markdown",
   "source": [
    "# Withdraw Unit Test\r\n",
    "Performing verification of the withdraw mechanism by comparing the event data to the results of cadCAD model."
   ],
   "metadata": {}
  },
  {
   "cell_type": "code",
   "execution_count": 1,
   "source": [
    "import pandas as pd\r\n",
    "import numpy as np\r\n",
    "from decimal import Decimal\r\n",
    "from decimal import *\r\n",
    "import model.parts.utils as utils\r\n",
    "from model.sys_params import *\r\n",
    "df = pd.read_pickle(r'experiment.p')"
   ],
   "outputs": [
    {
     "output_type": "stream",
     "name": "stdout",
     "text": [
      "loaded GraphQL_data/SIstakeDelegateds.csv.\n",
      "loaded GraphQL_data/SIstakeLockeds.csv.\n",
      "loaded GraphQL_data/SIstakeWithdrawns.csv.\n",
      "loaded GraphQL_data/SIallocationCollecteds.csv.\n",
      "loaded GraphQL_data/SIstakeDepositeds.csv.\n"
     ]
    }
   ],
   "metadata": {}
  },
  {
   "cell_type": "markdown",
   "source": [
    "Configure environment"
   ],
   "metadata": {}
  },
  {
   "cell_type": "code",
   "execution_count": 2,
   "source": [
    "df.reset_index(inplace = True)\r\n",
    "pd.set_option('display.max_rows', None)"
   ],
   "outputs": [],
   "metadata": {}
  },
  {
   "cell_type": "code",
   "execution_count": 3,
   "source": [
    "withdraw_events_dict = withdraw_events[0]\r\n",
    "\r\n",
    "print(\"EXPECTED TRUTH--Tokens withdrawn via withdraw events:\")\r\n",
    "for timestep, withdraw_event in withdraw_events_dict.items():\r\n",
    "    print(f\"{timestep-1}, {withdraw_event[0]['delegator']}, {withdraw_event[0]['tokens']}\")\r\n",
    "\r\n"
   ],
   "outputs": [
    {
     "output_type": "stream",
     "name": "stdout",
     "text": [
      "EXPECTED TRUTH--Tokens withdrawn via withdraw events:\n",
      "75, 0xcbb08e918e828bfd46a0e32e3365e80d7502c7d9, 2984.999999999999999999\n",
      "86, 0x40f657e85bbb5cc7beb402da315c3fe1974442bf, 1057.880681157946400522\n",
      "91, 0x63f8168f665f79101a0e0da2313cd1391e1c5e27, 1163.668749273741000575\n",
      "149, 0x8e0c59ba449ac228016dee5b1bb0990a8be7f8a6, 3990.676349999999999999\n",
      "193, 0x950d8f1e2e0ec438573a9540ca6f74913df0aeb1, 60961.231577108159627625\n"
     ]
    }
   ],
   "metadata": {}
  },
  {
   "cell_type": "code",
   "execution_count": 20,
   "source": [
    "print(\"MODELED RESULTS--Tokens locked in undelegation.\")\r\n",
    "for timestep, withdraw_event in withdraw_events_dict.items():\r\n",
    "    # print(f\"{timestep-1}\") \r\n",
    "    # print(f\"{undelegation_event[0]['delegator']}\") \r\n",
    "    # print(f\"{df.iloc[timestep-1].delegators[undelegation_event[0]['delegator']].shares}\")\r\n",
    "    tokens_withdrawn = df.iloc[timestep-1].delegators[withdraw_event[0]['delegator']].holdings - df.iloc[timestep-2].delegators[withdraw_event[0]['delegator']].holdings\r\n",
    "    print(f\"{timestep-1}, {withdraw_event[0]['delegator']}, {tokens_withdrawn=}\")"
   ],
   "outputs": [
    {
     "output_type": "stream",
     "name": "stdout",
     "text": [
      "MODELED RESULTS--Tokens locked in undelegation.\n",
      "75, 0xcbb08e918e828bfd46a0e32e3365e80d7502c7d9, tokens_withdrawn=Decimal('0E-18')\n",
      "86, 0x40f657e85bbb5cc7beb402da315c3fe1974442bf, tokens_withdrawn=Decimal('0E-18')\n",
      "91, 0x63f8168f665f79101a0e0da2313cd1391e1c5e27, tokens_withdrawn=Decimal('1104.691161886919640222230789')\n",
      "149, 0x8e0c59ba449ac228016dee5b1bb0990a8be7f8a6, tokens_withdrawn=Decimal('3787.745417074846793187960997')\n",
      "193, 0x950d8f1e2e0ec438573a9540ca6f74913df0aeb1, tokens_withdrawn=Decimal('55887.12136222974143499817302')\n"
     ]
    }
   ],
   "metadata": {}
  },
  {
   "cell_type": "code",
   "execution_count": 23,
   "source": [
    "print(\"UNITTEST RESULTS\")\r\n",
    "for timestep, withdraw_event in withdraw_events_dict.items():\r\n",
    "    tokens_withdrawn = df.iloc[timestep-1].delegators[withdraw_event[0]['delegator']].holdings - df.iloc[timestep-2].delegators[withdraw_event[0]['delegator']].holdings\r\n",
    "    print(f\"Event: Timestep={timestep-1}, Delegator ID={withdraw_event[0]['delegator']}, Tokens Withdrawn={withdraw_event[0]['tokens']}\")\r\n",
    "    print(f\"Model: Timestep={timestep-1}, Delegator ID={withdraw_event[0]['delegator']}, Tokens Withdrawn={tokens_withdrawn}\")\r\n",
    "    print(\"Withdraw Amount Equal?\", withdraw_event[0]['tokens'] == tokens_withdrawn)\r\n",
    "    print()\r\n"
   ],
   "outputs": [
    {
     "output_type": "stream",
     "name": "stdout",
     "text": [
      "UNITTEST RESULTS\n",
      "Event: Timestep=75, Delegator ID=0xcbb08e918e828bfd46a0e32e3365e80d7502c7d9, Tokens Withdrawn=2984.999999999999999999\n",
      "Model: Timestep=75, Delegator ID=0xcbb08e918e828bfd46a0e32e3365e80d7502c7d9, Tokens Withdrawn=0E-18\n",
      "Withdraw Amount Equal? False\n",
      "\n",
      "Event: Timestep=86, Delegator ID=0x40f657e85bbb5cc7beb402da315c3fe1974442bf, Tokens Withdrawn=1057.880681157946400522\n",
      "Model: Timestep=86, Delegator ID=0x40f657e85bbb5cc7beb402da315c3fe1974442bf, Tokens Withdrawn=0E-18\n",
      "Withdraw Amount Equal? False\n",
      "\n",
      "Event: Timestep=91, Delegator ID=0x63f8168f665f79101a0e0da2313cd1391e1c5e27, Tokens Withdrawn=1163.668749273741000575\n",
      "Model: Timestep=91, Delegator ID=0x63f8168f665f79101a0e0da2313cd1391e1c5e27, Tokens Withdrawn=1104.691161886919640222230789\n",
      "Withdraw Amount Equal? False\n",
      "\n",
      "Event: Timestep=149, Delegator ID=0x8e0c59ba449ac228016dee5b1bb0990a8be7f8a6, Tokens Withdrawn=3990.676349999999999999\n",
      "Model: Timestep=149, Delegator ID=0x8e0c59ba449ac228016dee5b1bb0990a8be7f8a6, Tokens Withdrawn=3787.745417074846793187960997\n",
      "Withdraw Amount Equal? False\n",
      "\n",
      "Event: Timestep=193, Delegator ID=0x950d8f1e2e0ec438573a9540ca6f74913df0aeb1, Tokens Withdrawn=60961.231577108159627625\n",
      "Model: Timestep=193, Delegator ID=0x950d8f1e2e0ec438573a9540ca6f74913df0aeb1, Tokens Withdrawn=55887.12136222974143499817302\n",
      "Withdraw Amount Equal? False\n",
      "\n"
     ]
    }
   ],
   "metadata": {}
  },
  {
   "cell_type": "markdown",
   "source": [
    "# Conclusion\r\n",
    "The number of tokens withdrawn, measured as (holdings_after_event) - (holdings_before_event), is 0 in the first two events, possibly due to the locked_until threshold not being met.  In the next three, we are close, but diverging again."
   ],
   "metadata": {}
  }
 ],
 "metadata": {
  "interpreter": {
   "hash": "0b0631ca040321b645c8721b9afbca57f18a1aa322598383be03b7ee0c528602"
  },
  "kernelspec": {
   "name": "python3",
   "display_name": "Python 3.9.6 64-bit ('py396': conda)"
  },
  "language_info": {
   "codemirror_mode": {
    "name": "ipython",
    "version": 3
   },
   "file_extension": ".py",
   "mimetype": "text/x-python",
   "name": "python",
   "nbconvert_exporter": "python",
   "pygments_lexer": "ipython3",
   "version": "3.9.6"
  }
 },
 "nbformat": 4,
 "nbformat_minor": 4
}