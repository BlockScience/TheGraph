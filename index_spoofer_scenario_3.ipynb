{
 "cells": [
  {
   "cell_type": "code",
   "execution_count": 1,
   "metadata": {},
   "outputs": [
    {
     "name": "stdout",
     "output_type": "stream",
     "text": [
      "stakeDelegateds: 605 events\n",
      "stakeDelegatedLockeds: 375 events\n",
      "stakeDelegatedWithdrawns: 326 events\n",
      "allocationCloseds: 47 events\n",
      "allocationCollecteds: 16 events\n",
      "stakeDepositeds: 25 events\n",
      "rewardsAssigneds: 47 events\n",
      "delegationParametersUpdateds: 6 events\n",
      "allocationCreateds: 51 events\n",
      "TOTAL NUMBER OF EVENTS: 1529\n",
      "You should set SIMULATION_TIME_STEPS in config.py to a minimum of 1529 to capture all events.\n",
      "\n"
     ]
    }
   ],
   "source": [
    "import pandas as pd\n",
    "import numpy as np\n",
    "import matplotlib.pyplot as plt\n",
    "\n",
    "# import os\n",
    "# import sys\n",
    "# module_path = os.path.abspath(os.path.join('..'))\n",
    "# print(module_path)\n",
    "# sys.path.append(module_path)\n",
    "import model.parts.utils as utils\n",
    "from model.sys_params import *\n",
    "tax_df = pd.read_pickle(r'index_spoofer_scen_3_all_slash_del_tax.p')\n",
    "percent_df = pd.read_pickle(r'index_spoofer_scen_3_all_slash_slash_pct.p')\n",
    "no_slash_tax_df = pd.read_pickle(r'index_spoofer_scen_3_no_slash_del_tax.p')\n",
    "no_slash_slash_df = pd.read_pickle(r'index_spoofer_scen_3_no_slash_slash_pct.p')"
   ]
  },
  {
   "cell_type": "code",
   "execution_count": 2,
   "metadata": {},
   "outputs": [],
   "source": [
    "# from model.config import simulation_config\n",
    "experiment =  pd.read_pickle('index_spoofer_scen_3_all_slash_del_tax_config.p')\n",
    "slash_pct_experiment = pd.read_pickle('index_spoofer_scen_3_all_slash_slash_pct_config.p')\n",
    "no_slash_tax_experiment = pd.read_pickle('index_spoofer_scen_3_no_slash_del_tax_config.p')\n",
    "no_slash_slash_experiment = pd.read_pickle('index_spoofer_scen_3_no_slash_slash_pct_config.p')\n"
   ]
  },
  {
   "cell_type": "code",
   "execution_count": 3,
   "metadata": {},
   "outputs": [
    {
     "data": {
      "text/plain": [
       "3"
      ]
     },
     "execution_count": 3,
     "metadata": {},
     "output_type": "execute_result"
    }
   ],
   "source": [
    "len(experiment)"
   ]
  },
  {
   "cell_type": "code",
   "execution_count": 4,
   "metadata": {},
   "outputs": [],
   "source": [
    "tax_df.reset_index(inplace = True)\n",
    "percent_df.reset_index(inplace = True)\n",
    "no_slash_tax_df.reset_index(inplace = True)\n",
    "no_slash_slash_df.reset_index(inplace = True)"
   ]
  },
  {
   "cell_type": "code",
   "execution_count": 5,
   "metadata": {},
   "outputs": [
    {
     "data": {
      "text/html": [
       "<div>\n",
       "<style scoped>\n",
       "    .dataframe tbody tr th:only-of-type {\n",
       "        vertical-align: middle;\n",
       "    }\n",
       "\n",
       "    .dataframe tbody tr th {\n",
       "        vertical-align: top;\n",
       "    }\n",
       "\n",
       "    .dataframe thead th {\n",
       "        text-align: right;\n",
       "    }\n",
       "</style>\n",
       "<table border=\"1\" class=\"dataframe\">\n",
       "  <thead>\n",
       "    <tr style=\"text-align: right;\">\n",
       "      <th></th>\n",
       "      <th>index</th>\n",
       "      <th>indexers</th>\n",
       "      <th>delegator_portfolios</th>\n",
       "      <th>block_number</th>\n",
       "      <th>epoch</th>\n",
       "      <th>injected_event_shift</th>\n",
       "      <th>simulation</th>\n",
       "      <th>subset</th>\n",
       "      <th>run</th>\n",
       "      <th>substep</th>\n",
       "      <th>timestep</th>\n",
       "    </tr>\n",
       "  </thead>\n",
       "  <tbody>\n",
       "    <tr>\n",
       "      <th>0</th>\n",
       "      <td>6</td>\n",
       "      <td>{1: &lt;model.parts.index_spoofer.IndexSpoofer ob...</td>\n",
       "      <td>{}</td>\n",
       "      <td>11474009</td>\n",
       "      <td>4</td>\n",
       "      <td>1</td>\n",
       "      <td>0</td>\n",
       "      <td>0</td>\n",
       "      <td>1</td>\n",
       "      <td>6</td>\n",
       "      <td>1</td>\n",
       "    </tr>\n",
       "    <tr>\n",
       "      <th>1</th>\n",
       "      <td>12</td>\n",
       "      <td>{1: &lt;model.parts.index_spoofer.IndexSpoofer ob...</td>\n",
       "      <td>{}</td>\n",
       "      <td>11474009</td>\n",
       "      <td>4</td>\n",
       "      <td>1</td>\n",
       "      <td>0</td>\n",
       "      <td>0</td>\n",
       "      <td>1</td>\n",
       "      <td>6</td>\n",
       "      <td>2</td>\n",
       "    </tr>\n",
       "    <tr>\n",
       "      <th>2</th>\n",
       "      <td>18</td>\n",
       "      <td>{1: &lt;model.parts.index_spoofer.IndexSpoofer ob...</td>\n",
       "      <td>{}</td>\n",
       "      <td>11474009</td>\n",
       "      <td>4</td>\n",
       "      <td>2</td>\n",
       "      <td>0</td>\n",
       "      <td>0</td>\n",
       "      <td>1</td>\n",
       "      <td>6</td>\n",
       "      <td>3</td>\n",
       "    </tr>\n",
       "    <tr>\n",
       "      <th>3</th>\n",
       "      <td>24</td>\n",
       "      <td>{1: &lt;model.parts.index_spoofer.IndexSpoofer ob...</td>\n",
       "      <td>{}</td>\n",
       "      <td>11474009</td>\n",
       "      <td>4</td>\n",
       "      <td>2</td>\n",
       "      <td>0</td>\n",
       "      <td>0</td>\n",
       "      <td>1</td>\n",
       "      <td>6</td>\n",
       "      <td>4</td>\n",
       "    </tr>\n",
       "    <tr>\n",
       "      <th>4</th>\n",
       "      <td>30</td>\n",
       "      <td>{1: &lt;model.parts.index_spoofer.IndexSpoofer ob...</td>\n",
       "      <td>{}</td>\n",
       "      <td>11474307</td>\n",
       "      <td>4</td>\n",
       "      <td>3</td>\n",
       "      <td>0</td>\n",
       "      <td>0</td>\n",
       "      <td>1</td>\n",
       "      <td>6</td>\n",
       "      <td>5</td>\n",
       "    </tr>\n",
       "  </tbody>\n",
       "</table>\n",
       "</div>"
      ],
      "text/plain": [
       "   index                                           indexers  \\\n",
       "0      6  {1: <model.parts.index_spoofer.IndexSpoofer ob...   \n",
       "1     12  {1: <model.parts.index_spoofer.IndexSpoofer ob...   \n",
       "2     18  {1: <model.parts.index_spoofer.IndexSpoofer ob...   \n",
       "3     24  {1: <model.parts.index_spoofer.IndexSpoofer ob...   \n",
       "4     30  {1: <model.parts.index_spoofer.IndexSpoofer ob...   \n",
       "\n",
       "  delegator_portfolios  block_number  epoch  injected_event_shift  simulation  \\\n",
       "0                   {}      11474009      4                     1           0   \n",
       "1                   {}      11474009      4                     1           0   \n",
       "2                   {}      11474009      4                     2           0   \n",
       "3                   {}      11474009      4                     2           0   \n",
       "4                   {}      11474307      4                     3           0   \n",
       "\n",
       "   subset  run  substep  timestep  \n",
       "0       0    1        6         1  \n",
       "1       0    1        6         2  \n",
       "2       0    1        6         3  \n",
       "3       0    1        6         4  \n",
       "4       0    1        6         5  "
      ]
     },
     "execution_count": 5,
     "metadata": {},
     "output_type": "execute_result"
    }
   ],
   "source": [
    "tax_df.head()"
   ]
  },
  {
   "cell_type": "code",
   "execution_count": 6,
   "metadata": {},
   "outputs": [
    {
     "data": {
      "text/html": [
       "<div>\n",
       "<style scoped>\n",
       "    .dataframe tbody tr th:only-of-type {\n",
       "        vertical-align: middle;\n",
       "    }\n",
       "\n",
       "    .dataframe tbody tr th {\n",
       "        vertical-align: top;\n",
       "    }\n",
       "\n",
       "    .dataframe thead th {\n",
       "        text-align: right;\n",
       "    }\n",
       "</style>\n",
       "<table border=\"1\" class=\"dataframe\">\n",
       "  <thead>\n",
       "    <tr style=\"text-align: right;\">\n",
       "      <th></th>\n",
       "      <th>index</th>\n",
       "      <th>indexers</th>\n",
       "      <th>delegator_portfolios</th>\n",
       "      <th>block_number</th>\n",
       "      <th>epoch</th>\n",
       "      <th>injected_event_shift</th>\n",
       "      <th>simulation</th>\n",
       "      <th>subset</th>\n",
       "      <th>run</th>\n",
       "      <th>substep</th>\n",
       "      <th>timestep</th>\n",
       "    </tr>\n",
       "  </thead>\n",
       "  <tbody>\n",
       "    <tr>\n",
       "      <th>4582</th>\n",
       "      <td>27500</td>\n",
       "      <td>{1: &lt;model.parts.index_spoofer.IndexSpoofer ob...</td>\n",
       "      <td>{'0x698b40f200f6c8145f9dee82c06884152c2f4a86':...</td>\n",
       "      <td>12060840</td>\n",
       "      <td>92</td>\n",
       "      <td>373</td>\n",
       "      <td>0</td>\n",
       "      <td>2</td>\n",
       "      <td>2</td>\n",
       "      <td>6</td>\n",
       "      <td>1525</td>\n",
       "    </tr>\n",
       "    <tr>\n",
       "      <th>4583</th>\n",
       "      <td>27506</td>\n",
       "      <td>{1: &lt;model.parts.index_spoofer.IndexSpoofer ob...</td>\n",
       "      <td>{'0x698b40f200f6c8145f9dee82c06884152c2f4a86':...</td>\n",
       "      <td>12062933</td>\n",
       "      <td>92</td>\n",
       "      <td>374</td>\n",
       "      <td>0</td>\n",
       "      <td>2</td>\n",
       "      <td>2</td>\n",
       "      <td>6</td>\n",
       "      <td>1526</td>\n",
       "    </tr>\n",
       "    <tr>\n",
       "      <th>4584</th>\n",
       "      <td>27512</td>\n",
       "      <td>{1: &lt;model.parts.index_spoofer.IndexSpoofer ob...</td>\n",
       "      <td>{'0x698b40f200f6c8145f9dee82c06884152c2f4a86':...</td>\n",
       "      <td>12062933</td>\n",
       "      <td>92</td>\n",
       "      <td>374</td>\n",
       "      <td>0</td>\n",
       "      <td>2</td>\n",
       "      <td>2</td>\n",
       "      <td>6</td>\n",
       "      <td>1527</td>\n",
       "    </tr>\n",
       "    <tr>\n",
       "      <th>4585</th>\n",
       "      <td>27518</td>\n",
       "      <td>{1: &lt;model.parts.index_spoofer.IndexSpoofer ob...</td>\n",
       "      <td>{'0x698b40f200f6c8145f9dee82c06884152c2f4a86':...</td>\n",
       "      <td>12063922</td>\n",
       "      <td>92</td>\n",
       "      <td>375</td>\n",
       "      <td>0</td>\n",
       "      <td>2</td>\n",
       "      <td>2</td>\n",
       "      <td>6</td>\n",
       "      <td>1528</td>\n",
       "    </tr>\n",
       "    <tr>\n",
       "      <th>4586</th>\n",
       "      <td>27524</td>\n",
       "      <td>{1: &lt;model.parts.index_spoofer.IndexSpoofer ob...</td>\n",
       "      <td>{'0x698b40f200f6c8145f9dee82c06884152c2f4a86':...</td>\n",
       "      <td>12063922</td>\n",
       "      <td>92</td>\n",
       "      <td>375</td>\n",
       "      <td>0</td>\n",
       "      <td>2</td>\n",
       "      <td>2</td>\n",
       "      <td>6</td>\n",
       "      <td>1529</td>\n",
       "    </tr>\n",
       "  </tbody>\n",
       "</table>\n",
       "</div>"
      ],
      "text/plain": [
       "      index                                           indexers  \\\n",
       "4582  27500  {1: <model.parts.index_spoofer.IndexSpoofer ob...   \n",
       "4583  27506  {1: <model.parts.index_spoofer.IndexSpoofer ob...   \n",
       "4584  27512  {1: <model.parts.index_spoofer.IndexSpoofer ob...   \n",
       "4585  27518  {1: <model.parts.index_spoofer.IndexSpoofer ob...   \n",
       "4586  27524  {1: <model.parts.index_spoofer.IndexSpoofer ob...   \n",
       "\n",
       "                                   delegator_portfolios  block_number  epoch  \\\n",
       "4582  {'0x698b40f200f6c8145f9dee82c06884152c2f4a86':...      12060840     92   \n",
       "4583  {'0x698b40f200f6c8145f9dee82c06884152c2f4a86':...      12062933     92   \n",
       "4584  {'0x698b40f200f6c8145f9dee82c06884152c2f4a86':...      12062933     92   \n",
       "4585  {'0x698b40f200f6c8145f9dee82c06884152c2f4a86':...      12063922     92   \n",
       "4586  {'0x698b40f200f6c8145f9dee82c06884152c2f4a86':...      12063922     92   \n",
       "\n",
       "      injected_event_shift  simulation  subset  run  substep  timestep  \n",
       "4582                   373           0       2    2        6      1525  \n",
       "4583                   374           0       2    2        6      1526  \n",
       "4584                   374           0       2    2        6      1527  \n",
       "4585                   375           0       2    2        6      1528  \n",
       "4586                   375           0       2    2        6      1529  "
      ]
     },
     "execution_count": 6,
     "metadata": {},
     "output_type": "execute_result"
    }
   ],
   "source": [
    "tax_df.tail()"
   ]
  },
  {
   "cell_type": "code",
   "execution_count": 7,
   "metadata": {},
   "outputs": [
    {
     "data": {
      "text/plain": [
       "[<matplotlib.lines.Line2D at 0x7f50574ae1f0>]"
      ]
     },
     "execution_count": 7,
     "metadata": {},
     "output_type": "execute_result"
    },
    {
     "data": {
      "image/png": "[encoded data removed]",
      "text/plain": [
       "<Figure size 432x288 with 1 Axes>"
      ]
     },
     "metadata": {
      "needs_background": "light"
     },
     "output_type": "display_data"
    }
   ],
   "source": [
    "GRT_list = []\n",
    "for i in tax_df['indexers']:\n",
    "    GRT_list.append(i[1].GRT)\n",
    "plt.plot(tax_df.index, GRT_list)"
   ]
  },
  {
   "cell_type": "code",
   "execution_count": 8,
   "metadata": {},
   "outputs": [
    {
     "data": {
      "text/plain": [
       "[<matplotlib.lines.Line2D at 0x7f4feb1a7d00>]"
      ]
     },
     "execution_count": 8,
     "metadata": {},
     "output_type": "execute_result"
    },
    {
     "data": {
      "image/png": "[encoded data removed]",
      "text/plain": [
       "<Figure size 432x288 with 1 Axes>"
      ]
     },
     "metadata": {
      "needs_background": "light"
     },
     "output_type": "display_data"
    }
   ],
   "source": [
    "holdings_list = []\n",
    "for i in tax_df['indexers']:\n",
    "    if i[1].holdings is not None:\n",
    "        holdings_list.append(i[1].holdings)\n",
    "    else:\n",
    "        holdings_list.append(0)\n",
    "plt.plot(tax_df.index, holdings_list)"
   ]
  },
  {
   "cell_type": "code",
   "execution_count": 9,
   "metadata": {},
   "outputs": [
    {
     "data": {
      "text/plain": [
       "[<matplotlib.lines.Line2D at 0x7f50f34f89d0>]"
      ]
     },
     "execution_count": 9,
     "metadata": {},
     "output_type": "execute_result"
    },
    {
     "data": {
      "image/png": "[encoded data removed]",
      "text/plain": [
       "<Figure size 432x288 with 1 Axes>"
      ]
     },
     "metadata": {
      "needs_background": "light"
     },
     "output_type": "display_data"
    }
   ],
   "source": [
    "deposited_stake_list = []\n",
    "for i in tax_df['indexers']:\n",
    "    if i[1].cumulative_deposited_stake is not None:\n",
    "        deposited_stake_list.append(i[1].cumulative_deposited_stake)\n",
    "    else:\n",
    "        deposited_stake_list.append(0)\n",
    "plt.plot(tax_df.index, deposited_stake_list)"
   ]
  },
  {
   "cell_type": "code",
   "execution_count": 10,
   "metadata": {},
   "outputs": [
    {
     "data": {
      "text/plain": [
       "[<matplotlib.lines.Line2D at 0x7f5090830c70>]"
      ]
     },
     "execution_count": 10,
     "metadata": {},
     "output_type": "execute_result"
    },
    {
     "data": {
      "image/png": "[encoded data removed]",
      "text/plain": [
       "<Figure size 432x288 with 1 Axes>"
      ]
     },
     "metadata": {
      "needs_background": "light"
     },
     "output_type": "display_data"
    }
   ],
   "source": [
    "holdings_list = []\n",
    "for i in tax_df['indexers']:\n",
    "    if 1 not in i[1].delegators:\n",
    "        holdings_list.append(0)\n",
    "    else:\n",
    "        holdings_list.append(i[1].delegators[1].holdings)\n",
    "plt.plot(tax_df.index, holdings_list)"
   ]
  },
  {
   "cell_type": "code",
   "execution_count": 11,
   "metadata": {},
   "outputs": [
    {
     "data": {
      "text/plain": [
       "[<matplotlib.lines.Line2D at 0x7f50a72f49a0>]"
      ]
     },
     "execution_count": 11,
     "metadata": {},
     "output_type": "execute_result"
    },
    {
     "data": {
      "image/png": "[encoded data removed]",
      "text/plain": [
       "<Figure size 432x288 with 1 Axes>"
      ]
     },
     "metadata": {
      "needs_background": "light"
     },
     "output_type": "display_data"
    }
   ],
   "source": [
    "undelegated_list = []\n",
    "for i in tax_df['indexers']:\n",
    "    if 1 not in i[1].delegators:\n",
    "        undelegated_list.append(0)\n",
    "    else:\n",
    "        undelegated_list.append(i[1].delegators[1].undelegated_tokens)\n",
    "plt.plot(tax_df.index, undelegated_list)"
   ]
  },
  {
   "cell_type": "code",
   "execution_count": 12,
   "metadata": {},
   "outputs": [
    {
     "data": {
      "text/plain": [
       "[<matplotlib.lines.Line2D at 0x7f50848fbbe0>]"
      ]
     },
     "execution_count": 12,
     "metadata": {},
     "output_type": "execute_result"
    },
    {
     "data": {
      "image/png": "[encoded data removed]",
      "text/plain": [
       "<Figure size 432x288 with 1 Axes>"
      ]
     },
     "metadata": {
      "needs_background": "light"
     },
     "output_type": "display_data"
    }
   ],
   "source": [
    "subgraph_list = []\n",
    "for i in tax_df['indexers']:\n",
    "    if i[1].indexer_revenue_cut == None:\n",
    "        subgraph_list.append(0)\n",
    "    else:\n",
    "        subgraph_list.append(i[1].indexer_revenue_cut)\n",
    "plt.plot(tax_df.index, subgraph_list)"
   ]
  },
  {
   "cell_type": "code",
   "execution_count": 13,
   "metadata": {},
   "outputs": [],
   "source": [
    "tax_diff_params_dfs = {}\n",
    "for i in tax_df['subset'].unique():\n",
    "    tax_diff_params_dfs[i] = tax_df[tax_df['subset'] == i]\n",
    "percent_diff_params_dfs = {}\n",
    "for i in percent_df['subset'].unique():\n",
    "    percent_diff_params_dfs[i] = percent_df[percent_df['subset'] == i]\n",
    "no_slash_tax_diff_params_dfs = {}\n",
    "for i in no_slash_tax_df['subset'].unique():\n",
    "    no_slash_tax_diff_params_dfs[i] = no_slash_tax_df[no_slash_tax_df['subset'] == i]\n",
    "no_slash_slash_diff_params_dfs = {}\n",
    "for i in no_slash_slash_df['subset'].unique():\n",
    "    no_slash_slash_diff_params_dfs[i] = no_slash_slash_df[no_slash_slash_df['subset'] == i]"
   ]
  },
  {
   "cell_type": "code",
   "execution_count": 14,
   "metadata": {},
   "outputs": [
    {
     "data": {
      "text/plain": [
       "3"
      ]
     },
     "execution_count": 14,
     "metadata": {},
     "output_type": "execute_result"
    }
   ],
   "source": [
    "len(tax_diff_params_dfs)"
   ]
  },
  {
   "cell_type": "code",
   "execution_count": 15,
   "metadata": {},
   "outputs": [
    {
     "data": {
      "text/html": [
       "<div>\n",
       "<style scoped>\n",
       "    .dataframe tbody tr th:only-of-type {\n",
       "        vertical-align: middle;\n",
       "    }\n",
       "\n",
       "    .dataframe tbody tr th {\n",
       "        vertical-align: top;\n",
       "    }\n",
       "\n",
       "    .dataframe thead th {\n",
       "        text-align: right;\n",
       "    }\n",
       "</style>\n",
       "<table border=\"1\" class=\"dataframe\">\n",
       "  <thead>\n",
       "    <tr style=\"text-align: right;\">\n",
       "      <th></th>\n",
       "      <th>index</th>\n",
       "      <th>indexers</th>\n",
       "      <th>delegator_portfolios</th>\n",
       "      <th>block_number</th>\n",
       "      <th>epoch</th>\n",
       "      <th>injected_event_shift</th>\n",
       "      <th>simulation</th>\n",
       "      <th>subset</th>\n",
       "      <th>run</th>\n",
       "      <th>substep</th>\n",
       "      <th>timestep</th>\n",
       "    </tr>\n",
       "  </thead>\n",
       "  <tbody>\n",
       "    <tr>\n",
       "      <th>1529</th>\n",
       "      <td>9181</td>\n",
       "      <td>{1: &lt;model.parts.index_spoofer.IndexSpoofer ob...</td>\n",
       "      <td>{}</td>\n",
       "      <td>11474009</td>\n",
       "      <td>4</td>\n",
       "      <td>1</td>\n",
       "      <td>0</td>\n",
       "      <td>1</td>\n",
       "      <td>1</td>\n",
       "      <td>6</td>\n",
       "      <td>1</td>\n",
       "    </tr>\n",
       "    <tr>\n",
       "      <th>1530</th>\n",
       "      <td>9187</td>\n",
       "      <td>{1: &lt;model.parts.index_spoofer.IndexSpoofer ob...</td>\n",
       "      <td>{}</td>\n",
       "      <td>11474009</td>\n",
       "      <td>4</td>\n",
       "      <td>1</td>\n",
       "      <td>0</td>\n",
       "      <td>1</td>\n",
       "      <td>1</td>\n",
       "      <td>6</td>\n",
       "      <td>2</td>\n",
       "    </tr>\n",
       "    <tr>\n",
       "      <th>1531</th>\n",
       "      <td>9193</td>\n",
       "      <td>{1: &lt;model.parts.index_spoofer.IndexSpoofer ob...</td>\n",
       "      <td>{}</td>\n",
       "      <td>11474009</td>\n",
       "      <td>4</td>\n",
       "      <td>2</td>\n",
       "      <td>0</td>\n",
       "      <td>1</td>\n",
       "      <td>1</td>\n",
       "      <td>6</td>\n",
       "      <td>3</td>\n",
       "    </tr>\n",
       "    <tr>\n",
       "      <th>1532</th>\n",
       "      <td>9199</td>\n",
       "      <td>{1: &lt;model.parts.index_spoofer.IndexSpoofer ob...</td>\n",
       "      <td>{}</td>\n",
       "      <td>11474009</td>\n",
       "      <td>4</td>\n",
       "      <td>2</td>\n",
       "      <td>0</td>\n",
       "      <td>1</td>\n",
       "      <td>1</td>\n",
       "      <td>6</td>\n",
       "      <td>4</td>\n",
       "    </tr>\n",
       "    <tr>\n",
       "      <th>1533</th>\n",
       "      <td>9205</td>\n",
       "      <td>{1: &lt;model.parts.index_spoofer.IndexSpoofer ob...</td>\n",
       "      <td>{}</td>\n",
       "      <td>11474307</td>\n",
       "      <td>4</td>\n",
       "      <td>3</td>\n",
       "      <td>0</td>\n",
       "      <td>1</td>\n",
       "      <td>1</td>\n",
       "      <td>6</td>\n",
       "      <td>5</td>\n",
       "    </tr>\n",
       "    <tr>\n",
       "      <th>...</th>\n",
       "      <td>...</td>\n",
       "      <td>...</td>\n",
       "      <td>...</td>\n",
       "      <td>...</td>\n",
       "      <td>...</td>\n",
       "      <td>...</td>\n",
       "      <td>...</td>\n",
       "      <td>...</td>\n",
       "      <td>...</td>\n",
       "      <td>...</td>\n",
       "      <td>...</td>\n",
       "    </tr>\n",
       "    <tr>\n",
       "      <th>3053</th>\n",
       "      <td>18325</td>\n",
       "      <td>{1: &lt;model.parts.index_spoofer.IndexSpoofer ob...</td>\n",
       "      <td>{'0x698b40f200f6c8145f9dee82c06884152c2f4a86':...</td>\n",
       "      <td>12060840</td>\n",
       "      <td>92</td>\n",
       "      <td>373</td>\n",
       "      <td>0</td>\n",
       "      <td>1</td>\n",
       "      <td>1</td>\n",
       "      <td>6</td>\n",
       "      <td>1525</td>\n",
       "    </tr>\n",
       "    <tr>\n",
       "      <th>3054</th>\n",
       "      <td>18331</td>\n",
       "      <td>{1: &lt;model.parts.index_spoofer.IndexSpoofer ob...</td>\n",
       "      <td>{'0x698b40f200f6c8145f9dee82c06884152c2f4a86':...</td>\n",
       "      <td>12062933</td>\n",
       "      <td>92</td>\n",
       "      <td>374</td>\n",
       "      <td>0</td>\n",
       "      <td>1</td>\n",
       "      <td>1</td>\n",
       "      <td>6</td>\n",
       "      <td>1526</td>\n",
       "    </tr>\n",
       "    <tr>\n",
       "      <th>3055</th>\n",
       "      <td>18337</td>\n",
       "      <td>{1: &lt;model.parts.index_spoofer.IndexSpoofer ob...</td>\n",
       "      <td>{'0x698b40f200f6c8145f9dee82c06884152c2f4a86':...</td>\n",
       "      <td>12062933</td>\n",
       "      <td>92</td>\n",
       "      <td>374</td>\n",
       "      <td>0</td>\n",
       "      <td>1</td>\n",
       "      <td>1</td>\n",
       "      <td>6</td>\n",
       "      <td>1527</td>\n",
       "    </tr>\n",
       "    <tr>\n",
       "      <th>3056</th>\n",
       "      <td>18343</td>\n",
       "      <td>{1: &lt;model.parts.index_spoofer.IndexSpoofer ob...</td>\n",
       "      <td>{'0x698b40f200f6c8145f9dee82c06884152c2f4a86':...</td>\n",
       "      <td>12063922</td>\n",
       "      <td>92</td>\n",
       "      <td>375</td>\n",
       "      <td>0</td>\n",
       "      <td>1</td>\n",
       "      <td>1</td>\n",
       "      <td>6</td>\n",
       "      <td>1528</td>\n",
       "    </tr>\n",
       "    <tr>\n",
       "      <th>3057</th>\n",
       "      <td>18349</td>\n",
       "      <td>{1: &lt;model.parts.index_spoofer.IndexSpoofer ob...</td>\n",
       "      <td>{'0x698b40f200f6c8145f9dee82c06884152c2f4a86':...</td>\n",
       "      <td>12063922</td>\n",
       "      <td>92</td>\n",
       "      <td>375</td>\n",
       "      <td>0</td>\n",
       "      <td>1</td>\n",
       "      <td>1</td>\n",
       "      <td>6</td>\n",
       "      <td>1529</td>\n",
       "    </tr>\n",
       "  </tbody>\n",
       "</table>\n",
       "<p>1529 rows × 11 columns</p>\n",
       "</div>"
      ],
      "text/plain": [
       "      index                                           indexers  \\\n",
       "1529   9181  {1: <model.parts.index_spoofer.IndexSpoofer ob...   \n",
       "1530   9187  {1: <model.parts.index_spoofer.IndexSpoofer ob...   \n",
       "1531   9193  {1: <model.parts.index_spoofer.IndexSpoofer ob...   \n",
       "1532   9199  {1: <model.parts.index_spoofer.IndexSpoofer ob...   \n",
       "1533   9205  {1: <model.parts.index_spoofer.IndexSpoofer ob...   \n",
       "...     ...                                                ...   \n",
       "3053  18325  {1: <model.parts.index_spoofer.IndexSpoofer ob...   \n",
       "3054  18331  {1: <model.parts.index_spoofer.IndexSpoofer ob...   \n",
       "3055  18337  {1: <model.parts.index_spoofer.IndexSpoofer ob...   \n",
       "3056  18343  {1: <model.parts.index_spoofer.IndexSpoofer ob...   \n",
       "3057  18349  {1: <model.parts.index_spoofer.IndexSpoofer ob...   \n",
       "\n",
       "                                   delegator_portfolios  block_number  epoch  \\\n",
       "1529                                                 {}      11474009      4   \n",
       "1530                                                 {}      11474009      4   \n",
       "1531                                                 {}      11474009      4   \n",
       "1532                                                 {}      11474009      4   \n",
       "1533                                                 {}      11474307      4   \n",
       "...                                                 ...           ...    ...   \n",
       "3053  {'0x698b40f200f6c8145f9dee82c06884152c2f4a86':...      12060840     92   \n",
       "3054  {'0x698b40f200f6c8145f9dee82c06884152c2f4a86':...      12062933     92   \n",
       "3055  {'0x698b40f200f6c8145f9dee82c06884152c2f4a86':...      12062933     92   \n",
       "3056  {'0x698b40f200f6c8145f9dee82c06884152c2f4a86':...      12063922     92   \n",
       "3057  {'0x698b40f200f6c8145f9dee82c06884152c2f4a86':...      12063922     92   \n",
       "\n",
       "      injected_event_shift  simulation  subset  run  substep  timestep  \n",
       "1529                     1           0       1    1        6         1  \n",
       "1530                     1           0       1    1        6         2  \n",
       "1531                     2           0       1    1        6         3  \n",
       "1532                     2           0       1    1        6         4  \n",
       "1533                     3           0       1    1        6         5  \n",
       "...                    ...         ...     ...  ...      ...       ...  \n",
       "3053                   373           0       1    1        6      1525  \n",
       "3054                   374           0       1    1        6      1526  \n",
       "3055                   374           0       1    1        6      1527  \n",
       "3056                   375           0       1    1        6      1528  \n",
       "3057                   375           0       1    1        6      1529  \n",
       "\n",
       "[1529 rows x 11 columns]"
      ]
     },
     "execution_count": 15,
     "metadata": {},
     "output_type": "execute_result"
    }
   ],
   "source": [
    "tax_diff_params_dfs[1]"
   ]
  },
  {
   "cell_type": "code",
   "execution_count": 16,
   "metadata": {},
   "outputs": [
    {
     "name": "stdout",
     "output_type": "stream",
     "text": [
      "Tax Rate =  0.0050 Profit =  -7854973775.47385758431286988\n",
      "Tax Rate =  0.0025 Profit =  -7832075048.52858210827169413\n",
      "Tax Rate =  0.0075 Profit =  -7877987861.24505383960871698\n"
     ]
    },
    {
     "data": {
      "image/png": "[encoded data removed]",
      "text/plain": [
       "<Figure size 1008x576 with 1 Axes>"
      ]
     },
     "metadata": {
      "needs_background": "light"
     },
     "output_type": "display_data"
    }
   ],
   "source": [
    "plt.figure(figsize=(14,8))\n",
    "# plot_df = pd.DataFrame()\n",
    "for i in tax_diff_params_dfs.keys():\n",
    "    tax = experiment[i]['M']['delegation_tax_rate'].quantize(Decimal(10) ** -4)\n",
    "    profit_list = []\n",
    "    plot_df = tax_diff_params_dfs[i]\n",
    "    plot_df.reset_index(inplace = True)\n",
    "    initial_GRT = plot_df['indexers'][0][1].GRT\n",
    "    initial_holdings = plot_df['indexers'][0][1].delegators[1].holdings\n",
    "    for j in plot_df['indexers']:\n",
    "        if j[1].holdings is not None:\n",
    "            profit_list.append(j[1].holdings + j[1].GRT + j[1].delegators[1].holdings + j[1].cumulative_deposited_stake \\\n",
    "            - initial_GRT - initial_holdings)\n",
    "        else:\n",
    "            profit_list.append(0)\n",
    "    print('Tax Rate = ', tax, 'Profit = ',profit_list[-1])\n",
    "    plt.plot(plot_df.index, profit_list, label = f'Delegation Tax {tax}')\n",
    "    plt.legend(loc='upper left', bbox_to_anchor=(1.05, 1.0))\n",
    "    plt.title('Delegation Tax Effect on Index Spoofer Profit Under Slashing')  "
   ]
  },
  {
   "cell_type": "markdown",
   "metadata": {},
   "source": [
    "Here we see as delegation tax increases, profit decreases which is expected. "
   ]
  },
  {
   "cell_type": "code",
   "execution_count": 17,
   "metadata": {},
   "outputs": [
    {
     "name": "stdout",
     "output_type": "stream",
     "text": [
      "Tax Rate =  0.0050 Profit =  1235347330.91045928165635616\n",
      "Tax Rate =  0.0025 Profit =  1258246057.85573475769753191\n",
      "Tax Rate =  0.0075 Profit =  1212333245.13926302636050906\n"
     ]
    },
    {
     "data": {
      "image/png": "[encoded data removed]",
      "text/plain": [
       "<Figure size 1008x576 with 1 Axes>"
      ]
     },
     "metadata": {
      "needs_background": "light"
     },
     "output_type": "display_data"
    }
   ],
   "source": [
    "plt.figure(figsize=(14,8))\n",
    "# plot_df = pd.DataFrame()\n",
    "for i in no_slash_tax_diff_params_dfs.keys():\n",
    "    tax = no_slash_tax_experiment[i]['M']['delegation_tax_rate'].quantize(Decimal(10) ** -4)\n",
    "    profit_list = []\n",
    "    plot_df = no_slash_tax_diff_params_dfs[i]\n",
    "    plot_df.reset_index(inplace = True)\n",
    "    initial_GRT = plot_df['indexers'][0][1].GRT\n",
    "    initial_holdings = plot_df['indexers'][0][1].delegators[1].holdings\n",
    "    for j in plot_df['indexers']:\n",
    "        if j[1].holdings is not None:\n",
    "            profit_list.append(j[1].holdings + j[1].GRT + j[1].delegators[1].holdings + j[1].cumulative_deposited_stake \\\n",
    "            - initial_GRT - initial_holdings)\n",
    "        else:\n",
    "            profit_list.append(0)\n",
    "    print('Tax Rate = ', tax, 'Profit = ',profit_list[-1])\n",
    "    plt.plot(plot_df.index, profit_list, label = f'Delegation Tax {tax}')\n",
    "    plt.legend(loc='upper left', bbox_to_anchor=(1.05, 1.0))\n",
    "    plt.title('Delegation Tax Effect on Index Spoofer Profit Under No Slashing')  "
   ]
  },
  {
   "cell_type": "markdown",
   "metadata": {},
   "source": [
    "Here we see that as slashing becomes more frequent, the index spoofer loses more which is expected, however when slashing is very frequent there is no difference as there is a limited number of tokens to be slashed. We increase the chance to be slashed as based on the current data, only one indexer out of 206 got slashed, and we see that even with a slashing chance of 2% the effect the small. "
   ]
  },
  {
   "cell_type": "code",
   "execution_count": 18,
   "metadata": {},
   "outputs": [
    {
     "name": "stdout",
     "output_type": "stream",
     "text": [
      "Slashing Percentage =  0.0250 Profit =  -7854973775.47385758431286988\n",
      "Slashing Percentage =  0.0500 Profit =  -7855561730.39800256311285352\n",
      "Slashing Percentage =  0.0750 Profit =  -7855561759.99748641529831007\n"
     ]
    },
    {
     "data": {
      "image/png": "[encoded data removed]",
      "text/plain": [
       "<Figure size 1008x576 with 1 Axes>"
      ]
     },
     "metadata": {
      "needs_background": "light"
     },
     "output_type": "display_data"
    }
   ],
   "source": [
    "plt.figure(figsize=(14,8))\n",
    "\n",
    "for i in percent_diff_params_dfs.keys():\n",
    "    # estimate of value\n",
    "    # TODO: get value of slashing percent from experiment_config \n",
    "    percent = slash_pct_experiment[i]['M']['slashing_percentage'].quantize(Decimal(10) ** -4)\n",
    "    profit_list = []\n",
    "    pct_plot_df = percent_diff_params_dfs[i]\n",
    "    pct_plot_df.reset_index(inplace = True)\n",
    "    initial_GRT = pct_plot_df['indexers'][0][1].GRT\n",
    "    initial_holdings = pct_plot_df['indexers'][0][1].delegators[1].holdings\n",
    "    for j in pct_plot_df['indexers']:\n",
    "        if j[1].holdings is not None:\n",
    "            profit_list.append(j[1].holdings + j[1].GRT + j[1].delegators[1].holdings + j[1].cumulative_deposited_stake \\\n",
    "            - initial_GRT - initial_holdings)\n",
    "        else:\n",
    "            profit_list.append(0)\n",
    "    print('Slashing Percentage = ', percent, 'Profit = ',profit_list[-1])\n",
    "    \n",
    "    plt.plot(pct_plot_df.index, profit_list, label = f'Slashing Percentage {percent}')\n",
    "    plt.legend(loc='upper left', bbox_to_anchor=(1.05, 1.0))\n",
    "    plt.title('Slashing Percentage Effect on Index Spoofer Profit Under Slashed Condition')\n",
    "    # plt.show() "
   ]
  },
  {
   "cell_type": "markdown",
   "metadata": {},
   "source": [
    "Here we see that as slashing percentage is increased, the index spoofer cannot profit, under the assumption that slashing will occur."
   ]
  },
  {
   "cell_type": "code",
   "execution_count": 19,
   "metadata": {},
   "outputs": [
    {
     "name": "stdout",
     "output_type": "stream",
     "text": [
      "Slashing Percentage =  0.0250 Profit =  1235347330.91045928165635616\n",
      "Slashing Percentage =  0.0500 Profit =  1235347330.91045928165635616\n",
      "Slashing Percentage =  0.0750 Profit =  1235347330.91045928165635616\n"
     ]
    },
    {
     "data": {
      "image/png": "[encoded data removed]",
      "text/plain": [
       "<Figure size 1008x576 with 1 Axes>"
      ]
     },
     "metadata": {
      "needs_background": "light"
     },
     "output_type": "display_data"
    }
   ],
   "source": [
    "plt.figure(figsize=(14,8))\n",
    "\n",
    "for i in no_slash_slash_diff_params_dfs.keys():\n",
    "    # estimate of value\n",
    "    # TODO: get value of slashing percent from experiment_config \n",
    "    percent = no_slash_slash_experiment[i]['M']['slashing_percentage'].quantize(Decimal(10) ** -4)\n",
    "    profit_list = []\n",
    "    plot_df = no_slash_slash_diff_params_dfs[i]\n",
    "    plot_df.reset_index(inplace = True)\n",
    "    initial_GRT = plot_df['indexers'][0][1].GRT\n",
    "    initial_holdings = plot_df['indexers'][0][1].delegators[1].holdings\n",
    "    for j in plot_df['indexers']:\n",
    "        if j[1].holdings is not None:\n",
    "            profit_list.append(j[1].holdings + j[1].GRT + j[1].delegators[1].holdings + j[1].cumulative_deposited_stake \\\n",
    "            - initial_GRT - initial_holdings)\n",
    "        else:\n",
    "            profit_list.append(0)\n",
    "    print('Slashing Percentage = ', percent, 'Profit = ',profit_list[-1])\n",
    "    \n",
    "    plt.plot(plot_df.index, profit_list, label = f'Slashing Percentage {percent}')\n",
    "    plt.legend(loc='upper left', bbox_to_anchor=(1.05, 1.0))\n",
    "    plt.title('Slashing Percentage Effect on Index Spoofer Profit Under No Slash Condition')\n",
    "    # plt.show() "
   ]
  },
  {
   "cell_type": "markdown",
   "metadata": {},
   "source": [
    "Here we see that as slashing percentage is increased, the index spoofer profit is unaffected as expected, under the assumption that slashing will not occur."
   ]
  },
  {
   "cell_type": "code",
   "execution_count": 20,
   "metadata": {},
   "outputs": [],
   "source": [
    "# plt.figure(figsize=(18,8))\n",
    "\n",
    "# for i,j in enumerate(experiment):\n",
    "#     plot_df = tax_df[i]\n",
    "#     shares_list = []\n",
    "#     indexer_locked_list = []\n",
    "#     holdings_list = []\n",
    "#     # label_one = j['M']['delegation_unbonding_period_epochs']\n",
    "#     label_two = j['M']['delegation_tax_rate'].quantize(Decimal(10) ** -4)\n",
    "#     for i, values in delegator_values_df[i][1].items():\n",
    "#         if values.indexer_shares != {}:\n",
    "#             shares_list.append(values.indexer_shares['0x7ab4cf25330ed7277ac7ab59380b68eea68abb0e'])\n",
    "#         else:\n",
    "#             shares_list.append(0)\n",
    "#         if values.indexer_locked_tokens != {}:\n",
    "#             indexer_locked_list.append(values.indexer_locked_tokens['0x7ab4cf25330ed7277ac7ab59380b68eea68abb0e'])\n",
    "#         else:\n",
    "#             indexer_locked_list.append(0)\n",
    "#         if values.holdings != {}:\n",
    "#             holdings_list.append(values.holdings)\n",
    "#         else:\n",
    "#             holdings_list.append(0)            \n",
    "\n",
    "#     holdings_list = [float(x) for x in holdings_list]\n",
    "#     indexer_locked_list = [float(x) for x in indexer_locked_list]\n",
    "#     shares_list = [float(x) for x in shares_list]\n",
    "#     indexer_price_list = [float(x) for x in indexer_price_list]\n",
    "#     shares_value = [b_i / a_i for a_i, b_i in zip(indexer_price_list, shares_list)]\n",
    "#     # print(indexer_locked_list[0])\n",
    "#     net_profit = [a_i + b_i + c_i - holdings_list[0] for a_i, b_i, c_i in zip(indexer_locked_list, holdings_list, shares_value)]\n",
    "#     plt.subplot(121)\n",
    "#     plt.plot(plot_df.index, net_profit, \n",
    "#             label = f'Tax Rate {label_two} net_profit')\n",
    "\n",
    "#     # plt.legend(loc='upper left', bbox_to_anchor=(1.05, 1.0))\n",
    "#     plt.title('Front Running Delegator')\n",
    "\n",
    "#     plt.subplot(122)\n",
    "#     plt.plot(plot_df.index, net_profit, \n",
    "#             label = f'Tax Rate {label_two} net_profit')\n",
    "#     plt.ylim(-10000)\n",
    "\n",
    "#     plt.legend(loc='upper left', bbox_to_anchor=(1.01, 1.0))\n",
    "#     plt.title('Front Running Delegator')\n",
    "# plt.savefig(\"./images/front_run_delegator_tax_param\", facecolor='white')"
   ]
  }
 ],
 "metadata": {
  "interpreter": {
   "hash": "94a11493524b81d5783d4ac160de5341ecb7f4e0851f9257726787e1a88e2b0d"
  },
  "kernelspec": {
   "display_name": "Python 3.8.5 ('base')",
   "language": "python",
   "name": "python3"
  },
  "language_info": {
   "codemirror_mode": {
    "name": "ipython",
    "version": 3
   },
   "file_extension": ".py",
   "mimetype": "text/x-python",
   "name": "python",
   "nbconvert_exporter": "python",
   "pygments_lexer": "ipython3",
   "version": "3.8.10"
  },
  "orig_nbformat": 4
 },
 "nbformat": 4,
 "nbformat_minor": 2
}
