{
 "cells": [
  {
   "cell_type": "code",
   "execution_count": 1,
   "id": "1847a30c-28fd-4c9b-88ce-1439c599227b",
   "metadata": {},
   "outputs": [
    {
     "name": "stdout",
     "output_type": "stream",
     "text": [
      "stakeDelegateds: 605 events\n",
      "stakeDelegatedLockeds: 375 events\n",
      "stakeDelegatedWithdrawns: 326 events\n",
      "allocationCloseds: 47 events\n",
      "allocationCollecteds: 16 events\n",
      "stakeDepositeds: 25 events\n",
      "rewardsAssigneds: 47 events\n",
      "delegationParametersUpdateds: 6 events\n",
      "allocationCreateds: 51 events\n",
      "TOTAL NUMBER OF EVENTS: 1529\n",
      "You should set SIMULATION_TIME_STEPS in config.py to a minimum of 1529 to capture all events.\n",
      "\n"
     ]
    }
   ],
   "source": [
    "import pandas as pd\n",
    "import numpy as np\n",
    "\n",
    "# import os\n",
    "# import sys\n",
    "# module_path = os.path.abspath(os.path.join('..'))\n",
    "# print(module_path)\n",
    "# sys.path.append(module_path)\n",
    "import model.parts.utils as utils\n",
    "from model.sys_params import *\n",
    "df = pd.read_pickle(r'experiment.p')"
   ]
  },
  {
   "cell_type": "code",
   "execution_count": null,
   "id": "f700b052-26bb-4763-a340-ecefb084f4ee",
   "metadata": {},
   "outputs": [],
   "source": [
    "# variables of the HeuristicAgent\n",
    "agent_inputs = HeuristicAgent.inputs\n",
    "agent_beliefs = HeuristicAgent.beliefs\n",
    "agent_states = HeuristicAgent.states\n",
    "agent_strategies = HeuristicAgent.strategies\n",
    "agent_plans = HeuristicAgent.plans\n",
    "agent_outputs = HeuristicAgent.outputs\n",
    "\n",
    "# create dataframe of agent actions\n",
    "agent_actions = df['agents']\n",
    "agent_df = {}\n",
    "timestep = 0\n",
    "for i in agent_actions:\n",
    "    for agent_id, actions in i.items():\n",
    "        if agent_id not in agent_df:\n",
    "            agent_df[agent_id] = {}\n",
    "    agent_df[agent_id][timestep] = actions\n",
    "agent_df = pd.DataFrame(agent_df)\n",
    "\n",
    "# obtain information on the agent\n",
    "agent_df['agent1_state'] = 0\n",
    "agent_df['agent1_inputs'] = 0\n",
    "agent_df['agent1_beliefs'] = 0\n",
    "agent_df['agent1_strategies'] = 0\n",
    "agent_df['agent1_plans'] = 0\n",
    "agent_df['agent1_outputs'] = 0\n",
    "\n",
    "for i, j in enumerate(agent_df[agent_id]):\n",
    "    agent_df['agent1_state'][i] = j.states\n",
    "    agent_df['agent1_inputs'][i] = j.inputs\n",
    "    agent_df['agent1_state'][i] = j.states\n",
    "    agent_df['agent1_strategies'][i] = j.strategies\n",
    "    agent_df['agent1_plans'][i] = j.plans\n",
    "    agent_df['agent1_outputs'][i] = j.outputs\n",
    "\n"
   ]
  },
  {
   "cell_type": "code",
   "execution_count": null,
   "id": "9d0feeb1-5552-4527-b53b-98bf87159123",
   "metadata": {},
   "outputs": [],
   "source": [
    "# analysis of agent\n",
    "for j in range(10):\n",
    "    for i in agent_df['agent1_state'][j]:\n",
    "        print(i)"
   ]
  },
  {
   "cell_type": "code",
   "execution_count": null,
   "id": "37c6f0e5-5c8f-4486-a9f1-3958510f8906",
   "metadata": {},
   "outputs": [],
   "source": [
    "for j in range(10):\n",
    "    for i in agent_df['agent1_inputs'][j]:\n",
    "        print(i)"
   ]
  },
  {
   "cell_type": "code",
   "execution_count": null,
   "id": "7c744f16-1322-416f-8d11-630bdbeec5bd",
   "metadata": {},
   "outputs": [],
   "source": [
    "for j in range(10):\n",
    "    for i in agent_df['agent1_states'][j]:\n",
    "        print(i)"
   ]
  },
  {
   "cell_type": "code",
   "execution_count": null,
   "id": "0a292ebb-468f-4c47-b05f-55eb743503ee",
   "metadata": {},
   "outputs": [],
   "source": [
    "for j in range(10):\n",
    "    for i in agent_df['agent1_strategies'][j]:\n",
    "        print(i)"
   ]
  },
  {
   "cell_type": "code",
   "execution_count": null,
   "id": "a58dfd67-206d-49cf-9f9a-6a8ebfbe7219",
   "metadata": {},
   "outputs": [],
   "source": [
    "for j in range(10):\n",
    "    for i in agent_df['agent1_plans'][j]:\n",
    "        print(i)"
   ]
  },
  {
   "cell_type": "code",
   "execution_count": null,
   "id": "adcfdd2c-ec36-4687-8abb-d4d444ab4699",
   "metadata": {},
   "outputs": [],
   "source": [
    "for j in range(10):\n",
    "    for i in agent_df['agent1_outputs'][j]:\n",
    "        print(i)"
   ]
  }
 ],
 "metadata": {
  "kernelspec": {
   "display_name": "Python 3",
   "language": "python",
   "name": "python3"
  },
  "language_info": {
   "codemirror_mode": {
    "name": "ipython",
    "version": 3
   },
   "file_extension": ".py",
   "mimetype": "text/x-python",
   "name": "python",
   "nbconvert_exporter": "python",
   "pygments_lexer": "ipython3",
   "version": "3.8.5"
  }
 },
 "nbformat": 4,
 "nbformat_minor": 5
}
