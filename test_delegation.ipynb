{
 "cells": [
  {
   "cell_type": "markdown",
   "source": [
    "# Delegation Unit Test\r\n",
    "Performing verification of the delegation mechanism by comparing the event data to the results of cadCAD model."
   ],
   "metadata": {}
  },
  {
   "cell_type": "code",
   "execution_count": 1,
   "source": [
    "import pandas as pd\r\n",
    "import numpy as np\r\n",
    "from decimal import Decimal\r\n",
    "from decimal import *\r\n",
    "import model.parts.utils as utils\r\n",
    "from model.sys_params import *\r\n",
    "df = pd.read_pickle(r'experiment.p')"
   ],
   "outputs": [
    {
     "output_type": "stream",
     "name": "stdout",
     "text": [
      "loaded GraphQL_data/SIstakeDelegateds.csv.\n",
      "loaded GraphQL_data/SIstakeLockeds.csv.\n",
      "loaded GraphQL_data/SIstakeWithdrawns.csv.\n",
      "loaded GraphQL_data/SIallocationCollecteds.csv.\n",
      "loaded GraphQL_data/SIstakeDepositeds.csv.\n"
     ]
    }
   ],
   "metadata": {}
  },
  {
   "cell_type": "markdown",
   "source": [
    "Configure environment"
   ],
   "metadata": {}
  },
  {
   "cell_type": "code",
   "execution_count": 2,
   "source": [
    "df.reset_index(inplace = True)\r\n",
    "pd.set_option('display.max_rows', None)"
   ],
   "outputs": [],
   "metadata": {}
  },
  {
   "cell_type": "code",
   "execution_count": 3,
   "source": [
    "delegation_events_dict = delegation_events[0]\r\n",
    "print(\"EXPECTED TRUTH FROM DELEGATION EVENTS:\")\r\n",
    "for timestep, delegation_event in delegation_events_dict.items():\r\n",
    "    print(f\"{timestep-1}, {delegation_event[0]['delegator']}, {delegation_event[0]['shares']}\")\r\n",
    "    \r\n"
   ],
   "outputs": [
    {
     "output_type": "stream",
     "name": "stdout",
     "text": [
      "EXPECTED TRUTH FROM DELEGATION EVENTS:\n",
      "7, 0x63f8168f665f79101a0e0da2313cd1391e1c5e27, 1094.500000000000000000\n",
      "11, 0x950d8f1e2e0ec438573a9540ca6f74913df0aeb1, 55222.500000000000000000\n",
      "46, 0xcbb08e918e828bfd46a0e32e3365e80d7502c7d9, 2895.065106115432857526\n",
      "50, 0xd45d0eb21cb9dbf86012cbd574fb66d1a2c6d800, 19300.434040769552383512\n",
      "84, 0x8e0c59ba449ac228016dee5b1bb0990a8be7f8a6, 3753.469591583507658440\n"
     ]
    }
   ],
   "metadata": {}
  },
  {
   "cell_type": "code",
   "execution_count": 4,
   "source": [
    "print(\"MODELED RESULTS\")\r\n",
    "for timestep, delegation_event in delegation_events_dict.items():\r\n",
    "    print(f\"{timestep-1}, {delegation_event[0]['delegator']}, {df.iloc[timestep-1].delegators[delegation_event[0]['delegator']].shares}\")\r\n"
   ],
   "outputs": [
    {
     "output_type": "stream",
     "name": "stdout",
     "text": [
      "MODELED RESULTS\n",
      "7, 0x63f8168f665f79101a0e0da2313cd1391e1c5e27, 1094.500000000000000000\n",
      "11, 0x950d8f1e2e0ec438573a9540ca6f74913df0aeb1, 55222.50000000000000000000000\n",
      "46, 0xcbb08e918e828bfd46a0e32e3365e80d7502c7d9, 2895.065106115432869397008508\n",
      "50, 0xd45d0eb21cb9dbf86012cbd574fb66d1a2c6d800, 19272.51290285808967240708694\n",
      "84, 0x8e0c59ba449ac228016dee5b1bb0990a8be7f8a6, 3742.700754592425693787934901\n"
     ]
    }
   ],
   "metadata": {}
  },
  {
   "cell_type": "code",
   "execution_count": 5,
   "source": [
    "print(\"UNITTEST RESULTS\")\r\n",
    "for timestep, delegation_event in delegation_events_dict.items():\r\n",
    "    print(f\"Event: Timestep={timestep-1}, Delegator ID={delegation_event[0]['delegator']}, Shares Granted={delegation_event[0]['shares']}\")\r\n",
    "    print(f\"Model: Timestep={timestep-1}, Delegator ID={delegation_event[0]['delegator']}, Shares Granted={df.iloc[timestep-1].delegators[delegation_event[0]['delegator']].shares}\")\r\n",
    "    print(\"Shares Equal?\", delegation_event[0]['shares'] == df.iloc[timestep-1].delegators[delegation_event[0]['delegator']].shares)\r\n",
    "    print()\r\n"
   ],
   "outputs": [
    {
     "output_type": "stream",
     "name": "stdout",
     "text": [
      "UNITTEST RESULTS\n",
      "Event: Timestep=7, Delegator ID=0x63f8168f665f79101a0e0da2313cd1391e1c5e27, Shares Granted=1094.500000000000000000\n",
      "Model: Timestep=7, Delegator ID=0x63f8168f665f79101a0e0da2313cd1391e1c5e27, Shares Granted=1094.500000000000000000\n",
      "Shares Equal? True\n",
      "\n",
      "Event: Timestep=11, Delegator ID=0x950d8f1e2e0ec438573a9540ca6f74913df0aeb1, Shares Granted=55222.500000000000000000\n",
      "Model: Timestep=11, Delegator ID=0x950d8f1e2e0ec438573a9540ca6f74913df0aeb1, Shares Granted=55222.50000000000000000000000\n",
      "Shares Equal? True\n",
      "\n",
      "Event: Timestep=46, Delegator ID=0xcbb08e918e828bfd46a0e32e3365e80d7502c7d9, Shares Granted=2895.065106115432857526\n",
      "Model: Timestep=46, Delegator ID=0xcbb08e918e828bfd46a0e32e3365e80d7502c7d9, Shares Granted=2895.065106115432869397008508\n",
      "Shares Equal? False\n",
      "\n",
      "Event: Timestep=50, Delegator ID=0xd45d0eb21cb9dbf86012cbd574fb66d1a2c6d800, Shares Granted=19300.434040769552383512\n",
      "Model: Timestep=50, Delegator ID=0xd45d0eb21cb9dbf86012cbd574fb66d1a2c6d800, Shares Granted=19272.51290285808967240708694\n",
      "Shares Equal? False\n",
      "\n",
      "Event: Timestep=84, Delegator ID=0x8e0c59ba449ac228016dee5b1bb0990a8be7f8a6, Shares Granted=3753.469591583507658440\n",
      "Model: Timestep=84, Delegator ID=0x8e0c59ba449ac228016dee5b1bb0990a8be7f8a6, Shares Granted=3742.700754592425693787934901\n",
      "Shares Equal? False\n",
      "\n"
     ]
    }
   ],
   "metadata": {}
  },
  {
   "cell_type": "markdown",
   "source": [
    "# Conclusion\r\n",
    "The number of shares granted by delegation in the first two events match the output of the cadCAD model exactly and then the next 3 are extremely close, diverging gradually."
   ],
   "metadata": {}
  }
 ],
 "metadata": {
  "interpreter": {
   "hash": "0b0631ca040321b645c8721b9afbca57f18a1aa322598383be03b7ee0c528602"
  },
  "kernelspec": {
   "name": "python3",
   "display_name": "Python 3.9.6 64-bit ('py396': conda)"
  },
  "language_info": {
   "codemirror_mode": {
    "name": "ipython",
    "version": 3
   },
   "file_extension": ".py",
   "mimetype": "text/x-python",
   "name": "python",
   "nbconvert_exporter": "python",
   "pygments_lexer": "ipython3",
   "version": "3.9.6"
  }
 },
 "nbformat": 4,
 "nbformat_minor": 4
}