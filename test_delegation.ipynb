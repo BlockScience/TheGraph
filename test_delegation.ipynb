{
 "cells": [
  {
   "cell_type": "markdown",
   "source": [
    "# Delegation Unit Test\r\n",
    "Performing verification of the delegation mechanism by comparing the event data to the results of cadCAD model."
   ],
   "metadata": {}
  },
  {
   "cell_type": "code",
   "execution_count": 1,
   "source": [
    "import pandas as pd\r\n",
    "import numpy as np\r\n",
    "from decimal import Decimal\r\n",
    "from decimal import *\r\n",
    "\r\n",
    "# import os\r\n",
    "# import sys\r\n",
    "# module_path = os.path.abspath(os.path.join('..'))\r\n",
    "# print(module_path)\r\n",
    "# sys.path.append(module_path)\r\n",
    "import model.parts.utils as utils\r\n",
    "from model.sys_params import *\r\n",
    "df = pd.read_pickle(r'experiment.p')\r\n"
   ],
   "outputs": [
    {
     "output_type": "stream",
     "name": "stdout",
     "text": [
      "loaded GraphQL_data/SIstakeDelegateds.csv.\n",
      "loaded GraphQL_data/SIstakeLockeds.csv.\n",
      "loaded GraphQL_data/SIstakeWithdrawns.csv.\n",
      "loaded GraphQL_data/SIallocationCloseds.csv.\n",
      "loaded GraphQL_data/SIallocationCollecteds.csv.\n",
      "loaded GraphQL_data/SIstakeDepositeds.csv.\n",
      "loaded GraphQL_data/SIrewardsAssigneds.csv.\n"
     ]
    }
   ],
   "metadata": {}
  },
  {
   "cell_type": "markdown",
   "source": [
    "Configure environment"
   ],
   "metadata": {}
  },
  {
   "cell_type": "code",
   "execution_count": 2,
   "source": [
    "df.reset_index(inplace = True)\r\n",
    "pd.set_option('display.max_rows', None)"
   ],
   "outputs": [],
   "metadata": {}
  },
  {
   "cell_type": "code",
   "execution_count": 3,
   "source": [
    "delegation_events_dict = delegation_events[0]\r\n",
    "print(\"EXPECTED TRUTH FROM DELEGATION EVENTS:\")\r\n",
    "for timestep, delegation_events in delegation_events_dict.items():\r\n",
    "    for delegation_event in delegation_events:        \r\n",
    "        print(f\"{timestep}, {delegation_event['delegator']}, {delegation_event['shares']}\")\r\n",
    "    \r\n"
   ],
   "outputs": [
    {
     "output_type": "stream",
     "name": "stdout",
     "text": [
      "EXPECTED TRUTH FROM DELEGATION EVENTS:\n",
      "8, 0x63f8168f665f79101a0e0da2313cd1391e1c5e27, 1094.500000000000000000\n",
      "8, 0x40f657e85bbb5cc7beb402da315c3fe1974442bf, 995.000000000000000000\n",
      "12, 0x950d8f1e2e0ec438573a9540ca6f74913df0aeb1, 55222.500000000000000000\n",
      "47, 0xcbb08e918e828bfd46a0e32e3365e80d7502c7d9, 2895.065106115432857526\n",
      "51, 0xd45d0eb21cb9dbf86012cbd574fb66d1a2c6d800, 19300.434040769552383512\n",
      "85, 0x8e0c59ba449ac228016dee5b1bb0990a8be7f8a6, 3753.469591583507658440\n"
     ]
    }
   ],
   "metadata": {}
  },
  {
   "cell_type": "code",
   "execution_count": 4,
   "source": [
    "print(\"MODELED RESULTS\")\r\n",
    "delegation_event_shares = {}\r\n",
    "for timestep, delegation_events in delegation_events_dict.items():\r\n",
    "    for delegation_event in delegation_events:\r\n",
    "\r\n",
    "        delegation_event_shares[timestep] = df.iloc[timestep-1].delegators[delegation_event['delegator']].shares\r\n",
    "        print(f\"{timestep}, {delegation_event['delegator']}, {delegation_event_shares[timestep]}\")\r\n"
   ],
   "outputs": [
    {
     "output_type": "stream",
     "name": "stdout",
     "text": [
      "MODELED RESULTS\n",
      "8, 0x63f8168f665f79101a0e0da2313cd1391e1c5e27, 1094.500000000000000000\n",
      "8, 0x40f657e85bbb5cc7beb402da315c3fe1974442bf, 995.0000000000000000000000000\n",
      "12, 0x950d8f1e2e0ec438573a9540ca6f74913df0aeb1, 55222.50000000000000000000000\n",
      "47, 0xcbb08e918e828bfd46a0e32e3365e80d7502c7d9, 2895.067010486121597421761460\n",
      "51, 0xd45d0eb21cb9dbf86012cbd574fb66d1a2c6d800, 19349.82120910402185539210835\n",
      "85, 0x8e0c59ba449ac228016dee5b1bb0990a8be7f8a6, 3764.318324385192642500632798\n"
     ]
    }
   ],
   "metadata": {}
  },
  {
   "cell_type": "code",
   "execution_count": 5,
   "source": [
    "print(\"UNITTEST RESULTS\")\r\n",
    "for timestep, delegation_events in delegation_events_dict.items():\r\n",
    "    for delegation_event in delegation_events:\r\n",
    "        delegation_event_shares[timestep] = df.iloc[timestep-1].delegators[delegation_event['delegator']].shares\r\n",
    "        print(f\"Event: Timestep={timestep}, Delegator ID={delegation_event['delegator']}, Shares Granted={delegation_event['shares']}\")\r\n",
    "        print(f\"Model: Timestep={timestep}, Delegator ID={delegation_event['delegator']}, Shares Granted={delegation_event_shares[timestep]}\")\r\n",
    "        print(\"Shares Equal?\", delegation_event['shares'] == delegation_event_shares[timestep])\r\n",
    "        print(\"Shares Within 1%?\", 0.99 <= abs(delegation_event['shares'] / delegation_event_shares[timestep]) <= 1.01)\r\n",
    "        print()\r\n"
   ],
   "outputs": [
    {
     "output_type": "stream",
     "name": "stdout",
     "text": [
      "UNITTEST RESULTS\n",
      "Event: Timestep=8, Delegator ID=0x63f8168f665f79101a0e0da2313cd1391e1c5e27, Shares Granted=1094.500000000000000000\n",
      "Model: Timestep=8, Delegator ID=0x63f8168f665f79101a0e0da2313cd1391e1c5e27, Shares Granted=1094.500000000000000000\n",
      "Shares Equal? True\n",
      "Shares Within 1%? True\n",
      "\n",
      "Event: Timestep=8, Delegator ID=0x40f657e85bbb5cc7beb402da315c3fe1974442bf, Shares Granted=995.000000000000000000\n",
      "Model: Timestep=8, Delegator ID=0x40f657e85bbb5cc7beb402da315c3fe1974442bf, Shares Granted=995.0000000000000000000000000\n",
      "Shares Equal? True\n",
      "Shares Within 1%? True\n",
      "\n",
      "Event: Timestep=12, Delegator ID=0x950d8f1e2e0ec438573a9540ca6f74913df0aeb1, Shares Granted=55222.500000000000000000\n",
      "Model: Timestep=12, Delegator ID=0x950d8f1e2e0ec438573a9540ca6f74913df0aeb1, Shares Granted=55222.50000000000000000000000\n",
      "Shares Equal? True\n",
      "Shares Within 1%? True\n",
      "\n",
      "Event: Timestep=47, Delegator ID=0xcbb08e918e828bfd46a0e32e3365e80d7502c7d9, Shares Granted=2895.065106115432857526\n",
      "Model: Timestep=47, Delegator ID=0xcbb08e918e828bfd46a0e32e3365e80d7502c7d9, Shares Granted=2895.067010486121597421761460\n",
      "Shares Equal? False\n",
      "Shares Within 1%? True\n",
      "\n",
      "Event: Timestep=51, Delegator ID=0xd45d0eb21cb9dbf86012cbd574fb66d1a2c6d800, Shares Granted=19300.434040769552383512\n",
      "Model: Timestep=51, Delegator ID=0xd45d0eb21cb9dbf86012cbd574fb66d1a2c6d800, Shares Granted=19349.82120910402185539210835\n",
      "Shares Equal? False\n",
      "Shares Within 1%? True\n",
      "\n",
      "Event: Timestep=85, Delegator ID=0x8e0c59ba449ac228016dee5b1bb0990a8be7f8a6, Shares Granted=3753.469591583507658440\n",
      "Model: Timestep=85, Delegator ID=0x8e0c59ba449ac228016dee5b1bb0990a8be7f8a6, Shares Granted=3764.318324385192642500632798\n",
      "Shares Equal? False\n",
      "Shares Within 1%? True\n",
      "\n"
     ]
    }
   ],
   "metadata": {}
  },
  {
   "cell_type": "markdown",
   "source": [
    "# Conclusion\r\n",
    "The number of shares granted by delegation in the first two events match the output of the cadCAD model exactly and then the next 3 are extremely close, diverging gradually."
   ],
   "metadata": {}
  },
  {
   "cell_type": "code",
   "execution_count": null,
   "source": [],
   "outputs": [],
   "metadata": {}
  }
 ],
 "metadata": {
  "interpreter": {
   "hash": "0b0631ca040321b645c8721b9afbca57f18a1aa322598383be03b7ee0c528602"
  },
  "kernelspec": {
   "name": "python3",
   "display_name": "Python 3.9.6 64-bit ('py396': conda)"
  },
  "language_info": {
   "codemirror_mode": {
    "name": "ipython",
    "version": 3
   },
   "file_extension": ".py",
   "mimetype": "text/x-python",
   "name": "python",
   "nbconvert_exporter": "python",
   "pygments_lexer": "ipython3",
   "version": "3.9.6"
  }
 },
 "nbformat": 4,
 "nbformat_minor": 4
}