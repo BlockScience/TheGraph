{
 "cells": [
  {
   "cell_type": "code",
   "execution_count": 10,
   "source": [
    "import pandas as pd\r\n",
    "import numpy as np\r\n",
    "from decimal import Decimal\r\n",
    "from decimal import *\r\n",
    "import model.parts.utils as utils\r\n",
    "from model.sys_params import *\r\n",
    "df = pd.read_pickle(r'experiment.p')"
   ],
   "outputs": [],
   "metadata": {}
  },
  {
   "cell_type": "markdown",
   "source": [
    "Configure environment"
   ],
   "metadata": {}
  },
  {
   "cell_type": "code",
   "execution_count": 11,
   "source": [
    "df.reset_index(inplace = True)\r\n",
    "pd.set_option('display.max_rows', None)"
   ],
   "outputs": [],
   "metadata": {}
  },
  {
   "cell_type": "code",
   "execution_count": 12,
   "source": [
    "delegation_events_dict = delegation_events[0]\r\n",
    "print(\"EXPECTED TRUTH FROM EVENTS:\")\r\n",
    "for timestep, delegation_event in delegation_events_dict.items():\r\n",
    "    print(f\"{timestep-1}, {delegation_event[0]['delegator']}, {delegation_event[0]['shares']}\")\r\n",
    "    \r\n"
   ],
   "outputs": [
    {
     "output_type": "stream",
     "name": "stdout",
     "text": [
      "EXPECTED TRUTH FROM EVENTS:\n",
      "7, 0x63f8168f665f79101a0e0da2313cd1391e1c5e27, 1094.500000000000000000\n",
      "11, 0x950d8f1e2e0ec438573a9540ca6f74913df0aeb1, 55222.500000000000000000\n",
      "46, 0xcbb08e918e828bfd46a0e32e3365e80d7502c7d9, 2895.065106115432857526\n",
      "50, 0xd45d0eb21cb9dbf86012cbd574fb66d1a2c6d800, 19300.434040769552383512\n",
      "84, 0x8e0c59ba449ac228016dee5b1bb0990a8be7f8a6, 3753.469591583507658440\n"
     ]
    }
   ],
   "metadata": {}
  },
  {
   "cell_type": "code",
   "execution_count": 13,
   "source": [
    "print(\"MODELED RESULTS\")\r\n",
    "for timestep, delegation_event in delegation_events_dict.items():\r\n",
    "    print(f\"{timestep-1}, {delegation_event[0]['delegator']}, {df.iloc[timestep-1].delegators[delegation_event[0]['delegator']].shares}\")\r\n",
    "# df.iloc[8].delegators['0x63f8168f665f79101a0e0da2313cd1391e1c5e27'].shares"
   ],
   "outputs": [
    {
     "output_type": "stream",
     "name": "stdout",
     "text": [
      "MODELED RESULTS\n",
      "7, 0x63f8168f665f79101a0e0da2313cd1391e1c5e27, 1094.500000000000000000\n",
      "11, 0x950d8f1e2e0ec438573a9540ca6f74913df0aeb1, 55222.50000000000000000000000\n",
      "46, 0xcbb08e918e828bfd46a0e32e3365e80d7502c7d9, 2895.065106115432869397008508\n",
      "50, 0xd45d0eb21cb9dbf86012cbd574fb66d1a2c6d800, 19272.51290285808967240708694\n",
      "84, 0x8e0c59ba449ac228016dee5b1bb0990a8be7f8a6, 3742.700754592425693787934901\n"
     ]
    }
   ],
   "metadata": {}
  },
  {
   "cell_type": "code",
   "execution_count": 14,
   "source": [
    "print(\"UNITTEST RESULTS\")\r\n",
    "for timestep, delegation_event in delegation_events_dict.items():\r\n",
    "    print(f\"{timestep-1}, {delegation_event[0]['delegator']}, {delegation_event[0]['shares']}\")\r\n",
    "    print(f\"{timestep-1}, {delegation_event[0]['delegator']}, {df.iloc[timestep-1].delegators[delegation_event[0]['delegator']].shares}\")\r\n",
    "    print(\"Equal?\", delegation_event[0]['shares'] == df.iloc[timestep-1].delegators[delegation_event[0]['delegator']].shares)\r\n",
    "# df.iloc[8].delegators['0x63f8168f665f79101a0e0da2313cd1391e1c5e27'].shares"
   ],
   "outputs": [
    {
     "output_type": "stream",
     "name": "stdout",
     "text": [
      "UNITTEST RESULTS\n",
      "7, 0x63f8168f665f79101a0e0da2313cd1391e1c5e27, 1094.500000000000000000\n",
      "7, 0x63f8168f665f79101a0e0da2313cd1391e1c5e27, 1094.500000000000000000\n",
      "Equal? True\n",
      "11, 0x950d8f1e2e0ec438573a9540ca6f74913df0aeb1, 55222.500000000000000000\n",
      "11, 0x950d8f1e2e0ec438573a9540ca6f74913df0aeb1, 55222.50000000000000000000000\n",
      "Equal? True\n",
      "46, 0xcbb08e918e828bfd46a0e32e3365e80d7502c7d9, 2895.065106115432857526\n",
      "46, 0xcbb08e918e828bfd46a0e32e3365e80d7502c7d9, 2895.065106115432869397008508\n",
      "Equal? False\n",
      "50, 0xd45d0eb21cb9dbf86012cbd574fb66d1a2c6d800, 19300.434040769552383512\n",
      "50, 0xd45d0eb21cb9dbf86012cbd574fb66d1a2c6d800, 19272.51290285808967240708694\n",
      "Equal? False\n",
      "84, 0x8e0c59ba449ac228016dee5b1bb0990a8be7f8a6, 3753.469591583507658440\n",
      "84, 0x8e0c59ba449ac228016dee5b1bb0990a8be7f8a6, 3742.700754592425693787934901\n",
      "Equal? False\n"
     ]
    }
   ],
   "metadata": {}
  },
  {
   "cell_type": "code",
   "execution_count": 15,
   "source": [
    "for timestep in range(50):\r\n",
    "    try:\r\n",
    "        print(timestep, df.iloc[timestep].delegators['0xcbb08e918e828bfd46a0e32e3365e80d7502c7d9'])\r\n",
    "    except:\r\n",
    "        pass"
   ],
   "outputs": [
    {
     "output_type": "stream",
     "name": "stdout",
     "text": [
      "46 self.id='0xcbb08e918e828bfd46a0e32e3365e80d7502c7d9', self.shares=Decimal('2895.065106115432869397008508'), self.delegated_tokens=Decimal('2985.000000000000000000')\n",
      "47 self.id='0xcbb08e918e828bfd46a0e32e3365e80d7502c7d9', self.shares=Decimal('1.1871008508E-14'), self.delegated_tokens=Decimal('85.610361993691794872220888')\n",
      "48 self.id='0xcbb08e918e828bfd46a0e32e3365e80d7502c7d9', self.shares=Decimal('1.1871008508E-14'), self.delegated_tokens=Decimal('85.610361993691794872220888')\n",
      "49 self.id='0xcbb08e918e828bfd46a0e32e3365e80d7502c7d9', self.shares=Decimal('1.1871008508E-14'), self.delegated_tokens=Decimal('85.610361993691794872220888')\n"
     ]
    }
   ],
   "metadata": {}
  },
  {
   "cell_type": "code",
   "execution_count": 16,
   "source": [
    "def decimal_from_value(value):\r\n",
    "    return Decimal(value)"
   ],
   "outputs": [],
   "metadata": {}
  },
  {
   "cell_type": "code",
   "execution_count": 17,
   "source": [
    "indexer_df = pd.read_csv('GraphQL_data/singleIndexer.csv')\r\n",
    "indexer_df['epoch'] = np.floor((indexer_df['blockNumber'] - 11474307)/6500)\r\n",
    "# scale to decimal\r\n",
    "indexer_df['shares'] = indexer_df['shares'].apply(lambda x: decimal_from_value(x))"
   ],
   "outputs": [],
   "metadata": {}
  },
  {
   "cell_type": "code",
   "execution_count": 18,
   "source": [
    "if indexer_df.iloc[1]['shares'] * Decimal(10 ** -18) == df.iloc[7].delegators['0x63f8168f665f79101a0e0da2313cd1391e1c5e27'].shares:\r\n",
    "    print('Good')\r\n",
    "else:\r\n",
    "    print(f\"{indexer_df.iloc[1]['shares'] * Decimal(10 ** -18)}, {df.iloc[7].delegators['0x63f8168f665f79101a0e0da2313cd1391e1c5e27'].shares}\") "
   ],
   "outputs": [
    {
     "output_type": "stream",
     "name": "stdout",
     "text": [
      "1094.500000000000078303183128, 1094.500000000000000000\n"
     ]
    }
   ],
   "metadata": {}
  },
  {
   "cell_type": "code",
   "execution_count": null,
   "source": [],
   "outputs": [],
   "metadata": {}
  }
 ],
 "metadata": {
  "interpreter": {
   "hash": "0b0631ca040321b645c8721b9afbca57f18a1aa322598383be03b7ee0c528602"
  },
  "kernelspec": {
   "name": "python3",
   "display_name": "Python 3.9.6 64-bit ('py396': conda)"
  },
  "language_info": {
   "codemirror_mode": {
    "name": "ipython",
    "version": 3
   },
   "file_extension": ".py",
   "mimetype": "text/x-python",
   "name": "python",
   "nbconvert_exporter": "python",
   "pygments_lexer": "ipython3",
   "version": "3.9.6"
  }
 },
 "nbformat": 4,
 "nbformat_minor": 4
}